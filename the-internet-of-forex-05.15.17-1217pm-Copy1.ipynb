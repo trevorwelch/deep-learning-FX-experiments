{
 "cells": [
  {
   "cell_type": "code",
   "execution_count": 8,
   "metadata": {
    "collapsed": true
   },
   "outputs": [],
   "source": [
    "import pandas as pd\n",
    "import numpy as np\n",
    "from bokeh.plotting import figure, show, output_file\n",
    "from bokeh.models import ColumnDataSource, Quad\n",
    "from datetime import datetime\n",
    "from math import pi\n",
    "from sklearn.preprocessing import StandardScaler"
   ]
  },
  {
   "cell_type": "markdown",
   "metadata": {},
   "source": [
    "#### Things to review:\n"
   ]
  },
  {
   "cell_type": "markdown",
   "metadata": {},
   "source": [
    "### Things to do:\n",
    "- Play with more features on and off\n",
    "- Look at pandas docs to understand \n",
    "- Derivatives of moving averages?\n",
    "- Attempt to do this feature generation function for Keras \n",
    "- Logistic regression with polynomial features\n",
    "- Keras dense neural net\n",
    "- - Put the 'change' and 'diff' variable stuff into the CSV loading concatenating thing!!!\n",
    "- - (this is to prevent the boundaries between data leading to bad predictions)\n",
    "- Use the sklearn XGBoost \n",
    "- For generating your predictions: non-maximal suppression, how to go from the probabilities from drawing rectangles \n",
    "- - May be able to use threshholds\n",
    "- For proximal and distal, work from only the subset of examples where there's a rectangle starting\n",
    "- Then use a similar set of features, either just do a regression, predict the real value the price, \\\n",
    "- or break the target into classes like we had done before\n",
    "- Set up some validation to compare the class method vs. the actual predicting of the real numbers "
   ]
  },
  {
   "cell_type": "markdown",
   "metadata": {},
   "source": [
    "#### DEFINE SUPPLY OR DEMAND ZONE\n",
    "\n",
    "- identify first candle that has OHLC above or below proximal. if above, DEMAND, if below, SUPPLY\n",
    "- if price (CLOSE of most recent or current candle) is below most recent zone then the zone is a supply zone, if price (CLOSE of most recent or current candle) is above most recent zone then it's a demand zone \n",
    "\n",
    "##### Logic pseudocode\n",
    "```\n",
    "for each Rectangle\n",
    "    if H and L of any future candle, starting from current Rectangle epoch > Proximal\n",
    "    zone = DEMAND\n",
    "\n",
    "    if H and L of any future candle, starting from current Rectangle epoch < Proximal\n",
    "    zone = SUPPLY\n",
    "\n",
    "AND \n",
    "\n",
    "    if Close of any future candle, starting from current Rectangle epoch > Proximal AND Distal\n",
    "        zone = DEMAND\n",
    "\n",
    "    if Close of any future candle, starting from current Rectangle epoch < Proximal AND Distal\n",
    "        zone = SUPPLY\n",
    "```\n",
    "\n",
    "##### Python pseudocode\n",
    "\n",
    "```\n",
    "\n",
    "for row in df_ohlc_and_rectangles:\n",
    "    if row['Object Name'] != NaN:\n",
    "        if any_following_row['H'] & any_following_row['L'] > row['Proximal']:\n",
    "            if any_following_row['C'] > row['Proximal'] AND row['Distal']:\n",
    "                row['Supply/Demand'] = 'DEMAND'\n",
    "                \n",
    "        elif any_following_row['H'] & any_following_row['L'] < row['Proximal']:\n",
    "            if any_following_row['C'] < row['Proximal'] AND row['Distal']:\n",
    "                row['Supply/Demand'] = 'SUPPLY'\n",
    "    else:\n",
    "        continue\n",
    "    \n",
    "\n",
    "```"
   ]
  },
  {
   "cell_type": "code",
   "execution_count": 9,
   "metadata": {
    "collapsed": true
   },
   "outputs": [],
   "source": [
    "def supply_or_demand(df):\n",
    "    \n",
    "    # Set all Supply/Demand row to nans to start clean\n",
    "    df_ohlc_and_rectangles['Supply/Demand'] = np.nan\n",
    "    # Create list of all zones, filtered by if there's a proximal in the row\n",
    "    valid_proximal = df[df.Proximal.isnull() == False]\n",
    "    \n",
    "    # Create list of the indices of the zones\n",
    "    proximal_indices = valid_proximal.index.tolist()\n",
    "    \n",
    "    # For each zone\n",
    "    for idx in proximal_indices:\n",
    "\n",
    "        # If current iterable index + 1 is > len (e.g. if we are at the end of the DF)\n",
    "        if idx+1 > len(df):\n",
    "\n",
    "            # Quit the loop\n",
    "            break\n",
    "\n",
    "        # Create a dataframe with the rows to look through, which is starting from current\n",
    "        df_following_rows = df.iloc[idx+1:]\n",
    "\n",
    "        # Test if it's a demand zone and create a series of valid potential demand flags\n",
    "        test_demand = ((df_following_rows.H > df.iloc[idx]['Proximal']) & (df_following_rows.L > df.iloc[idx]['Proximal'])\n",
    "                                                               & (df_following_rows.C > df.iloc[idx]['Proximal'])\n",
    "                                                               & (df_following_rows.C > df.iloc[idx]['Distal']))\n",
    "\n",
    "        # Test if it's a supply zone and create a series of potential supply flags\n",
    "        test_supply = ((df_following_rows.H < df.iloc[idx]['Proximal']) & (df_following_rows.L < df.iloc[idx]['Proximal'])\n",
    "                                                               & (df_following_rows.C < df.iloc[idx]['Proximal'])\n",
    "                                                                & (df_following_rows.C < df.iloc[idx]['Distal']))\n",
    "\n",
    "        # Store only the instances of areas that could indicate a demand zone\n",
    "        demand = test_demand[test_demand == True]\n",
    "\n",
    "        # Store only the instances of areas that could indicate a supply zone\n",
    "        supply = test_supply[test_supply == True]\n",
    "\n",
    "        # Store the very first item in the demand list\n",
    "        demand_index = demand.index[0] if len(demand) > 0 else 0\n",
    "        # Store the very first item in the supply list    \n",
    "        supply_index = supply.index[0] if len(supply) > 0 else 0\n",
    "\n",
    "        # If demand_index is earlier in the list than supply, then it's a demand zone\n",
    "        if (demand_index < supply_index):\n",
    "            df.ix[idx, 'Supply/Demand'] = 'DEMAND'\n",
    "        else:\n",
    "            df.ix[idx, 'Supply/Demand'] = 'SUPPLY'"
   ]
  },
  {
   "cell_type": "markdown",
   "metadata": {},
   "source": [
    "#### Define/correct the 'Date End' for a rectangle\n",
    "\n",
    "pseudocode\n",
    "```\n",
    "for each Rectangle  \n",
    "    if DEMAND:  \n",
    "        if L of any future candle, starting from current Rectangle epoch, is below Distal of current candle, \\  \n",
    "        zone end is at the epoch of the candle which eliminated it  \n",
    "    if SUPPLY:  \n",
    "        if H of any future candle, starting from current Rectangle epoch, is above Distal of current candle, \\  \n",
    "        zone end is at the epoch of the candle which eliminated it  \n",
    "```\n",
    "Python-esque pseudocode\n",
    "```\n",
    "for row in df_ohlc_and_rectangles:\n",
    "    if row['Supply/Demand'] = 'DEMAND':\n",
    "        if '''any following_row['L']''' < row['Distal']:\n",
    "            row['Epoch Date End'] = following_row['Epoch Date']\n",
    "    elif row['Supply/Demand'] = 'SUPPLY':\n",
    "        if '''any following_row['H']''' > row['Distal']:\n",
    "            row['Epoch Date End'] = following_row['Epoch Date']\n",
    "    else:\n",
    "        continue\n",
    "```"
   ]
  },
  {
   "cell_type": "code",
   "execution_count": 10,
   "metadata": {
    "collapsed": true
   },
   "outputs": [],
   "source": [
    "def zone_ender(df):\n",
    "\n",
    "    # Create list of all zones, filtered by if there's a proximal in the row\n",
    "    valid_proximal = df[df.Proximal.isnull() == False]\n",
    "    \n",
    "    # Create list of the indices of the zones\n",
    "    proximal_indices = valid_proximal.index.tolist()\n",
    "    \n",
    "    # For each zone\n",
    "    for idx in proximal_indices:\n",
    "\n",
    "        # If current iterable index + 1 is > len (e.g. if we are at the end of the DF)\n",
    "        if idx+1 > len(df):\n",
    "            # Quit the loop\n",
    "            break\n",
    "\n",
    "        # Create a dataframe with the rows to look through, which is starting from current\n",
    "        df_following_rows = df.iloc[idx+1:]\n",
    "        \n",
    "        if df.ix[idx, 'Supply/Demand'] == 'DEMAND':\n",
    "            # Create a series of potential end flags\n",
    "            test_demand_end = ((df_following_rows.L < df.iloc[idx]['Distal']))\n",
    "            # Store only the rows that could be where the zone ends\n",
    "            demand_end = test_demand_end[test_demand_end == True]\n",
    "            # Store the very first item in the demand list\n",
    "            demand_end_index = demand_end.index[0] if len(demand_end) > 0 else 0\n",
    "            \n",
    "            # Mark the current iterable Epoch Date end as the Epoch Date of the zone that ended it\n",
    "            df.ix[idx, 'Epoch Date End'] = df.iloc[demand_end_index]['Epoch Date']\n",
    "            #print(\"the df.iloc[demand_end_index]['Epoch Date'] is\",  df.iloc[demand_end_index]['Epoch Date'])\n",
    "        \n",
    "        elif df.ix[idx, 'Supply/Demand'] == 'SUPPLY': \n",
    "            # Create a series of potential end flags\n",
    "            test_supply_end = ((df_following_rows.H > df.iloc[idx]['Distal']))\n",
    "            # Store only the rows that could be where the zone ends\n",
    "            supply_end = test_supply_end[test_supply_end == True]\n",
    "            # Store the very first item in the supply list    \n",
    "            supply_end_index = supply_end.index[0] if len(supply_end) > 0 else 0\n",
    "\n",
    "            df.ix[idx, 'Epoch Date End'] = df.iloc[supply_end_index]['Epoch Date']\n",
    "            #print(\"the df.iloc[supply_end_index]['Epoch Date'] is\",  df.iloc[supply_end_index]['Epoch Date'])\n",
    "        else:\n",
    "            pass"
   ]
  },
  {
   "cell_type": "code",
   "execution_count": 24,
   "metadata": {
    "collapsed": true
   },
   "outputs": [],
   "source": [
    "# Create list of target csvs\n",
    "data = [\"EURJPY1440.csv\", \"EURGBP1440.csv\",\"USDCAD1440.csv\",\"GBPUSD1440.csv\",\\\n",
    "        \"EURUSD14402.csv\",\"USDCHF1440.csv\",\"EURAUD14402.csv\",\"AUDUSD1440.csv\",\\\n",
    "        'indi_EURCAD_15.csv', 'indi_USDCAD_15.csv', 'indi_USDJPY_15.csv', 'indi_USDJPY_60.csv']"
   ]
  },
  {
   "cell_type": "code",
   "execution_count": null,
   "metadata": {
    "collapsed": true
   },
   "outputs": [],
   "source": [
    "'''\n",
    "def generate_features(dftrain):\n",
    "    dftrain[\"change\"] = dftrain[\"O\"] - dftrain[\"C\"]\n",
    "    dftrain[\"range\"] = dftrain[\"H\"] - dftrain[\"L\"]\n",
    "    # allows us to ignore channels\n",
    "    channels = [\"O\", \"C\"] # [\"O\", \"H\", \"L\", \"change\", \"range\"]\n",
    "    features = []\n",
    "\n",
    "    # shifts: value at time +/- n\n",
    "    # days ahead (should be negative), days before (should be positive)\n",
    "    features.append(pd.concat([dftrain[[\"change\"]].shift(i).add_suffix(\"_change_{}\".format(i)) for i in range(-4, 6)], axis=1))\n",
    "\n",
    "    # diffs: value today - value at today +/- n\n",
    "    features.append(pd.concat([dftrain[channels].diff(i).add_suffix(\"_diff_{}\".format(i)) for i in range(-4, 6)], axis=1))\n",
    "\n",
    "    # second differences: change in value today - change in value at today +/- n\n",
    "    #features.append(pd.concat([\n",
    "    # dftrain[channels].diff().diff(i) for i in range(-4, 4)\n",
    "    #], axis=1))\n",
    "\n",
    "    # diff shifts: change in value at today +/- n\n",
    "    #features.append(pd.concat([\n",
    "    # dftrain[channels].diff().shift(i) for i in range(-4, 4)\n",
    "    #], axis=1))\n",
    "\n",
    "    # Exponenential moving averages:\n",
    "    # features.append(pd.concat([\n",
    "    # pd.ewma(dftrain[channels], span=10).shift(i) for i in range(-1,2)\n",
    "    #], axis=1))\n",
    "    #features.append(pd.concat([\n",
    "    # pd.ewma(dftrain[channels], span=10).diff(i) for i in range(-1, 2)\n",
    "    #], axis=1))\n",
    "\n",
    "    # Exponenential moving std deviation:\n",
    "    #features.append(pd.ewmstd(dftrain[channels], span=10))\n",
    "    \n",
    "    return pd.concat(features, axis=1), dftrain['rectangle_here']\n",
    "'''"
   ]
  },
  {
   "cell_type": "code",
   "execution_count": 40,
   "metadata": {
    "collapsed": true
   },
   "outputs": [],
   "source": [
    "def prepare_data(ohlc_data):\n",
    "    # Make sure df_ohlc_and_rectangles is an empty df\n",
    "    df_ohlc_and_rectangles = pd.DataFrame(data=None)\n",
    "    \n",
    "    # Loop to pull in parse and clean up the data \n",
    "    for each in ohlc_data:\n",
    "        print(each)\n",
    "        # load ohlc, label columns\n",
    "        df_ohlc = pd.read_csv(each, usecols=['Date', 'O', 'H', 'L', 'C', 'V', 'Supply/Demand'])\n",
    "        df_ohlc.columns = ['Epoch Date', 'O', 'H', 'L', 'C', 'V', 'Supply/Demand']\n",
    "\n",
    "        # Scale values based on the movement within that particular currency pair    \n",
    "        print(\"Values before scaling:\") # Print values before scaling \n",
    "        print(df_ohlc[['O','H','L','C','V' ]][0:5])\n",
    "\n",
    "        # scaling the dataset and print the first 5 rows after scaling\n",
    "        scaler = StandardScaler()\n",
    "        df_ohlc[['O','H','L','C','V' ]] = scaler.fit_transform(df_ohlc[['O','H','L','C','V' ]])\n",
    "        print(\"Scaled data:\")\n",
    "        print(df_ohlc[['O','H','L','C','V' ]][0:5])\n",
    "\n",
    "        # inverse transform and print the first 5 rows to ensure scaling happened properly\n",
    "        print(\"Testing data de-scaling:\")\n",
    "        inversed = scaler.inverse_transform(df_ohlc[['O','H','L','C','V' ]])\n",
    "        for i in range(5):\n",
    "            print(inversed[i])\n",
    "\n",
    "        # load rects, label columns    \n",
    "        df_rects = pd.read_csv(each, usecols=['Object Name', 'Date Start', 'Date End', 'Proximal', 'Distal']) \n",
    "        df_rects.columns = ['Object Name', 'Epoch Date Start', 'Epoch Date End', 'Proximal', 'Distal']\n",
    "        df_rects = df_rects.dropna()    \n",
    "\n",
    "        # Merge and align them together, using the Date Start as the point to merge them\n",
    "        df_merged = df_ohlc.merge(df_rects, left_on='Epoch Date', right_on='Epoch Date Start', how='left')\n",
    "        print(\"Merging:\", each, df_merged.shape)\n",
    "\n",
    "        # run supply or demand zone func\n",
    "        supply_or_demand(df_merged)\n",
    "        zone_ender(df_merged)\n",
    "\n",
    "        # Generate new features\n",
    "        print(\"Generating features:\", each, \" Difference between open and close\")\n",
    "        df_merged[\"change\"] = df_merged[\"O\"] - df_merged[\"C\"] # add change column, difference between open and close\n",
    "\n",
    "        print(\"Generating features:\", each, \" Range between high and low\")\n",
    "        df_merged[\"range\"] = df_merged[\"H\"] - df_merged[\"L\"] # add range, difference between high and low\n",
    "\n",
    "        # allows us to easily ignore channels when testing different feature generation \n",
    "        channels = [\"O\", \"C\"] # [\"O\", \"H\", \"L\", \"change\", \"range\"]\n",
    "        features = []\n",
    "\n",
    "        # allows us to easily modify how many days ahead and before we look:\n",
    "        lookback = 6 # how many days we look back, should be positive\n",
    "        lookforward = -4 # how many days we look forward, should be negative\n",
    "\n",
    "        for row in each:\n",
    "            # shifts: value at time +/- n    \n",
    "            features.append(pd.concat([df_merged[[\"change\"]].shift(i).add_suffix(\n",
    "                \"_change_{}\".format(i)) for i in range(lookforward, lookback)], axis=1))\n",
    "\n",
    "            # diffs: value today - value at today +/- n\n",
    "            features.append(pd.concat([df_merged[channels].diff(i).add_suffix(\n",
    "                \"_diff_{}\".format(i)) for i in range(lookforward, lookback)], axis=1))\n",
    "            df_merged = pd.concat([df_merged, pd.DataFrame(features)])\n",
    "        \n",
    "\n",
    "        # Merge all the loaded data together\n",
    "        df_ohlc_and_rectangles = pd.concat([df_merged, df_ohlc_and_rectangles])\n",
    "\n",
    "        print(\"Finished:\", each, df_merged.shape)\n",
    "        print(\"--------------------------------\")\n",
    "\n",
    "    return df_ohlc_and_rectangles"
   ]
  },
  {
   "cell_type": "code",
   "execution_count": 41,
   "metadata": {
    "collapsed": true
   },
   "outputs": [],
   "source": [
    "test_data = [\"EURJPY1440.csv\", \"EURGBP1440.csv\"]"
   ]
  },
  {
   "cell_type": "code",
   "execution_count": 42,
   "metadata": {},
   "outputs": [
    {
     "name": "stdout",
     "output_type": "stream",
     "text": [
      "EURJPY1440.csv\n",
      "Values before scaling:\n",
      "        O       H       L       C    V\n",
      "0  141.55  143.48  140.86  143.30  350\n",
      "1  143.29  144.85  142.99  144.54  248\n",
      "2  144.58  144.92  143.71  143.89  174\n",
      "3  143.92  144.40  143.50  144.10  163\n",
      "4  144.14  144.79  143.69  144.65  170\n",
      "Scaled data:\n",
      "          O         H         L         C         V\n",
      "0  0.767995  0.837862  0.772362  0.867861 -0.765682\n",
      "1  0.867430  0.916201  0.894174  0.938772 -0.766932\n",
      "2  0.941149  0.920203  0.935350  0.901601 -0.767840\n",
      "3  0.903433  0.890469  0.923341  0.913610 -0.767975\n",
      "4  0.916005  0.912770  0.934207  0.945063 -0.767889\n",
      "Testing data de-scaling:\n",
      "[ 141.55  143.48  140.86  143.3   350.  ]\n",
      "[ 143.29  144.85  142.99  144.54  248.  ]\n",
      "[ 144.58  144.92  143.71  143.89  174.  ]\n",
      "[ 143.92  144.4   143.5   144.1   163.  ]\n",
      "[ 144.14  144.79  143.69  144.65  170.  ]\n",
      "Merging: EURJPY1440.csv (4950, 12)\n",
      "Generating features: EURJPY1440.csv  Difference between open and close\n",
      "Generating features: EURJPY1440.csv  Range between high and low\n"
     ]
    },
    {
     "name": "stderr",
     "output_type": "stream",
     "text": [
      "/Library/Frameworks/Python.framework/Versions/3.5/lib/python3.5/site-packages/pandas/indexes/api.py:71: RuntimeWarning: unorderable types: str() < int(), sort order is undefined for incomparable objects\n",
      "  result = result.union(other)\n",
      "/Library/Frameworks/Python.framework/Versions/3.5/lib/python3.5/site-packages/pandas/indexes/api.py:71: RuntimeWarning: unorderable types: int() > str(), sort order is undefined for incomparable objects\n",
      "  result = result.union(other)\n"
     ]
    },
    {
     "name": "stdout",
     "output_type": "stream",
     "text": [
      "Finished: EURJPY1440.csv (5160, 15)\n",
      "--------------------------------\n",
      "EURGBP1440.csv\n",
      "Values before scaling:\n",
      "        O       H       L       C    V\n",
      "0  0.6552  0.6556  0.6519  0.6533   56\n",
      "1  0.6526  0.6559  0.6515  0.6541   74\n",
      "2  0.6544  0.6547  0.6498  0.6519   74\n",
      "3  0.6524  0.6538  0.6509  0.6517   52\n",
      "4  0.6517  0.6612  0.6516  0.6592  118\n",
      "Scaled data:\n",
      "          O         H         L         C         V\n",
      "0 -0.933431 -0.959714 -0.942264 -0.956871 -0.748744\n",
      "1 -0.961353 -0.956508 -0.946582 -0.948265 -0.748410\n",
      "2 -0.942023 -0.969331 -0.964935 -0.971932 -0.748410\n",
      "3 -0.963501 -0.978947 -0.953060 -0.974084 -0.748818\n",
      "4 -0.971019 -0.899877 -0.945502 -0.893400 -0.747596\n",
      "Testing data de-scaling:\n",
      "[  0.6552   0.6556   0.6519   0.6533  56.    ]\n",
      "[  0.6526   0.6559   0.6515   0.6541  74.    ]\n",
      "[  0.6544   0.6547   0.6498   0.6519  74.    ]\n",
      "[  0.6524   0.6538   0.6509   0.6517  52.    ]\n",
      "[   0.6517    0.6612    0.6516    0.6592  118.    ]\n",
      "Merging: EURGBP1440.csv (4951, 12)\n",
      "Generating features: EURGBP1440.csv  Difference between open and close\n",
      "Generating features: EURGBP1440.csv  Range between high and low\n",
      "Finished: EURGBP1440.csv (5161, 15)\n",
      "--------------------------------\n"
     ]
    },
    {
     "data": {
      "text/html": [
       "<div>\n",
       "<table border=\"1\" class=\"dataframe\">\n",
       "  <thead>\n",
       "    <tr style=\"text-align: right;\">\n",
       "      <th></th>\n",
       "      <th>Epoch Date</th>\n",
       "      <th>O</th>\n",
       "      <th>H</th>\n",
       "      <th>L</th>\n",
       "      <th>C</th>\n",
       "      <th>V</th>\n",
       "      <th>Supply/Demand</th>\n",
       "      <th>Object Name</th>\n",
       "      <th>Epoch Date Start</th>\n",
       "      <th>Epoch Date End</th>\n",
       "      <th>Proximal</th>\n",
       "      <th>Distal</th>\n",
       "      <th>change</th>\n",
       "      <th>range</th>\n",
       "      <th>0</th>\n",
       "    </tr>\n",
       "  </thead>\n",
       "  <tbody>\n",
       "    <tr>\n",
       "      <th>0</th>\n",
       "      <td>893635200.0</td>\n",
       "      <td>-0.933431</td>\n",
       "      <td>-0.959714</td>\n",
       "      <td>-0.942264</td>\n",
       "      <td>-0.956871</td>\n",
       "      <td>-0.748744</td>\n",
       "      <td>NaN</td>\n",
       "      <td>NaN</td>\n",
       "      <td>NaN</td>\n",
       "      <td>NaN</td>\n",
       "      <td>NaN</td>\n",
       "      <td>NaN</td>\n",
       "      <td>0.023440</td>\n",
       "      <td>-0.017450</td>\n",
       "      <td>NaN</td>\n",
       "    </tr>\n",
       "    <tr>\n",
       "      <th>1</th>\n",
       "      <td>893721600.0</td>\n",
       "      <td>-0.961353</td>\n",
       "      <td>-0.956508</td>\n",
       "      <td>-0.946582</td>\n",
       "      <td>-0.948265</td>\n",
       "      <td>-0.748410</td>\n",
       "      <td>NaN</td>\n",
       "      <td>NaN</td>\n",
       "      <td>NaN</td>\n",
       "      <td>NaN</td>\n",
       "      <td>NaN</td>\n",
       "      <td>NaN</td>\n",
       "      <td>-0.013089</td>\n",
       "      <td>-0.009926</td>\n",
       "      <td>NaN</td>\n",
       "    </tr>\n",
       "    <tr>\n",
       "      <th>2</th>\n",
       "      <td>893808000.0</td>\n",
       "      <td>-0.942023</td>\n",
       "      <td>-0.969331</td>\n",
       "      <td>-0.964935</td>\n",
       "      <td>-0.971932</td>\n",
       "      <td>-0.748410</td>\n",
       "      <td>NaN</td>\n",
       "      <td>NaN</td>\n",
       "      <td>NaN</td>\n",
       "      <td>NaN</td>\n",
       "      <td>NaN</td>\n",
       "      <td>NaN</td>\n",
       "      <td>0.029909</td>\n",
       "      <td>-0.004395</td>\n",
       "      <td>NaN</td>\n",
       "    </tr>\n",
       "    <tr>\n",
       "      <th>3</th>\n",
       "      <td>893894400.0</td>\n",
       "      <td>-0.963501</td>\n",
       "      <td>-0.978947</td>\n",
       "      <td>-0.953060</td>\n",
       "      <td>-0.974084</td>\n",
       "      <td>-0.748818</td>\n",
       "      <td>SUPPLY</td>\n",
       "      <td>Rectangle 23750</td>\n",
       "      <td>893894400.0</td>\n",
       "      <td>1.208218e+09</td>\n",
       "      <td>0.6524</td>\n",
       "      <td>0.6498</td>\n",
       "      <td>0.010582</td>\n",
       "      <td>-0.025888</td>\n",
       "      <td>NaN</td>\n",
       "    </tr>\n",
       "    <tr>\n",
       "      <th>4</th>\n",
       "      <td>893980800.0</td>\n",
       "      <td>-0.971019</td>\n",
       "      <td>-0.899877</td>\n",
       "      <td>-0.945502</td>\n",
       "      <td>-0.893400</td>\n",
       "      <td>-0.747596</td>\n",
       "      <td>NaN</td>\n",
       "      <td>NaN</td>\n",
       "      <td>NaN</td>\n",
       "      <td>NaN</td>\n",
       "      <td>NaN</td>\n",
       "      <td>NaN</td>\n",
       "      <td>-0.077619</td>\n",
       "      <td>0.045625</td>\n",
       "      <td>NaN</td>\n",
       "    </tr>\n",
       "    <tr>\n",
       "      <th>5</th>\n",
       "      <td>894240000.0</td>\n",
       "      <td>-0.914101</td>\n",
       "      <td>-0.912699</td>\n",
       "      <td>-0.898000</td>\n",
       "      <td>-0.890172</td>\n",
       "      <td>-0.748744</td>\n",
       "      <td>NaN</td>\n",
       "      <td>NaN</td>\n",
       "      <td>NaN</td>\n",
       "      <td>NaN</td>\n",
       "      <td>NaN</td>\n",
       "      <td>NaN</td>\n",
       "      <td>-0.023929</td>\n",
       "      <td>-0.014699</td>\n",
       "      <td>NaN</td>\n",
       "    </tr>\n",
       "    <tr>\n",
       "      <th>6</th>\n",
       "      <td>894326400.0</td>\n",
       "      <td>-0.887253</td>\n",
       "      <td>-0.844314</td>\n",
       "      <td>-0.874249</td>\n",
       "      <td>-0.822398</td>\n",
       "      <td>-0.747892</td>\n",
       "      <td>NaN</td>\n",
       "      <td>NaN</td>\n",
       "      <td>NaN</td>\n",
       "      <td>NaN</td>\n",
       "      <td>NaN</td>\n",
       "      <td>NaN</td>\n",
       "      <td>-0.064855</td>\n",
       "      <td>0.029935</td>\n",
       "      <td>NaN</td>\n",
       "    </tr>\n",
       "    <tr>\n",
       "      <th>7</th>\n",
       "      <td>894412800.0</td>\n",
       "      <td>-0.831409</td>\n",
       "      <td>-0.826149</td>\n",
       "      <td>-0.818110</td>\n",
       "      <td>-0.808412</td>\n",
       "      <td>-0.748466</td>\n",
       "      <td>NaN</td>\n",
       "      <td>NaN</td>\n",
       "      <td>NaN</td>\n",
       "      <td>NaN</td>\n",
       "      <td>NaN</td>\n",
       "      <td>NaN</td>\n",
       "      <td>-0.022996</td>\n",
       "      <td>-0.008039</td>\n",
       "      <td>NaN</td>\n",
       "    </tr>\n",
       "    <tr>\n",
       "      <th>8</th>\n",
       "      <td>894499200.0</td>\n",
       "      <td>-0.807783</td>\n",
       "      <td>-0.759901</td>\n",
       "      <td>-0.801916</td>\n",
       "      <td>-0.770760</td>\n",
       "      <td>-0.746967</td>\n",
       "      <td>NaN</td>\n",
       "      <td>NaN</td>\n",
       "      <td>NaN</td>\n",
       "      <td>NaN</td>\n",
       "      <td>NaN</td>\n",
       "      <td>NaN</td>\n",
       "      <td>-0.037023</td>\n",
       "      <td>0.042015</td>\n",
       "      <td>NaN</td>\n",
       "    </tr>\n",
       "    <tr>\n",
       "      <th>9</th>\n",
       "      <td>894585600.0</td>\n",
       "      <td>-0.760530</td>\n",
       "      <td>-0.735325</td>\n",
       "      <td>-0.743618</td>\n",
       "      <td>-0.737411</td>\n",
       "      <td>-0.747874</td>\n",
       "      <td>NaN</td>\n",
       "      <td>NaN</td>\n",
       "      <td>NaN</td>\n",
       "      <td>NaN</td>\n",
       "      <td>NaN</td>\n",
       "      <td>NaN</td>\n",
       "      <td>-0.023120</td>\n",
       "      <td>0.008293</td>\n",
       "      <td>NaN</td>\n",
       "    </tr>\n",
       "    <tr>\n",
       "      <th>10</th>\n",
       "      <td>894844800.0</td>\n",
       "      <td>-0.715425</td>\n",
       "      <td>-0.725709</td>\n",
       "      <td>-0.723106</td>\n",
       "      <td>-0.723425</td>\n",
       "      <td>-0.747892</td>\n",
       "      <td>NaN</td>\n",
       "      <td>NaN</td>\n",
       "      <td>NaN</td>\n",
       "      <td>NaN</td>\n",
       "      <td>NaN</td>\n",
       "      <td>NaN</td>\n",
       "      <td>0.008000</td>\n",
       "      <td>-0.002603</td>\n",
       "      <td>NaN</td>\n",
       "    </tr>\n",
       "    <tr>\n",
       "      <th>11</th>\n",
       "      <td>894931200.0</td>\n",
       "      <td>-0.722943</td>\n",
       "      <td>-0.727846</td>\n",
       "      <td>-0.720947</td>\n",
       "      <td>-0.732032</td>\n",
       "      <td>-0.748059</td>\n",
       "      <td>NaN</td>\n",
       "      <td>NaN</td>\n",
       "      <td>NaN</td>\n",
       "      <td>NaN</td>\n",
       "      <td>NaN</td>\n",
       "      <td>NaN</td>\n",
       "      <td>0.009089</td>\n",
       "      <td>-0.006899</td>\n",
       "      <td>NaN</td>\n",
       "    </tr>\n",
       "    <tr>\n",
       "      <th>12</th>\n",
       "      <td>895017600.0</td>\n",
       "      <td>-0.727239</td>\n",
       "      <td>-0.746010</td>\n",
       "      <td>-0.745777</td>\n",
       "      <td>-0.736335</td>\n",
       "      <td>-0.747837</td>\n",
       "      <td>NaN</td>\n",
       "      <td>NaN</td>\n",
       "      <td>NaN</td>\n",
       "      <td>NaN</td>\n",
       "      <td>NaN</td>\n",
       "      <td>NaN</td>\n",
       "      <td>0.009096</td>\n",
       "      <td>-0.000233</td>\n",
       "      <td>NaN</td>\n",
       "    </tr>\n",
       "    <tr>\n",
       "      <th>13</th>\n",
       "      <td>895104000.0</td>\n",
       "      <td>-0.727239</td>\n",
       "      <td>-0.696859</td>\n",
       "      <td>-0.718787</td>\n",
       "      <td>-0.729880</td>\n",
       "      <td>-0.746949</td>\n",
       "      <td>NaN</td>\n",
       "      <td>NaN</td>\n",
       "      <td>NaN</td>\n",
       "      <td>NaN</td>\n",
       "      <td>NaN</td>\n",
       "      <td>NaN</td>\n",
       "      <td>0.002641</td>\n",
       "      <td>0.021929</td>\n",
       "      <td>NaN</td>\n",
       "    </tr>\n",
       "    <tr>\n",
       "      <th>14</th>\n",
       "      <td>895190400.0</td>\n",
       "      <td>-0.736904</td>\n",
       "      <td>-0.750285</td>\n",
       "      <td>-0.729583</td>\n",
       "      <td>-0.735259</td>\n",
       "      <td>-0.748503</td>\n",
       "      <td>NaN</td>\n",
       "      <td>NaN</td>\n",
       "      <td>NaN</td>\n",
       "      <td>NaN</td>\n",
       "      <td>NaN</td>\n",
       "      <td>NaN</td>\n",
       "      <td>-0.001645</td>\n",
       "      <td>-0.020701</td>\n",
       "      <td>NaN</td>\n",
       "    </tr>\n",
       "    <tr>\n",
       "      <th>15</th>\n",
       "      <td>895449600.0</td>\n",
       "      <td>-0.713278</td>\n",
       "      <td>-0.719298</td>\n",
       "      <td>-0.711230</td>\n",
       "      <td>-0.728804</td>\n",
       "      <td>-0.748207</td>\n",
       "      <td>NaN</td>\n",
       "      <td>NaN</td>\n",
       "      <td>NaN</td>\n",
       "      <td>NaN</td>\n",
       "      <td>NaN</td>\n",
       "      <td>NaN</td>\n",
       "      <td>0.015527</td>\n",
       "      <td>-0.008067</td>\n",
       "      <td>NaN</td>\n",
       "    </tr>\n",
       "    <tr>\n",
       "      <th>16</th>\n",
       "      <td>895536000.0</td>\n",
       "      <td>-0.724017</td>\n",
       "      <td>-0.738531</td>\n",
       "      <td>-0.716628</td>\n",
       "      <td>-0.709440</td>\n",
       "      <td>-0.748762</td>\n",
       "      <td>NaN</td>\n",
       "      <td>NaN</td>\n",
       "      <td>NaN</td>\n",
       "      <td>NaN</td>\n",
       "      <td>NaN</td>\n",
       "      <td>NaN</td>\n",
       "      <td>-0.014577</td>\n",
       "      <td>-0.021903</td>\n",
       "      <td>NaN</td>\n",
       "    </tr>\n",
       "    <tr>\n",
       "      <th>17</th>\n",
       "      <td>895622400.0</td>\n",
       "      <td>-0.704686</td>\n",
       "      <td>-0.720366</td>\n",
       "      <td>-0.686399</td>\n",
       "      <td>-0.707289</td>\n",
       "      <td>-0.748873</td>\n",
       "      <td>NaN</td>\n",
       "      <td>NaN</td>\n",
       "      <td>NaN</td>\n",
       "      <td>NaN</td>\n",
       "      <td>NaN</td>\n",
       "      <td>NaN</td>\n",
       "      <td>0.002602</td>\n",
       "      <td>-0.033967</td>\n",
       "      <td>NaN</td>\n",
       "    </tr>\n",
       "    <tr>\n",
       "      <th>18</th>\n",
       "      <td>895708800.0</td>\n",
       "      <td>-0.704686</td>\n",
       "      <td>-0.663735</td>\n",
       "      <td>-0.682081</td>\n",
       "      <td>-0.641666</td>\n",
       "      <td>-0.748188</td>\n",
       "      <td>NaN</td>\n",
       "      <td>NaN</td>\n",
       "      <td>NaN</td>\n",
       "      <td>NaN</td>\n",
       "      <td>NaN</td>\n",
       "      <td>NaN</td>\n",
       "      <td>-0.063021</td>\n",
       "      <td>0.018346</td>\n",
       "      <td>NaN</td>\n",
       "    </tr>\n",
       "    <tr>\n",
       "      <th>19</th>\n",
       "      <td>895795200.0</td>\n",
       "      <td>-0.641325</td>\n",
       "      <td>-0.662666</td>\n",
       "      <td>-0.642136</td>\n",
       "      <td>-0.649196</td>\n",
       "      <td>-0.748484</td>\n",
       "      <td>NaN</td>\n",
       "      <td>NaN</td>\n",
       "      <td>NaN</td>\n",
       "      <td>NaN</td>\n",
       "      <td>NaN</td>\n",
       "      <td>NaN</td>\n",
       "      <td>0.007871</td>\n",
       "      <td>-0.020530</td>\n",
       "      <td>NaN</td>\n",
       "    </tr>\n",
       "    <tr>\n",
       "      <th>20</th>\n",
       "      <td>896054400.0</td>\n",
       "      <td>-0.639177</td>\n",
       "      <td>-0.670146</td>\n",
       "      <td>-0.643216</td>\n",
       "      <td>-0.662105</td>\n",
       "      <td>-0.748966</td>\n",
       "      <td>SUPPLY</td>\n",
       "      <td>Rectangle 23759</td>\n",
       "      <td>896054400.0</td>\n",
       "      <td>1.208304e+09</td>\n",
       "      <td>0.6807</td>\n",
       "      <td>0.6834</td>\n",
       "      <td>0.022928</td>\n",
       "      <td>-0.026930</td>\n",
       "      <td>NaN</td>\n",
       "    </tr>\n",
       "    <tr>\n",
       "      <th>21</th>\n",
       "      <td>896140800.0</td>\n",
       "      <td>-0.660656</td>\n",
       "      <td>-0.687242</td>\n",
       "      <td>-0.706912</td>\n",
       "      <td>-0.721274</td>\n",
       "      <td>-0.748022</td>\n",
       "      <td>NaN</td>\n",
       "      <td>NaN</td>\n",
       "      <td>NaN</td>\n",
       "      <td>NaN</td>\n",
       "      <td>NaN</td>\n",
       "      <td>NaN</td>\n",
       "      <td>0.060618</td>\n",
       "      <td>0.019670</td>\n",
       "      <td>NaN</td>\n",
       "    </tr>\n",
       "    <tr>\n",
       "      <th>22</th>\n",
       "      <td>896227200.0</td>\n",
       "      <td>-0.719721</td>\n",
       "      <td>-0.717161</td>\n",
       "      <td>-0.732822</td>\n",
       "      <td>-0.758926</td>\n",
       "      <td>-0.747800</td>\n",
       "      <td>NaN</td>\n",
       "      <td>NaN</td>\n",
       "      <td>NaN</td>\n",
       "      <td>NaN</td>\n",
       "      <td>NaN</td>\n",
       "      <td>NaN</td>\n",
       "      <td>0.039205</td>\n",
       "      <td>0.015662</td>\n",
       "      <td>NaN</td>\n",
       "    </tr>\n",
       "    <tr>\n",
       "      <th>23</th>\n",
       "      <td>896313600.0</td>\n",
       "      <td>-0.755161</td>\n",
       "      <td>-0.734257</td>\n",
       "      <td>-0.730663</td>\n",
       "      <td>-0.716971</td>\n",
       "      <td>-0.748540</td>\n",
       "      <td>NaN</td>\n",
       "      <td>NaN</td>\n",
       "      <td>NaN</td>\n",
       "      <td>NaN</td>\n",
       "      <td>NaN</td>\n",
       "      <td>NaN</td>\n",
       "      <td>-0.038190</td>\n",
       "      <td>-0.003594</td>\n",
       "      <td>NaN</td>\n",
       "    </tr>\n",
       "    <tr>\n",
       "      <th>24</th>\n",
       "      <td>896400000.0</td>\n",
       "      <td>-0.728312</td>\n",
       "      <td>-0.740668</td>\n",
       "      <td>-0.741459</td>\n",
       "      <td>-0.762154</td>\n",
       "      <td>-0.748225</td>\n",
       "      <td>NaN</td>\n",
       "      <td>NaN</td>\n",
       "      <td>NaN</td>\n",
       "      <td>NaN</td>\n",
       "      <td>NaN</td>\n",
       "      <td>NaN</td>\n",
       "      <td>0.033841</td>\n",
       "      <td>0.000791</td>\n",
       "      <td>NaN</td>\n",
       "    </tr>\n",
       "    <tr>\n",
       "      <th>25</th>\n",
       "      <td>896659200.0</td>\n",
       "      <td>-0.758382</td>\n",
       "      <td>-0.743873</td>\n",
       "      <td>-0.759812</td>\n",
       "      <td>-0.773987</td>\n",
       "      <td>-0.747393</td>\n",
       "      <td>NaN</td>\n",
       "      <td>NaN</td>\n",
       "      <td>NaN</td>\n",
       "      <td>NaN</td>\n",
       "      <td>NaN</td>\n",
       "      <td>NaN</td>\n",
       "      <td>0.015605</td>\n",
       "      <td>0.015939</td>\n",
       "      <td>NaN</td>\n",
       "    </tr>\n",
       "    <tr>\n",
       "      <th>26</th>\n",
       "      <td>896745600.0</td>\n",
       "      <td>-0.771269</td>\n",
       "      <td>-0.778066</td>\n",
       "      <td>-0.755494</td>\n",
       "      <td>-0.776139</td>\n",
       "      <td>-0.748540</td>\n",
       "      <td>NaN</td>\n",
       "      <td>NaN</td>\n",
       "      <td>NaN</td>\n",
       "      <td>NaN</td>\n",
       "      <td>NaN</td>\n",
       "      <td>NaN</td>\n",
       "      <td>0.004870</td>\n",
       "      <td>-0.022572</td>\n",
       "      <td>NaN</td>\n",
       "    </tr>\n",
       "    <tr>\n",
       "      <th>27</th>\n",
       "      <td>896832000.0</td>\n",
       "      <td>-0.772343</td>\n",
       "      <td>-0.748148</td>\n",
       "      <td>-0.747936</td>\n",
       "      <td>-0.728804</td>\n",
       "      <td>-0.748521</td>\n",
       "      <td>NaN</td>\n",
       "      <td>NaN</td>\n",
       "      <td>NaN</td>\n",
       "      <td>NaN</td>\n",
       "      <td>NaN</td>\n",
       "      <td>NaN</td>\n",
       "      <td>-0.043539</td>\n",
       "      <td>-0.000211</td>\n",
       "      <td>NaN</td>\n",
       "    </tr>\n",
       "    <tr>\n",
       "      <th>28</th>\n",
       "      <td>896918400.0</td>\n",
       "      <td>-0.728312</td>\n",
       "      <td>-0.724640</td>\n",
       "      <td>-0.747936</td>\n",
       "      <td>-0.713743</td>\n",
       "      <td>-0.747208</td>\n",
       "      <td>SUPPLY</td>\n",
       "      <td>Rectangle 23761</td>\n",
       "      <td>896918400.0</td>\n",
       "      <td>1.208304e+09</td>\n",
       "      <td>0.6743</td>\n",
       "      <td>0.6776</td>\n",
       "      <td>-0.014569</td>\n",
       "      <td>0.023296</td>\n",
       "      <td>NaN</td>\n",
       "    </tr>\n",
       "    <tr>\n",
       "      <th>29</th>\n",
       "      <td>897004800.0</td>\n",
       "      <td>-0.711130</td>\n",
       "      <td>-0.728914</td>\n",
       "      <td>-0.719867</td>\n",
       "      <td>-0.736335</td>\n",
       "      <td>-0.748410</td>\n",
       "      <td>NaN</td>\n",
       "      <td>NaN</td>\n",
       "      <td>NaN</td>\n",
       "      <td>NaN</td>\n",
       "      <td>NaN</td>\n",
       "      <td>NaN</td>\n",
       "      <td>0.025205</td>\n",
       "      <td>-0.009047</td>\n",
       "      <td>NaN</td>\n",
       "    </tr>\n",
       "    <tr>\n",
       "      <th>...</th>\n",
       "      <td>...</td>\n",
       "      <td>...</td>\n",
       "      <td>...</td>\n",
       "      <td>...</td>\n",
       "      <td>...</td>\n",
       "      <td>...</td>\n",
       "      <td>...</td>\n",
       "      <td>...</td>\n",
       "      <td>...</td>\n",
       "      <td>...</td>\n",
       "      <td>...</td>\n",
       "      <td>...</td>\n",
       "      <td>...</td>\n",
       "      <td>...</td>\n",
       "      <td>...</td>\n",
       "    </tr>\n",
       "    <tr>\n",
       "      <th>24</th>\n",
       "      <td>NaN</td>\n",
       "      <td>NaN</td>\n",
       "      <td>NaN</td>\n",
       "      <td>NaN</td>\n",
       "      <td>NaN</td>\n",
       "      <td>NaN</td>\n",
       "      <td>NaN</td>\n",
       "      <td>NaN</td>\n",
       "      <td>NaN</td>\n",
       "      <td>NaN</td>\n",
       "      <td>NaN</td>\n",
       "      <td>NaN</td>\n",
       "      <td>NaN</td>\n",
       "      <td>NaN</td>\n",
       "      <td>change_change_-4  change_change_-3  change...</td>\n",
       "    </tr>\n",
       "    <tr>\n",
       "      <th>25</th>\n",
       "      <td>NaN</td>\n",
       "      <td>NaN</td>\n",
       "      <td>NaN</td>\n",
       "      <td>NaN</td>\n",
       "      <td>NaN</td>\n",
       "      <td>NaN</td>\n",
       "      <td>NaN</td>\n",
       "      <td>NaN</td>\n",
       "      <td>NaN</td>\n",
       "      <td>NaN</td>\n",
       "      <td>NaN</td>\n",
       "      <td>NaN</td>\n",
       "      <td>NaN</td>\n",
       "      <td>NaN</td>\n",
       "      <td>O_diff_-4  C_diff_-4  O_diff_-3  C_diff_-3...</td>\n",
       "    </tr>\n",
       "    <tr>\n",
       "      <th>0</th>\n",
       "      <td>NaN</td>\n",
       "      <td>NaN</td>\n",
       "      <td>NaN</td>\n",
       "      <td>NaN</td>\n",
       "      <td>NaN</td>\n",
       "      <td>NaN</td>\n",
       "      <td>NaN</td>\n",
       "      <td>NaN</td>\n",
       "      <td>NaN</td>\n",
       "      <td>NaN</td>\n",
       "      <td>NaN</td>\n",
       "      <td>NaN</td>\n",
       "      <td>NaN</td>\n",
       "      <td>NaN</td>\n",
       "      <td>change_change_-4  change_change_-3  chan...</td>\n",
       "    </tr>\n",
       "    <tr>\n",
       "      <th>1</th>\n",
       "      <td>NaN</td>\n",
       "      <td>NaN</td>\n",
       "      <td>NaN</td>\n",
       "      <td>NaN</td>\n",
       "      <td>NaN</td>\n",
       "      <td>NaN</td>\n",
       "      <td>NaN</td>\n",
       "      <td>NaN</td>\n",
       "      <td>NaN</td>\n",
       "      <td>NaN</td>\n",
       "      <td>NaN</td>\n",
       "      <td>NaN</td>\n",
       "      <td>NaN</td>\n",
       "      <td>NaN</td>\n",
       "      <td>O_diff_-4  C_diff_-4  O_diff_-3  C_diff_...</td>\n",
       "    </tr>\n",
       "    <tr>\n",
       "      <th>2</th>\n",
       "      <td>NaN</td>\n",
       "      <td>NaN</td>\n",
       "      <td>NaN</td>\n",
       "      <td>NaN</td>\n",
       "      <td>NaN</td>\n",
       "      <td>NaN</td>\n",
       "      <td>NaN</td>\n",
       "      <td>NaN</td>\n",
       "      <td>NaN</td>\n",
       "      <td>NaN</td>\n",
       "      <td>NaN</td>\n",
       "      <td>NaN</td>\n",
       "      <td>NaN</td>\n",
       "      <td>NaN</td>\n",
       "      <td>change_change_-4  change_change_-3  chan...</td>\n",
       "    </tr>\n",
       "    <tr>\n",
       "      <th>3</th>\n",
       "      <td>NaN</td>\n",
       "      <td>NaN</td>\n",
       "      <td>NaN</td>\n",
       "      <td>NaN</td>\n",
       "      <td>NaN</td>\n",
       "      <td>NaN</td>\n",
       "      <td>NaN</td>\n",
       "      <td>NaN</td>\n",
       "      <td>NaN</td>\n",
       "      <td>NaN</td>\n",
       "      <td>NaN</td>\n",
       "      <td>NaN</td>\n",
       "      <td>NaN</td>\n",
       "      <td>NaN</td>\n",
       "      <td>O_diff_-4  C_diff_-4  O_diff_-3  C_diff_...</td>\n",
       "    </tr>\n",
       "    <tr>\n",
       "      <th>4</th>\n",
       "      <td>NaN</td>\n",
       "      <td>NaN</td>\n",
       "      <td>NaN</td>\n",
       "      <td>NaN</td>\n",
       "      <td>NaN</td>\n",
       "      <td>NaN</td>\n",
       "      <td>NaN</td>\n",
       "      <td>NaN</td>\n",
       "      <td>NaN</td>\n",
       "      <td>NaN</td>\n",
       "      <td>NaN</td>\n",
       "      <td>NaN</td>\n",
       "      <td>NaN</td>\n",
       "      <td>NaN</td>\n",
       "      <td>change_change_-4  change_change_-3  chan...</td>\n",
       "    </tr>\n",
       "    <tr>\n",
       "      <th>5</th>\n",
       "      <td>NaN</td>\n",
       "      <td>NaN</td>\n",
       "      <td>NaN</td>\n",
       "      <td>NaN</td>\n",
       "      <td>NaN</td>\n",
       "      <td>NaN</td>\n",
       "      <td>NaN</td>\n",
       "      <td>NaN</td>\n",
       "      <td>NaN</td>\n",
       "      <td>NaN</td>\n",
       "      <td>NaN</td>\n",
       "      <td>NaN</td>\n",
       "      <td>NaN</td>\n",
       "      <td>NaN</td>\n",
       "      <td>O_diff_-4  C_diff_-4  O_diff_-3  C_diff_...</td>\n",
       "    </tr>\n",
       "    <tr>\n",
       "      <th>6</th>\n",
       "      <td>NaN</td>\n",
       "      <td>NaN</td>\n",
       "      <td>NaN</td>\n",
       "      <td>NaN</td>\n",
       "      <td>NaN</td>\n",
       "      <td>NaN</td>\n",
       "      <td>NaN</td>\n",
       "      <td>NaN</td>\n",
       "      <td>NaN</td>\n",
       "      <td>NaN</td>\n",
       "      <td>NaN</td>\n",
       "      <td>NaN</td>\n",
       "      <td>NaN</td>\n",
       "      <td>NaN</td>\n",
       "      <td>change_change_-4  change_change_-3  chan...</td>\n",
       "    </tr>\n",
       "    <tr>\n",
       "      <th>7</th>\n",
       "      <td>NaN</td>\n",
       "      <td>NaN</td>\n",
       "      <td>NaN</td>\n",
       "      <td>NaN</td>\n",
       "      <td>NaN</td>\n",
       "      <td>NaN</td>\n",
       "      <td>NaN</td>\n",
       "      <td>NaN</td>\n",
       "      <td>NaN</td>\n",
       "      <td>NaN</td>\n",
       "      <td>NaN</td>\n",
       "      <td>NaN</td>\n",
       "      <td>NaN</td>\n",
       "      <td>NaN</td>\n",
       "      <td>O_diff_-4  C_diff_-4  O_diff_-3  C_diff_...</td>\n",
       "    </tr>\n",
       "    <tr>\n",
       "      <th>8</th>\n",
       "      <td>NaN</td>\n",
       "      <td>NaN</td>\n",
       "      <td>NaN</td>\n",
       "      <td>NaN</td>\n",
       "      <td>NaN</td>\n",
       "      <td>NaN</td>\n",
       "      <td>NaN</td>\n",
       "      <td>NaN</td>\n",
       "      <td>NaN</td>\n",
       "      <td>NaN</td>\n",
       "      <td>NaN</td>\n",
       "      <td>NaN</td>\n",
       "      <td>NaN</td>\n",
       "      <td>NaN</td>\n",
       "      <td>change_change_-4  change_change_-3  chan...</td>\n",
       "    </tr>\n",
       "    <tr>\n",
       "      <th>9</th>\n",
       "      <td>NaN</td>\n",
       "      <td>NaN</td>\n",
       "      <td>NaN</td>\n",
       "      <td>NaN</td>\n",
       "      <td>NaN</td>\n",
       "      <td>NaN</td>\n",
       "      <td>NaN</td>\n",
       "      <td>NaN</td>\n",
       "      <td>NaN</td>\n",
       "      <td>NaN</td>\n",
       "      <td>NaN</td>\n",
       "      <td>NaN</td>\n",
       "      <td>NaN</td>\n",
       "      <td>NaN</td>\n",
       "      <td>O_diff_-4  C_diff_-4  O_diff_-3  C_diff_...</td>\n",
       "    </tr>\n",
       "    <tr>\n",
       "      <th>10</th>\n",
       "      <td>NaN</td>\n",
       "      <td>NaN</td>\n",
       "      <td>NaN</td>\n",
       "      <td>NaN</td>\n",
       "      <td>NaN</td>\n",
       "      <td>NaN</td>\n",
       "      <td>NaN</td>\n",
       "      <td>NaN</td>\n",
       "      <td>NaN</td>\n",
       "      <td>NaN</td>\n",
       "      <td>NaN</td>\n",
       "      <td>NaN</td>\n",
       "      <td>NaN</td>\n",
       "      <td>NaN</td>\n",
       "      <td>change_change_-4  change_change_-3  change...</td>\n",
       "    </tr>\n",
       "    <tr>\n",
       "      <th>11</th>\n",
       "      <td>NaN</td>\n",
       "      <td>NaN</td>\n",
       "      <td>NaN</td>\n",
       "      <td>NaN</td>\n",
       "      <td>NaN</td>\n",
       "      <td>NaN</td>\n",
       "      <td>NaN</td>\n",
       "      <td>NaN</td>\n",
       "      <td>NaN</td>\n",
       "      <td>NaN</td>\n",
       "      <td>NaN</td>\n",
       "      <td>NaN</td>\n",
       "      <td>NaN</td>\n",
       "      <td>NaN</td>\n",
       "      <td>O_diff_-4  C_diff_-4  O_diff_-3  C_diff_-3...</td>\n",
       "    </tr>\n",
       "    <tr>\n",
       "      <th>12</th>\n",
       "      <td>NaN</td>\n",
       "      <td>NaN</td>\n",
       "      <td>NaN</td>\n",
       "      <td>NaN</td>\n",
       "      <td>NaN</td>\n",
       "      <td>NaN</td>\n",
       "      <td>NaN</td>\n",
       "      <td>NaN</td>\n",
       "      <td>NaN</td>\n",
       "      <td>NaN</td>\n",
       "      <td>NaN</td>\n",
       "      <td>NaN</td>\n",
       "      <td>NaN</td>\n",
       "      <td>NaN</td>\n",
       "      <td>change_change_-4  change_change_-3  change...</td>\n",
       "    </tr>\n",
       "    <tr>\n",
       "      <th>13</th>\n",
       "      <td>NaN</td>\n",
       "      <td>NaN</td>\n",
       "      <td>NaN</td>\n",
       "      <td>NaN</td>\n",
       "      <td>NaN</td>\n",
       "      <td>NaN</td>\n",
       "      <td>NaN</td>\n",
       "      <td>NaN</td>\n",
       "      <td>NaN</td>\n",
       "      <td>NaN</td>\n",
       "      <td>NaN</td>\n",
       "      <td>NaN</td>\n",
       "      <td>NaN</td>\n",
       "      <td>NaN</td>\n",
       "      <td>O_diff_-4  C_diff_-4  O_diff_-3  C_diff_-3...</td>\n",
       "    </tr>\n",
       "    <tr>\n",
       "      <th>14</th>\n",
       "      <td>NaN</td>\n",
       "      <td>NaN</td>\n",
       "      <td>NaN</td>\n",
       "      <td>NaN</td>\n",
       "      <td>NaN</td>\n",
       "      <td>NaN</td>\n",
       "      <td>NaN</td>\n",
       "      <td>NaN</td>\n",
       "      <td>NaN</td>\n",
       "      <td>NaN</td>\n",
       "      <td>NaN</td>\n",
       "      <td>NaN</td>\n",
       "      <td>NaN</td>\n",
       "      <td>NaN</td>\n",
       "      <td>change_change_-4  change_change_-3  change...</td>\n",
       "    </tr>\n",
       "    <tr>\n",
       "      <th>15</th>\n",
       "      <td>NaN</td>\n",
       "      <td>NaN</td>\n",
       "      <td>NaN</td>\n",
       "      <td>NaN</td>\n",
       "      <td>NaN</td>\n",
       "      <td>NaN</td>\n",
       "      <td>NaN</td>\n",
       "      <td>NaN</td>\n",
       "      <td>NaN</td>\n",
       "      <td>NaN</td>\n",
       "      <td>NaN</td>\n",
       "      <td>NaN</td>\n",
       "      <td>NaN</td>\n",
       "      <td>NaN</td>\n",
       "      <td>O_diff_-4  C_diff_-4  O_diff_-3  C_diff_-3...</td>\n",
       "    </tr>\n",
       "    <tr>\n",
       "      <th>16</th>\n",
       "      <td>NaN</td>\n",
       "      <td>NaN</td>\n",
       "      <td>NaN</td>\n",
       "      <td>NaN</td>\n",
       "      <td>NaN</td>\n",
       "      <td>NaN</td>\n",
       "      <td>NaN</td>\n",
       "      <td>NaN</td>\n",
       "      <td>NaN</td>\n",
       "      <td>NaN</td>\n",
       "      <td>NaN</td>\n",
       "      <td>NaN</td>\n",
       "      <td>NaN</td>\n",
       "      <td>NaN</td>\n",
       "      <td>change_change_-4  change_change_-3  change...</td>\n",
       "    </tr>\n",
       "    <tr>\n",
       "      <th>17</th>\n",
       "      <td>NaN</td>\n",
       "      <td>NaN</td>\n",
       "      <td>NaN</td>\n",
       "      <td>NaN</td>\n",
       "      <td>NaN</td>\n",
       "      <td>NaN</td>\n",
       "      <td>NaN</td>\n",
       "      <td>NaN</td>\n",
       "      <td>NaN</td>\n",
       "      <td>NaN</td>\n",
       "      <td>NaN</td>\n",
       "      <td>NaN</td>\n",
       "      <td>NaN</td>\n",
       "      <td>NaN</td>\n",
       "      <td>O_diff_-4  C_diff_-4  O_diff_-3  C_diff_-3...</td>\n",
       "    </tr>\n",
       "    <tr>\n",
       "      <th>18</th>\n",
       "      <td>NaN</td>\n",
       "      <td>NaN</td>\n",
       "      <td>NaN</td>\n",
       "      <td>NaN</td>\n",
       "      <td>NaN</td>\n",
       "      <td>NaN</td>\n",
       "      <td>NaN</td>\n",
       "      <td>NaN</td>\n",
       "      <td>NaN</td>\n",
       "      <td>NaN</td>\n",
       "      <td>NaN</td>\n",
       "      <td>NaN</td>\n",
       "      <td>NaN</td>\n",
       "      <td>NaN</td>\n",
       "      <td>change_change_-4  change_change_-3  change...</td>\n",
       "    </tr>\n",
       "    <tr>\n",
       "      <th>19</th>\n",
       "      <td>NaN</td>\n",
       "      <td>NaN</td>\n",
       "      <td>NaN</td>\n",
       "      <td>NaN</td>\n",
       "      <td>NaN</td>\n",
       "      <td>NaN</td>\n",
       "      <td>NaN</td>\n",
       "      <td>NaN</td>\n",
       "      <td>NaN</td>\n",
       "      <td>NaN</td>\n",
       "      <td>NaN</td>\n",
       "      <td>NaN</td>\n",
       "      <td>NaN</td>\n",
       "      <td>NaN</td>\n",
       "      <td>O_diff_-4  C_diff_-4  O_diff_-3  C_diff_-3...</td>\n",
       "    </tr>\n",
       "    <tr>\n",
       "      <th>20</th>\n",
       "      <td>NaN</td>\n",
       "      <td>NaN</td>\n",
       "      <td>NaN</td>\n",
       "      <td>NaN</td>\n",
       "      <td>NaN</td>\n",
       "      <td>NaN</td>\n",
       "      <td>NaN</td>\n",
       "      <td>NaN</td>\n",
       "      <td>NaN</td>\n",
       "      <td>NaN</td>\n",
       "      <td>NaN</td>\n",
       "      <td>NaN</td>\n",
       "      <td>NaN</td>\n",
       "      <td>NaN</td>\n",
       "      <td>change_change_-4  change_change_-3  change...</td>\n",
       "    </tr>\n",
       "    <tr>\n",
       "      <th>21</th>\n",
       "      <td>NaN</td>\n",
       "      <td>NaN</td>\n",
       "      <td>NaN</td>\n",
       "      <td>NaN</td>\n",
       "      <td>NaN</td>\n",
       "      <td>NaN</td>\n",
       "      <td>NaN</td>\n",
       "      <td>NaN</td>\n",
       "      <td>NaN</td>\n",
       "      <td>NaN</td>\n",
       "      <td>NaN</td>\n",
       "      <td>NaN</td>\n",
       "      <td>NaN</td>\n",
       "      <td>NaN</td>\n",
       "      <td>O_diff_-4  C_diff_-4  O_diff_-3  C_diff_-3...</td>\n",
       "    </tr>\n",
       "    <tr>\n",
       "      <th>22</th>\n",
       "      <td>NaN</td>\n",
       "      <td>NaN</td>\n",
       "      <td>NaN</td>\n",
       "      <td>NaN</td>\n",
       "      <td>NaN</td>\n",
       "      <td>NaN</td>\n",
       "      <td>NaN</td>\n",
       "      <td>NaN</td>\n",
       "      <td>NaN</td>\n",
       "      <td>NaN</td>\n",
       "      <td>NaN</td>\n",
       "      <td>NaN</td>\n",
       "      <td>NaN</td>\n",
       "      <td>NaN</td>\n",
       "      <td>change_change_-4  change_change_-3  change...</td>\n",
       "    </tr>\n",
       "    <tr>\n",
       "      <th>23</th>\n",
       "      <td>NaN</td>\n",
       "      <td>NaN</td>\n",
       "      <td>NaN</td>\n",
       "      <td>NaN</td>\n",
       "      <td>NaN</td>\n",
       "      <td>NaN</td>\n",
       "      <td>NaN</td>\n",
       "      <td>NaN</td>\n",
       "      <td>NaN</td>\n",
       "      <td>NaN</td>\n",
       "      <td>NaN</td>\n",
       "      <td>NaN</td>\n",
       "      <td>NaN</td>\n",
       "      <td>NaN</td>\n",
       "      <td>O_diff_-4  C_diff_-4  O_diff_-3  C_diff_-3...</td>\n",
       "    </tr>\n",
       "    <tr>\n",
       "      <th>24</th>\n",
       "      <td>NaN</td>\n",
       "      <td>NaN</td>\n",
       "      <td>NaN</td>\n",
       "      <td>NaN</td>\n",
       "      <td>NaN</td>\n",
       "      <td>NaN</td>\n",
       "      <td>NaN</td>\n",
       "      <td>NaN</td>\n",
       "      <td>NaN</td>\n",
       "      <td>NaN</td>\n",
       "      <td>NaN</td>\n",
       "      <td>NaN</td>\n",
       "      <td>NaN</td>\n",
       "      <td>NaN</td>\n",
       "      <td>change_change_-4  change_change_-3  change...</td>\n",
       "    </tr>\n",
       "    <tr>\n",
       "      <th>25</th>\n",
       "      <td>NaN</td>\n",
       "      <td>NaN</td>\n",
       "      <td>NaN</td>\n",
       "      <td>NaN</td>\n",
       "      <td>NaN</td>\n",
       "      <td>NaN</td>\n",
       "      <td>NaN</td>\n",
       "      <td>NaN</td>\n",
       "      <td>NaN</td>\n",
       "      <td>NaN</td>\n",
       "      <td>NaN</td>\n",
       "      <td>NaN</td>\n",
       "      <td>NaN</td>\n",
       "      <td>NaN</td>\n",
       "      <td>O_diff_-4  C_diff_-4  O_diff_-3  C_diff_-3...</td>\n",
       "    </tr>\n",
       "    <tr>\n",
       "      <th>26</th>\n",
       "      <td>NaN</td>\n",
       "      <td>NaN</td>\n",
       "      <td>NaN</td>\n",
       "      <td>NaN</td>\n",
       "      <td>NaN</td>\n",
       "      <td>NaN</td>\n",
       "      <td>NaN</td>\n",
       "      <td>NaN</td>\n",
       "      <td>NaN</td>\n",
       "      <td>NaN</td>\n",
       "      <td>NaN</td>\n",
       "      <td>NaN</td>\n",
       "      <td>NaN</td>\n",
       "      <td>NaN</td>\n",
       "      <td>change_change_-4  change_change_-3  change...</td>\n",
       "    </tr>\n",
       "    <tr>\n",
       "      <th>27</th>\n",
       "      <td>NaN</td>\n",
       "      <td>NaN</td>\n",
       "      <td>NaN</td>\n",
       "      <td>NaN</td>\n",
       "      <td>NaN</td>\n",
       "      <td>NaN</td>\n",
       "      <td>NaN</td>\n",
       "      <td>NaN</td>\n",
       "      <td>NaN</td>\n",
       "      <td>NaN</td>\n",
       "      <td>NaN</td>\n",
       "      <td>NaN</td>\n",
       "      <td>NaN</td>\n",
       "      <td>NaN</td>\n",
       "      <td>O_diff_-4  C_diff_-4  O_diff_-3  C_diff_-3...</td>\n",
       "    </tr>\n",
       "  </tbody>\n",
       "</table>\n",
       "<p>10321 rows × 15 columns</p>\n",
       "</div>"
      ],
      "text/plain": [
       "     Epoch Date         O         H         L         C         V  \\\n",
       "0   893635200.0 -0.933431 -0.959714 -0.942264 -0.956871 -0.748744   \n",
       "1   893721600.0 -0.961353 -0.956508 -0.946582 -0.948265 -0.748410   \n",
       "2   893808000.0 -0.942023 -0.969331 -0.964935 -0.971932 -0.748410   \n",
       "3   893894400.0 -0.963501 -0.978947 -0.953060 -0.974084 -0.748818   \n",
       "4   893980800.0 -0.971019 -0.899877 -0.945502 -0.893400 -0.747596   \n",
       "5   894240000.0 -0.914101 -0.912699 -0.898000 -0.890172 -0.748744   \n",
       "6   894326400.0 -0.887253 -0.844314 -0.874249 -0.822398 -0.747892   \n",
       "7   894412800.0 -0.831409 -0.826149 -0.818110 -0.808412 -0.748466   \n",
       "8   894499200.0 -0.807783 -0.759901 -0.801916 -0.770760 -0.746967   \n",
       "9   894585600.0 -0.760530 -0.735325 -0.743618 -0.737411 -0.747874   \n",
       "10  894844800.0 -0.715425 -0.725709 -0.723106 -0.723425 -0.747892   \n",
       "11  894931200.0 -0.722943 -0.727846 -0.720947 -0.732032 -0.748059   \n",
       "12  895017600.0 -0.727239 -0.746010 -0.745777 -0.736335 -0.747837   \n",
       "13  895104000.0 -0.727239 -0.696859 -0.718787 -0.729880 -0.746949   \n",
       "14  895190400.0 -0.736904 -0.750285 -0.729583 -0.735259 -0.748503   \n",
       "15  895449600.0 -0.713278 -0.719298 -0.711230 -0.728804 -0.748207   \n",
       "16  895536000.0 -0.724017 -0.738531 -0.716628 -0.709440 -0.748762   \n",
       "17  895622400.0 -0.704686 -0.720366 -0.686399 -0.707289 -0.748873   \n",
       "18  895708800.0 -0.704686 -0.663735 -0.682081 -0.641666 -0.748188   \n",
       "19  895795200.0 -0.641325 -0.662666 -0.642136 -0.649196 -0.748484   \n",
       "20  896054400.0 -0.639177 -0.670146 -0.643216 -0.662105 -0.748966   \n",
       "21  896140800.0 -0.660656 -0.687242 -0.706912 -0.721274 -0.748022   \n",
       "22  896227200.0 -0.719721 -0.717161 -0.732822 -0.758926 -0.747800   \n",
       "23  896313600.0 -0.755161 -0.734257 -0.730663 -0.716971 -0.748540   \n",
       "24  896400000.0 -0.728312 -0.740668 -0.741459 -0.762154 -0.748225   \n",
       "25  896659200.0 -0.758382 -0.743873 -0.759812 -0.773987 -0.747393   \n",
       "26  896745600.0 -0.771269 -0.778066 -0.755494 -0.776139 -0.748540   \n",
       "27  896832000.0 -0.772343 -0.748148 -0.747936 -0.728804 -0.748521   \n",
       "28  896918400.0 -0.728312 -0.724640 -0.747936 -0.713743 -0.747208   \n",
       "29  897004800.0 -0.711130 -0.728914 -0.719867 -0.736335 -0.748410   \n",
       "..          ...       ...       ...       ...       ...       ...   \n",
       "24          NaN       NaN       NaN       NaN       NaN       NaN   \n",
       "25          NaN       NaN       NaN       NaN       NaN       NaN   \n",
       "0           NaN       NaN       NaN       NaN       NaN       NaN   \n",
       "1           NaN       NaN       NaN       NaN       NaN       NaN   \n",
       "2           NaN       NaN       NaN       NaN       NaN       NaN   \n",
       "3           NaN       NaN       NaN       NaN       NaN       NaN   \n",
       "4           NaN       NaN       NaN       NaN       NaN       NaN   \n",
       "5           NaN       NaN       NaN       NaN       NaN       NaN   \n",
       "6           NaN       NaN       NaN       NaN       NaN       NaN   \n",
       "7           NaN       NaN       NaN       NaN       NaN       NaN   \n",
       "8           NaN       NaN       NaN       NaN       NaN       NaN   \n",
       "9           NaN       NaN       NaN       NaN       NaN       NaN   \n",
       "10          NaN       NaN       NaN       NaN       NaN       NaN   \n",
       "11          NaN       NaN       NaN       NaN       NaN       NaN   \n",
       "12          NaN       NaN       NaN       NaN       NaN       NaN   \n",
       "13          NaN       NaN       NaN       NaN       NaN       NaN   \n",
       "14          NaN       NaN       NaN       NaN       NaN       NaN   \n",
       "15          NaN       NaN       NaN       NaN       NaN       NaN   \n",
       "16          NaN       NaN       NaN       NaN       NaN       NaN   \n",
       "17          NaN       NaN       NaN       NaN       NaN       NaN   \n",
       "18          NaN       NaN       NaN       NaN       NaN       NaN   \n",
       "19          NaN       NaN       NaN       NaN       NaN       NaN   \n",
       "20          NaN       NaN       NaN       NaN       NaN       NaN   \n",
       "21          NaN       NaN       NaN       NaN       NaN       NaN   \n",
       "22          NaN       NaN       NaN       NaN       NaN       NaN   \n",
       "23          NaN       NaN       NaN       NaN       NaN       NaN   \n",
       "24          NaN       NaN       NaN       NaN       NaN       NaN   \n",
       "25          NaN       NaN       NaN       NaN       NaN       NaN   \n",
       "26          NaN       NaN       NaN       NaN       NaN       NaN   \n",
       "27          NaN       NaN       NaN       NaN       NaN       NaN   \n",
       "\n",
       "   Supply/Demand      Object Name  Epoch Date Start  Epoch Date End  Proximal  \\\n",
       "0            NaN              NaN               NaN             NaN       NaN   \n",
       "1            NaN              NaN               NaN             NaN       NaN   \n",
       "2            NaN              NaN               NaN             NaN       NaN   \n",
       "3         SUPPLY  Rectangle 23750       893894400.0    1.208218e+09    0.6524   \n",
       "4            NaN              NaN               NaN             NaN       NaN   \n",
       "5            NaN              NaN               NaN             NaN       NaN   \n",
       "6            NaN              NaN               NaN             NaN       NaN   \n",
       "7            NaN              NaN               NaN             NaN       NaN   \n",
       "8            NaN              NaN               NaN             NaN       NaN   \n",
       "9            NaN              NaN               NaN             NaN       NaN   \n",
       "10           NaN              NaN               NaN             NaN       NaN   \n",
       "11           NaN              NaN               NaN             NaN       NaN   \n",
       "12           NaN              NaN               NaN             NaN       NaN   \n",
       "13           NaN              NaN               NaN             NaN       NaN   \n",
       "14           NaN              NaN               NaN             NaN       NaN   \n",
       "15           NaN              NaN               NaN             NaN       NaN   \n",
       "16           NaN              NaN               NaN             NaN       NaN   \n",
       "17           NaN              NaN               NaN             NaN       NaN   \n",
       "18           NaN              NaN               NaN             NaN       NaN   \n",
       "19           NaN              NaN               NaN             NaN       NaN   \n",
       "20        SUPPLY  Rectangle 23759       896054400.0    1.208304e+09    0.6807   \n",
       "21           NaN              NaN               NaN             NaN       NaN   \n",
       "22           NaN              NaN               NaN             NaN       NaN   \n",
       "23           NaN              NaN               NaN             NaN       NaN   \n",
       "24           NaN              NaN               NaN             NaN       NaN   \n",
       "25           NaN              NaN               NaN             NaN       NaN   \n",
       "26           NaN              NaN               NaN             NaN       NaN   \n",
       "27           NaN              NaN               NaN             NaN       NaN   \n",
       "28        SUPPLY  Rectangle 23761       896918400.0    1.208304e+09    0.6743   \n",
       "29           NaN              NaN               NaN             NaN       NaN   \n",
       "..           ...              ...               ...             ...       ...   \n",
       "24           NaN              NaN               NaN             NaN       NaN   \n",
       "25           NaN              NaN               NaN             NaN       NaN   \n",
       "0            NaN              NaN               NaN             NaN       NaN   \n",
       "1            NaN              NaN               NaN             NaN       NaN   \n",
       "2            NaN              NaN               NaN             NaN       NaN   \n",
       "3            NaN              NaN               NaN             NaN       NaN   \n",
       "4            NaN              NaN               NaN             NaN       NaN   \n",
       "5            NaN              NaN               NaN             NaN       NaN   \n",
       "6            NaN              NaN               NaN             NaN       NaN   \n",
       "7            NaN              NaN               NaN             NaN       NaN   \n",
       "8            NaN              NaN               NaN             NaN       NaN   \n",
       "9            NaN              NaN               NaN             NaN       NaN   \n",
       "10           NaN              NaN               NaN             NaN       NaN   \n",
       "11           NaN              NaN               NaN             NaN       NaN   \n",
       "12           NaN              NaN               NaN             NaN       NaN   \n",
       "13           NaN              NaN               NaN             NaN       NaN   \n",
       "14           NaN              NaN               NaN             NaN       NaN   \n",
       "15           NaN              NaN               NaN             NaN       NaN   \n",
       "16           NaN              NaN               NaN             NaN       NaN   \n",
       "17           NaN              NaN               NaN             NaN       NaN   \n",
       "18           NaN              NaN               NaN             NaN       NaN   \n",
       "19           NaN              NaN               NaN             NaN       NaN   \n",
       "20           NaN              NaN               NaN             NaN       NaN   \n",
       "21           NaN              NaN               NaN             NaN       NaN   \n",
       "22           NaN              NaN               NaN             NaN       NaN   \n",
       "23           NaN              NaN               NaN             NaN       NaN   \n",
       "24           NaN              NaN               NaN             NaN       NaN   \n",
       "25           NaN              NaN               NaN             NaN       NaN   \n",
       "26           NaN              NaN               NaN             NaN       NaN   \n",
       "27           NaN              NaN               NaN             NaN       NaN   \n",
       "\n",
       "    Distal    change     range  \\\n",
       "0      NaN  0.023440 -0.017450   \n",
       "1      NaN -0.013089 -0.009926   \n",
       "2      NaN  0.029909 -0.004395   \n",
       "3   0.6498  0.010582 -0.025888   \n",
       "4      NaN -0.077619  0.045625   \n",
       "5      NaN -0.023929 -0.014699   \n",
       "6      NaN -0.064855  0.029935   \n",
       "7      NaN -0.022996 -0.008039   \n",
       "8      NaN -0.037023  0.042015   \n",
       "9      NaN -0.023120  0.008293   \n",
       "10     NaN  0.008000 -0.002603   \n",
       "11     NaN  0.009089 -0.006899   \n",
       "12     NaN  0.009096 -0.000233   \n",
       "13     NaN  0.002641  0.021929   \n",
       "14     NaN -0.001645 -0.020701   \n",
       "15     NaN  0.015527 -0.008067   \n",
       "16     NaN -0.014577 -0.021903   \n",
       "17     NaN  0.002602 -0.033967   \n",
       "18     NaN -0.063021  0.018346   \n",
       "19     NaN  0.007871 -0.020530   \n",
       "20  0.6834  0.022928 -0.026930   \n",
       "21     NaN  0.060618  0.019670   \n",
       "22     NaN  0.039205  0.015662   \n",
       "23     NaN -0.038190 -0.003594   \n",
       "24     NaN  0.033841  0.000791   \n",
       "25     NaN  0.015605  0.015939   \n",
       "26     NaN  0.004870 -0.022572   \n",
       "27     NaN -0.043539 -0.000211   \n",
       "28  0.6776 -0.014569  0.023296   \n",
       "29     NaN  0.025205 -0.009047   \n",
       "..     ...       ...       ...   \n",
       "24     NaN       NaN       NaN   \n",
       "25     NaN       NaN       NaN   \n",
       "0      NaN       NaN       NaN   \n",
       "1      NaN       NaN       NaN   \n",
       "2      NaN       NaN       NaN   \n",
       "3      NaN       NaN       NaN   \n",
       "4      NaN       NaN       NaN   \n",
       "5      NaN       NaN       NaN   \n",
       "6      NaN       NaN       NaN   \n",
       "7      NaN       NaN       NaN   \n",
       "8      NaN       NaN       NaN   \n",
       "9      NaN       NaN       NaN   \n",
       "10     NaN       NaN       NaN   \n",
       "11     NaN       NaN       NaN   \n",
       "12     NaN       NaN       NaN   \n",
       "13     NaN       NaN       NaN   \n",
       "14     NaN       NaN       NaN   \n",
       "15     NaN       NaN       NaN   \n",
       "16     NaN       NaN       NaN   \n",
       "17     NaN       NaN       NaN   \n",
       "18     NaN       NaN       NaN   \n",
       "19     NaN       NaN       NaN   \n",
       "20     NaN       NaN       NaN   \n",
       "21     NaN       NaN       NaN   \n",
       "22     NaN       NaN       NaN   \n",
       "23     NaN       NaN       NaN   \n",
       "24     NaN       NaN       NaN   \n",
       "25     NaN       NaN       NaN   \n",
       "26     NaN       NaN       NaN   \n",
       "27     NaN       NaN       NaN   \n",
       "\n",
       "                                                    0  \n",
       "0                                                 NaN  \n",
       "1                                                 NaN  \n",
       "2                                                 NaN  \n",
       "3                                                 NaN  \n",
       "4                                                 NaN  \n",
       "5                                                 NaN  \n",
       "6                                                 NaN  \n",
       "7                                                 NaN  \n",
       "8                                                 NaN  \n",
       "9                                                 NaN  \n",
       "10                                                NaN  \n",
       "11                                                NaN  \n",
       "12                                                NaN  \n",
       "13                                                NaN  \n",
       "14                                                NaN  \n",
       "15                                                NaN  \n",
       "16                                                NaN  \n",
       "17                                                NaN  \n",
       "18                                                NaN  \n",
       "19                                                NaN  \n",
       "20                                                NaN  \n",
       "21                                                NaN  \n",
       "22                                                NaN  \n",
       "23                                                NaN  \n",
       "24                                                NaN  \n",
       "25                                                NaN  \n",
       "26                                                NaN  \n",
       "27                                                NaN  \n",
       "28                                                NaN  \n",
       "29                                                NaN  \n",
       "..                                                ...  \n",
       "24      change_change_-4  change_change_-3  change...  \n",
       "25      O_diff_-4  C_diff_-4  O_diff_-3  C_diff_-3...  \n",
       "0         change_change_-4  change_change_-3  chan...  \n",
       "1         O_diff_-4  C_diff_-4  O_diff_-3  C_diff_...  \n",
       "2         change_change_-4  change_change_-3  chan...  \n",
       "3         O_diff_-4  C_diff_-4  O_diff_-3  C_diff_...  \n",
       "4         change_change_-4  change_change_-3  chan...  \n",
       "5         O_diff_-4  C_diff_-4  O_diff_-3  C_diff_...  \n",
       "6         change_change_-4  change_change_-3  chan...  \n",
       "7         O_diff_-4  C_diff_-4  O_diff_-3  C_diff_...  \n",
       "8         change_change_-4  change_change_-3  chan...  \n",
       "9         O_diff_-4  C_diff_-4  O_diff_-3  C_diff_...  \n",
       "10      change_change_-4  change_change_-3  change...  \n",
       "11      O_diff_-4  C_diff_-4  O_diff_-3  C_diff_-3...  \n",
       "12      change_change_-4  change_change_-3  change...  \n",
       "13      O_diff_-4  C_diff_-4  O_diff_-3  C_diff_-3...  \n",
       "14      change_change_-4  change_change_-3  change...  \n",
       "15      O_diff_-4  C_diff_-4  O_diff_-3  C_diff_-3...  \n",
       "16      change_change_-4  change_change_-3  change...  \n",
       "17      O_diff_-4  C_diff_-4  O_diff_-3  C_diff_-3...  \n",
       "18      change_change_-4  change_change_-3  change...  \n",
       "19      O_diff_-4  C_diff_-4  O_diff_-3  C_diff_-3...  \n",
       "20      change_change_-4  change_change_-3  change...  \n",
       "21      O_diff_-4  C_diff_-4  O_diff_-3  C_diff_-3...  \n",
       "22      change_change_-4  change_change_-3  change...  \n",
       "23      O_diff_-4  C_diff_-4  O_diff_-3  C_diff_-3...  \n",
       "24      change_change_-4  change_change_-3  change...  \n",
       "25      O_diff_-4  C_diff_-4  O_diff_-3  C_diff_-3...  \n",
       "26      change_change_-4  change_change_-3  change...  \n",
       "27      O_diff_-4  C_diff_-4  O_diff_-3  C_diff_-3...  \n",
       "\n",
       "[10321 rows x 15 columns]"
      ]
     },
     "execution_count": 42,
     "metadata": {},
     "output_type": "execute_result"
    }
   ],
   "source": [
    "prepare_data(test_data)"
   ]
  },
  {
   "cell_type": "code",
   "execution_count": 38,
   "metadata": {},
   "outputs": [
    {
     "data": {
      "text/html": [
       "<div>\n",
       "<table border=\"1\" class=\"dataframe\">\n",
       "  <thead>\n",
       "    <tr style=\"text-align: right;\">\n",
       "      <th></th>\n",
       "      <th>Supply/Demand</th>\n",
       "    </tr>\n",
       "  </thead>\n",
       "  <tbody>\n",
       "  </tbody>\n",
       "</table>\n",
       "</div>"
      ],
      "text/plain": [
       "Empty DataFrame\n",
       "Columns: [Supply/Demand]\n",
       "Index: []"
      ]
     },
     "execution_count": 38,
     "metadata": {},
     "output_type": "execute_result"
    }
   ],
   "source": [
    "df_ohlc_and_rectangles[0:5]"
   ]
  },
  {
   "cell_type": "code",
   "execution_count": 39,
   "metadata": {},
   "outputs": [
    {
     "data": {
      "text/plain": [
       "(0, 1)"
      ]
     },
     "execution_count": 39,
     "metadata": {},
     "output_type": "execute_result"
    }
   ],
   "source": [
    "df_ohlc_and_rectangles.shape"
   ]
  },
  {
   "cell_type": "code",
   "execution_count": null,
   "metadata": {
    "collapsed": true
   },
   "outputs": [],
   "source": [
    "df_ohlc_and_rectangles.to_csv(\"df_ohlc_and_rectangles_checkpoint-05.14.17-with-v.csv\")"
   ]
  },
  {
   "cell_type": "markdown",
   "metadata": {},
   "source": [
    "### Checkpoint\n",
    "- Load in the processed data from above into one CSV"
   ]
  },
  {
   "cell_type": "code",
   "execution_count": 22,
   "metadata": {
    "collapsed": true
   },
   "outputs": [],
   "source": [
    "df_ohlc_and_rectangles = pd.read_csv(\"df_ohlc_and_rectangles_checkpoint-05.14.17-with-v.csv\")"
   ]
  },
  {
   "cell_type": "code",
   "execution_count": 23,
   "metadata": {},
   "outputs": [
    {
     "data": {
      "text/html": [
       "<div>\n",
       "<table border=\"1\" class=\"dataframe\">\n",
       "  <thead>\n",
       "    <tr style=\"text-align: right;\">\n",
       "      <th></th>\n",
       "      <th>Unnamed: 0</th>\n",
       "      <th>C</th>\n",
       "      <th>Distal</th>\n",
       "      <th>Epoch Date</th>\n",
       "      <th>Epoch Date End</th>\n",
       "      <th>Epoch Date Start</th>\n",
       "      <th>H</th>\n",
       "      <th>L</th>\n",
       "      <th>O</th>\n",
       "      <th>Object Name</th>\n",
       "      <th>Proximal</th>\n",
       "      <th>Supply/Demand</th>\n",
       "      <th>V</th>\n",
       "    </tr>\n",
       "  </thead>\n",
       "  <tbody>\n",
       "    <tr>\n",
       "      <th>0</th>\n",
       "      <td>0</td>\n",
       "      <td>-0.777520</td>\n",
       "      <td>NaN</td>\n",
       "      <td>893376000.0</td>\n",
       "      <td>NaN</td>\n",
       "      <td>NaN</td>\n",
       "      <td>-0.779661</td>\n",
       "      <td>-0.769033</td>\n",
       "      <td>-0.761712</td>\n",
       "      <td>NaN</td>\n",
       "      <td>NaN</td>\n",
       "      <td>NaN</td>\n",
       "      <td>-0.783529</td>\n",
       "    </tr>\n",
       "    <tr>\n",
       "      <th>1</th>\n",
       "      <td>1</td>\n",
       "      <td>-0.799822</td>\n",
       "      <td>NaN</td>\n",
       "      <td>893635200.0</td>\n",
       "      <td>NaN</td>\n",
       "      <td>NaN</td>\n",
       "      <td>-0.806972</td>\n",
       "      <td>-0.785654</td>\n",
       "      <td>-0.784000</td>\n",
       "      <td>NaN</td>\n",
       "      <td>NaN</td>\n",
       "      <td>NaN</td>\n",
       "      <td>-0.784301</td>\n",
       "    </tr>\n",
       "    <tr>\n",
       "      <th>2</th>\n",
       "      <td>2</td>\n",
       "      <td>-0.825948</td>\n",
       "      <td>NaN</td>\n",
       "      <td>893721600.0</td>\n",
       "      <td>NaN</td>\n",
       "      <td>NaN</td>\n",
       "      <td>-0.824756</td>\n",
       "      <td>-0.802914</td>\n",
       "      <td>-0.801194</td>\n",
       "      <td>NaN</td>\n",
       "      <td>NaN</td>\n",
       "      <td>NaN</td>\n",
       "      <td>-0.784665</td>\n",
       "    </tr>\n",
       "    <tr>\n",
       "      <th>3</th>\n",
       "      <td>3</td>\n",
       "      <td>-0.788353</td>\n",
       "      <td>NaN</td>\n",
       "      <td>893808000.0</td>\n",
       "      <td>NaN</td>\n",
       "      <td>NaN</td>\n",
       "      <td>-0.808242</td>\n",
       "      <td>-0.806110</td>\n",
       "      <td>-0.827304</td>\n",
       "      <td>NaN</td>\n",
       "      <td>NaN</td>\n",
       "      <td>NaN</td>\n",
       "      <td>-0.783847</td>\n",
       "    </tr>\n",
       "    <tr>\n",
       "      <th>4</th>\n",
       "      <td>4</td>\n",
       "      <td>-0.787715</td>\n",
       "      <td>NaN</td>\n",
       "      <td>893894400.0</td>\n",
       "      <td>NaN</td>\n",
       "      <td>NaN</td>\n",
       "      <td>-0.786013</td>\n",
       "      <td>-0.768394</td>\n",
       "      <td>-0.789731</td>\n",
       "      <td>NaN</td>\n",
       "      <td>NaN</td>\n",
       "      <td>NaN</td>\n",
       "      <td>-0.783620</td>\n",
       "    </tr>\n",
       "    <tr>\n",
       "      <th>5</th>\n",
       "      <td>5</td>\n",
       "      <td>-0.792176</td>\n",
       "      <td>0.6546</td>\n",
       "      <td>893980800.0</td>\n",
       "      <td>1.184803e+09</td>\n",
       "      <td>893980800.0</td>\n",
       "      <td>-0.780931</td>\n",
       "      <td>-0.774786</td>\n",
       "      <td>-0.787821</td>\n",
       "      <td>Rectangle 21197</td>\n",
       "      <td>0.6488</td>\n",
       "      <td>SUPPLY</td>\n",
       "      <td>-0.782801</td>\n",
       "    </tr>\n",
       "    <tr>\n",
       "      <th>6</th>\n",
       "      <td>6</td>\n",
       "      <td>-0.836143</td>\n",
       "      <td>NaN</td>\n",
       "      <td>894240000.0</td>\n",
       "      <td>NaN</td>\n",
       "      <td>NaN</td>\n",
       "      <td>-0.816499</td>\n",
       "      <td>-0.820813</td>\n",
       "      <td>-0.796736</td>\n",
       "      <td>NaN</td>\n",
       "      <td>NaN</td>\n",
       "      <td>NaN</td>\n",
       "      <td>-0.783324</td>\n",
       "    </tr>\n",
       "    <tr>\n",
       "      <th>7</th>\n",
       "      <td>7</td>\n",
       "      <td>-0.840604</td>\n",
       "      <td>NaN</td>\n",
       "      <td>894326400.0</td>\n",
       "      <td>NaN</td>\n",
       "      <td>NaN</td>\n",
       "      <td>-0.853337</td>\n",
       "      <td>-0.826566</td>\n",
       "      <td>-0.838130</td>\n",
       "      <td>NaN</td>\n",
       "      <td>NaN</td>\n",
       "      <td>NaN</td>\n",
       "      <td>-0.784233</td>\n",
       "    </tr>\n",
       "    <tr>\n",
       "      <th>8</th>\n",
       "      <td>8</td>\n",
       "      <td>-0.864818</td>\n",
       "      <td>NaN</td>\n",
       "      <td>894412800.0</td>\n",
       "      <td>NaN</td>\n",
       "      <td>NaN</td>\n",
       "      <td>-0.855878</td>\n",
       "      <td>-0.847023</td>\n",
       "      <td>-0.842587</td>\n",
       "      <td>NaN</td>\n",
       "      <td>NaN</td>\n",
       "      <td>NaN</td>\n",
       "      <td>-0.783665</td>\n",
       "    </tr>\n",
       "    <tr>\n",
       "      <th>9</th>\n",
       "      <td>9</td>\n",
       "      <td>-0.876925</td>\n",
       "      <td>NaN</td>\n",
       "      <td>894499200.0</td>\n",
       "      <td>NaN</td>\n",
       "      <td>NaN</td>\n",
       "      <td>-0.881283</td>\n",
       "      <td>-0.861086</td>\n",
       "      <td>-0.866150</td>\n",
       "      <td>NaN</td>\n",
       "      <td>NaN</td>\n",
       "      <td>NaN</td>\n",
       "      <td>-0.784074</td>\n",
       "    </tr>\n",
       "    <tr>\n",
       "      <th>10</th>\n",
       "      <td>10</td>\n",
       "      <td>-0.878199</td>\n",
       "      <td>NaN</td>\n",
       "      <td>894585600.0</td>\n",
       "      <td>NaN</td>\n",
       "      <td>NaN</td>\n",
       "      <td>-0.876837</td>\n",
       "      <td>-0.855333</td>\n",
       "      <td>-0.878886</td>\n",
       "      <td>NaN</td>\n",
       "      <td>NaN</td>\n",
       "      <td>NaN</td>\n",
       "      <td>-0.783892</td>\n",
       "    </tr>\n",
       "    <tr>\n",
       "      <th>11</th>\n",
       "      <td>11</td>\n",
       "      <td>-0.870553</td>\n",
       "      <td>NaN</td>\n",
       "      <td>894844800.0</td>\n",
       "      <td>NaN</td>\n",
       "      <td>NaN</td>\n",
       "      <td>-0.880013</td>\n",
       "      <td>-0.871954</td>\n",
       "      <td>-0.892259</td>\n",
       "      <td>NaN</td>\n",
       "      <td>NaN</td>\n",
       "      <td>NaN</td>\n",
       "      <td>-0.783688</td>\n",
       "    </tr>\n",
       "    <tr>\n",
       "      <th>12</th>\n",
       "      <td>12</td>\n",
       "      <td>-0.886483</td>\n",
       "      <td>0.6390</td>\n",
       "      <td>894931200.0</td>\n",
       "      <td>1.184717e+09</td>\n",
       "      <td>894931200.0</td>\n",
       "      <td>-0.883824</td>\n",
       "      <td>-0.882821</td>\n",
       "      <td>-0.871244</td>\n",
       "      <td>Rectangle 21208</td>\n",
       "      <td>0.6340</td>\n",
       "      <td>SUPPLY</td>\n",
       "      <td>-0.782870</td>\n",
       "    </tr>\n",
       "    <tr>\n",
       "      <th>13</th>\n",
       "      <td>13</td>\n",
       "      <td>-0.908785</td>\n",
       "      <td>NaN</td>\n",
       "      <td>895017600.0</td>\n",
       "      <td>NaN</td>\n",
       "      <td>NaN</td>\n",
       "      <td>-0.911770</td>\n",
       "      <td>-0.913505</td>\n",
       "      <td>-0.887801</td>\n",
       "      <td>NaN</td>\n",
       "      <td>NaN</td>\n",
       "      <td>NaN</td>\n",
       "      <td>-0.782892</td>\n",
       "    </tr>\n",
       "    <tr>\n",
       "      <th>14</th>\n",
       "      <td>14</td>\n",
       "      <td>-0.911972</td>\n",
       "      <td>NaN</td>\n",
       "      <td>895104000.0</td>\n",
       "      <td>NaN</td>\n",
       "      <td>NaN</td>\n",
       "      <td>-0.924472</td>\n",
       "      <td>-0.911588</td>\n",
       "      <td>-0.910090</td>\n",
       "      <td>NaN</td>\n",
       "      <td>NaN</td>\n",
       "      <td>NaN</td>\n",
       "      <td>-0.783256</td>\n",
       "    </tr>\n",
       "    <tr>\n",
       "      <th>15</th>\n",
       "      <td>15</td>\n",
       "      <td>-0.927265</td>\n",
       "      <td>NaN</td>\n",
       "      <td>895190400.0</td>\n",
       "      <td>NaN</td>\n",
       "      <td>NaN</td>\n",
       "      <td>-0.937175</td>\n",
       "      <td>-0.930765</td>\n",
       "      <td>-0.913911</td>\n",
       "      <td>NaN</td>\n",
       "      <td>NaN</td>\n",
       "      <td>NaN</td>\n",
       "      <td>-0.783210</td>\n",
       "    </tr>\n",
       "    <tr>\n",
       "      <th>16</th>\n",
       "      <td>16</td>\n",
       "      <td>-0.937460</td>\n",
       "      <td>NaN</td>\n",
       "      <td>895449600.0</td>\n",
       "      <td>NaN</td>\n",
       "      <td>NaN</td>\n",
       "      <td>-0.951783</td>\n",
       "      <td>-0.968482</td>\n",
       "      <td>-0.937473</td>\n",
       "      <td>NaN</td>\n",
       "      <td>NaN</td>\n",
       "      <td>NaN</td>\n",
       "      <td>-0.781188</td>\n",
       "    </tr>\n",
       "    <tr>\n",
       "      <th>17</th>\n",
       "      <td>17</td>\n",
       "      <td>-0.956576</td>\n",
       "      <td>NaN</td>\n",
       "      <td>895536000.0</td>\n",
       "      <td>NaN</td>\n",
       "      <td>NaN</td>\n",
       "      <td>-0.953053</td>\n",
       "      <td>-0.942272</td>\n",
       "      <td>-0.938110</td>\n",
       "      <td>NaN</td>\n",
       "      <td>NaN</td>\n",
       "      <td>NaN</td>\n",
       "      <td>-0.783710</td>\n",
       "    </tr>\n",
       "    <tr>\n",
       "      <th>18</th>\n",
       "      <td>18</td>\n",
       "      <td>-0.931725</td>\n",
       "      <td>NaN</td>\n",
       "      <td>895622400.0</td>\n",
       "      <td>NaN</td>\n",
       "      <td>NaN</td>\n",
       "      <td>-0.953053</td>\n",
       "      <td>-0.937797</td>\n",
       "      <td>-0.956578</td>\n",
       "      <td>NaN</td>\n",
       "      <td>NaN</td>\n",
       "      <td>NaN</td>\n",
       "      <td>-0.784347</td>\n",
       "    </tr>\n",
       "    <tr>\n",
       "      <th>19</th>\n",
       "      <td>19</td>\n",
       "      <td>-0.889032</td>\n",
       "      <td>NaN</td>\n",
       "      <td>895708800.0</td>\n",
       "      <td>NaN</td>\n",
       "      <td>NaN</td>\n",
       "      <td>-0.907324</td>\n",
       "      <td>-0.915423</td>\n",
       "      <td>-0.933652</td>\n",
       "      <td>NaN</td>\n",
       "      <td>NaN</td>\n",
       "      <td>NaN</td>\n",
       "      <td>-0.783370</td>\n",
       "    </tr>\n",
       "  </tbody>\n",
       "</table>\n",
       "</div>"
      ],
      "text/plain": [
       "    Unnamed: 0         C  Distal   Epoch Date  Epoch Date End  \\\n",
       "0            0 -0.777520     NaN  893376000.0             NaN   \n",
       "1            1 -0.799822     NaN  893635200.0             NaN   \n",
       "2            2 -0.825948     NaN  893721600.0             NaN   \n",
       "3            3 -0.788353     NaN  893808000.0             NaN   \n",
       "4            4 -0.787715     NaN  893894400.0             NaN   \n",
       "5            5 -0.792176  0.6546  893980800.0    1.184803e+09   \n",
       "6            6 -0.836143     NaN  894240000.0             NaN   \n",
       "7            7 -0.840604     NaN  894326400.0             NaN   \n",
       "8            8 -0.864818     NaN  894412800.0             NaN   \n",
       "9            9 -0.876925     NaN  894499200.0             NaN   \n",
       "10          10 -0.878199     NaN  894585600.0             NaN   \n",
       "11          11 -0.870553     NaN  894844800.0             NaN   \n",
       "12          12 -0.886483  0.6390  894931200.0    1.184717e+09   \n",
       "13          13 -0.908785     NaN  895017600.0             NaN   \n",
       "14          14 -0.911972     NaN  895104000.0             NaN   \n",
       "15          15 -0.927265     NaN  895190400.0             NaN   \n",
       "16          16 -0.937460     NaN  895449600.0             NaN   \n",
       "17          17 -0.956576     NaN  895536000.0             NaN   \n",
       "18          18 -0.931725     NaN  895622400.0             NaN   \n",
       "19          19 -0.889032     NaN  895708800.0             NaN   \n",
       "\n",
       "    Epoch Date Start         H         L         O      Object Name  Proximal  \\\n",
       "0                NaN -0.779661 -0.769033 -0.761712              NaN       NaN   \n",
       "1                NaN -0.806972 -0.785654 -0.784000              NaN       NaN   \n",
       "2                NaN -0.824756 -0.802914 -0.801194              NaN       NaN   \n",
       "3                NaN -0.808242 -0.806110 -0.827304              NaN       NaN   \n",
       "4                NaN -0.786013 -0.768394 -0.789731              NaN       NaN   \n",
       "5        893980800.0 -0.780931 -0.774786 -0.787821  Rectangle 21197    0.6488   \n",
       "6                NaN -0.816499 -0.820813 -0.796736              NaN       NaN   \n",
       "7                NaN -0.853337 -0.826566 -0.838130              NaN       NaN   \n",
       "8                NaN -0.855878 -0.847023 -0.842587              NaN       NaN   \n",
       "9                NaN -0.881283 -0.861086 -0.866150              NaN       NaN   \n",
       "10               NaN -0.876837 -0.855333 -0.878886              NaN       NaN   \n",
       "11               NaN -0.880013 -0.871954 -0.892259              NaN       NaN   \n",
       "12       894931200.0 -0.883824 -0.882821 -0.871244  Rectangle 21208    0.6340   \n",
       "13               NaN -0.911770 -0.913505 -0.887801              NaN       NaN   \n",
       "14               NaN -0.924472 -0.911588 -0.910090              NaN       NaN   \n",
       "15               NaN -0.937175 -0.930765 -0.913911              NaN       NaN   \n",
       "16               NaN -0.951783 -0.968482 -0.937473              NaN       NaN   \n",
       "17               NaN -0.953053 -0.942272 -0.938110              NaN       NaN   \n",
       "18               NaN -0.953053 -0.937797 -0.956578              NaN       NaN   \n",
       "19               NaN -0.907324 -0.915423 -0.933652              NaN       NaN   \n",
       "\n",
       "   Supply/Demand         V  \n",
       "0            NaN -0.783529  \n",
       "1            NaN -0.784301  \n",
       "2            NaN -0.784665  \n",
       "3            NaN -0.783847  \n",
       "4            NaN -0.783620  \n",
       "5         SUPPLY -0.782801  \n",
       "6            NaN -0.783324  \n",
       "7            NaN -0.784233  \n",
       "8            NaN -0.783665  \n",
       "9            NaN -0.784074  \n",
       "10           NaN -0.783892  \n",
       "11           NaN -0.783688  \n",
       "12        SUPPLY -0.782870  \n",
       "13           NaN -0.782892  \n",
       "14           NaN -0.783256  \n",
       "15           NaN -0.783210  \n",
       "16           NaN -0.781188  \n",
       "17           NaN -0.783710  \n",
       "18           NaN -0.784347  \n",
       "19           NaN -0.783370  "
      ]
     },
     "execution_count": 23,
     "metadata": {},
     "output_type": "execute_result"
    }
   ],
   "source": [
    "df_ohlc_and_rectangles[0:20]"
   ]
  },
  {
   "cell_type": "markdown",
   "metadata": {},
   "source": [
    "### Bokeh Data Visualization\n",
    "- NOTE: This does not work with the massive dataset because all the candles are on top of each other"
   ]
  },
  {
   "cell_type": "markdown",
   "metadata": {},
   "source": [
    "df = df_ohlc_and_rectangles\n",
    "#### Convert Dates to datetime\n",
    "df[\"Epoch Date\"] = pd.to_datetime(df[\"Epoch Date\"], unit='s')\n",
    "df[\"Epoch Date Start\"] = pd.to_datetime(df[\"Epoch Date Start\"], unit='s')\n",
    "df[\"Epoch Date End\"] = pd.to_datetime(df[\"Epoch Date End\"], unit='s')\n",
    "\n",
    "w = 12*60*60*1000 # half day in ms\n",
    "\n",
    "TOOLS = \"pan,xwheel_zoom,wheel_zoom,box_zoom,reset,save\"\n",
    "p = figure(x_axis_type=\"datetime\", tools=TOOLS, plot_height=500, \n",
    "           plot_width=1200, title=\"Candlesticks and zones test 1\", active_scroll='xwheel_zoom')\n",
    "p.xaxis.major_label_orientation = pi/4\n",
    "p.grid.grid_line_alpha=0.5\n",
    "\n",
    "p.segment(df['Epoch Date'], df.H, df['Epoch Date'], df.L, color=\"black\")\n",
    "p.vbar(df['Epoch Date'], w, df.O, df.C)\n",
    "\n",
    "#### Add Rectangle data\n",
    "df_sp = df.dropna(subset=['Supply/Demand'])\n",
    "\n",
    "source_supply = ColumnDataSource(df_sp.loc[df_sp['Supply/Demand']=='SUPPLY', :])\n",
    "rect_supply = Quad(left=\"Epoch Date Start\", top=\"Proximal\", right=\"Epoch Date End\", bottom=\"Distal\", fill_color=\"firebrick\", line_alpha=0.2, fill_alpha=0.2) \n",
    "p.add_glyph(source_supply, rect_supply)\n",
    "\n",
    "source_demand = ColumnDataSource(df_sp.loc[df_sp['Supply/Demand']=='DEMAND', :])\n",
    "rect_demand = Quad(left=\"Epoch Date Start\", top=\"Proximal\", right=\"Epoch Date End\", bottom=\"Distal\", fill_color=\"steelblue\", line_alpha=0.2, fill_alpha=0.2)\n",
    "p.add_glyph(source_demand, rect_demand)\n",
    "\n",
    "\n",
    "output_file(\"candlestick.html\", title=\"candlestick data SPC test\")\n",
    "show(p)  # open a browser"
   ]
  },
  {
   "cell_type": "markdown",
   "metadata": {
    "collapsed": true
   },
   "source": [
    "### First munging data to multi-hot encode attempt"
   ]
  },
  {
   "cell_type": "code",
   "execution_count": 15,
   "metadata": {
    "collapsed": true
   },
   "outputs": [],
   "source": [
    "# df_ohlc_and_rectangles[\"rectangle_here\"] = df_ohlc_and_rectangles[\"Epoch Date Start\"].notnull()"
   ]
  },
  {
   "cell_type": "code",
   "execution_count": 16,
   "metadata": {},
   "outputs": [
    {
     "data": {
      "text/plain": [
       "'\\nfor column in [\"Proximal\", \"Distal\"]:\\n    df_ohlc_and_rectangles[\"{}_yesterday_open\".format(column)] = (df_ohlc_and_rectangles[column] == df_ohlc_and_rectangles[\"O\"].shift())\\n    df_ohlc_and_rectangles[\"{}_yesterday_close\".format(column)] = (df_ohlc_and_rectangles[column] == df_ohlc_and_rectangles[\"C\"].shift())\\n    df_ohlc_and_rectangles[\"{}_yesterday_high\".format(column)] = (df_ohlc_and_rectangles[column] == df_ohlc_and_rectangles[\"H\"].shift())\\n    df_ohlc_and_rectangles[\"{}_yesterday_low\".format(column)] = (df_ohlc_and_rectangles[column] == df_ohlc_and_rectangles[\"L\"].shift())\\n    df_ohlc_and_rectangles[\"{}_today_open\".format(column)] = (df_ohlc_and_rectangles[column] == df_ohlc_and_rectangles[\"O\"])\\n    df_ohlc_and_rectangles[\"{}_today_close\".format(column)] = (df_ohlc_and_rectangles[column] == df_ohlc_and_rectangles[\"C\"])\\n    df_ohlc_and_rectangles[\"{}_today_high\".format(column)] = (df_ohlc_and_rectangles[column] == df_ohlc_and_rectangles[\"H\"])\\n\\ndf_ohlc_and_rectangles\\n'"
      ]
     },
     "execution_count": 16,
     "metadata": {},
     "output_type": "execute_result"
    }
   ],
   "source": [
    "# skipping the mapping to integer labels and going to one-hot encoding straight off\n",
    "# integer labels can be reconstructed if needed.\n",
    "'''\n",
    "for column in [\"Proximal\", \"Distal\"]:\n",
    "    df_ohlc_and_rectangles[\"{}_yesterday_open\".format(column)] = (df_ohlc_and_rectangles[column] == df_ohlc_and_rectangles[\"O\"].shift())\n",
    "    df_ohlc_and_rectangles[\"{}_yesterday_close\".format(column)] = (df_ohlc_and_rectangles[column] == df_ohlc_and_rectangles[\"C\"].shift())\n",
    "    df_ohlc_and_rectangles[\"{}_yesterday_high\".format(column)] = (df_ohlc_and_rectangles[column] == df_ohlc_and_rectangles[\"H\"].shift())\n",
    "    df_ohlc_and_rectangles[\"{}_yesterday_low\".format(column)] = (df_ohlc_and_rectangles[column] == df_ohlc_and_rectangles[\"L\"].shift())\n",
    "    df_ohlc_and_rectangles[\"{}_today_open\".format(column)] = (df_ohlc_and_rectangles[column] == df_ohlc_and_rectangles[\"O\"])\n",
    "    df_ohlc_and_rectangles[\"{}_today_close\".format(column)] = (df_ohlc_and_rectangles[column] == df_ohlc_and_rectangles[\"C\"])\n",
    "    df_ohlc_and_rectangles[\"{}_today_high\".format(column)] = (df_ohlc_and_rectangles[column] == df_ohlc_and_rectangles[\"H\"])\n",
    "\n",
    "df_ohlc_and_rectangles\n",
    "'''"
   ]
  },
  {
   "cell_type": "code",
   "execution_count": 17,
   "metadata": {},
   "outputs": [
    {
     "data": {
      "text/plain": [
       "'\\n# We have three separate targets:\\ny_rectangle = df_ohlc_and_rectangles[\"rectangle_here\"]\\ny_proximal = df_ohlc_and_rectangles.loc[:, df_ohlc_and_rectangles.columns.str.startswith(\"Proximal_\")]\\ny_distal = df_ohlc_and_rectangles.loc[:, df_ohlc_and_rectangles.columns.str.startswith(\"Distal_\")]\\n'"
      ]
     },
     "execution_count": 17,
     "metadata": {},
     "output_type": "execute_result"
    }
   ],
   "source": [
    "'''\n",
    "# We have three separate targets:\n",
    "y_rectangle = df_ohlc_and_rectangles[\"rectangle_here\"]\n",
    "y_proximal = df_ohlc_and_rectangles.loc[:, df_ohlc_and_rectangles.columns.str.startswith(\"Proximal_\")]\n",
    "y_distal = df_ohlc_and_rectangles.loc[:, df_ohlc_and_rectangles.columns.str.startswith(\"Distal_\")]\n",
    "'''"
   ]
  },
  {
   "cell_type": "code",
   "execution_count": 18,
   "metadata": {},
   "outputs": [
    {
     "ename": "SyntaxError",
     "evalue": "EOF while scanning triple-quoted string literal (<ipython-input-18-9ec53a54d11a>, line 9)",
     "output_type": "error",
     "traceback": [
      "\u001b[0;36m  File \u001b[0;32m\"<ipython-input-18-9ec53a54d11a>\"\u001b[0;36m, line \u001b[0;32m9\u001b[0m\n\u001b[0;31m    plt.show()\u001b[0m\n\u001b[0m              \n^\u001b[0m\n\u001b[0;31mSyntaxError\u001b[0m\u001b[0;31m:\u001b[0m EOF while scanning triple-quoted string literal\n"
     ]
    }
   ],
   "source": [
    "'''\n",
    "import matplotlib.pyplot as plt\n",
    "import seaborn as sns\n",
    "%matplotlib inline\n",
    "# have a look at the distal/proximal class distribution\n",
    "y_distal.sum().plot.bar()\n",
    "plt.show()\n",
    "y_proximal.sum().plot.bar()\n",
    "plt.show()"
   ]
  },
  {
   "cell_type": "markdown",
   "metadata": {},
   "source": [
    "### Predict zones with Keras\n",
    "\n",
    "- Ignore Epoch End, if it's possible to label mathematically\n",
    "- Ignore Volume if it's not important\n",
    "- LSTM for now? \n",
    "\n",
    "\n",
    "##### First make it a binary classifier problem, should there be a rectangle here?\n",
    "- Convert 'Epoch Date Start' for rectangles to 0 or 1, either a rectangle exists or does not exist at that point\n",
    "- 'Epoch Date End' is determined mathematically, or is NaN\n",
    "\n",
    "##### Then one hot encode to booleans the Proximal based on whether its related to a number +/- 6 days in the future\n",
    "- Break the 'Proximal' and 'Distal' prediction down into classes:\n",
    "```\n",
    "0 for Yesterday Open\n",
    "1 for Yesterday Close\n",
    "2 for Yesterday H\n",
    "3 for Yesterday L\n",
    "4 for Today O\n",
    "5 for Today C\n",
    "6 for Today H\n",
    "```"
   ]
  },
  {
   "cell_type": "code",
   "execution_count": 19,
   "metadata": {
    "collapsed": true
   },
   "outputs": [],
   "source": [
    "# Remove the nan rows\n",
    "#df_ohlc_and_rectangles_dropna = df_ohlc_and_rectangles.dropna(subset=['O', 'H', 'L', 'C'])"
   ]
  },
  {
   "cell_type": "code",
   "execution_count": 24,
   "metadata": {
    "collapsed": true
   },
   "outputs": [],
   "source": [
    "# Create \"labels\" \n",
    "df_ohlc_and_rectangles[\"rectangle_here\"] = df_ohlc_and_rectangles[\"Epoch Date Start\"].notnull()\n",
    "y_rectangle = df_ohlc_and_rectangles[\"rectangle_here\"]"
   ]
  },
  {
   "cell_type": "markdown",
   "metadata": {},
   "source": [
    "### Prepare the data in Pandas for time-series analysis"
   ]
  },
  {
   "cell_type": "code",
   "execution_count": null,
   "metadata": {
    "collapsed": true
   },
   "outputs": [],
   "source": [
    "multiple_timestamp_data = []\n",
    "for i in range(-6, 2):\n",
    "    multiple_timestamp_data.append(X.shift(i).add_suffix(\"_{}\".format(i)))"
   ]
  },
  {
   "cell_type": "code",
   "execution_count": null,
   "metadata": {
    "collapsed": true
   },
   "outputs": [],
   "source": [
    "X_mult = pd.concat(multiple_timestamp_data, axis=1)"
   ]
  },
  {
   "cell_type": "code",
   "execution_count": null,
   "metadata": {
    "collapsed": true
   },
   "outputs": [],
   "source": []
  },
  {
   "cell_type": "code",
   "execution_count": null,
   "metadata": {
    "collapsed": true
   },
   "outputs": [],
   "source": []
  },
  {
   "cell_type": "code",
   "execution_count": null,
   "metadata": {
    "collapsed": true
   },
   "outputs": [],
   "source": []
  },
  {
   "cell_type": "markdown",
   "metadata": {},
   "source": [
    "### Prepare the data for Keras in numpy"
   ]
  },
  {
   "cell_type": "code",
   "execution_count": 43,
   "metadata": {
    "collapsed": true
   },
   "outputs": [],
   "source": [
    "# For each row, combine 6 rows before and 2 rows ahead into the same line.\n",
    "# This is because this is the maximum range that includes data which is valuable to defining a zone \n",
    "df_data = df_ohlc_and_rectangles[[\"O\", \"H\", \"L\", \"C\", \"V\"]]\n",
    "multiple_timestamp_O = []\n",
    "multiple_timestamp_H = []\n",
    "multiple_timestamp_L = []\n",
    "multiple_timestamp_C = []\n",
    "multiple_timestamp_V = []\n",
    "\n",
    "# days ahead (should be negative), days before (should be positive)\n",
    "for i in range(-6, 2):\n",
    "    multiple_timestamp_O.append(df_data[\"O\"].shift(i).add_suffix(\"_{}\".format(i)))\n",
    "    multiple_timestamp_H.append(df_data[\"H\"].shift(i).add_suffix(\"_{}\".format(i)))\n",
    "    multiple_timestamp_L.append(df_data[\"L\"].shift(i).add_suffix(\"_{}\".format(i)))\n",
    "    multiple_timestamp_C.append(df_data[\"C\"].shift(i).add_suffix(\"_{}\".format(i)))\n",
    "    multiple_timestamp_V.append(df_data[\"V\"].shift(i).add_suffix(\"_{}\".format(i)))"
   ]
  },
  {
   "cell_type": "code",
   "execution_count": 44,
   "metadata": {
    "collapsed": true
   },
   "outputs": [],
   "source": [
    "keras_data_O = np.array(multiple_timestamp_O).T.reshape(-1,8,1)\n",
    "keras_data_H = np.array(multiple_timestamp_H).T.reshape(-1,8,1)\n",
    "keras_data_C = np.array(multiple_timestamp_C).T.reshape(-1,8,1)\n",
    "keras_data_L = np.array(multiple_timestamp_L).T.reshape(-1,8,1)\n",
    "keras_data_V = np.array(multiple_timestamp_V).T.reshape(-1,8,1)"
   ]
  },
  {
   "cell_type": "code",
   "execution_count": 45,
   "metadata": {},
   "outputs": [
    {
     "data": {
      "text/plain": [
       "(38771, 8, 1)"
      ]
     },
     "execution_count": 45,
     "metadata": {},
     "output_type": "execute_result"
    }
   ],
   "source": [
    "keras_data_C.shape"
   ]
  },
  {
   "cell_type": "code",
   "execution_count": 46,
   "metadata": {
    "collapsed": true
   },
   "outputs": [],
   "source": [
    "keras_data = np.concatenate([keras_data_O, keras_data_H, keras_data_L, keras_data_C, keras_data_V], axis=2)"
   ]
  },
  {
   "cell_type": "markdown",
   "metadata": {},
   "source": [
    "### A big mess of data munging to remove nans"
   ]
  },
  {
   "cell_type": "code",
   "execution_count": 47,
   "metadata": {},
   "outputs": [
    {
     "data": {
      "text/plain": [
       "(38771, 8, 5)"
      ]
     },
     "execution_count": 47,
     "metadata": {},
     "output_type": "execute_result"
    }
   ],
   "source": [
    "keras_data.shape"
   ]
  },
  {
   "cell_type": "code",
   "execution_count": 48,
   "metadata": {
    "collapsed": true
   },
   "outputs": [],
   "source": [
    "df_keras_dfdf = pd.DataFrame(keras_data[1])"
   ]
  },
  {
   "cell_type": "code",
   "execution_count": 49,
   "metadata": {},
   "outputs": [
    {
     "data": {
      "text/html": [
       "<div>\n",
       "<table border=\"1\" class=\"dataframe\">\n",
       "  <thead>\n",
       "    <tr style=\"text-align: right;\">\n",
       "      <th></th>\n",
       "      <th>0</th>\n",
       "      <th>1</th>\n",
       "      <th>2</th>\n",
       "      <th>3</th>\n",
       "      <th>4</th>\n",
       "    </tr>\n",
       "  </thead>\n",
       "  <tbody>\n",
       "    <tr>\n",
       "      <th>0</th>\n",
       "      <td>-0.838130</td>\n",
       "      <td>-0.853337</td>\n",
       "      <td>-0.826566</td>\n",
       "      <td>-0.840604</td>\n",
       "      <td>-0.784233</td>\n",
       "    </tr>\n",
       "    <tr>\n",
       "      <th>1</th>\n",
       "      <td>-0.796736</td>\n",
       "      <td>-0.816499</td>\n",
       "      <td>-0.820813</td>\n",
       "      <td>-0.836143</td>\n",
       "      <td>-0.783324</td>\n",
       "    </tr>\n",
       "    <tr>\n",
       "      <th>2</th>\n",
       "      <td>-0.787821</td>\n",
       "      <td>-0.780931</td>\n",
       "      <td>-0.774786</td>\n",
       "      <td>-0.792176</td>\n",
       "      <td>-0.782801</td>\n",
       "    </tr>\n",
       "    <tr>\n",
       "      <th>3</th>\n",
       "      <td>-0.789731</td>\n",
       "      <td>-0.786013</td>\n",
       "      <td>-0.768394</td>\n",
       "      <td>-0.787715</td>\n",
       "      <td>-0.783620</td>\n",
       "    </tr>\n",
       "    <tr>\n",
       "      <th>4</th>\n",
       "      <td>-0.827304</td>\n",
       "      <td>-0.808242</td>\n",
       "      <td>-0.806110</td>\n",
       "      <td>-0.788353</td>\n",
       "      <td>-0.783847</td>\n",
       "    </tr>\n",
       "    <tr>\n",
       "      <th>5</th>\n",
       "      <td>-0.801194</td>\n",
       "      <td>-0.824756</td>\n",
       "      <td>-0.802914</td>\n",
       "      <td>-0.825948</td>\n",
       "      <td>-0.784665</td>\n",
       "    </tr>\n",
       "    <tr>\n",
       "      <th>6</th>\n",
       "      <td>-0.784000</td>\n",
       "      <td>-0.806972</td>\n",
       "      <td>-0.785654</td>\n",
       "      <td>-0.799822</td>\n",
       "      <td>-0.784301</td>\n",
       "    </tr>\n",
       "    <tr>\n",
       "      <th>7</th>\n",
       "      <td>-0.761712</td>\n",
       "      <td>-0.779661</td>\n",
       "      <td>-0.769033</td>\n",
       "      <td>-0.777520</td>\n",
       "      <td>-0.783529</td>\n",
       "    </tr>\n",
       "  </tbody>\n",
       "</table>\n",
       "</div>"
      ],
      "text/plain": [
       "          0         1         2         3         4\n",
       "0 -0.838130 -0.853337 -0.826566 -0.840604 -0.784233\n",
       "1 -0.796736 -0.816499 -0.820813 -0.836143 -0.783324\n",
       "2 -0.787821 -0.780931 -0.774786 -0.792176 -0.782801\n",
       "3 -0.789731 -0.786013 -0.768394 -0.787715 -0.783620\n",
       "4 -0.827304 -0.808242 -0.806110 -0.788353 -0.783847\n",
       "5 -0.801194 -0.824756 -0.802914 -0.825948 -0.784665\n",
       "6 -0.784000 -0.806972 -0.785654 -0.799822 -0.784301\n",
       "7 -0.761712 -0.779661 -0.769033 -0.777520 -0.783529"
      ]
     },
     "execution_count": 49,
     "metadata": {},
     "output_type": "execute_result"
    }
   ],
   "source": [
    "df_keras_dfdf"
   ]
  },
  {
   "cell_type": "code",
   "execution_count": 50,
   "metadata": {
    "collapsed": true
   },
   "outputs": [],
   "source": [
    "keras_y_rect = y_rectangle"
   ]
  },
  {
   "cell_type": "code",
   "execution_count": 80,
   "metadata": {},
   "outputs": [
    {
     "data": {
      "text/plain": [
       "(38771,)"
      ]
     },
     "execution_count": 80,
     "metadata": {},
     "output_type": "execute_result"
    }
   ],
   "source": [
    "y_rectangle.shape"
   ]
  },
  {
   "cell_type": "code",
   "execution_count": 52,
   "metadata": {
    "collapsed": true
   },
   "outputs": [],
   "source": [
    "np_keras_y_rect = np.array(keras_y_rect) "
   ]
  },
  {
   "cell_type": "code",
   "execution_count": 53,
   "metadata": {},
   "outputs": [
    {
     "data": {
      "text/plain": [
       "(38771,)"
      ]
     },
     "execution_count": 53,
     "metadata": {},
     "output_type": "execute_result"
    }
   ],
   "source": [
    "np_keras_y_rect.shape"
   ]
  },
  {
   "cell_type": "markdown",
   "metadata": {},
   "source": [
    "#### Omg why didn't i just delete the first and last few rows the first time"
   ]
  },
  {
   "cell_type": "code",
   "execution_count": 54,
   "metadata": {
    "collapsed": true
   },
   "outputs": [],
   "source": [
    "# Drop from the train data \n",
    "np_keras_data_drop = keras_data[2:]\n",
    "np_keras_data_drop = np_keras_data_drop[:-7]"
   ]
  },
  {
   "cell_type": "code",
   "execution_count": 55,
   "metadata": {},
   "outputs": [
    {
     "data": {
      "text/plain": [
       "(38762, 8, 5)"
      ]
     },
     "execution_count": 55,
     "metadata": {},
     "output_type": "execute_result"
    }
   ],
   "source": [
    "np_keras_data_drop.shape"
   ]
  },
  {
   "cell_type": "code",
   "execution_count": 56,
   "metadata": {
    "collapsed": true
   },
   "outputs": [],
   "source": [
    "# Drop from the train targets\n",
    "np_keras_y_rect_drop = np_keras_y_rect[2:]\n",
    "np_keras_y_rect_drop = np_keras_y_rect_drop[:-7]"
   ]
  },
  {
   "cell_type": "code",
   "execution_count": 57,
   "metadata": {},
   "outputs": [
    {
     "data": {
      "text/plain": [
       "(38762,)"
      ]
     },
     "execution_count": 57,
     "metadata": {},
     "output_type": "execute_result"
    }
   ],
   "source": [
    "np_keras_y_rect_drop.shape"
   ]
  },
  {
   "cell_type": "code",
   "execution_count": 239,
   "metadata": {
    "collapsed": true
   },
   "outputs": [],
   "source": [
    "#np_keras_y_rect_reshape = np_keras_y_rect.reshape(-1,1)"
   ]
  },
  {
   "cell_type": "code",
   "execution_count": 272,
   "metadata": {
    "collapsed": true
   },
   "outputs": [],
   "source": [
    "#np_keras_y_rect_reshape.shape"
   ]
  },
  {
   "cell_type": "code",
   "execution_count": 164,
   "metadata": {
    "collapsed": true
   },
   "outputs": [],
   "source": [
    "#np_data_and_labels = np.concatenate((keras_data, np_keras_y_rect_reshape), axis=1)"
   ]
  },
  {
   "cell_type": "code",
   "execution_count": 271,
   "metadata": {
    "collapsed": true
   },
   "outputs": [],
   "source": [
    "#np_data_and_labels"
   ]
  },
  {
   "cell_type": "code",
   "execution_count": 273,
   "metadata": {
    "collapsed": true
   },
   "outputs": [],
   "source": [
    "#np_data_and_labels_no_nan = np_data_and_labels[~np.isnan(np_data_and_labels).any(axis=1)]"
   ]
  },
  {
   "cell_type": "code",
   "execution_count": 274,
   "metadata": {
    "collapsed": true
   },
   "outputs": [],
   "source": [
    "#np_data_and_labels_no_nan.shape"
   ]
  },
  {
   "cell_type": "code",
   "execution_count": 275,
   "metadata": {
    "collapsed": true
   },
   "outputs": [],
   "source": [
    "#df_data_and_labels_no_nan = pd.DataFrame(np_data_and_labels_no_nan)"
   ]
  },
  {
   "cell_type": "code",
   "execution_count": 276,
   "metadata": {
    "collapsed": true
   },
   "outputs": [],
   "source": [
    "#df_data_and_labels_no_nan[0:10]"
   ]
  },
  {
   "cell_type": "code",
   "execution_count": 26,
   "metadata": {
    "collapsed": true
   },
   "outputs": [],
   "source": [
    "#df_y_labels = df_data_and_labels_no_nan[40]"
   ]
  },
  {
   "cell_type": "code",
   "execution_count": 278,
   "metadata": {
    "collapsed": true
   },
   "outputs": [],
   "source": [
    "#df_y_labels.shape"
   ]
  },
  {
   "cell_type": "code",
   "execution_count": 279,
   "metadata": {
    "collapsed": true
   },
   "outputs": [],
   "source": [
    "#df_data_and_labels_no_nan.shape"
   ]
  },
  {
   "cell_type": "code",
   "execution_count": 29,
   "metadata": {
    "collapsed": true
   },
   "outputs": [],
   "source": [
    "#df_ohlc_and_rectangle_data = df_data_and_labels_no_nan.drop([40],axis=1)"
   ]
  },
  {
   "cell_type": "code",
   "execution_count": 277,
   "metadata": {
    "collapsed": true
   },
   "outputs": [],
   "source": [
    "#df_ohlc_and_rectangle_data[0:5]"
   ]
  },
  {
   "cell_type": "code",
   "execution_count": 31,
   "metadata": {
    "collapsed": true
   },
   "outputs": [],
   "source": [
    "#X = np.array(df_ohlc_and_rectangle_data)"
   ]
  },
  {
   "cell_type": "code",
   "execution_count": 32,
   "metadata": {
    "collapsed": true
   },
   "outputs": [],
   "source": [
    "#y = np.array(df_y_labels)"
   ]
  },
  {
   "cell_type": "code",
   "execution_count": 33,
   "metadata": {
    "collapsed": true
   },
   "outputs": [],
   "source": [
    "#Y = Y.reshape(-1,1)"
   ]
  },
  {
   "cell_type": "code",
   "execution_count": 58,
   "metadata": {
    "collapsed": true
   },
   "outputs": [],
   "source": [
    "X = np_keras_data_drop"
   ]
  },
  {
   "cell_type": "code",
   "execution_count": 59,
   "metadata": {
    "collapsed": true
   },
   "outputs": [],
   "source": [
    "y = np_keras_y_rect_drop"
   ]
  },
  {
   "cell_type": "code",
   "execution_count": 60,
   "metadata": {},
   "outputs": [
    {
     "ename": "NameError",
     "evalue": "name 'y_train' is not defined",
     "output_type": "error",
     "traceback": [
      "\u001b[0;31m---------------------------------------------------------------------------\u001b[0m",
      "\u001b[0;31mNameError\u001b[0m                                 Traceback (most recent call last)",
      "\u001b[0;32m<ipython-input-60-af5b9eb76eb0>\u001b[0m in \u001b[0;36m<module>\u001b[0;34m()\u001b[0m\n\u001b[1;32m      1\u001b[0m \u001b[0;31m# Show how unbalanced we are!\u001b[0m\u001b[0;34m\u001b[0m\u001b[0;34m\u001b[0m\u001b[0m\n\u001b[0;32m----> 2\u001b[0;31m \u001b[0mnp\u001b[0m\u001b[0;34m.\u001b[0m\u001b[0mbincount\u001b[0m\u001b[0;34m(\u001b[0m\u001b[0my_train\u001b[0m\u001b[0;34m.\u001b[0m\u001b[0mastype\u001b[0m\u001b[0;34m(\u001b[0m\u001b[0mint\u001b[0m\u001b[0;34m)\u001b[0m\u001b[0;34m)\u001b[0m\u001b[0;34m\u001b[0m\u001b[0m\n\u001b[0m",
      "\u001b[0;31mNameError\u001b[0m: name 'y_train' is not defined"
     ]
    }
   ],
   "source": [
    "# Show how unbalanced we are!\n",
    "np.bincount(y_train.astype(int))"
   ]
  },
  {
   "cell_type": "markdown",
   "metadata": {},
   "source": [
    "#### Final processed DATA and LABELS"
   ]
  },
  {
   "cell_type": "code",
   "execution_count": 314,
   "metadata": {
    "collapsed": true
   },
   "outputs": [],
   "source": [
    "#df_ohlc_and_rectangle_data.shape"
   ]
  },
  {
   "cell_type": "code",
   "execution_count": 315,
   "metadata": {
    "collapsed": true
   },
   "outputs": [],
   "source": [
    "#df_y_labels.shape"
   ]
  },
  {
   "cell_type": "code",
   "execution_count": 68,
   "metadata": {},
   "outputs": [
    {
     "data": {
      "text/plain": [
       "(38762, 8, 5)"
      ]
     },
     "execution_count": 68,
     "metadata": {},
     "output_type": "execute_result"
    }
   ],
   "source": [
    "X.shape"
   ]
  },
  {
   "cell_type": "code",
   "execution_count": 69,
   "metadata": {
    "collapsed": true
   },
   "outputs": [],
   "source": [
    "y_int = y.astype(int)"
   ]
  },
  {
   "cell_type": "code",
   "execution_count": null,
   "metadata": {
    "collapsed": true
   },
   "outputs": [],
   "source": [
    "# TODO: Add GroupKFold to do test/train/cross val split\n",
    "\n",
    "# PANDAS: Rolling max / rolling min ???"
   ]
  },
  {
   "cell_type": "markdown",
   "metadata": {},
   "source": [
    "### Keras sdjfkjdslkgaj"
   ]
  },
  {
   "cell_type": "code",
   "execution_count": 34,
   "metadata": {},
   "outputs": [
    {
     "name": "stderr",
     "output_type": "stream",
     "text": [
      "Using TensorFlow backend.\n"
     ]
    }
   ],
   "source": [
    "from keras.layers import LSTM, Dense, Input, Dropout, Conv1D\n",
    "from keras.models import Model\n",
    "from keras.models import Sequential\n",
    "from keras.wrappers.scikit_learn import KerasClassifier\n",
    "from keras.constraints import maxnorm\n",
    "from keras.optimizers import SGD, Adam, RMSprop\n",
    "from keras import regularizers"
   ]
  },
  {
   "cell_type": "code",
   "execution_count": 35,
   "metadata": {
    "collapsed": true
   },
   "outputs": [],
   "source": [
    "# optimizers\n",
    "\n",
    "sgd = SGD(lr=0.1, momentum=0.9, decay=0.0, nesterov=False)\n",
    "adam = Adam(lr=0.01)\n",
    "rmsprop = RMSprop(lr=0.01)"
   ]
  },
  {
   "cell_type": "code",
   "execution_count": 64,
   "metadata": {
    "collapsed": true
   },
   "outputs": [],
   "source": [
    "X_train = X[:-1000]\n",
    "y_train = y[:-1000]\n",
    "X_test = X[-1000:]\n",
    "y_test = y[-1000:]"
   ]
  },
  {
   "cell_type": "markdown",
   "metadata": {},
   "source": [
    "## Improvements\n",
    "- At this point it looks like a problem with the data\n",
    "- Feature engineering on forests"
   ]
  },
  {
   "cell_type": "code",
   "execution_count": 38,
   "metadata": {
    "collapsed": true
   },
   "outputs": [],
   "source": [
    "# Joe's model, modified \n",
    "def create_model():\n",
    "    # create model\n",
    "    model = Sequential()\n",
    "    model.add(LSTM(64, input_shape=(8,5), activation='relu', inner_activation='hard_sigmoid'))\n",
    "    #model.add(Dropout(0.1))\n",
    "    #model.add(LSTM(64, kernel_regularizer=regularizers.l2(0.01), activation='relu', ))\n",
    "    model.add(Dropout(0.2))\n",
    "    model.add(Dense(1, kernel_initializer='normal', activation='sigmoid'))\n",
    "    # Compile model\n",
    "    model.compile(loss='binary_crossentropy', optimizer=adam, metrics=['accuracy'])\n",
    "    return model"
   ]
  },
  {
   "cell_type": "code",
   "execution_count": 71,
   "metadata": {
    "collapsed": true
   },
   "outputs": [],
   "source": [
    "# Stackoverflow / Keras examples / TW hax\n",
    "def create_model():\n",
    "    model = Sequential()\n",
    "    model.add(LSTM(32, \n",
    "                   input_shape=(8,5), \n",
    "                   return_sequences=True, \n",
    "                   activation='relu'\n",
    "                  )\n",
    "             )\n",
    "    model.add(Dropout(0.2))\n",
    "    model.add(LSTM(32,\n",
    "                    return_sequences=False,\n",
    "                    activation='relu'\n",
    "                  )\n",
    "             )\n",
    "    model.add(Dense(1,activation='sigmoid')) \n",
    "    model.compile(loss='binary_crossentropy', optimizer=rmsprop, metrics=['accuracy'])\n",
    "    return model"
   ]
  },
  {
   "cell_type": "code",
   "execution_count": 458,
   "metadata": {
    "collapsed": true
   },
   "outputs": [],
   "source": [
    "from sklearn.utils import class_weight\n",
    "\n",
    "# In order to calculate the class weight \n",
    "class_weight = class_weight.compute_class_weight('balanced', np.unique(y_train), y_train)"
   ]
  },
  {
   "cell_type": "code",
   "execution_count": 465,
   "metadata": {},
   "outputs": [
    {
     "data": {
      "text/plain": [
       "array([ 0.57330646,  3.91034048])"
      ]
     },
     "execution_count": 465,
     "metadata": {},
     "output_type": "execute_result"
    }
   ],
   "source": [
    "class_weight"
   ]
  },
  {
   "cell_type": "code",
   "execution_count": 39,
   "metadata": {},
   "outputs": [
    {
     "name": "stderr",
     "output_type": "stream",
     "text": [
      "/Library/Frameworks/Python.framework/Versions/3.5/lib/python3.5/site-packages/ipykernel_launcher.py:5: UserWarning: Update your `LSTM` call to the Keras 2 API: `LSTM(64, recurrent_activation=\"hard_sigmoid\", activation=\"sigmoid\", input_shape=(8, 5))`\n",
      "  \"\"\"\n"
     ]
    }
   ],
   "source": [
    "model = create_model()"
   ]
  },
  {
   "cell_type": "code",
   "execution_count": 128,
   "metadata": {},
   "outputs": [
    {
     "ename": "IndentationError",
     "evalue": "unexpected indent (<ipython-input-128-fd223a087018>, line 2)",
     "output_type": "error",
     "traceback": [
      "\u001b[0;36m  File \u001b[0;32m\"<ipython-input-128-fd223a087018>\"\u001b[0;36m, line \u001b[0;32m2\u001b[0m\n\u001b[0;31m    epochs=1,\u001b[0m\n\u001b[0m    ^\u001b[0m\n\u001b[0;31mIndentationError\u001b[0m\u001b[0;31m:\u001b[0m unexpected indent\n"
     ]
    }
   ],
   "source": [
    "model.fit(X_train, y_train, \n",
    "          epochs=1, \n",
    "          class_weight={0:1, 1:7},\n",
    "          #validation_data=(X_val,y_val)\n",
    "         )"
   ]
  },
  {
   "cell_type": "code",
   "execution_count": null,
   "metadata": {
    "collapsed": true
   },
   "outputs": [],
   "source": [
    "AUC_PR = average_precision_score(y_true=y_test, y_score=model.predict(X_test), average='weighted')"
   ]
  },
  {
   "cell_type": "code",
   "execution_count": null,
   "metadata": {
    "collapsed": true
   },
   "outputs": [],
   "source": [
    "# to investigate- rocauc -- "
   ]
  },
  {
   "cell_type": "markdown",
   "metadata": {},
   "source": [
    "### Trees!\n",
    "- TODO: Ensemble of decision trees XGBoost\n",
    "- Must use the 2D data not the 3D data"
   ]
  },
  {
   "cell_type": "code",
   "execution_count": 213,
   "metadata": {
    "collapsed": true
   },
   "outputs": [],
   "source": [
    "def generate_features(dftrain):\n",
    "    dftrain[\"change\"] = dftrain[\"O\"] - dftrain[\"C\"]\n",
    "    dftrain[\"range\"] = dftrain[\"H\"] - dftrain[\"L\"]\n",
    "    # allows us to ignore channels\n",
    "    channels = [\"O\", \"C\"] # [\"O\", \"H\", \"L\", \"change\", \"range\"]\n",
    "    features = []\n",
    "\n",
    "    # shifts: value at time +/- n\n",
    "    # days ahead (should be negative), days before (should be positive)\n",
    "    features.append(pd.concat([dftrain[[\"change\"]].shift(i).add_suffix(\"_change_{}\".format(i)) for i in range(-4, 6)], axis=1))\n",
    "\n",
    "    # diffs: value today - value at today +/- n\n",
    "    features.append(pd.concat([dftrain[channels].diff(i).add_suffix(\"_diff_{}\".format(i)) for i in range(-4, 6)], axis=1))\n",
    "\n",
    "    # second differences: change in value today - change in value at today +/- n\n",
    "    #features.append(pd.concat([\n",
    "    # dftrain[channels].diff().diff(i) for i in range(-4, 4)\n",
    "    #], axis=1))\n",
    "\n",
    "    # diff shifts: change in value at today +/- n\n",
    "    #features.append(pd.concat([\n",
    "    # dftrain[channels].diff().shift(i) for i in range(-4, 4)\n",
    "    #], axis=1))\n",
    "\n",
    "    # Exponenential moving averages:\n",
    "    # features.append(pd.concat([\n",
    "    # pd.ewma(dftrain[channels], span=10).shift(i) for i in range(-1,2)\n",
    "    #], axis=1))\n",
    "    #features.append(pd.concat([\n",
    "    # pd.ewma(dftrain[channels], span=10).diff(i) for i in range(-1, 2)\n",
    "    #], axis=1))\n",
    "\n",
    "    # Exponenential moving std deviation:\n",
    "    #features.append(pd.ewmstd(dftrain[channels], span=10))\n",
    "    \n",
    "    return pd.concat(features, axis=1), dftrain['rectangle_here']"
   ]
  },
  {
   "cell_type": "code",
   "execution_count": 214,
   "metadata": {
    "collapsed": true
   },
   "outputs": [],
   "source": [
    "df_X, df_y = generate_features(df_ohlc_and_rectangles)"
   ]
  },
  {
   "cell_type": "code",
   "execution_count": 215,
   "metadata": {
    "collapsed": true
   },
   "outputs": [],
   "source": [
    "# For each row, combine 6 rows before and 2 rows ahead into the same line.\n",
    "# This is because this is the maximum range that includes data which is valuable to defining a zone \n",
    "df_data = df_ohlc_and_rectangles[[\"O\", \"H\", \"L\", \"C\", \"V\"]]\n",
    "multiple_timestamp_O = []\n",
    "multiple_timestamp_H = []\n",
    "multiple_timestamp_L = []\n",
    "multiple_timestamp_C = []\n",
    "multiple_timestamp_V = []\n",
    "\n",
    "for i in range(-6, 2):\n",
    "    multiple_timestamp_O.append(df_data[\"O\"].shift(i).add_suffix(\"_{}\".format(i)))\n",
    "    multiple_timestamp_H.append(df_data[\"H\"].shift(i).add_suffix(\"_{}\".format(i)))\n",
    "    multiple_timestamp_L.append(df_data[\"L\"].shift(i).add_suffix(\"_{}\".format(i)))\n",
    "    multiple_timestamp_C.append(df_data[\"C\"].shift(i).add_suffix(\"_{}\".format(i)))\n",
    "    multiple_timestamp_V.append(df_data[\"V\"].shift(i).add_suffix(\"_{}\".format(i)))"
   ]
  },
  {
   "cell_type": "code",
   "execution_count": 216,
   "metadata": {
    "collapsed": true
   },
   "outputs": [],
   "source": [
    "tree_data_O = np.array(multiple_timestamp_O).T\n",
    "tree_data_H = np.array(multiple_timestamp_H).T\n",
    "tree_data_C = np.array(multiple_timestamp_C).T\n",
    "tree_data_L = np.array(multiple_timestamp_L).T\n",
    "tree_data_V = np.array(multiple_timestamp_V).T"
   ]
  },
  {
   "cell_type": "code",
   "execution_count": 217,
   "metadata": {},
   "outputs": [
    {
     "data": {
      "text/plain": [
       "array([[-0.79673646, -0.78782101, -0.78973147, ..., -0.78400011,\n",
       "        -0.7617115 ,         nan],\n",
       "       [-0.83812959, -0.79673646, -0.78782101, ..., -0.80119418,\n",
       "        -0.78400011, -0.7617115 ],\n",
       "       [-0.84258731, -0.83812959, -0.79673646, ..., -0.8273037 ,\n",
       "        -0.80119418, -0.78400011],\n",
       "       ..., \n",
       "       [        nan,         nan,         nan, ..., -0.30836567,\n",
       "        -0.32568115, -0.35671187],\n",
       "       [        nan,         nan,         nan, ..., -0.26173387,\n",
       "        -0.30836567, -0.32568115],\n",
       "       [        nan,         nan,         nan, ...,         nan,\n",
       "        -0.26173387, -0.30836567]])"
      ]
     },
     "execution_count": 217,
     "metadata": {},
     "output_type": "execute_result"
    }
   ],
   "source": [
    "tree_data_O"
   ]
  },
  {
   "cell_type": "code",
   "execution_count": 91,
   "metadata": {
    "collapsed": true
   },
   "outputs": [],
   "source": [
    "tree_data = np.concatenate([tree_data_O, tree_data_H, tree_data_C, tree_data_L, tree_data_V], axis=1)"
   ]
  },
  {
   "cell_type": "code",
   "execution_count": 92,
   "metadata": {
    "collapsed": true
   },
   "outputs": [],
   "source": [
    "# Drop from the train targets\n",
    "np_tree_y_rect_drop = y_rectangle[2:]\n",
    "np_tree_y_rect_drop = np_tree_y_rect_drop[:-7]"
   ]
  },
  {
   "cell_type": "code",
   "execution_count": 93,
   "metadata": {
    "collapsed": true
   },
   "outputs": [],
   "source": [
    "# Drop from the train data \n",
    "np_tree_data_drop = tree_data[2:]\n",
    "np_tree_data_drop = np_tree_data_drop[:-7]"
   ]
  },
  {
   "cell_type": "code",
   "execution_count": 94,
   "metadata": {
    "collapsed": true
   },
   "outputs": [],
   "source": [
    "X_treetrain = np_tree_data_drop[:-1000]\n",
    "y_treetrain = np_tree_y_rect_drop[:-1000]\n",
    "X_treetest = np_tree_data_drop[-1000:]\n",
    "y_treetest = np_tree_y_rect_drop[-1000:]"
   ]
  },
  {
   "cell_type": "code",
   "execution_count": 97,
   "metadata": {},
   "outputs": [
    {
     "data": {
      "text/plain": [
       "(37762, 40)"
      ]
     },
     "execution_count": 97,
     "metadata": {},
     "output_type": "execute_result"
    }
   ],
   "source": [
    "X_treetrain.shape"
   ]
  },
  {
   "cell_type": "code",
   "execution_count": 122,
   "metadata": {},
   "outputs": [
    {
     "data": {
      "text/plain": [
       "(37762,)"
      ]
     },
     "execution_count": 122,
     "metadata": {},
     "output_type": "execute_result"
    }
   ],
   "source": [
    "y_treetrain.shape"
   ]
  },
  {
   "cell_type": "code",
   "execution_count": 127,
   "metadata": {
    "collapsed": true
   },
   "outputs": [],
   "source": [
    "from sklearn import model_selection\n",
    "from sklearn.ensemble import BaggingClassifier\n",
    "from sklearn.ensemble import RandomForestClassifier\n",
    "from sklearn.tree import DecisionTreeClassifier\n",
    "from sklearn.preprocessing import Imputer\n",
    "from sklearn.pipeline import make_pipeline\n",
    "from sklearn.metrics import roc_auc_score\n",
    "from sklearn.metrics import log_loss"
   ]
  },
  {
   "cell_type": "code",
   "execution_count": null,
   "metadata": {
    "collapsed": true
   },
   "outputs": [],
   "source": []
  },
  {
   "cell_type": "code",
   "execution_count": 231,
   "metadata": {
    "collapsed": true
   },
   "outputs": [],
   "source": [
    "clf = make_pipeline(Imputer(), RandomForestClassifier(n_estimators=100, n_jobs=-1, \n",
    "                                                        class_weight='balanced', \n",
    "                                                        verbose=1))"
   ]
  },
  {
   "cell_type": "code",
   "execution_count": 232,
   "metadata": {
    "collapsed": true
   },
   "outputs": [],
   "source": [
    "# Joe helper model thing\n",
    "def validate_model(model, X, y):\n",
    "    model = model.fit(X.iloc[:-2000], y.iloc[:-2000])\n",
    "    preds = model.predict_proba(X.iloc[-2000:])\n",
    "    return y.iloc[-2000:], preds[:, 1]"
   ]
  },
  {
   "cell_type": "code",
   "execution_count": 233,
   "metadata": {},
   "outputs": [
    {
     "name": "stderr",
     "output_type": "stream",
     "text": [
      "[Parallel(n_jobs=-1)]: Done  34 tasks      | elapsed:    2.2s\n",
      "[Parallel(n_jobs=-1)]: Done 100 out of 100 | elapsed:    5.8s finished\n",
      "[Parallel(n_jobs=8)]: Done  34 tasks      | elapsed:    0.0s\n",
      "[Parallel(n_jobs=8)]: Done 100 out of 100 | elapsed:    0.1s finished\n"
     ]
    }
   ],
   "source": [
    "y, preds = validate_model(clf, df_X, df_y)"
   ]
  },
  {
   "cell_type": "code",
   "execution_count": 234,
   "metadata": {},
   "outputs": [
    {
     "name": "stdout",
     "output_type": "stream",
     "text": [
      "Log loss: 0.177784424908\n",
      "ROC AUC SCORE: 0.953380571429\n"
     ]
    }
   ],
   "source": [
    "print(\"Log loss:\", log_loss(y, preds))\n",
    "print(\"ROC AUC SCORE:\", roc_auc_score(y, preds))"
   ]
  },
  {
   "cell_type": "code",
   "execution_count": null,
   "metadata": {
    "collapsed": true
   },
   "outputs": [],
   "source": [
    "# -6, 2\n",
    "Log loss: 0.175330343874\n",
    "ROC AUC SCORE: 0.951071244703"
   ]
  },
  {
   "cell_type": "code",
   "execution_count": 109,
   "metadata": {},
   "outputs": [
    {
     "name": "stderr",
     "output_type": "stream",
     "text": [
      "[Parallel(n_jobs=8)]: Done  34 tasks      | elapsed:    0.0s\n",
      "[Parallel(n_jobs=8)]: Done 100 out of 100 | elapsed:    0.0s finished\n"
     ]
    }
   ],
   "source": [
    "# Apply the classifier we trained to the test data\n",
    "predictions = model.predict(X_treetest)"
   ]
  },
  {
   "cell_type": "code",
   "execution_count": 152,
   "metadata": {},
   "outputs": [
    {
     "name": "stderr",
     "output_type": "stream",
     "text": [
      "[Parallel(n_jobs=8)]: Done  34 tasks      | elapsed:    0.1s\n",
      "[Parallel(n_jobs=8)]: Done 100 out of 100 | elapsed:    0.2s finished\n"
     ]
    }
   ],
   "source": [
    "predict_proba = model.predict_proba(df_X)[0:10]"
   ]
  },
  {
   "cell_type": "code",
   "execution_count": 153,
   "metadata": {},
   "outputs": [
    {
     "name": "stdout",
     "output_type": "stream",
     "text": [
      "[[ 0.93  0.07]\n",
      " [ 0.99  0.01]\n",
      " [ 0.99  0.01]\n",
      " [ 1.    0.  ]\n",
      " [ 0.97  0.03]\n",
      " [ 0.08  0.92]\n",
      " [ 1.    0.  ]\n",
      " [ 0.95  0.05]\n",
      " [ 1.    0.  ]\n",
      " [ 1.    0.  ]]\n"
     ]
    }
   ],
   "source": [
    "print(predict_proba)"
   ]
  },
  {
   "cell_type": "code",
   "execution_count": 112,
   "metadata": {
    "collapsed": true
   },
   "outputs": [],
   "source": [
    "df_predictions = pd.DataFrame(predictions)"
   ]
  },
  {
   "cell_type": "code",
   "execution_count": 116,
   "metadata": {},
   "outputs": [
    {
     "data": {
      "text/plain": [
       "(1000, 1)"
      ]
     },
     "execution_count": 116,
     "metadata": {},
     "output_type": "execute_result"
    }
   ],
   "source": [
    "df_predictions.shape"
   ]
  },
  {
   "cell_type": "code",
   "execution_count": 117,
   "metadata": {},
   "outputs": [
    {
     "data": {
      "text/plain": [
       "(1000,)"
      ]
     },
     "execution_count": 117,
     "metadata": {},
     "output_type": "execute_result"
    }
   ],
   "source": [
    "y_treetest.shape"
   ]
  },
  {
   "cell_type": "code",
   "execution_count": 115,
   "metadata": {
    "scrolled": true
   },
   "outputs": [
    {
     "data": {
      "text/html": [
       "<div>\n",
       "<table border=\"1\" class=\"dataframe\">\n",
       "  <thead>\n",
       "    <tr style=\"text-align: right;\">\n",
       "      <th></th>\n",
       "      <th>0</th>\n",
       "      <th>rectangle_here</th>\n",
       "    </tr>\n",
       "  </thead>\n",
       "  <tbody>\n",
       "    <tr>\n",
       "      <th>0</th>\n",
       "      <td>False</td>\n",
       "      <td>NaN</td>\n",
       "    </tr>\n",
       "    <tr>\n",
       "      <th>1</th>\n",
       "      <td>False</td>\n",
       "      <td>NaN</td>\n",
       "    </tr>\n",
       "    <tr>\n",
       "      <th>2</th>\n",
       "      <td>False</td>\n",
       "      <td>NaN</td>\n",
       "    </tr>\n",
       "    <tr>\n",
       "      <th>3</th>\n",
       "      <td>False</td>\n",
       "      <td>NaN</td>\n",
       "    </tr>\n",
       "    <tr>\n",
       "      <th>4</th>\n",
       "      <td>False</td>\n",
       "      <td>NaN</td>\n",
       "    </tr>\n",
       "    <tr>\n",
       "      <th>5</th>\n",
       "      <td>False</td>\n",
       "      <td>NaN</td>\n",
       "    </tr>\n",
       "    <tr>\n",
       "      <th>6</th>\n",
       "      <td>False</td>\n",
       "      <td>NaN</td>\n",
       "    </tr>\n",
       "    <tr>\n",
       "      <th>7</th>\n",
       "      <td>False</td>\n",
       "      <td>NaN</td>\n",
       "    </tr>\n",
       "    <tr>\n",
       "      <th>8</th>\n",
       "      <td>False</td>\n",
       "      <td>NaN</td>\n",
       "    </tr>\n",
       "    <tr>\n",
       "      <th>9</th>\n",
       "      <td>False</td>\n",
       "      <td>NaN</td>\n",
       "    </tr>\n",
       "    <tr>\n",
       "      <th>10</th>\n",
       "      <td>False</td>\n",
       "      <td>NaN</td>\n",
       "    </tr>\n",
       "    <tr>\n",
       "      <th>11</th>\n",
       "      <td>False</td>\n",
       "      <td>NaN</td>\n",
       "    </tr>\n",
       "    <tr>\n",
       "      <th>12</th>\n",
       "      <td>False</td>\n",
       "      <td>NaN</td>\n",
       "    </tr>\n",
       "    <tr>\n",
       "      <th>13</th>\n",
       "      <td>False</td>\n",
       "      <td>NaN</td>\n",
       "    </tr>\n",
       "    <tr>\n",
       "      <th>14</th>\n",
       "      <td>False</td>\n",
       "      <td>NaN</td>\n",
       "    </tr>\n",
       "    <tr>\n",
       "      <th>15</th>\n",
       "      <td>False</td>\n",
       "      <td>NaN</td>\n",
       "    </tr>\n",
       "    <tr>\n",
       "      <th>16</th>\n",
       "      <td>False</td>\n",
       "      <td>NaN</td>\n",
       "    </tr>\n",
       "    <tr>\n",
       "      <th>17</th>\n",
       "      <td>False</td>\n",
       "      <td>NaN</td>\n",
       "    </tr>\n",
       "    <tr>\n",
       "      <th>18</th>\n",
       "      <td>False</td>\n",
       "      <td>NaN</td>\n",
       "    </tr>\n",
       "    <tr>\n",
       "      <th>19</th>\n",
       "      <td>False</td>\n",
       "      <td>NaN</td>\n",
       "    </tr>\n",
       "    <tr>\n",
       "      <th>20</th>\n",
       "      <td>False</td>\n",
       "      <td>NaN</td>\n",
       "    </tr>\n",
       "    <tr>\n",
       "      <th>21</th>\n",
       "      <td>False</td>\n",
       "      <td>NaN</td>\n",
       "    </tr>\n",
       "    <tr>\n",
       "      <th>22</th>\n",
       "      <td>False</td>\n",
       "      <td>NaN</td>\n",
       "    </tr>\n",
       "    <tr>\n",
       "      <th>23</th>\n",
       "      <td>False</td>\n",
       "      <td>NaN</td>\n",
       "    </tr>\n",
       "    <tr>\n",
       "      <th>24</th>\n",
       "      <td>False</td>\n",
       "      <td>NaN</td>\n",
       "    </tr>\n",
       "    <tr>\n",
       "      <th>25</th>\n",
       "      <td>False</td>\n",
       "      <td>NaN</td>\n",
       "    </tr>\n",
       "    <tr>\n",
       "      <th>26</th>\n",
       "      <td>False</td>\n",
       "      <td>NaN</td>\n",
       "    </tr>\n",
       "    <tr>\n",
       "      <th>27</th>\n",
       "      <td>False</td>\n",
       "      <td>NaN</td>\n",
       "    </tr>\n",
       "    <tr>\n",
       "      <th>28</th>\n",
       "      <td>False</td>\n",
       "      <td>NaN</td>\n",
       "    </tr>\n",
       "    <tr>\n",
       "      <th>29</th>\n",
       "      <td>False</td>\n",
       "      <td>NaN</td>\n",
       "    </tr>\n",
       "    <tr>\n",
       "      <th>...</th>\n",
       "      <td>...</td>\n",
       "      <td>...</td>\n",
       "    </tr>\n",
       "    <tr>\n",
       "      <th>38734</th>\n",
       "      <td>NaN</td>\n",
       "      <td>True</td>\n",
       "    </tr>\n",
       "    <tr>\n",
       "      <th>38735</th>\n",
       "      <td>NaN</td>\n",
       "      <td>False</td>\n",
       "    </tr>\n",
       "    <tr>\n",
       "      <th>38736</th>\n",
       "      <td>NaN</td>\n",
       "      <td>False</td>\n",
       "    </tr>\n",
       "    <tr>\n",
       "      <th>38737</th>\n",
       "      <td>NaN</td>\n",
       "      <td>False</td>\n",
       "    </tr>\n",
       "    <tr>\n",
       "      <th>38738</th>\n",
       "      <td>NaN</td>\n",
       "      <td>False</td>\n",
       "    </tr>\n",
       "    <tr>\n",
       "      <th>38739</th>\n",
       "      <td>NaN</td>\n",
       "      <td>False</td>\n",
       "    </tr>\n",
       "    <tr>\n",
       "      <th>38740</th>\n",
       "      <td>NaN</td>\n",
       "      <td>False</td>\n",
       "    </tr>\n",
       "    <tr>\n",
       "      <th>38741</th>\n",
       "      <td>NaN</td>\n",
       "      <td>False</td>\n",
       "    </tr>\n",
       "    <tr>\n",
       "      <th>38742</th>\n",
       "      <td>NaN</td>\n",
       "      <td>True</td>\n",
       "    </tr>\n",
       "    <tr>\n",
       "      <th>38743</th>\n",
       "      <td>NaN</td>\n",
       "      <td>False</td>\n",
       "    </tr>\n",
       "    <tr>\n",
       "      <th>38744</th>\n",
       "      <td>NaN</td>\n",
       "      <td>True</td>\n",
       "    </tr>\n",
       "    <tr>\n",
       "      <th>38745</th>\n",
       "      <td>NaN</td>\n",
       "      <td>False</td>\n",
       "    </tr>\n",
       "    <tr>\n",
       "      <th>38746</th>\n",
       "      <td>NaN</td>\n",
       "      <td>False</td>\n",
       "    </tr>\n",
       "    <tr>\n",
       "      <th>38747</th>\n",
       "      <td>NaN</td>\n",
       "      <td>False</td>\n",
       "    </tr>\n",
       "    <tr>\n",
       "      <th>38748</th>\n",
       "      <td>NaN</td>\n",
       "      <td>False</td>\n",
       "    </tr>\n",
       "    <tr>\n",
       "      <th>38749</th>\n",
       "      <td>NaN</td>\n",
       "      <td>True</td>\n",
       "    </tr>\n",
       "    <tr>\n",
       "      <th>38750</th>\n",
       "      <td>NaN</td>\n",
       "      <td>False</td>\n",
       "    </tr>\n",
       "    <tr>\n",
       "      <th>38751</th>\n",
       "      <td>NaN</td>\n",
       "      <td>False</td>\n",
       "    </tr>\n",
       "    <tr>\n",
       "      <th>38752</th>\n",
       "      <td>NaN</td>\n",
       "      <td>False</td>\n",
       "    </tr>\n",
       "    <tr>\n",
       "      <th>38753</th>\n",
       "      <td>NaN</td>\n",
       "      <td>False</td>\n",
       "    </tr>\n",
       "    <tr>\n",
       "      <th>38754</th>\n",
       "      <td>NaN</td>\n",
       "      <td>False</td>\n",
       "    </tr>\n",
       "    <tr>\n",
       "      <th>38755</th>\n",
       "      <td>NaN</td>\n",
       "      <td>True</td>\n",
       "    </tr>\n",
       "    <tr>\n",
       "      <th>38756</th>\n",
       "      <td>NaN</td>\n",
       "      <td>False</td>\n",
       "    </tr>\n",
       "    <tr>\n",
       "      <th>38757</th>\n",
       "      <td>NaN</td>\n",
       "      <td>False</td>\n",
       "    </tr>\n",
       "    <tr>\n",
       "      <th>38758</th>\n",
       "      <td>NaN</td>\n",
       "      <td>False</td>\n",
       "    </tr>\n",
       "    <tr>\n",
       "      <th>38759</th>\n",
       "      <td>NaN</td>\n",
       "      <td>False</td>\n",
       "    </tr>\n",
       "    <tr>\n",
       "      <th>38760</th>\n",
       "      <td>NaN</td>\n",
       "      <td>True</td>\n",
       "    </tr>\n",
       "    <tr>\n",
       "      <th>38761</th>\n",
       "      <td>NaN</td>\n",
       "      <td>False</td>\n",
       "    </tr>\n",
       "    <tr>\n",
       "      <th>38762</th>\n",
       "      <td>NaN</td>\n",
       "      <td>False</td>\n",
       "    </tr>\n",
       "    <tr>\n",
       "      <th>38763</th>\n",
       "      <td>NaN</td>\n",
       "      <td>False</td>\n",
       "    </tr>\n",
       "  </tbody>\n",
       "</table>\n",
       "<p>2000 rows × 2 columns</p>\n",
       "</div>"
      ],
      "text/plain": [
       "           0 rectangle_here\n",
       "0      False            NaN\n",
       "1      False            NaN\n",
       "2      False            NaN\n",
       "3      False            NaN\n",
       "4      False            NaN\n",
       "5      False            NaN\n",
       "6      False            NaN\n",
       "7      False            NaN\n",
       "8      False            NaN\n",
       "9      False            NaN\n",
       "10     False            NaN\n",
       "11     False            NaN\n",
       "12     False            NaN\n",
       "13     False            NaN\n",
       "14     False            NaN\n",
       "15     False            NaN\n",
       "16     False            NaN\n",
       "17     False            NaN\n",
       "18     False            NaN\n",
       "19     False            NaN\n",
       "20     False            NaN\n",
       "21     False            NaN\n",
       "22     False            NaN\n",
       "23     False            NaN\n",
       "24     False            NaN\n",
       "25     False            NaN\n",
       "26     False            NaN\n",
       "27     False            NaN\n",
       "28     False            NaN\n",
       "29     False            NaN\n",
       "...      ...            ...\n",
       "38734    NaN           True\n",
       "38735    NaN          False\n",
       "38736    NaN          False\n",
       "38737    NaN          False\n",
       "38738    NaN          False\n",
       "38739    NaN          False\n",
       "38740    NaN          False\n",
       "38741    NaN          False\n",
       "38742    NaN           True\n",
       "38743    NaN          False\n",
       "38744    NaN           True\n",
       "38745    NaN          False\n",
       "38746    NaN          False\n",
       "38747    NaN          False\n",
       "38748    NaN          False\n",
       "38749    NaN           True\n",
       "38750    NaN          False\n",
       "38751    NaN          False\n",
       "38752    NaN          False\n",
       "38753    NaN          False\n",
       "38754    NaN          False\n",
       "38755    NaN           True\n",
       "38756    NaN          False\n",
       "38757    NaN          False\n",
       "38758    NaN          False\n",
       "38759    NaN          False\n",
       "38760    NaN           True\n",
       "38761    NaN          False\n",
       "38762    NaN          False\n",
       "38763    NaN          False\n",
       "\n",
       "[2000 rows x 2 columns]"
      ]
     },
     "execution_count": 115,
     "metadata": {},
     "output_type": "execute_result"
    }
   ],
   "source": [
    "pd.concat([df_predictions, pd.DataFrame(y_treetest)], axis=1)"
   ]
  },
  {
   "cell_type": "code",
   "execution_count": null,
   "metadata": {
    "collapsed": true
   },
   "outputs": [],
   "source": [
    "# View a list of the features and their importance scores\n",
    "list(zip(X_treetest, clf.feature_importances_))"
   ]
  },
  {
   "cell_type": "code",
   "execution_count": null,
   "metadata": {
    "collapsed": true
   },
   "outputs": [],
   "source": [
    "#### Failed attempt to use GroupKFold`\n",
    "``` \n",
    "X : array-like, shape (n_samples, n_features)\n",
    "Training data, where n_samples is the number of samples and n_features is the number of features.\n",
    "y : array-like, shape (n_samples,)\n",
    "The target variable for supervised learning problems.\n",
    "```\n",
    "\n",
    "from sklearn.model_selection import GroupKFold\n",
    "X = keras_data\n",
    "y = keras_y_rect\n",
    "groups = np.array(len(X)/sum(range()))\n",
    "group_kfold = GroupKFold(n_splits=3)\n",
    "group_kfold.get_n_splits(X, y, groups)\n",
    "print(group_kfold)\n",
    "GroupKFold(n_splits=3)\n",
    "for train_index, test_index in group_kfold.split(X, y, groups):\n",
    "    print(\"TRAIN:\", train_index, \"TEST:\", test_index)\n",
    "    X_train, X_test = X[train_index], X[test_index]\n",
    "    y_train, y_test = y[train_index], y[test_index]\n",
    "    print(X_train, X_test, X_val, y_train, y_test, y_val)"
   ]
  },
  {
   "cell_type": "code",
   "execution_count": 428,
   "metadata": {},
   "outputs": [
    {
     "name": "stdout",
     "output_type": "stream",
     "text": [
      "Train shapes (x, y): (31009, 8, 5) (31009,)\n",
      "Validation shapes (x, y): (3876, 8, 5) (3876,)\n",
      "Test shapes (x, y): (3877, 8, 5) (3877,)\n"
     ]
    }
   ],
   "source": [
    "print(\"Train shapes (x, y):\", X_train.shape, y_train.shape)\n",
    "print(\"Validation shapes (x, y):\", X_val.shape, y_val.shape)\n",
    "print(\"Test shapes (x, y):\", X_test.shape, y_test.shape)"
   ]
  },
  {
   "cell_type": "code",
   "execution_count": null,
   "metadata": {
    "collapsed": true
   },
   "outputs": [],
   "source": [
    "X_train.shape"
   ]
  },
  {
   "cell_type": "code",
   "execution_count": null,
   "metadata": {
    "collapsed": true
   },
   "outputs": [],
   "source": [
    "y_train.shape"
   ]
  },
  {
   "cell_type": "markdown",
   "metadata": {},
   "source": [
    "### Let's try some unbalanced data stuff!!!"
   ]
  },
  {
   "cell_type": "code",
   "execution_count": 103,
   "metadata": {},
   "outputs": [
    {
     "name": "stdout",
     "output_type": "stream",
     "text": [
      "(50754, 40)\n",
      "(50754,)\n"
     ]
    }
   ],
   "source": [
    "from imblearn.over_sampling import SMOTE\n",
    "\n",
    "# Apply regular SMOTE\n",
    "#kind = ['regular']\n",
    "sm = SMOTE(kind='regular')\n",
    "X_resampled = np.empty((0,32), float)\n",
    "y_resampled = np.empty((0,1), float)\n",
    "#X_res_vis = []\n",
    "\n",
    "X_resampled, y_resampled = sm.fit_sample(X_train, y_train)\n",
    "#X_resampled.append(X_res)\n",
    "#y_resampled.append(y_res)\n",
    "#X_res_vis.append(pca.transform(X_res))\n",
    "\n",
    "xp = [X_resampled, y_resampled]\n",
    "for i in xp:\n",
    "    print(i.shape)"
   ]
  },
  {
   "cell_type": "code",
   "execution_count": 104,
   "metadata": {},
   "outputs": [
    {
     "name": "stdout",
     "output_type": "stream",
     "text": [
      "Train shapes (x, y): (29073, 40) (29073,)\n",
      "Test shapes (x, y): (9691, 40) (9691,)\n",
      "SMOTE Resampled shapes (x, y): (50754, 40) (50754,)\n"
     ]
    }
   ],
   "source": [
    "print(\"Train shapes (x, y):\", X_train.shape, y_train.shape)\n",
    "#print(\"Validation shapes (x, y):\", val_x.shape, val_y.shape)\n",
    "print(\"Test shapes (x, y):\", X_test.shape, y_test.shape)\n",
    "print(\"SMOTE Resampled shapes (x, y):\", X_resampled.shape, y_resampled.shape)"
   ]
  },
  {
   "cell_type": "markdown",
   "metadata": {},
   "source": [
    "### Seventh NN"
   ]
  },
  {
   "cell_type": "code",
   "execution_count": null,
   "metadata": {
    "collapsed": true
   },
   "outputs": [],
   "source": [
    "X_train.shape"
   ]
  },
  {
   "cell_type": "code",
   "execution_count": null,
   "metadata": {
    "collapsed": true
   },
   "outputs": [],
   "source": [
    "def fit_lstm(X_train, y_train, n_lag, n_seq, n_batch, nb_epoch, n_neurons):\n",
    "    \n",
    "    # reshape training into [samples, timesteps, features]\n",
    "    X = X_train.reshape(X_train.shape[0], 1, X_train.shape[1])\n",
    "    print(\"Your train data input is:\", X)\n",
    "    print(X.shape)\n",
    "    y = y_train.reshape(-1,1)\n",
    "    print(\"Your train data target is:\", y)\n",
    "    print(y.shape)\n",
    "    \n",
    "    # design network\n",
    "    model = Sequential()\n",
    "    model.add(LSTM(n_neurons, batch_input_shape=(n_batch, X.shape[1], X.shape[2]), stateful=True))\n",
    "    model.add(Dropout(0.1))\n",
    "    model.add(Dense(256, kernel_regularizer=regularizers.l2(0.01), activation='relu', ))\n",
    "    model.add(Dense(y.shape[1], activity_regularizer=regularizers.l1(0.01)))\n",
    "    model.compile(loss='binary_crossentropy', optimizer='adam')\n",
    "    \n",
    "    # fit network\n",
    "    for i in range(nb_epoch):\n",
    "        model.fit(X, y, epochs=1, batch_size=n_batch, verbose=1, shuffle=False)\n",
    "        model.reset_states()\n",
    "    return model"
   ]
  },
  {
   "cell_type": "code",
   "execution_count": null,
   "metadata": {
    "collapsed": true
   },
   "outputs": [],
   "source": [
    "# fit_lstm(data, lookback, n_seq?, batch size, number of epochs, number of neurons in first LSTM etc. )\n",
    "model = fit_lstm(X_train, y_train, 1, 3, 1, 1, 1)\n",
    "# Final evaluation of the model\n",
    "#scores = model.evaluate(X_test, y_test, verbose=0)\n",
    "#print(\"Accuracy: %.2f%%\" % (scores[1]*100))"
   ]
  },
  {
   "cell_type": "code",
   "execution_count": null,
   "metadata": {
    "collapsed": true
   },
   "outputs": [],
   "source": [
    "# reshape test data into [samples, timesteps, features]\n",
    "X_test_reshape = X_test.reshape(X_test.shape[0], 1, X_test.shape[1])\n",
    "#print(\"Your train data input is:\", X)\n",
    "#print(X_test_reshape.shape)\n",
    "y_test_reshape = y_test.reshape(-1,1)\n",
    "#print(\"Your train data target is:\", y)\n",
    "#print(y_test_reshape.shape)"
   ]
  },
  {
   "cell_type": "code",
   "execution_count": null,
   "metadata": {
    "collapsed": true
   },
   "outputs": [],
   "source": []
  },
  {
   "cell_type": "code",
   "execution_count": null,
   "metadata": {
    "collapsed": true
   },
   "outputs": [],
   "source": [
    "from sklearn import metrics\n",
    "\n",
    "threshold = 0.5\n",
    "\n",
    "#score = model.evaluate(X_test_reshape, y_test, batch_size=1)\n",
    "#print(score)\n",
    "# make predictions\n",
    "expected = y_test.astype(float)\n",
    "predicted = model.predict(X_test_reshape, batch_size=1)\n",
    "# summarize the fit of the model\n",
    "print(metrics.classification_report(expected, (predicted>threshold).astype(int)))\n",
    "print(metrics.confusion_matrix(expected, (predicted>threshold).astype(int)))"
   ]
  },
  {
   "cell_type": "code",
   "execution_count": null,
   "metadata": {
    "collapsed": true
   },
   "outputs": [],
   "source": [
    "print(expected[0:100])\n",
    "print((predicted>threshold).astype(int)[0:100])"
   ]
  },
  {
   "cell_type": "markdown",
   "metadata": {},
   "source": [
    "### Run the NN"
   ]
  },
  {
   "cell_type": "code",
   "execution_count": 286,
   "metadata": {},
   "outputs": [
    {
     "ename": "NameError",
     "evalue": "name 'Sequential' is not defined",
     "output_type": "error",
     "traceback": [
      "\u001b[0;31m---------------------------------------------------------------------------\u001b[0m",
      "\u001b[0;31mNameError\u001b[0m                                 Traceback (most recent call last)",
      "\u001b[0;32m<ipython-input-286-e7c343f2ca46>\u001b[0m in \u001b[0;36m<module>\u001b[0;34m()\u001b[0m\n\u001b[0;32m----> 1\u001b[0;31m \u001b[0mmodel\u001b[0m \u001b[0;34m=\u001b[0m \u001b[0mcreate_model\u001b[0m\u001b[0;34m(\u001b[0m\u001b[0;34m)\u001b[0m\u001b[0;34m\u001b[0m\u001b[0m\n\u001b[0m",
      "\u001b[0;32m<ipython-input-285-04c9f6cbece0>\u001b[0m in \u001b[0;36mcreate_model\u001b[0;34m()\u001b[0m\n\u001b[1;32m      2\u001b[0m \u001b[0;32mdef\u001b[0m \u001b[0mcreate_model\u001b[0m\u001b[0;34m(\u001b[0m\u001b[0;34m)\u001b[0m\u001b[0;34m:\u001b[0m\u001b[0;34m\u001b[0m\u001b[0m\n\u001b[1;32m      3\u001b[0m     \u001b[0;31m# create model\u001b[0m\u001b[0;34m\u001b[0m\u001b[0;34m\u001b[0m\u001b[0m\n\u001b[0;32m----> 4\u001b[0;31m     \u001b[0mmodel\u001b[0m \u001b[0;34m=\u001b[0m \u001b[0mSequential\u001b[0m\u001b[0;34m(\u001b[0m\u001b[0;34m)\u001b[0m\u001b[0;34m\u001b[0m\u001b[0m\n\u001b[0m\u001b[1;32m      5\u001b[0m     \u001b[0mmodel\u001b[0m\u001b[0;34m.\u001b[0m\u001b[0madd\u001b[0m\u001b[0;34m(\u001b[0m\u001b[0mLSTM\u001b[0m\u001b[0;34m(\u001b[0m\u001b[0;36m64\u001b[0m\u001b[0;34m,\u001b[0m \u001b[0minput_shape\u001b[0m\u001b[0;34m=\u001b[0m\u001b[0;34m(\u001b[0m\u001b[0;36m40\u001b[0m\u001b[0;34m,\u001b[0m\u001b[0;36m4\u001b[0m\u001b[0;34m)\u001b[0m\u001b[0;34m)\u001b[0m\u001b[0;34m)\u001b[0m\u001b[0;34m\u001b[0m\u001b[0m\n\u001b[1;32m      6\u001b[0m     \u001b[0mmodel\u001b[0m\u001b[0;34m.\u001b[0m\u001b[0madd\u001b[0m\u001b[0;34m(\u001b[0m\u001b[0mDropout\u001b[0m\u001b[0;34m(\u001b[0m\u001b[0;36m0.1\u001b[0m\u001b[0;34m)\u001b[0m\u001b[0;34m)\u001b[0m\u001b[0;34m\u001b[0m\u001b[0m\n",
      "\u001b[0;31mNameError\u001b[0m: name 'Sequential' is not defined"
     ]
    }
   ],
   "source": [
    "model = create_model()"
   ]
  },
  {
   "cell_type": "code",
   "execution_count": null,
   "metadata": {
    "collapsed": true,
    "scrolled": true
   },
   "outputs": [],
   "source": [
    "model.fit(X_resampled, y_resampled,\n",
    "          batch_size=256, epochs=50,\n",
    "          #validation_data=(val_x, val_y)\n",
    "         )"
   ]
  },
  {
   "cell_type": "code",
   "execution_count": null,
   "metadata": {
    "collapsed": true
   },
   "outputs": [],
   "source": [
    "score = model.evaluate(test_x, test_y, batch_size=128)"
   ]
  },
  {
   "cell_type": "code",
   "execution_count": null,
   "metadata": {
    "collapsed": true
   },
   "outputs": [],
   "source": [
    "score"
   ]
  },
  {
   "cell_type": "code",
   "execution_count": null,
   "metadata": {
    "collapsed": true
   },
   "outputs": [],
   "source": [
    "trainPredict = model.predict(train_x)\n",
    "testPredict = model.predict(test_x)"
   ]
  },
  {
   "cell_type": "code",
   "execution_count": null,
   "metadata": {
    "collapsed": true
   },
   "outputs": [],
   "source": [
    "trainPredict[0:5]"
   ]
  },
  {
   "cell_type": "code",
   "execution_count": null,
   "metadata": {
    "collapsed": true
   },
   "outputs": [],
   "source": [
    "testPredict.shape"
   ]
  },
  {
   "cell_type": "code",
   "execution_count": null,
   "metadata": {
    "collapsed": true
   },
   "outputs": [],
   "source": [
    "testPredict[0:5]"
   ]
  },
  {
   "cell_type": "markdown",
   "metadata": {},
   "source": [
    "### LSTM round 2\n",
    "- Use the original OHLC data, not grouped data. "
   ]
  },
  {
   "cell_type": "code",
   "execution_count": null,
   "metadata": {
    "collapsed": true
   },
   "outputs": [],
   "source": [
    "type(df_ohlc_and_rectangles)"
   ]
  },
  {
   "cell_type": "code",
   "execution_count": null,
   "metadata": {
    "collapsed": true
   },
   "outputs": [],
   "source": [
    "df_ohlc_and_rectangles[0:3]"
   ]
  },
  {
   "cell_type": "code",
   "execution_count": null,
   "metadata": {
    "collapsed": true
   },
   "outputs": [],
   "source": [
    "X_train = np.array(df_ohlc_and_rectangles[['O','H','L','C']])"
   ]
  },
  {
   "cell_type": "code",
   "execution_count": null,
   "metadata": {
    "collapsed": true
   },
   "outputs": [],
   "source": [
    "y_train = np.array(df_ohlc_and_rectangles[['rectangle_here']])"
   ]
  },
  {
   "cell_type": "code",
   "execution_count": null,
   "metadata": {
    "collapsed": true
   },
   "outputs": [],
   "source": [
    "X_train.shape"
   ]
  },
  {
   "cell_type": "code",
   "execution_count": null,
   "metadata": {
    "collapsed": true
   },
   "outputs": [],
   "source": [
    "#from keras.datasets import imdb\n",
    "from keras.models import Sequential\n",
    "from keras.layers import Dense\n",
    "from keras.layers import LSTM\n",
    "from keras.layers.convolutional import Conv1D\n",
    "from keras.layers.convolutional import MaxPooling1D\n",
    "from keras.layers.embeddings import Embedding\n",
    "from keras.preprocessing import sequence"
   ]
  },
  {
   "cell_type": "code",
   "execution_count": null,
   "metadata": {
    "collapsed": true
   },
   "outputs": [],
   "source": [
    "#max_window_length = 8\n",
    "X_train = sequence.pad_sequences(X_train, maxlen=max_window_length)\n",
    "#X_test = sequence.pad_sequences(X_test, maxlen=max_window_length)"
   ]
  },
  {
   "cell_type": "code",
   "execution_count": null,
   "metadata": {
    "collapsed": true
   },
   "outputs": [],
   "source": [
    "y_train.shape"
   ]
  },
  {
   "cell_type": "code",
   "execution_count": null,
   "metadata": {
    "collapsed": true
   },
   "outputs": [],
   "source": [
    "# reshape into X=t and Y=t+1\n",
    "look_back = 3\n",
    "trainX, trainY = create_dataset(train, look_back)\n",
    "testX, testY = create_dataset(test, look_back)\n",
    "# reshape input to be [samples, time steps, features]\n",
    "trainX = numpy.reshape(trainX, (trainX.shape[0], 1, trainX.shape[1]))\n",
    "testX = numpy.reshape(testX, (testX.shape[0], 1, testX.shape[1]))\n",
    "# create and fit the LSTM network\n",
    "model = Sequential()\n",
    "model.add(LSTM(4, input_shape=(1, look_back)))\n",
    "model.add(Dense(1, activation='sigmoid'))\n",
    "model.compile(loss='binary_crossentropy', optimizer='adam', metrics=['accuracy'])\n",
    "print(model.summary())\n",
    "model.fit(X_train, y_train, nb_epoch=3, batch_size=64)"
   ]
  },
  {
   "cell_type": "code",
   "execution_count": null,
   "metadata": {
    "collapsed": true
   },
   "outputs": [],
   "source": []
  }
 ],
 "metadata": {
  "kernelspec": {
   "display_name": "Python 3",
   "language": "python",
   "name": "python3"
  },
  "language_info": {
   "codemirror_mode": {
    "name": "ipython",
    "version": 3
   },
   "file_extension": ".py",
   "mimetype": "text/x-python",
   "name": "python",
   "nbconvert_exporter": "python",
   "pygments_lexer": "ipython3",
   "version": "3.5.2"
  }
 },
 "nbformat": 4,
 "nbformat_minor": 2
}
