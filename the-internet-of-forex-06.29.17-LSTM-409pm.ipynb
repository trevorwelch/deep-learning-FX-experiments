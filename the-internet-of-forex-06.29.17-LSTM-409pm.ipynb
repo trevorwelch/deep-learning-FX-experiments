{
 "cells": [
  {
   "cell_type": "code",
   "execution_count": 1,
   "metadata": {},
   "outputs": [
    {
     "name": "stderr",
     "output_type": "stream",
     "text": [
      "/Library/Frameworks/Python.framework/Versions/3.5/lib/python3.5/site-packages/sklearn/cross_validation.py:44: DeprecationWarning: This module was deprecated in version 0.18 in favor of the model_selection module into which all the refactored classes and functions are moved. Also note that the interface of the new CV iterators are different from that of this module. This module will be removed in 0.20.\n",
      "  \"This module will be removed in 0.20.\", DeprecationWarning)\n"
     ]
    }
   ],
   "source": [
    "import numpy as np\n",
    "import pandas as pd\n",
    "#pd.set_option('display.max_rows', 100)\n",
    "#pd.set_option('display.max_columns', 100)\n",
    "from bokeh.plotting import figure, show, output_file\n",
    "from bokeh.models import ColumnDataSource, Quad\n",
    "from datetime import datetime\n",
    "from math import pi\n",
    "from sklearn.preprocessing import Imputer\n",
    "from sklearn.preprocessing import StandardScaler\n",
    "from sklearn.preprocessing import MinMaxScaler\n",
    "from sklearn.decomposition import PCA\n",
    "from sklearn.cross_validation import train_test_split\n",
    "from sklearn.metrics import roc_curve, auc, recall_score, precision_score\n",
    "import random\n",
    "import matplotlib.pyplot as plt\n",
    "import seaborn as sns"
   ]
  },
  {
   "cell_type": "code",
   "execution_count": 25,
   "metadata": {},
   "outputs": [],
   "source": [
    "# Keras imports\n",
    "from keras.models import Sequential\n",
    "from keras.layers.core import Dense, Dropout, Activation\n",
    "from keras.layers.convolutional import Convolution2D, MaxPooling2D, Conv1D, Conv2D, MaxPooling2D, MaxPooling1D\n",
    "from keras.layers.wrappers import TimeDistributed\n",
    "from keras.layers.recurrent import LSTM\n",
    "from keras.optimizers import Adam, RMSprop\n",
    "from keras.utils import np_utils, generic_utils\n",
    "from sklearn.metrics import f1_score\n",
    "from keras.models import Model\n",
    "from keras.models import Sequential\n",
    "from keras.wrappers.scikit_learn import KerasClassifier\n",
    "from keras.constraints import maxnorm\n",
    "from keras import regularizers\n",
    "from keras.utils.np_utils import to_categorical\n",
    "from keras.layers.normalization import BatchNormalization\n",
    "from keras.callbacks import EarlyStopping, Callback, LearningRateScheduler, ReduceLROnPlateau, ModelCheckpoint\n",
    "from keras.layers.advanced_activations import LeakyReLU\n",
    "from weightnorm import data_based_init, AdamWithWeightnorm\n",
    "from keras.utils import np_utils\n",
    "import keras.backend as K\n",
    "from itertools import product\n",
    "from functools import partial\n",
    "from keras.layers.noise import GaussianNoise\n",
    "from keras.layers.advanced_activations import ELU\n",
    "from keras.constraints import maxnorm\n",
    "from numpy.random import seed\n",
    "from sklearn.preprocessing import minmax_scale\n",
    "from keras.optimizers import SGD\n",
    "from keras.models import Sequential\n",
    "from keras.layers import Dense, Flatten"
   ]
  },
  {
   "cell_type": "code",
   "execution_count": 3,
   "metadata": {
    "collapsed": true
   },
   "outputs": [],
   "source": [
    "from sklearn import model_selection\n",
    "from sklearn.preprocessing import Imputer\n",
    "from sklearn.model_selection import StratifiedKFold\n",
    "from sklearn.metrics import log_loss\n",
    "import matplotlib.pyplot as plt\n",
    "from sklearn.metrics import classification_report\n",
    "from sklearn.metrics import confusion_matrix\n",
    "from sklearn.metrics import f1_score\n",
    "from sklearn.metrics import roc_auc_score\n",
    "from sklearn.metrics import accuracy_score\n",
    "from sklearn.metrics import average_precision_score\n",
    "from sklearn import cross_validation\n",
    "from sklearn.model_selection import KFold\n",
    "from matplotlib import pyplot\n",
    "from sklearn.decomposition import PCA\n",
    "from sklearn.model_selection import cross_val_score\n",
    "from sklearn.model_selection import GroupKFold"
   ]
  },
  {
   "cell_type": "code",
   "execution_count": 4,
   "metadata": {
    "collapsed": true
   },
   "outputs": [],
   "source": [
    "%matplotlib inline\n",
    "%load_ext autoreload\n",
    "%autoreload 1"
   ]
  },
  {
   "cell_type": "code",
   "execution_count": 5,
   "metadata": {
    "collapsed": true
   },
   "outputs": [],
   "source": [
    "# Import custom scripts and functions\n",
    "%aimport model_performance_evaluation\n",
    "%aimport custom_metrics\n",
    "%aimport data_processing\n",
    "%aimport make_keras_generators"
   ]
  },
  {
   "cell_type": "code",
   "execution_count": 6,
   "metadata": {
    "collapsed": true
   },
   "outputs": [],
   "source": [
    "test_data = [\n",
    "            \"USDCHF1440.csv\",\n",
    "              #\"EURAUD14402.csv\",\n",
    "#              \"EURJPY1440.csv\", \n",
    "#              \"EURGBP1440.csv\"\n",
    "            ]\n",
    "#random.shuffle(test_data)\n",
    "#print(test_data)"
   ]
  },
  {
   "cell_type": "code",
   "execution_count": 7,
   "metadata": {
    "collapsed": true
   },
   "outputs": [],
   "source": [
    "# Create list of target csvs\n",
    "data = [\"EURJPY1440.csv\", \"EURGBP1440.csv\",\"USDCAD1440.csv\",\"GBPUSD1440.csv\",\\\n",
    "        \"EURUSD14402.csv\",\"USDCHF1440.csv\",\"EURAUD14402.csv\",\"AUDUSD1440.csv\",\\\n",
    "               \"GBPJPY1440.csv\", \"NZDUSD1440.csv\"]\n",
    "#random.shuffle(data_no_indi)\n",
    "#print(data_no_indi)"
   ]
  },
  {
   "cell_type": "code",
   "execution_count": 8,
   "metadata": {
    "scrolled": true
   },
   "outputs": [
    {
     "name": "stdout",
     "output_type": "stream",
     "text": [
      "Processing:  EURJPY1440.csv Number  1  of  10\n",
      "We now have: (0, 0) rows of data!\n",
      "Reading in Date, OHLCV, Supply/Demand\n",
      "Renaming df_ohlc column headers for clarity\n",
      "Reading in Rectangle data\n",
      "Renaming df_rects column headers for clarity\n",
      "Identifying supply/demand with supply_or_demand func: EURJPY1440.csv (4950, 12)\n",
      "~~~\n",
      "Identifying zone ends with zone_ender func: EURJPY1440.csv (4950, 14)\n",
      "~~~\n",
      "Your df_norm columns: Index(['O', 'H', 'L', 'C', 'V'], dtype='object')\n",
      "Your df_non_norm columns: Index(['Epoch Date', 'Supply/Demand', 'Object Name', 'Epoch Date Start',\n",
      "       'Epoch Date End', 'Proximal', 'Distal', 'supply_demand',\n",
      "       'rectangle_here', 'Proximal_match_-6_O',\n",
      "       ...\n",
      "       'Distal_match_-4_C', 'Distal_match_-3_C', 'Distal_match_-2_C',\n",
      "       'Distal_match_-1_C', 'Distal_match_0_C', 'Distal_match_1_C',\n",
      "       'Distal_match_2_C', 'Distal_match_3_C', 'Distal_match_4_C',\n",
      "       'Distal_match_5_C'],\n",
      "      dtype='object', length=105)\n",
      "Generating features:  Difference between open and close\n",
      "Shape is now: (4950, 6)\n",
      "~~~\n",
      "Generating features:  Range between high and low\n"
     ]
    },
    {
     "name": "stderr",
     "output_type": "stream",
     "text": [
      "/Users/production204/Github/the-internet-of-forex/data_processing.py:45: SettingWithCopyWarning: \n",
      "A value is trying to be set on a copy of a slice from a DataFrame.\n",
      "Try using .loc[row_indexer,col_indexer] = value instead\n",
      "\n",
      "See the caveats in the documentation: http://pandas.pydata.org/pandas-docs/stable/indexing.html#indexing-view-versus-copy\n",
      "  df_data[\"change_open_close\"] = df_data[\"O\"] - df_data[\"C\"] # add change column, difference between open and close\n",
      "/Users/production204/Github/the-internet-of-forex/data_processing.py:53: SettingWithCopyWarning: \n",
      "A value is trying to be set on a copy of a slice from a DataFrame.\n",
      "Try using .loc[row_indexer,col_indexer] = value instead\n",
      "\n",
      "See the caveats in the documentation: http://pandas.pydata.org/pandas-docs/stable/indexing.html#indexing-view-versus-copy\n",
      "  df_data[\"range_high_low\"] = df_data[\"H\"] - df_data[\"L\"] # add range, difference between high and low\n"
     ]
    },
    {
     "name": "stdout",
     "output_type": "stream",
     "text": [
      "Shape is now: (4950, 7)\n",
      "~~~\n",
      "Generating features:  Range between high and low\n",
      "Shape is now: (4950, 8)\n",
      "~~~\n"
     ]
    },
    {
     "name": "stderr",
     "output_type": "stream",
     "text": [
      "/Users/production204/Github/the-internet-of-forex/data_processing.py:62: SettingWithCopyWarning: \n",
      "A value is trying to be set on a copy of a slice from a DataFrame.\n",
      "Try using .loc[row_indexer,col_indexer] = value instead\n",
      "\n",
      "See the caveats in the documentation: http://pandas.pydata.org/pandas-docs/stable/indexing.html#indexing-view-versus-copy\n",
      "  df_data[\"range_high_close\"] = df_data[\"H\"] - df_data[\"C\"] # add range, difference between high and low\n",
      "/Users/production204/Github/the-internet-of-forex/data_processing.py:69: SettingWithCopyWarning: \n",
      "A value is trying to be set on a copy of a slice from a DataFrame.\n",
      "Try using .loc[row_indexer,col_indexer] = value instead\n",
      "\n",
      "See the caveats in the documentation: http://pandas.pydata.org/pandas-docs/stable/indexing.html#indexing-view-versus-copy\n",
      "  df_data[label] =  df_data[each].rolling(window=6).std()\n",
      "/Users/production204/Github/the-internet-of-forex/data_processing.py:74: SettingWithCopyWarning: \n",
      "A value is trying to be set on a copy of a slice from a DataFrame.\n",
      "Try using .loc[row_indexer,col_indexer] = value instead\n",
      "\n",
      "See the caveats in the documentation: http://pandas.pydata.org/pandas-docs/stable/indexing.html#indexing-view-versus-copy\n",
      "  df_data[label] =  df_data[each].rolling(window=6, center=center).mean()\n",
      "/Users/production204/Github/the-internet-of-forex/data_processing.py:78: SettingWithCopyWarning: \n",
      "A value is trying to be set on a copy of a slice from a DataFrame.\n",
      "Try using .loc[row_indexer,col_indexer] = value instead\n",
      "\n",
      "See the caveats in the documentation: http://pandas.pydata.org/pandas-docs/stable/indexing.html#indexing-view-versus-copy\n",
      "  df_data['rolling_mean_range_HL'] =  df_data['range_high_low'].rolling(window=6, center=center).mean()\n"
     ]
    },
    {
     "name": "stdout",
     "output_type": "stream",
     "text": [
      "Generating features:  Change over time for lookforward/lookback range\n",
      "Generating features:  Range High-Close over time for lookforward/lookback range\n",
      "Generating features:  Diffs over time for lookforward/lookback range\n",
      "Generating features:  Rolling mean for yesterday, today, tomorrow range\n",
      "Generating features:  Std deviation for yesterday, today, tomorrow range\n",
      "Your df_scale_with_PCA: [0, 1, 2, 3, 4, 5, 6, 7, 8, 9, 10, 11, 12, 13, 14, 15, 16, 17, 18, 19, 20, 21, 22, 23, 24, 25, 26, 27, 28, 29, 30, 31, 32, 33, 34, 35, 36, 37, 38, 39, 40, 41, 42, 43, 44, 45, 46, 47, 48, 49, 50, 51, 52, 53, 54, 55, 56, 57, 58, 59, 60, 61, 62, 63, 64, 65, 66, 67, 68, 69, 70, 71, 72, 73, 74, 75, 76, 77, 78, 79, 80, 81, 82, 83, 84, 85, 86, 87, 88, 89, 90, 91, 92, 93, 94, 95, 96, 97, 98, 99, 100, 101, 102, 103, 104, 105, 106, 107, 108, 109, 110, 111, 112, 113, 114, 115, 116, 117, 118, 119, 120, 121, 122, 123, 124, 125, 126, 127, 128, 129, 130, 131, 132, 133, 134, 135, 136, 137, 138, 139, 140, 141, 142, 143, 144, 145, 146, 147, 148, 149, 150, 151, 152, 153, 154, 155, 156, 157, 158, 159, 160, 161, 162, 163, 164, 165, 166, 167, 168, 169, 170, 171, 172, 173, 174, 175, 176, 177, 178, 179, 180, 'PCA1', 'PCA2', 'PCA3', 'PCA4', 'PCA5', 'PCA6', 'PCA7', 'PCA8', 'PCA9', 'PCA10', 'PCA11', 'PCA12']\n",
      "Your df_scale_with_PCA columns are: ['O', 'H', 'L', 'C', 'V', 'change_open_close', 'range_high_low', 'range_high_close', 'O_std_dev', 'H_std_dev', 'L_std_dev', 'C_std_dev', 'V_std_dev', 'O_rolling_mean', 'H_rolling_mean', 'L_rolling_mean', 'C_rolling_mean', 'V_rolling_mean', 'rolling_mean_range_HL', 'change_open_close_change_-4', 'change_open_close_change_-3', 'change_open_close_change_-2', 'change_open_close_change_-1', 'change_open_close_change_0', 'change_open_close_change_1', 'change_open_close_change_2', 'change_open_close_change_3', 'change_open_close_change_4', 'change_open_close_change_5', 'change_open_close_change_6', 'range_high_close_range_-4', 'range_high_close_range_-3', 'range_high_close_range_-2', 'range_high_close_range_-1', 'range_high_close_range_0', 'range_high_close_range_1', 'range_high_close_range_2', 'range_high_close_range_3', 'range_high_close_range_4', 'range_high_close_range_5', 'range_high_close_range_6', 'O_diff_-4', 'H_diff_-4', 'L_diff_-4', 'C_diff_-4', 'V_diff_-4', 'O_diff_-3', 'H_diff_-3', 'L_diff_-3', 'C_diff_-3', 'V_diff_-3', 'O_diff_-2', 'H_diff_-2', 'L_diff_-2', 'C_diff_-2', 'V_diff_-2', 'O_diff_-1', 'H_diff_-1', 'L_diff_-1', 'C_diff_-1', 'V_diff_-1', 'O_diff_0', 'H_diff_0', 'L_diff_0', 'C_diff_0', 'V_diff_0', 'O_diff_1', 'H_diff_1', 'L_diff_1', 'C_diff_1', 'V_diff_1', 'O_diff_2', 'H_diff_2', 'L_diff_2', 'C_diff_2', 'V_diff_2', 'O_diff_3', 'H_diff_3', 'L_diff_3', 'C_diff_3', 'V_diff_3', 'O_diff_4', 'H_diff_4', 'L_diff_4', 'C_diff_4', 'V_diff_4', 'O_diff_5', 'H_diff_5', 'L_diff_5', 'C_diff_5', 'V_diff_5', 'O_diff_6', 'H_diff_6', 'L_diff_6', 'C_diff_6', 'V_diff_6', 'O_rolling_mean_diff_-3', 'H_rolling_mean_diff_-3', 'L_rolling_mean_diff_-3', 'C_rolling_mean_diff_-3', 'V_rolling_mean_diff_-3', 'O_rolling_mean_diff_-2', 'H_rolling_mean_diff_-2', 'L_rolling_mean_diff_-2', 'C_rolling_mean_diff_-2', 'V_rolling_mean_diff_-2', 'O_rolling_mean_diff_-1', 'H_rolling_mean_diff_-1', 'L_rolling_mean_diff_-1', 'C_rolling_mean_diff_-1', 'V_rolling_mean_diff_-1', 'O_rolling_mean_diff_0', 'H_rolling_mean_diff_0', 'L_rolling_mean_diff_0', 'C_rolling_mean_diff_0', 'V_rolling_mean_diff_0', 'O_rolling_mean_diff_1', 'H_rolling_mean_diff_1', 'L_rolling_mean_diff_1', 'C_rolling_mean_diff_1', 'V_rolling_mean_diff_1', 'O_rolling_mean_diff_2', 'H_rolling_mean_diff_2', 'L_rolling_mean_diff_2', 'C_rolling_mean_diff_2', 'V_rolling_mean_diff_2', 'O_rolling_std_dev_shift_-4', 'H_rolling_std_dev_shift_-4', 'L_rolling_std_dev_shift_-4', 'C_rolling_std_dev_shift_-4', 'V_rolling_std_dev_shift_-4', 'O_rolling_std_dev_shift_-3', 'H_rolling_std_dev_shift_-3', 'L_rolling_std_dev_shift_-3', 'C_rolling_std_dev_shift_-3', 'V_rolling_std_dev_shift_-3', 'O_rolling_std_dev_shift_-2', 'H_rolling_std_dev_shift_-2', 'L_rolling_std_dev_shift_-2', 'C_rolling_std_dev_shift_-2', 'V_rolling_std_dev_shift_-2', 'O_rolling_std_dev_shift_-1', 'H_rolling_std_dev_shift_-1', 'L_rolling_std_dev_shift_-1', 'C_rolling_std_dev_shift_-1', 'V_rolling_std_dev_shift_-1', 'O_rolling_std_dev_shift_0', 'H_rolling_std_dev_shift_0', 'L_rolling_std_dev_shift_0', 'C_rolling_std_dev_shift_0', 'V_rolling_std_dev_shift_0', 'O_rolling_std_dev_shift_1', 'H_rolling_std_dev_shift_1', 'L_rolling_std_dev_shift_1', 'C_rolling_std_dev_shift_1', 'V_rolling_std_dev_shift_1', 'O_rolling_std_dev_shift_2', 'H_rolling_std_dev_shift_2', 'L_rolling_std_dev_shift_2', 'C_rolling_std_dev_shift_2', 'V_rolling_std_dev_shift_2', 'O_rolling_std_dev_shift_3', 'H_rolling_std_dev_shift_3', 'L_rolling_std_dev_shift_3', 'C_rolling_std_dev_shift_3', 'V_rolling_std_dev_shift_3', 'O_rolling_std_dev_shift_4', 'H_rolling_std_dev_shift_4', 'L_rolling_std_dev_shift_4', 'C_rolling_std_dev_shift_4', 'V_rolling_std_dev_shift_4', 'O_rolling_std_dev_shift_5', 'H_rolling_std_dev_shift_5', 'L_rolling_std_dev_shift_5', 'C_rolling_std_dev_shift_5', 'V_rolling_std_dev_shift_5', 'O_rolling_std_dev_shift_6', 'H_rolling_std_dev_shift_6', 'L_rolling_std_dev_shift_6', 'C_rolling_std_dev_shift_6', 'V_rolling_std_dev_shift_6', 'PCA1', 'PCA2', 'PCA3', 'PCA4', 'PCA5', 'PCA6', 'PCA7', 'PCA8', 'PCA9', 'PCA10', 'PCA11', 'PCA12']\n",
      "Merging the scaled data and the unscalable data back together with pd.concat: EURJPY1440.csv (4950, 298)\n",
      "Finished: EURJPY1440.csv (4950, 298)\n",
      "--------------------------------\n",
      "Processing:  EURGBP1440.csv Number  2  of  10\n",
      "We now have: (4950, 298) rows of data!\n",
      "Reading in Date, OHLCV, Supply/Demand\n",
      "Renaming df_ohlc column headers for clarity\n",
      "Reading in Rectangle data\n",
      "Renaming df_rects column headers for clarity\n",
      "Identifying supply/demand with supply_or_demand func: EURGBP1440.csv (4951, 12)\n",
      "~~~\n",
      "Identifying zone ends with zone_ender func: EURGBP1440.csv (4951, 14)\n",
      "~~~\n",
      "Your df_norm columns: Index(['O', 'H', 'L', 'C', 'V'], dtype='object')\n",
      "Your df_non_norm columns: Index(['Epoch Date', 'Supply/Demand', 'Object Name', 'Epoch Date Start',\n",
      "       'Epoch Date End', 'Proximal', 'Distal', 'supply_demand',\n",
      "       'rectangle_here', 'Proximal_match_-6_O',\n",
      "       ...\n",
      "       'Distal_match_-4_C', 'Distal_match_-3_C', 'Distal_match_-2_C',\n",
      "       'Distal_match_-1_C', 'Distal_match_0_C', 'Distal_match_1_C',\n",
      "       'Distal_match_2_C', 'Distal_match_3_C', 'Distal_match_4_C',\n",
      "       'Distal_match_5_C'],\n",
      "      dtype='object', length=105)\n",
      "Generating features:  Difference between open and close\n",
      "Shape is now: (4951, 6)\n",
      "~~~\n",
      "Generating features:  Range between high and low\n",
      "Shape is now: (4951, 7)\n",
      "~~~\n",
      "Generating features:  Range between high and low\n",
      "Shape is now: (4951, 8)\n",
      "~~~\n",
      "Generating features:  Change over time for lookforward/lookback range\n",
      "Generating features:  Range High-Close over time for lookforward/lookback range\n",
      "Generating features:  Diffs over time for lookforward/lookback range\n",
      "Generating features:  Rolling mean for yesterday, today, tomorrow range\n",
      "Generating features:  Std deviation for yesterday, today, tomorrow range\n",
      "Your df_scale_with_PCA: [0, 1, 2, 3, 4, 5, 6, 7, 8, 9, 10, 11, 12, 13, 14, 15, 16, 17, 18, 19, 20, 21, 22, 23, 24, 25, 26, 27, 28, 29, 30, 31, 32, 33, 34, 35, 36, 37, 38, 39, 40, 41, 42, 43, 44, 45, 46, 47, 48, 49, 50, 51, 52, 53, 54, 55, 56, 57, 58, 59, 60, 61, 62, 63, 64, 65, 66, 67, 68, 69, 70, 71, 72, 73, 74, 75, 76, 77, 78, 79, 80, 81, 82, 83, 84, 85, 86, 87, 88, 89, 90, 91, 92, 93, 94, 95, 96, 97, 98, 99, 100, 101, 102, 103, 104, 105, 106, 107, 108, 109, 110, 111, 112, 113, 114, 115, 116, 117, 118, 119, 120, 121, 122, 123, 124, 125, 126, 127, 128, 129, 130, 131, 132, 133, 134, 135, 136, 137, 138, 139, 140, 141, 142, 143, 144, 145, 146, 147, 148, 149, 150, 151, 152, 153, 154, 155, 156, 157, 158, 159, 160, 161, 162, 163, 164, 165, 166, 167, 168, 169, 170, 171, 172, 173, 174, 175, 176, 177, 178, 179, 180, 'PCA1', 'PCA2', 'PCA3', 'PCA4', 'PCA5', 'PCA6', 'PCA7', 'PCA8', 'PCA9', 'PCA10', 'PCA11', 'PCA12']\n",
      "Your df_scale_with_PCA columns are: ['O', 'H', 'L', 'C', 'V', 'change_open_close', 'range_high_low', 'range_high_close', 'O_std_dev', 'H_std_dev', 'L_std_dev', 'C_std_dev', 'V_std_dev', 'O_rolling_mean', 'H_rolling_mean', 'L_rolling_mean', 'C_rolling_mean', 'V_rolling_mean', 'rolling_mean_range_HL', 'change_open_close_change_-4', 'change_open_close_change_-3', 'change_open_close_change_-2', 'change_open_close_change_-1', 'change_open_close_change_0', 'change_open_close_change_1', 'change_open_close_change_2', 'change_open_close_change_3', 'change_open_close_change_4', 'change_open_close_change_5', 'change_open_close_change_6', 'range_high_close_range_-4', 'range_high_close_range_-3', 'range_high_close_range_-2', 'range_high_close_range_-1', 'range_high_close_range_0', 'range_high_close_range_1', 'range_high_close_range_2', 'range_high_close_range_3', 'range_high_close_range_4', 'range_high_close_range_5', 'range_high_close_range_6', 'O_diff_-4', 'H_diff_-4', 'L_diff_-4', 'C_diff_-4', 'V_diff_-4', 'O_diff_-3', 'H_diff_-3', 'L_diff_-3', 'C_diff_-3', 'V_diff_-3', 'O_diff_-2', 'H_diff_-2', 'L_diff_-2', 'C_diff_-2', 'V_diff_-2', 'O_diff_-1', 'H_diff_-1', 'L_diff_-1', 'C_diff_-1', 'V_diff_-1', 'O_diff_0', 'H_diff_0', 'L_diff_0', 'C_diff_0', 'V_diff_0', 'O_diff_1', 'H_diff_1', 'L_diff_1', 'C_diff_1', 'V_diff_1', 'O_diff_2', 'H_diff_2', 'L_diff_2', 'C_diff_2', 'V_diff_2', 'O_diff_3', 'H_diff_3', 'L_diff_3', 'C_diff_3', 'V_diff_3', 'O_diff_4', 'H_diff_4', 'L_diff_4', 'C_diff_4', 'V_diff_4', 'O_diff_5', 'H_diff_5', 'L_diff_5', 'C_diff_5', 'V_diff_5', 'O_diff_6', 'H_diff_6', 'L_diff_6', 'C_diff_6', 'V_diff_6', 'O_rolling_mean_diff_-3', 'H_rolling_mean_diff_-3', 'L_rolling_mean_diff_-3', 'C_rolling_mean_diff_-3', 'V_rolling_mean_diff_-3', 'O_rolling_mean_diff_-2', 'H_rolling_mean_diff_-2', 'L_rolling_mean_diff_-2', 'C_rolling_mean_diff_-2', 'V_rolling_mean_diff_-2', 'O_rolling_mean_diff_-1', 'H_rolling_mean_diff_-1', 'L_rolling_mean_diff_-1', 'C_rolling_mean_diff_-1', 'V_rolling_mean_diff_-1', 'O_rolling_mean_diff_0', 'H_rolling_mean_diff_0', 'L_rolling_mean_diff_0', 'C_rolling_mean_diff_0', 'V_rolling_mean_diff_0', 'O_rolling_mean_diff_1', 'H_rolling_mean_diff_1', 'L_rolling_mean_diff_1', 'C_rolling_mean_diff_1', 'V_rolling_mean_diff_1', 'O_rolling_mean_diff_2', 'H_rolling_mean_diff_2', 'L_rolling_mean_diff_2', 'C_rolling_mean_diff_2', 'V_rolling_mean_diff_2', 'O_rolling_std_dev_shift_-4', 'H_rolling_std_dev_shift_-4', 'L_rolling_std_dev_shift_-4', 'C_rolling_std_dev_shift_-4', 'V_rolling_std_dev_shift_-4', 'O_rolling_std_dev_shift_-3', 'H_rolling_std_dev_shift_-3', 'L_rolling_std_dev_shift_-3', 'C_rolling_std_dev_shift_-3', 'V_rolling_std_dev_shift_-3', 'O_rolling_std_dev_shift_-2', 'H_rolling_std_dev_shift_-2', 'L_rolling_std_dev_shift_-2', 'C_rolling_std_dev_shift_-2', 'V_rolling_std_dev_shift_-2', 'O_rolling_std_dev_shift_-1', 'H_rolling_std_dev_shift_-1', 'L_rolling_std_dev_shift_-1', 'C_rolling_std_dev_shift_-1', 'V_rolling_std_dev_shift_-1', 'O_rolling_std_dev_shift_0', 'H_rolling_std_dev_shift_0', 'L_rolling_std_dev_shift_0', 'C_rolling_std_dev_shift_0', 'V_rolling_std_dev_shift_0', 'O_rolling_std_dev_shift_1', 'H_rolling_std_dev_shift_1', 'L_rolling_std_dev_shift_1', 'C_rolling_std_dev_shift_1', 'V_rolling_std_dev_shift_1', 'O_rolling_std_dev_shift_2', 'H_rolling_std_dev_shift_2', 'L_rolling_std_dev_shift_2', 'C_rolling_std_dev_shift_2', 'V_rolling_std_dev_shift_2', 'O_rolling_std_dev_shift_3', 'H_rolling_std_dev_shift_3', 'L_rolling_std_dev_shift_3', 'C_rolling_std_dev_shift_3', 'V_rolling_std_dev_shift_3', 'O_rolling_std_dev_shift_4', 'H_rolling_std_dev_shift_4', 'L_rolling_std_dev_shift_4', 'C_rolling_std_dev_shift_4', 'V_rolling_std_dev_shift_4', 'O_rolling_std_dev_shift_5', 'H_rolling_std_dev_shift_5', 'L_rolling_std_dev_shift_5', 'C_rolling_std_dev_shift_5', 'V_rolling_std_dev_shift_5', 'O_rolling_std_dev_shift_6', 'H_rolling_std_dev_shift_6', 'L_rolling_std_dev_shift_6', 'C_rolling_std_dev_shift_6', 'V_rolling_std_dev_shift_6', 'PCA1', 'PCA2', 'PCA3', 'PCA4', 'PCA5', 'PCA6', 'PCA7', 'PCA8', 'PCA9', 'PCA10', 'PCA11', 'PCA12']\n",
      "Merging the scaled data and the unscalable data back together with pd.concat: EURGBP1440.csv (4951, 298)\n",
      "Finished: EURGBP1440.csv (4951, 298)\n",
      "--------------------------------\n",
      "Processing:  USDCAD1440.csv Number  3  of  10\n",
      "We now have: (9901, 298) rows of data!\n",
      "Reading in Date, OHLCV, Supply/Demand\n",
      "Renaming df_ohlc column headers for clarity\n",
      "Reading in Rectangle data\n",
      "Renaming df_rects column headers for clarity\n",
      "Identifying supply/demand with supply_or_demand func: USDCAD1440.csv (4943, 12)\n",
      "~~~\n"
     ]
    },
    {
     "name": "stdout",
     "output_type": "stream",
     "text": [
      "Identifying zone ends with zone_ender func: USDCAD1440.csv (4943, 14)\n",
      "~~~\n",
      "Your df_norm columns: Index(['O', 'H', 'L', 'C', 'V'], dtype='object')\n",
      "Your df_non_norm columns: Index(['Epoch Date', 'Supply/Demand', 'Object Name', 'Epoch Date Start',\n",
      "       'Epoch Date End', 'Proximal', 'Distal', 'supply_demand',\n",
      "       'rectangle_here', 'Proximal_match_-6_O',\n",
      "       ...\n",
      "       'Distal_match_-4_C', 'Distal_match_-3_C', 'Distal_match_-2_C',\n",
      "       'Distal_match_-1_C', 'Distal_match_0_C', 'Distal_match_1_C',\n",
      "       'Distal_match_2_C', 'Distal_match_3_C', 'Distal_match_4_C',\n",
      "       'Distal_match_5_C'],\n",
      "      dtype='object', length=105)\n",
      "Generating features:  Difference between open and close\n",
      "Shape is now: (4943, 6)\n",
      "~~~\n",
      "Generating features:  Range between high and low\n",
      "Shape is now: (4943, 7)\n",
      "~~~\n",
      "Generating features:  Range between high and low\n",
      "Shape is now: (4943, 8)\n",
      "~~~\n",
      "Generating features:  Change over time for lookforward/lookback range\n",
      "Generating features:  Range High-Close over time for lookforward/lookback range\n",
      "Generating features:  Diffs over time for lookforward/lookback range\n",
      "Generating features:  Rolling mean for yesterday, today, tomorrow range\n",
      "Generating features:  Std deviation for yesterday, today, tomorrow range\n",
      "Your df_scale_with_PCA: [0, 1, 2, 3, 4, 5, 6, 7, 8, 9, 10, 11, 12, 13, 14, 15, 16, 17, 18, 19, 20, 21, 22, 23, 24, 25, 26, 27, 28, 29, 30, 31, 32, 33, 34, 35, 36, 37, 38, 39, 40, 41, 42, 43, 44, 45, 46, 47, 48, 49, 50, 51, 52, 53, 54, 55, 56, 57, 58, 59, 60, 61, 62, 63, 64, 65, 66, 67, 68, 69, 70, 71, 72, 73, 74, 75, 76, 77, 78, 79, 80, 81, 82, 83, 84, 85, 86, 87, 88, 89, 90, 91, 92, 93, 94, 95, 96, 97, 98, 99, 100, 101, 102, 103, 104, 105, 106, 107, 108, 109, 110, 111, 112, 113, 114, 115, 116, 117, 118, 119, 120, 121, 122, 123, 124, 125, 126, 127, 128, 129, 130, 131, 132, 133, 134, 135, 136, 137, 138, 139, 140, 141, 142, 143, 144, 145, 146, 147, 148, 149, 150, 151, 152, 153, 154, 155, 156, 157, 158, 159, 160, 161, 162, 163, 164, 165, 166, 167, 168, 169, 170, 171, 172, 173, 174, 175, 176, 177, 178, 179, 180, 'PCA1', 'PCA2', 'PCA3', 'PCA4', 'PCA5', 'PCA6', 'PCA7', 'PCA8', 'PCA9', 'PCA10', 'PCA11', 'PCA12']\n",
      "Your df_scale_with_PCA columns are: ['O', 'H', 'L', 'C', 'V', 'change_open_close', 'range_high_low', 'range_high_close', 'O_std_dev', 'H_std_dev', 'L_std_dev', 'C_std_dev', 'V_std_dev', 'O_rolling_mean', 'H_rolling_mean', 'L_rolling_mean', 'C_rolling_mean', 'V_rolling_mean', 'rolling_mean_range_HL', 'change_open_close_change_-4', 'change_open_close_change_-3', 'change_open_close_change_-2', 'change_open_close_change_-1', 'change_open_close_change_0', 'change_open_close_change_1', 'change_open_close_change_2', 'change_open_close_change_3', 'change_open_close_change_4', 'change_open_close_change_5', 'change_open_close_change_6', 'range_high_close_range_-4', 'range_high_close_range_-3', 'range_high_close_range_-2', 'range_high_close_range_-1', 'range_high_close_range_0', 'range_high_close_range_1', 'range_high_close_range_2', 'range_high_close_range_3', 'range_high_close_range_4', 'range_high_close_range_5', 'range_high_close_range_6', 'O_diff_-4', 'H_diff_-4', 'L_diff_-4', 'C_diff_-4', 'V_diff_-4', 'O_diff_-3', 'H_diff_-3', 'L_diff_-3', 'C_diff_-3', 'V_diff_-3', 'O_diff_-2', 'H_diff_-2', 'L_diff_-2', 'C_diff_-2', 'V_diff_-2', 'O_diff_-1', 'H_diff_-1', 'L_diff_-1', 'C_diff_-1', 'V_diff_-1', 'O_diff_0', 'H_diff_0', 'L_diff_0', 'C_diff_0', 'V_diff_0', 'O_diff_1', 'H_diff_1', 'L_diff_1', 'C_diff_1', 'V_diff_1', 'O_diff_2', 'H_diff_2', 'L_diff_2', 'C_diff_2', 'V_diff_2', 'O_diff_3', 'H_diff_3', 'L_diff_3', 'C_diff_3', 'V_diff_3', 'O_diff_4', 'H_diff_4', 'L_diff_4', 'C_diff_4', 'V_diff_4', 'O_diff_5', 'H_diff_5', 'L_diff_5', 'C_diff_5', 'V_diff_5', 'O_diff_6', 'H_diff_6', 'L_diff_6', 'C_diff_6', 'V_diff_6', 'O_rolling_mean_diff_-3', 'H_rolling_mean_diff_-3', 'L_rolling_mean_diff_-3', 'C_rolling_mean_diff_-3', 'V_rolling_mean_diff_-3', 'O_rolling_mean_diff_-2', 'H_rolling_mean_diff_-2', 'L_rolling_mean_diff_-2', 'C_rolling_mean_diff_-2', 'V_rolling_mean_diff_-2', 'O_rolling_mean_diff_-1', 'H_rolling_mean_diff_-1', 'L_rolling_mean_diff_-1', 'C_rolling_mean_diff_-1', 'V_rolling_mean_diff_-1', 'O_rolling_mean_diff_0', 'H_rolling_mean_diff_0', 'L_rolling_mean_diff_0', 'C_rolling_mean_diff_0', 'V_rolling_mean_diff_0', 'O_rolling_mean_diff_1', 'H_rolling_mean_diff_1', 'L_rolling_mean_diff_1', 'C_rolling_mean_diff_1', 'V_rolling_mean_diff_1', 'O_rolling_mean_diff_2', 'H_rolling_mean_diff_2', 'L_rolling_mean_diff_2', 'C_rolling_mean_diff_2', 'V_rolling_mean_diff_2', 'O_rolling_std_dev_shift_-4', 'H_rolling_std_dev_shift_-4', 'L_rolling_std_dev_shift_-4', 'C_rolling_std_dev_shift_-4', 'V_rolling_std_dev_shift_-4', 'O_rolling_std_dev_shift_-3', 'H_rolling_std_dev_shift_-3', 'L_rolling_std_dev_shift_-3', 'C_rolling_std_dev_shift_-3', 'V_rolling_std_dev_shift_-3', 'O_rolling_std_dev_shift_-2', 'H_rolling_std_dev_shift_-2', 'L_rolling_std_dev_shift_-2', 'C_rolling_std_dev_shift_-2', 'V_rolling_std_dev_shift_-2', 'O_rolling_std_dev_shift_-1', 'H_rolling_std_dev_shift_-1', 'L_rolling_std_dev_shift_-1', 'C_rolling_std_dev_shift_-1', 'V_rolling_std_dev_shift_-1', 'O_rolling_std_dev_shift_0', 'H_rolling_std_dev_shift_0', 'L_rolling_std_dev_shift_0', 'C_rolling_std_dev_shift_0', 'V_rolling_std_dev_shift_0', 'O_rolling_std_dev_shift_1', 'H_rolling_std_dev_shift_1', 'L_rolling_std_dev_shift_1', 'C_rolling_std_dev_shift_1', 'V_rolling_std_dev_shift_1', 'O_rolling_std_dev_shift_2', 'H_rolling_std_dev_shift_2', 'L_rolling_std_dev_shift_2', 'C_rolling_std_dev_shift_2', 'V_rolling_std_dev_shift_2', 'O_rolling_std_dev_shift_3', 'H_rolling_std_dev_shift_3', 'L_rolling_std_dev_shift_3', 'C_rolling_std_dev_shift_3', 'V_rolling_std_dev_shift_3', 'O_rolling_std_dev_shift_4', 'H_rolling_std_dev_shift_4', 'L_rolling_std_dev_shift_4', 'C_rolling_std_dev_shift_4', 'V_rolling_std_dev_shift_4', 'O_rolling_std_dev_shift_5', 'H_rolling_std_dev_shift_5', 'L_rolling_std_dev_shift_5', 'C_rolling_std_dev_shift_5', 'V_rolling_std_dev_shift_5', 'O_rolling_std_dev_shift_6', 'H_rolling_std_dev_shift_6', 'L_rolling_std_dev_shift_6', 'C_rolling_std_dev_shift_6', 'V_rolling_std_dev_shift_6', 'PCA1', 'PCA2', 'PCA3', 'PCA4', 'PCA5', 'PCA6', 'PCA7', 'PCA8', 'PCA9', 'PCA10', 'PCA11', 'PCA12']\n",
      "Merging the scaled data and the unscalable data back together with pd.concat: USDCAD1440.csv (4943, 298)\n",
      "Finished: USDCAD1440.csv (4943, 298)\n",
      "--------------------------------\n",
      "Processing:  GBPUSD1440.csv Number  4  of  10\n",
      "We now have: (14844, 298) rows of data!\n",
      "Reading in Date, OHLCV, Supply/Demand\n",
      "Renaming df_ohlc column headers for clarity\n",
      "Reading in Rectangle data\n",
      "Renaming df_rects column headers for clarity\n",
      "Identifying supply/demand with supply_or_demand func: GBPUSD1440.csv (4516, 12)\n",
      "~~~\n",
      "Identifying zone ends with zone_ender func: GBPUSD1440.csv (4516, 14)\n",
      "~~~\n",
      "Your df_norm columns: Index(['O', 'H', 'L', 'C', 'V'], dtype='object')\n",
      "Your df_non_norm columns: Index(['Epoch Date', 'Supply/Demand', 'Object Name', 'Epoch Date Start',\n",
      "       'Epoch Date End', 'Proximal', 'Distal', 'supply_demand',\n",
      "       'rectangle_here', 'Proximal_match_-6_O',\n",
      "       ...\n",
      "       'Distal_match_-4_C', 'Distal_match_-3_C', 'Distal_match_-2_C',\n",
      "       'Distal_match_-1_C', 'Distal_match_0_C', 'Distal_match_1_C',\n",
      "       'Distal_match_2_C', 'Distal_match_3_C', 'Distal_match_4_C',\n",
      "       'Distal_match_5_C'],\n",
      "      dtype='object', length=105)\n",
      "Generating features:  Difference between open and close\n",
      "Shape is now: (4516, 6)\n",
      "~~~\n",
      "Generating features:  Range between high and low\n",
      "Shape is now: (4516, 7)\n",
      "~~~\n",
      "Generating features:  Range between high and low\n",
      "Shape is now: (4516, 8)\n",
      "~~~\n",
      "Generating features:  Change over time for lookforward/lookback range\n",
      "Generating features:  Range High-Close over time for lookforward/lookback range\n",
      "Generating features:  Diffs over time for lookforward/lookback range\n",
      "Generating features:  Rolling mean for yesterday, today, tomorrow range\n",
      "Generating features:  Std deviation for yesterday, today, tomorrow range\n",
      "Your df_scale_with_PCA: [0, 1, 2, 3, 4, 5, 6, 7, 8, 9, 10, 11, 12, 13, 14, 15, 16, 17, 18, 19, 20, 21, 22, 23, 24, 25, 26, 27, 28, 29, 30, 31, 32, 33, 34, 35, 36, 37, 38, 39, 40, 41, 42, 43, 44, 45, 46, 47, 48, 49, 50, 51, 52, 53, 54, 55, 56, 57, 58, 59, 60, 61, 62, 63, 64, 65, 66, 67, 68, 69, 70, 71, 72, 73, 74, 75, 76, 77, 78, 79, 80, 81, 82, 83, 84, 85, 86, 87, 88, 89, 90, 91, 92, 93, 94, 95, 96, 97, 98, 99, 100, 101, 102, 103, 104, 105, 106, 107, 108, 109, 110, 111, 112, 113, 114, 115, 116, 117, 118, 119, 120, 121, 122, 123, 124, 125, 126, 127, 128, 129, 130, 131, 132, 133, 134, 135, 136, 137, 138, 139, 140, 141, 142, 143, 144, 145, 146, 147, 148, 149, 150, 151, 152, 153, 154, 155, 156, 157, 158, 159, 160, 161, 162, 163, 164, 165, 166, 167, 168, 169, 170, 171, 172, 173, 174, 175, 176, 177, 178, 179, 180, 'PCA1', 'PCA2', 'PCA3', 'PCA4', 'PCA5', 'PCA6', 'PCA7', 'PCA8', 'PCA9', 'PCA10', 'PCA11', 'PCA12']\n",
      "Your df_scale_with_PCA columns are: ['O', 'H', 'L', 'C', 'V', 'change_open_close', 'range_high_low', 'range_high_close', 'O_std_dev', 'H_std_dev', 'L_std_dev', 'C_std_dev', 'V_std_dev', 'O_rolling_mean', 'H_rolling_mean', 'L_rolling_mean', 'C_rolling_mean', 'V_rolling_mean', 'rolling_mean_range_HL', 'change_open_close_change_-4', 'change_open_close_change_-3', 'change_open_close_change_-2', 'change_open_close_change_-1', 'change_open_close_change_0', 'change_open_close_change_1', 'change_open_close_change_2', 'change_open_close_change_3', 'change_open_close_change_4', 'change_open_close_change_5', 'change_open_close_change_6', 'range_high_close_range_-4', 'range_high_close_range_-3', 'range_high_close_range_-2', 'range_high_close_range_-1', 'range_high_close_range_0', 'range_high_close_range_1', 'range_high_close_range_2', 'range_high_close_range_3', 'range_high_close_range_4', 'range_high_close_range_5', 'range_high_close_range_6', 'O_diff_-4', 'H_diff_-4', 'L_diff_-4', 'C_diff_-4', 'V_diff_-4', 'O_diff_-3', 'H_diff_-3', 'L_diff_-3', 'C_diff_-3', 'V_diff_-3', 'O_diff_-2', 'H_diff_-2', 'L_diff_-2', 'C_diff_-2', 'V_diff_-2', 'O_diff_-1', 'H_diff_-1', 'L_diff_-1', 'C_diff_-1', 'V_diff_-1', 'O_diff_0', 'H_diff_0', 'L_diff_0', 'C_diff_0', 'V_diff_0', 'O_diff_1', 'H_diff_1', 'L_diff_1', 'C_diff_1', 'V_diff_1', 'O_diff_2', 'H_diff_2', 'L_diff_2', 'C_diff_2', 'V_diff_2', 'O_diff_3', 'H_diff_3', 'L_diff_3', 'C_diff_3', 'V_diff_3', 'O_diff_4', 'H_diff_4', 'L_diff_4', 'C_diff_4', 'V_diff_4', 'O_diff_5', 'H_diff_5', 'L_diff_5', 'C_diff_5', 'V_diff_5', 'O_diff_6', 'H_diff_6', 'L_diff_6', 'C_diff_6', 'V_diff_6', 'O_rolling_mean_diff_-3', 'H_rolling_mean_diff_-3', 'L_rolling_mean_diff_-3', 'C_rolling_mean_diff_-3', 'V_rolling_mean_diff_-3', 'O_rolling_mean_diff_-2', 'H_rolling_mean_diff_-2', 'L_rolling_mean_diff_-2', 'C_rolling_mean_diff_-2', 'V_rolling_mean_diff_-2', 'O_rolling_mean_diff_-1', 'H_rolling_mean_diff_-1', 'L_rolling_mean_diff_-1', 'C_rolling_mean_diff_-1', 'V_rolling_mean_diff_-1', 'O_rolling_mean_diff_0', 'H_rolling_mean_diff_0', 'L_rolling_mean_diff_0', 'C_rolling_mean_diff_0', 'V_rolling_mean_diff_0', 'O_rolling_mean_diff_1', 'H_rolling_mean_diff_1', 'L_rolling_mean_diff_1', 'C_rolling_mean_diff_1', 'V_rolling_mean_diff_1', 'O_rolling_mean_diff_2', 'H_rolling_mean_diff_2', 'L_rolling_mean_diff_2', 'C_rolling_mean_diff_2', 'V_rolling_mean_diff_2', 'O_rolling_std_dev_shift_-4', 'H_rolling_std_dev_shift_-4', 'L_rolling_std_dev_shift_-4', 'C_rolling_std_dev_shift_-4', 'V_rolling_std_dev_shift_-4', 'O_rolling_std_dev_shift_-3', 'H_rolling_std_dev_shift_-3', 'L_rolling_std_dev_shift_-3', 'C_rolling_std_dev_shift_-3', 'V_rolling_std_dev_shift_-3', 'O_rolling_std_dev_shift_-2', 'H_rolling_std_dev_shift_-2', 'L_rolling_std_dev_shift_-2', 'C_rolling_std_dev_shift_-2', 'V_rolling_std_dev_shift_-2', 'O_rolling_std_dev_shift_-1', 'H_rolling_std_dev_shift_-1', 'L_rolling_std_dev_shift_-1', 'C_rolling_std_dev_shift_-1', 'V_rolling_std_dev_shift_-1', 'O_rolling_std_dev_shift_0', 'H_rolling_std_dev_shift_0', 'L_rolling_std_dev_shift_0', 'C_rolling_std_dev_shift_0', 'V_rolling_std_dev_shift_0', 'O_rolling_std_dev_shift_1', 'H_rolling_std_dev_shift_1', 'L_rolling_std_dev_shift_1', 'C_rolling_std_dev_shift_1', 'V_rolling_std_dev_shift_1', 'O_rolling_std_dev_shift_2', 'H_rolling_std_dev_shift_2', 'L_rolling_std_dev_shift_2', 'C_rolling_std_dev_shift_2', 'V_rolling_std_dev_shift_2', 'O_rolling_std_dev_shift_3', 'H_rolling_std_dev_shift_3', 'L_rolling_std_dev_shift_3', 'C_rolling_std_dev_shift_3', 'V_rolling_std_dev_shift_3', 'O_rolling_std_dev_shift_4', 'H_rolling_std_dev_shift_4', 'L_rolling_std_dev_shift_4', 'C_rolling_std_dev_shift_4', 'V_rolling_std_dev_shift_4', 'O_rolling_std_dev_shift_5', 'H_rolling_std_dev_shift_5', 'L_rolling_std_dev_shift_5', 'C_rolling_std_dev_shift_5', 'V_rolling_std_dev_shift_5', 'O_rolling_std_dev_shift_6', 'H_rolling_std_dev_shift_6', 'L_rolling_std_dev_shift_6', 'C_rolling_std_dev_shift_6', 'V_rolling_std_dev_shift_6', 'PCA1', 'PCA2', 'PCA3', 'PCA4', 'PCA5', 'PCA6', 'PCA7', 'PCA8', 'PCA9', 'PCA10', 'PCA11', 'PCA12']\n",
      "Merging the scaled data and the unscalable data back together with pd.concat: GBPUSD1440.csv (4516, 298)\n",
      "Finished: GBPUSD1440.csv (4516, 298)\n",
      "--------------------------------\n",
      "Processing:  EURUSD14402.csv Number  5  of  10\n",
      "We now have: (19360, 298) rows of data!\n",
      "Reading in Date, OHLCV, Supply/Demand\n",
      "Renaming df_ohlc column headers for clarity\n",
      "Reading in Rectangle data\n",
      "Renaming df_rects column headers for clarity\n",
      "Identifying supply/demand with supply_or_demand func: EURUSD14402.csv (4949, 12)\n",
      "~~~\n"
     ]
    },
    {
     "name": "stdout",
     "output_type": "stream",
     "text": [
      "Identifying zone ends with zone_ender func: EURUSD14402.csv (4949, 14)\n",
      "~~~\n",
      "Your df_norm columns: Index(['O', 'H', 'L', 'C', 'V'], dtype='object')\n",
      "Your df_non_norm columns: Index(['Epoch Date', 'Supply/Demand', 'Object Name', 'Epoch Date Start',\n",
      "       'Epoch Date End', 'Proximal', 'Distal', 'supply_demand',\n",
      "       'rectangle_here', 'Proximal_match_-6_O',\n",
      "       ...\n",
      "       'Distal_match_-4_C', 'Distal_match_-3_C', 'Distal_match_-2_C',\n",
      "       'Distal_match_-1_C', 'Distal_match_0_C', 'Distal_match_1_C',\n",
      "       'Distal_match_2_C', 'Distal_match_3_C', 'Distal_match_4_C',\n",
      "       'Distal_match_5_C'],\n",
      "      dtype='object', length=105)\n",
      "Generating features:  Difference between open and close\n",
      "Shape is now: (4949, 6)\n",
      "~~~\n",
      "Generating features:  Range between high and low\n",
      "Shape is now: (4949, 7)\n",
      "~~~\n",
      "Generating features:  Range between high and low\n",
      "Shape is now: (4949, 8)\n",
      "~~~\n",
      "Generating features:  Change over time for lookforward/lookback range\n",
      "Generating features:  Range High-Close over time for lookforward/lookback range\n",
      "Generating features:  Diffs over time for lookforward/lookback range\n",
      "Generating features:  Rolling mean for yesterday, today, tomorrow range\n",
      "Generating features:  Std deviation for yesterday, today, tomorrow range\n",
      "Your df_scale_with_PCA: [0, 1, 2, 3, 4, 5, 6, 7, 8, 9, 10, 11, 12, 13, 14, 15, 16, 17, 18, 19, 20, 21, 22, 23, 24, 25, 26, 27, 28, 29, 30, 31, 32, 33, 34, 35, 36, 37, 38, 39, 40, 41, 42, 43, 44, 45, 46, 47, 48, 49, 50, 51, 52, 53, 54, 55, 56, 57, 58, 59, 60, 61, 62, 63, 64, 65, 66, 67, 68, 69, 70, 71, 72, 73, 74, 75, 76, 77, 78, 79, 80, 81, 82, 83, 84, 85, 86, 87, 88, 89, 90, 91, 92, 93, 94, 95, 96, 97, 98, 99, 100, 101, 102, 103, 104, 105, 106, 107, 108, 109, 110, 111, 112, 113, 114, 115, 116, 117, 118, 119, 120, 121, 122, 123, 124, 125, 126, 127, 128, 129, 130, 131, 132, 133, 134, 135, 136, 137, 138, 139, 140, 141, 142, 143, 144, 145, 146, 147, 148, 149, 150, 151, 152, 153, 154, 155, 156, 157, 158, 159, 160, 161, 162, 163, 164, 165, 166, 167, 168, 169, 170, 171, 172, 173, 174, 175, 176, 177, 178, 179, 180, 'PCA1', 'PCA2', 'PCA3', 'PCA4', 'PCA5', 'PCA6', 'PCA7', 'PCA8', 'PCA9', 'PCA10', 'PCA11', 'PCA12']\n",
      "Your df_scale_with_PCA columns are: ['O', 'H', 'L', 'C', 'V', 'change_open_close', 'range_high_low', 'range_high_close', 'O_std_dev', 'H_std_dev', 'L_std_dev', 'C_std_dev', 'V_std_dev', 'O_rolling_mean', 'H_rolling_mean', 'L_rolling_mean', 'C_rolling_mean', 'V_rolling_mean', 'rolling_mean_range_HL', 'change_open_close_change_-4', 'change_open_close_change_-3', 'change_open_close_change_-2', 'change_open_close_change_-1', 'change_open_close_change_0', 'change_open_close_change_1', 'change_open_close_change_2', 'change_open_close_change_3', 'change_open_close_change_4', 'change_open_close_change_5', 'change_open_close_change_6', 'range_high_close_range_-4', 'range_high_close_range_-3', 'range_high_close_range_-2', 'range_high_close_range_-1', 'range_high_close_range_0', 'range_high_close_range_1', 'range_high_close_range_2', 'range_high_close_range_3', 'range_high_close_range_4', 'range_high_close_range_5', 'range_high_close_range_6', 'O_diff_-4', 'H_diff_-4', 'L_diff_-4', 'C_diff_-4', 'V_diff_-4', 'O_diff_-3', 'H_diff_-3', 'L_diff_-3', 'C_diff_-3', 'V_diff_-3', 'O_diff_-2', 'H_diff_-2', 'L_diff_-2', 'C_diff_-2', 'V_diff_-2', 'O_diff_-1', 'H_diff_-1', 'L_diff_-1', 'C_diff_-1', 'V_diff_-1', 'O_diff_0', 'H_diff_0', 'L_diff_0', 'C_diff_0', 'V_diff_0', 'O_diff_1', 'H_diff_1', 'L_diff_1', 'C_diff_1', 'V_diff_1', 'O_diff_2', 'H_diff_2', 'L_diff_2', 'C_diff_2', 'V_diff_2', 'O_diff_3', 'H_diff_3', 'L_diff_3', 'C_diff_3', 'V_diff_3', 'O_diff_4', 'H_diff_4', 'L_diff_4', 'C_diff_4', 'V_diff_4', 'O_diff_5', 'H_diff_5', 'L_diff_5', 'C_diff_5', 'V_diff_5', 'O_diff_6', 'H_diff_6', 'L_diff_6', 'C_diff_6', 'V_diff_6', 'O_rolling_mean_diff_-3', 'H_rolling_mean_diff_-3', 'L_rolling_mean_diff_-3', 'C_rolling_mean_diff_-3', 'V_rolling_mean_diff_-3', 'O_rolling_mean_diff_-2', 'H_rolling_mean_diff_-2', 'L_rolling_mean_diff_-2', 'C_rolling_mean_diff_-2', 'V_rolling_mean_diff_-2', 'O_rolling_mean_diff_-1', 'H_rolling_mean_diff_-1', 'L_rolling_mean_diff_-1', 'C_rolling_mean_diff_-1', 'V_rolling_mean_diff_-1', 'O_rolling_mean_diff_0', 'H_rolling_mean_diff_0', 'L_rolling_mean_diff_0', 'C_rolling_mean_diff_0', 'V_rolling_mean_diff_0', 'O_rolling_mean_diff_1', 'H_rolling_mean_diff_1', 'L_rolling_mean_diff_1', 'C_rolling_mean_diff_1', 'V_rolling_mean_diff_1', 'O_rolling_mean_diff_2', 'H_rolling_mean_diff_2', 'L_rolling_mean_diff_2', 'C_rolling_mean_diff_2', 'V_rolling_mean_diff_2', 'O_rolling_std_dev_shift_-4', 'H_rolling_std_dev_shift_-4', 'L_rolling_std_dev_shift_-4', 'C_rolling_std_dev_shift_-4', 'V_rolling_std_dev_shift_-4', 'O_rolling_std_dev_shift_-3', 'H_rolling_std_dev_shift_-3', 'L_rolling_std_dev_shift_-3', 'C_rolling_std_dev_shift_-3', 'V_rolling_std_dev_shift_-3', 'O_rolling_std_dev_shift_-2', 'H_rolling_std_dev_shift_-2', 'L_rolling_std_dev_shift_-2', 'C_rolling_std_dev_shift_-2', 'V_rolling_std_dev_shift_-2', 'O_rolling_std_dev_shift_-1', 'H_rolling_std_dev_shift_-1', 'L_rolling_std_dev_shift_-1', 'C_rolling_std_dev_shift_-1', 'V_rolling_std_dev_shift_-1', 'O_rolling_std_dev_shift_0', 'H_rolling_std_dev_shift_0', 'L_rolling_std_dev_shift_0', 'C_rolling_std_dev_shift_0', 'V_rolling_std_dev_shift_0', 'O_rolling_std_dev_shift_1', 'H_rolling_std_dev_shift_1', 'L_rolling_std_dev_shift_1', 'C_rolling_std_dev_shift_1', 'V_rolling_std_dev_shift_1', 'O_rolling_std_dev_shift_2', 'H_rolling_std_dev_shift_2', 'L_rolling_std_dev_shift_2', 'C_rolling_std_dev_shift_2', 'V_rolling_std_dev_shift_2', 'O_rolling_std_dev_shift_3', 'H_rolling_std_dev_shift_3', 'L_rolling_std_dev_shift_3', 'C_rolling_std_dev_shift_3', 'V_rolling_std_dev_shift_3', 'O_rolling_std_dev_shift_4', 'H_rolling_std_dev_shift_4', 'L_rolling_std_dev_shift_4', 'C_rolling_std_dev_shift_4', 'V_rolling_std_dev_shift_4', 'O_rolling_std_dev_shift_5', 'H_rolling_std_dev_shift_5', 'L_rolling_std_dev_shift_5', 'C_rolling_std_dev_shift_5', 'V_rolling_std_dev_shift_5', 'O_rolling_std_dev_shift_6', 'H_rolling_std_dev_shift_6', 'L_rolling_std_dev_shift_6', 'C_rolling_std_dev_shift_6', 'V_rolling_std_dev_shift_6', 'PCA1', 'PCA2', 'PCA3', 'PCA4', 'PCA5', 'PCA6', 'PCA7', 'PCA8', 'PCA9', 'PCA10', 'PCA11', 'PCA12']\n",
      "Merging the scaled data and the unscalable data back together with pd.concat: EURUSD14402.csv (4949, 298)\n",
      "Finished: EURUSD14402.csv (4949, 298)\n",
      "--------------------------------\n",
      "Processing:  USDCHF1440.csv Number  6  of  10\n",
      "We now have: (24309, 298) rows of data!\n",
      "Reading in Date, OHLCV, Supply/Demand\n",
      "Renaming df_ohlc column headers for clarity\n",
      "Reading in Rectangle data\n",
      "Renaming df_rects column headers for clarity\n",
      "Identifying supply/demand with supply_or_demand func: USDCHF1440.csv (4887, 12)\n",
      "~~~\n",
      "Identifying zone ends with zone_ender func: USDCHF1440.csv (4887, 14)\n",
      "~~~\n",
      "Your df_norm columns: Index(['O', 'H', 'L', 'C', 'V'], dtype='object')\n",
      "Your df_non_norm columns: Index(['Epoch Date', 'Supply/Demand', 'Object Name', 'Epoch Date Start',\n",
      "       'Epoch Date End', 'Proximal', 'Distal', 'supply_demand',\n",
      "       'rectangle_here', 'Proximal_match_-6_O',\n",
      "       ...\n",
      "       'Distal_match_-4_C', 'Distal_match_-3_C', 'Distal_match_-2_C',\n",
      "       'Distal_match_-1_C', 'Distal_match_0_C', 'Distal_match_1_C',\n",
      "       'Distal_match_2_C', 'Distal_match_3_C', 'Distal_match_4_C',\n",
      "       'Distal_match_5_C'],\n",
      "      dtype='object', length=105)\n",
      "Generating features:  Difference between open and close\n",
      "Shape is now: (4887, 6)\n",
      "~~~\n",
      "Generating features:  Range between high and low\n",
      "Shape is now: (4887, 7)\n",
      "~~~\n",
      "Generating features:  Range between high and low\n",
      "Shape is now: (4887, 8)\n",
      "~~~\n",
      "Generating features:  Change over time for lookforward/lookback range\n",
      "Generating features:  Range High-Close over time for lookforward/lookback range\n",
      "Generating features:  Diffs over time for lookforward/lookback range\n",
      "Generating features:  Rolling mean for yesterday, today, tomorrow range\n",
      "Generating features:  Std deviation for yesterday, today, tomorrow range\n",
      "Your df_scale_with_PCA: [0, 1, 2, 3, 4, 5, 6, 7, 8, 9, 10, 11, 12, 13, 14, 15, 16, 17, 18, 19, 20, 21, 22, 23, 24, 25, 26, 27, 28, 29, 30, 31, 32, 33, 34, 35, 36, 37, 38, 39, 40, 41, 42, 43, 44, 45, 46, 47, 48, 49, 50, 51, 52, 53, 54, 55, 56, 57, 58, 59, 60, 61, 62, 63, 64, 65, 66, 67, 68, 69, 70, 71, 72, 73, 74, 75, 76, 77, 78, 79, 80, 81, 82, 83, 84, 85, 86, 87, 88, 89, 90, 91, 92, 93, 94, 95, 96, 97, 98, 99, 100, 101, 102, 103, 104, 105, 106, 107, 108, 109, 110, 111, 112, 113, 114, 115, 116, 117, 118, 119, 120, 121, 122, 123, 124, 125, 126, 127, 128, 129, 130, 131, 132, 133, 134, 135, 136, 137, 138, 139, 140, 141, 142, 143, 144, 145, 146, 147, 148, 149, 150, 151, 152, 153, 154, 155, 156, 157, 158, 159, 160, 161, 162, 163, 164, 165, 166, 167, 168, 169, 170, 171, 172, 173, 174, 175, 176, 177, 178, 179, 180, 'PCA1', 'PCA2', 'PCA3', 'PCA4', 'PCA5', 'PCA6', 'PCA7', 'PCA8', 'PCA9', 'PCA10', 'PCA11', 'PCA12']\n",
      "Your df_scale_with_PCA columns are: ['O', 'H', 'L', 'C', 'V', 'change_open_close', 'range_high_low', 'range_high_close', 'O_std_dev', 'H_std_dev', 'L_std_dev', 'C_std_dev', 'V_std_dev', 'O_rolling_mean', 'H_rolling_mean', 'L_rolling_mean', 'C_rolling_mean', 'V_rolling_mean', 'rolling_mean_range_HL', 'change_open_close_change_-4', 'change_open_close_change_-3', 'change_open_close_change_-2', 'change_open_close_change_-1', 'change_open_close_change_0', 'change_open_close_change_1', 'change_open_close_change_2', 'change_open_close_change_3', 'change_open_close_change_4', 'change_open_close_change_5', 'change_open_close_change_6', 'range_high_close_range_-4', 'range_high_close_range_-3', 'range_high_close_range_-2', 'range_high_close_range_-1', 'range_high_close_range_0', 'range_high_close_range_1', 'range_high_close_range_2', 'range_high_close_range_3', 'range_high_close_range_4', 'range_high_close_range_5', 'range_high_close_range_6', 'O_diff_-4', 'H_diff_-4', 'L_diff_-4', 'C_diff_-4', 'V_diff_-4', 'O_diff_-3', 'H_diff_-3', 'L_diff_-3', 'C_diff_-3', 'V_diff_-3', 'O_diff_-2', 'H_diff_-2', 'L_diff_-2', 'C_diff_-2', 'V_diff_-2', 'O_diff_-1', 'H_diff_-1', 'L_diff_-1', 'C_diff_-1', 'V_diff_-1', 'O_diff_0', 'H_diff_0', 'L_diff_0', 'C_diff_0', 'V_diff_0', 'O_diff_1', 'H_diff_1', 'L_diff_1', 'C_diff_1', 'V_diff_1', 'O_diff_2', 'H_diff_2', 'L_diff_2', 'C_diff_2', 'V_diff_2', 'O_diff_3', 'H_diff_3', 'L_diff_3', 'C_diff_3', 'V_diff_3', 'O_diff_4', 'H_diff_4', 'L_diff_4', 'C_diff_4', 'V_diff_4', 'O_diff_5', 'H_diff_5', 'L_diff_5', 'C_diff_5', 'V_diff_5', 'O_diff_6', 'H_diff_6', 'L_diff_6', 'C_diff_6', 'V_diff_6', 'O_rolling_mean_diff_-3', 'H_rolling_mean_diff_-3', 'L_rolling_mean_diff_-3', 'C_rolling_mean_diff_-3', 'V_rolling_mean_diff_-3', 'O_rolling_mean_diff_-2', 'H_rolling_mean_diff_-2', 'L_rolling_mean_diff_-2', 'C_rolling_mean_diff_-2', 'V_rolling_mean_diff_-2', 'O_rolling_mean_diff_-1', 'H_rolling_mean_diff_-1', 'L_rolling_mean_diff_-1', 'C_rolling_mean_diff_-1', 'V_rolling_mean_diff_-1', 'O_rolling_mean_diff_0', 'H_rolling_mean_diff_0', 'L_rolling_mean_diff_0', 'C_rolling_mean_diff_0', 'V_rolling_mean_diff_0', 'O_rolling_mean_diff_1', 'H_rolling_mean_diff_1', 'L_rolling_mean_diff_1', 'C_rolling_mean_diff_1', 'V_rolling_mean_diff_1', 'O_rolling_mean_diff_2', 'H_rolling_mean_diff_2', 'L_rolling_mean_diff_2', 'C_rolling_mean_diff_2', 'V_rolling_mean_diff_2', 'O_rolling_std_dev_shift_-4', 'H_rolling_std_dev_shift_-4', 'L_rolling_std_dev_shift_-4', 'C_rolling_std_dev_shift_-4', 'V_rolling_std_dev_shift_-4', 'O_rolling_std_dev_shift_-3', 'H_rolling_std_dev_shift_-3', 'L_rolling_std_dev_shift_-3', 'C_rolling_std_dev_shift_-3', 'V_rolling_std_dev_shift_-3', 'O_rolling_std_dev_shift_-2', 'H_rolling_std_dev_shift_-2', 'L_rolling_std_dev_shift_-2', 'C_rolling_std_dev_shift_-2', 'V_rolling_std_dev_shift_-2', 'O_rolling_std_dev_shift_-1', 'H_rolling_std_dev_shift_-1', 'L_rolling_std_dev_shift_-1', 'C_rolling_std_dev_shift_-1', 'V_rolling_std_dev_shift_-1', 'O_rolling_std_dev_shift_0', 'H_rolling_std_dev_shift_0', 'L_rolling_std_dev_shift_0', 'C_rolling_std_dev_shift_0', 'V_rolling_std_dev_shift_0', 'O_rolling_std_dev_shift_1', 'H_rolling_std_dev_shift_1', 'L_rolling_std_dev_shift_1', 'C_rolling_std_dev_shift_1', 'V_rolling_std_dev_shift_1', 'O_rolling_std_dev_shift_2', 'H_rolling_std_dev_shift_2', 'L_rolling_std_dev_shift_2', 'C_rolling_std_dev_shift_2', 'V_rolling_std_dev_shift_2', 'O_rolling_std_dev_shift_3', 'H_rolling_std_dev_shift_3', 'L_rolling_std_dev_shift_3', 'C_rolling_std_dev_shift_3', 'V_rolling_std_dev_shift_3', 'O_rolling_std_dev_shift_4', 'H_rolling_std_dev_shift_4', 'L_rolling_std_dev_shift_4', 'C_rolling_std_dev_shift_4', 'V_rolling_std_dev_shift_4', 'O_rolling_std_dev_shift_5', 'H_rolling_std_dev_shift_5', 'L_rolling_std_dev_shift_5', 'C_rolling_std_dev_shift_5', 'V_rolling_std_dev_shift_5', 'O_rolling_std_dev_shift_6', 'H_rolling_std_dev_shift_6', 'L_rolling_std_dev_shift_6', 'C_rolling_std_dev_shift_6', 'V_rolling_std_dev_shift_6', 'PCA1', 'PCA2', 'PCA3', 'PCA4', 'PCA5', 'PCA6', 'PCA7', 'PCA8', 'PCA9', 'PCA10', 'PCA11', 'PCA12']\n",
      "Merging the scaled data and the unscalable data back together with pd.concat: USDCHF1440.csv (4887, 298)\n",
      "Finished: USDCHF1440.csv (4887, 298)\n",
      "--------------------------------\n",
      "Processing:  EURAUD14402.csv Number  7  of  10\n",
      "We now have: (29196, 298) rows of data!\n",
      "Reading in Date, OHLCV, Supply/Demand\n",
      "Renaming df_ohlc column headers for clarity\n",
      "Reading in Rectangle data\n",
      "Renaming df_rects column headers for clarity\n",
      "Identifying supply/demand with supply_or_demand func: EURAUD14402.csv (4624, 12)\n",
      "~~~\n"
     ]
    },
    {
     "name": "stdout",
     "output_type": "stream",
     "text": [
      "Identifying zone ends with zone_ender func: EURAUD14402.csv (4624, 14)\n",
      "~~~\n",
      "Your df_norm columns: Index(['O', 'H', 'L', 'C', 'V'], dtype='object')\n",
      "Your df_non_norm columns: Index(['Epoch Date', 'Supply/Demand', 'Object Name', 'Epoch Date Start',\n",
      "       'Epoch Date End', 'Proximal', 'Distal', 'supply_demand',\n",
      "       'rectangle_here', 'Proximal_match_-6_O',\n",
      "       ...\n",
      "       'Distal_match_-4_C', 'Distal_match_-3_C', 'Distal_match_-2_C',\n",
      "       'Distal_match_-1_C', 'Distal_match_0_C', 'Distal_match_1_C',\n",
      "       'Distal_match_2_C', 'Distal_match_3_C', 'Distal_match_4_C',\n",
      "       'Distal_match_5_C'],\n",
      "      dtype='object', length=105)\n",
      "Generating features:  Difference between open and close\n",
      "Shape is now: (4624, 6)\n",
      "~~~\n",
      "Generating features:  Range between high and low\n",
      "Shape is now: (4624, 7)\n",
      "~~~\n",
      "Generating features:  Range between high and low\n",
      "Shape is now: (4624, 8)\n",
      "~~~\n",
      "Generating features:  Change over time for lookforward/lookback range\n",
      "Generating features:  Range High-Close over time for lookforward/lookback range\n",
      "Generating features:  Diffs over time for lookforward/lookback range\n",
      "Generating features:  Rolling mean for yesterday, today, tomorrow range\n",
      "Generating features:  Std deviation for yesterday, today, tomorrow range\n",
      "Your df_scale_with_PCA: [0, 1, 2, 3, 4, 5, 6, 7, 8, 9, 10, 11, 12, 13, 14, 15, 16, 17, 18, 19, 20, 21, 22, 23, 24, 25, 26, 27, 28, 29, 30, 31, 32, 33, 34, 35, 36, 37, 38, 39, 40, 41, 42, 43, 44, 45, 46, 47, 48, 49, 50, 51, 52, 53, 54, 55, 56, 57, 58, 59, 60, 61, 62, 63, 64, 65, 66, 67, 68, 69, 70, 71, 72, 73, 74, 75, 76, 77, 78, 79, 80, 81, 82, 83, 84, 85, 86, 87, 88, 89, 90, 91, 92, 93, 94, 95, 96, 97, 98, 99, 100, 101, 102, 103, 104, 105, 106, 107, 108, 109, 110, 111, 112, 113, 114, 115, 116, 117, 118, 119, 120, 121, 122, 123, 124, 125, 126, 127, 128, 129, 130, 131, 132, 133, 134, 135, 136, 137, 138, 139, 140, 141, 142, 143, 144, 145, 146, 147, 148, 149, 150, 151, 152, 153, 154, 155, 156, 157, 158, 159, 160, 161, 162, 163, 164, 165, 166, 167, 168, 169, 170, 171, 172, 173, 174, 175, 176, 177, 178, 179, 180, 'PCA1', 'PCA2', 'PCA3', 'PCA4', 'PCA5', 'PCA6', 'PCA7', 'PCA8', 'PCA9', 'PCA10', 'PCA11', 'PCA12']\n",
      "Your df_scale_with_PCA columns are: ['O', 'H', 'L', 'C', 'V', 'change_open_close', 'range_high_low', 'range_high_close', 'O_std_dev', 'H_std_dev', 'L_std_dev', 'C_std_dev', 'V_std_dev', 'O_rolling_mean', 'H_rolling_mean', 'L_rolling_mean', 'C_rolling_mean', 'V_rolling_mean', 'rolling_mean_range_HL', 'change_open_close_change_-4', 'change_open_close_change_-3', 'change_open_close_change_-2', 'change_open_close_change_-1', 'change_open_close_change_0', 'change_open_close_change_1', 'change_open_close_change_2', 'change_open_close_change_3', 'change_open_close_change_4', 'change_open_close_change_5', 'change_open_close_change_6', 'range_high_close_range_-4', 'range_high_close_range_-3', 'range_high_close_range_-2', 'range_high_close_range_-1', 'range_high_close_range_0', 'range_high_close_range_1', 'range_high_close_range_2', 'range_high_close_range_3', 'range_high_close_range_4', 'range_high_close_range_5', 'range_high_close_range_6', 'O_diff_-4', 'H_diff_-4', 'L_diff_-4', 'C_diff_-4', 'V_diff_-4', 'O_diff_-3', 'H_diff_-3', 'L_diff_-3', 'C_diff_-3', 'V_diff_-3', 'O_diff_-2', 'H_diff_-2', 'L_diff_-2', 'C_diff_-2', 'V_diff_-2', 'O_diff_-1', 'H_diff_-1', 'L_diff_-1', 'C_diff_-1', 'V_diff_-1', 'O_diff_0', 'H_diff_0', 'L_diff_0', 'C_diff_0', 'V_diff_0', 'O_diff_1', 'H_diff_1', 'L_diff_1', 'C_diff_1', 'V_diff_1', 'O_diff_2', 'H_diff_2', 'L_diff_2', 'C_diff_2', 'V_diff_2', 'O_diff_3', 'H_diff_3', 'L_diff_3', 'C_diff_3', 'V_diff_3', 'O_diff_4', 'H_diff_4', 'L_diff_4', 'C_diff_4', 'V_diff_4', 'O_diff_5', 'H_diff_5', 'L_diff_5', 'C_diff_5', 'V_diff_5', 'O_diff_6', 'H_diff_6', 'L_diff_6', 'C_diff_6', 'V_diff_6', 'O_rolling_mean_diff_-3', 'H_rolling_mean_diff_-3', 'L_rolling_mean_diff_-3', 'C_rolling_mean_diff_-3', 'V_rolling_mean_diff_-3', 'O_rolling_mean_diff_-2', 'H_rolling_mean_diff_-2', 'L_rolling_mean_diff_-2', 'C_rolling_mean_diff_-2', 'V_rolling_mean_diff_-2', 'O_rolling_mean_diff_-1', 'H_rolling_mean_diff_-1', 'L_rolling_mean_diff_-1', 'C_rolling_mean_diff_-1', 'V_rolling_mean_diff_-1', 'O_rolling_mean_diff_0', 'H_rolling_mean_diff_0', 'L_rolling_mean_diff_0', 'C_rolling_mean_diff_0', 'V_rolling_mean_diff_0', 'O_rolling_mean_diff_1', 'H_rolling_mean_diff_1', 'L_rolling_mean_diff_1', 'C_rolling_mean_diff_1', 'V_rolling_mean_diff_1', 'O_rolling_mean_diff_2', 'H_rolling_mean_diff_2', 'L_rolling_mean_diff_2', 'C_rolling_mean_diff_2', 'V_rolling_mean_diff_2', 'O_rolling_std_dev_shift_-4', 'H_rolling_std_dev_shift_-4', 'L_rolling_std_dev_shift_-4', 'C_rolling_std_dev_shift_-4', 'V_rolling_std_dev_shift_-4', 'O_rolling_std_dev_shift_-3', 'H_rolling_std_dev_shift_-3', 'L_rolling_std_dev_shift_-3', 'C_rolling_std_dev_shift_-3', 'V_rolling_std_dev_shift_-3', 'O_rolling_std_dev_shift_-2', 'H_rolling_std_dev_shift_-2', 'L_rolling_std_dev_shift_-2', 'C_rolling_std_dev_shift_-2', 'V_rolling_std_dev_shift_-2', 'O_rolling_std_dev_shift_-1', 'H_rolling_std_dev_shift_-1', 'L_rolling_std_dev_shift_-1', 'C_rolling_std_dev_shift_-1', 'V_rolling_std_dev_shift_-1', 'O_rolling_std_dev_shift_0', 'H_rolling_std_dev_shift_0', 'L_rolling_std_dev_shift_0', 'C_rolling_std_dev_shift_0', 'V_rolling_std_dev_shift_0', 'O_rolling_std_dev_shift_1', 'H_rolling_std_dev_shift_1', 'L_rolling_std_dev_shift_1', 'C_rolling_std_dev_shift_1', 'V_rolling_std_dev_shift_1', 'O_rolling_std_dev_shift_2', 'H_rolling_std_dev_shift_2', 'L_rolling_std_dev_shift_2', 'C_rolling_std_dev_shift_2', 'V_rolling_std_dev_shift_2', 'O_rolling_std_dev_shift_3', 'H_rolling_std_dev_shift_3', 'L_rolling_std_dev_shift_3', 'C_rolling_std_dev_shift_3', 'V_rolling_std_dev_shift_3', 'O_rolling_std_dev_shift_4', 'H_rolling_std_dev_shift_4', 'L_rolling_std_dev_shift_4', 'C_rolling_std_dev_shift_4', 'V_rolling_std_dev_shift_4', 'O_rolling_std_dev_shift_5', 'H_rolling_std_dev_shift_5', 'L_rolling_std_dev_shift_5', 'C_rolling_std_dev_shift_5', 'V_rolling_std_dev_shift_5', 'O_rolling_std_dev_shift_6', 'H_rolling_std_dev_shift_6', 'L_rolling_std_dev_shift_6', 'C_rolling_std_dev_shift_6', 'V_rolling_std_dev_shift_6', 'PCA1', 'PCA2', 'PCA3', 'PCA4', 'PCA5', 'PCA6', 'PCA7', 'PCA8', 'PCA9', 'PCA10', 'PCA11', 'PCA12']\n",
      "Merging the scaled data and the unscalable data back together with pd.concat: EURAUD14402.csv (4624, 298)\n",
      "Finished: EURAUD14402.csv (4624, 298)\n",
      "--------------------------------\n",
      "Processing:  AUDUSD1440.csv Number  8  of  10\n",
      "We now have: (33820, 298) rows of data!\n",
      "Reading in Date, OHLCV, Supply/Demand\n",
      "Renaming df_ohlc column headers for clarity\n",
      "Reading in Rectangle data\n",
      "Renaming df_rects column headers for clarity\n",
      "Identifying supply/demand with supply_or_demand func: AUDUSD1440.csv (4951, 12)\n",
      "~~~\n",
      "Identifying zone ends with zone_ender func: AUDUSD1440.csv (4951, 14)\n",
      "~~~\n",
      "Your df_norm columns: Index(['O', 'H', 'L', 'C', 'V'], dtype='object')\n",
      "Your df_non_norm columns: Index(['Epoch Date', 'Supply/Demand', 'Object Name', 'Epoch Date Start',\n",
      "       'Epoch Date End', 'Proximal', 'Distal', 'supply_demand',\n",
      "       'rectangle_here', 'Proximal_match_-6_O',\n",
      "       ...\n",
      "       'Distal_match_-4_C', 'Distal_match_-3_C', 'Distal_match_-2_C',\n",
      "       'Distal_match_-1_C', 'Distal_match_0_C', 'Distal_match_1_C',\n",
      "       'Distal_match_2_C', 'Distal_match_3_C', 'Distal_match_4_C',\n",
      "       'Distal_match_5_C'],\n",
      "      dtype='object', length=105)\n",
      "Generating features:  Difference between open and close\n",
      "Shape is now: (4951, 6)\n",
      "~~~\n",
      "Generating features:  Range between high and low\n",
      "Shape is now: (4951, 7)\n",
      "~~~\n",
      "Generating features:  Range between high and low\n",
      "Shape is now: (4951, 8)\n",
      "~~~\n",
      "Generating features:  Change over time for lookforward/lookback range\n",
      "Generating features:  Range High-Close over time for lookforward/lookback range\n",
      "Generating features:  Diffs over time for lookforward/lookback range\n",
      "Generating features:  Rolling mean for yesterday, today, tomorrow range\n",
      "Generating features:  Std deviation for yesterday, today, tomorrow range\n",
      "Your df_scale_with_PCA: [0, 1, 2, 3, 4, 5, 6, 7, 8, 9, 10, 11, 12, 13, 14, 15, 16, 17, 18, 19, 20, 21, 22, 23, 24, 25, 26, 27, 28, 29, 30, 31, 32, 33, 34, 35, 36, 37, 38, 39, 40, 41, 42, 43, 44, 45, 46, 47, 48, 49, 50, 51, 52, 53, 54, 55, 56, 57, 58, 59, 60, 61, 62, 63, 64, 65, 66, 67, 68, 69, 70, 71, 72, 73, 74, 75, 76, 77, 78, 79, 80, 81, 82, 83, 84, 85, 86, 87, 88, 89, 90, 91, 92, 93, 94, 95, 96, 97, 98, 99, 100, 101, 102, 103, 104, 105, 106, 107, 108, 109, 110, 111, 112, 113, 114, 115, 116, 117, 118, 119, 120, 121, 122, 123, 124, 125, 126, 127, 128, 129, 130, 131, 132, 133, 134, 135, 136, 137, 138, 139, 140, 141, 142, 143, 144, 145, 146, 147, 148, 149, 150, 151, 152, 153, 154, 155, 156, 157, 158, 159, 160, 161, 162, 163, 164, 165, 166, 167, 168, 169, 170, 171, 172, 173, 174, 175, 176, 177, 178, 179, 180, 'PCA1', 'PCA2', 'PCA3', 'PCA4', 'PCA5', 'PCA6', 'PCA7', 'PCA8', 'PCA9', 'PCA10', 'PCA11', 'PCA12']\n",
      "Your df_scale_with_PCA columns are: ['O', 'H', 'L', 'C', 'V', 'change_open_close', 'range_high_low', 'range_high_close', 'O_std_dev', 'H_std_dev', 'L_std_dev', 'C_std_dev', 'V_std_dev', 'O_rolling_mean', 'H_rolling_mean', 'L_rolling_mean', 'C_rolling_mean', 'V_rolling_mean', 'rolling_mean_range_HL', 'change_open_close_change_-4', 'change_open_close_change_-3', 'change_open_close_change_-2', 'change_open_close_change_-1', 'change_open_close_change_0', 'change_open_close_change_1', 'change_open_close_change_2', 'change_open_close_change_3', 'change_open_close_change_4', 'change_open_close_change_5', 'change_open_close_change_6', 'range_high_close_range_-4', 'range_high_close_range_-3', 'range_high_close_range_-2', 'range_high_close_range_-1', 'range_high_close_range_0', 'range_high_close_range_1', 'range_high_close_range_2', 'range_high_close_range_3', 'range_high_close_range_4', 'range_high_close_range_5', 'range_high_close_range_6', 'O_diff_-4', 'H_diff_-4', 'L_diff_-4', 'C_diff_-4', 'V_diff_-4', 'O_diff_-3', 'H_diff_-3', 'L_diff_-3', 'C_diff_-3', 'V_diff_-3', 'O_diff_-2', 'H_diff_-2', 'L_diff_-2', 'C_diff_-2', 'V_diff_-2', 'O_diff_-1', 'H_diff_-1', 'L_diff_-1', 'C_diff_-1', 'V_diff_-1', 'O_diff_0', 'H_diff_0', 'L_diff_0', 'C_diff_0', 'V_diff_0', 'O_diff_1', 'H_diff_1', 'L_diff_1', 'C_diff_1', 'V_diff_1', 'O_diff_2', 'H_diff_2', 'L_diff_2', 'C_diff_2', 'V_diff_2', 'O_diff_3', 'H_diff_3', 'L_diff_3', 'C_diff_3', 'V_diff_3', 'O_diff_4', 'H_diff_4', 'L_diff_4', 'C_diff_4', 'V_diff_4', 'O_diff_5', 'H_diff_5', 'L_diff_5', 'C_diff_5', 'V_diff_5', 'O_diff_6', 'H_diff_6', 'L_diff_6', 'C_diff_6', 'V_diff_6', 'O_rolling_mean_diff_-3', 'H_rolling_mean_diff_-3', 'L_rolling_mean_diff_-3', 'C_rolling_mean_diff_-3', 'V_rolling_mean_diff_-3', 'O_rolling_mean_diff_-2', 'H_rolling_mean_diff_-2', 'L_rolling_mean_diff_-2', 'C_rolling_mean_diff_-2', 'V_rolling_mean_diff_-2', 'O_rolling_mean_diff_-1', 'H_rolling_mean_diff_-1', 'L_rolling_mean_diff_-1', 'C_rolling_mean_diff_-1', 'V_rolling_mean_diff_-1', 'O_rolling_mean_diff_0', 'H_rolling_mean_diff_0', 'L_rolling_mean_diff_0', 'C_rolling_mean_diff_0', 'V_rolling_mean_diff_0', 'O_rolling_mean_diff_1', 'H_rolling_mean_diff_1', 'L_rolling_mean_diff_1', 'C_rolling_mean_diff_1', 'V_rolling_mean_diff_1', 'O_rolling_mean_diff_2', 'H_rolling_mean_diff_2', 'L_rolling_mean_diff_2', 'C_rolling_mean_diff_2', 'V_rolling_mean_diff_2', 'O_rolling_std_dev_shift_-4', 'H_rolling_std_dev_shift_-4', 'L_rolling_std_dev_shift_-4', 'C_rolling_std_dev_shift_-4', 'V_rolling_std_dev_shift_-4', 'O_rolling_std_dev_shift_-3', 'H_rolling_std_dev_shift_-3', 'L_rolling_std_dev_shift_-3', 'C_rolling_std_dev_shift_-3', 'V_rolling_std_dev_shift_-3', 'O_rolling_std_dev_shift_-2', 'H_rolling_std_dev_shift_-2', 'L_rolling_std_dev_shift_-2', 'C_rolling_std_dev_shift_-2', 'V_rolling_std_dev_shift_-2', 'O_rolling_std_dev_shift_-1', 'H_rolling_std_dev_shift_-1', 'L_rolling_std_dev_shift_-1', 'C_rolling_std_dev_shift_-1', 'V_rolling_std_dev_shift_-1', 'O_rolling_std_dev_shift_0', 'H_rolling_std_dev_shift_0', 'L_rolling_std_dev_shift_0', 'C_rolling_std_dev_shift_0', 'V_rolling_std_dev_shift_0', 'O_rolling_std_dev_shift_1', 'H_rolling_std_dev_shift_1', 'L_rolling_std_dev_shift_1', 'C_rolling_std_dev_shift_1', 'V_rolling_std_dev_shift_1', 'O_rolling_std_dev_shift_2', 'H_rolling_std_dev_shift_2', 'L_rolling_std_dev_shift_2', 'C_rolling_std_dev_shift_2', 'V_rolling_std_dev_shift_2', 'O_rolling_std_dev_shift_3', 'H_rolling_std_dev_shift_3', 'L_rolling_std_dev_shift_3', 'C_rolling_std_dev_shift_3', 'V_rolling_std_dev_shift_3', 'O_rolling_std_dev_shift_4', 'H_rolling_std_dev_shift_4', 'L_rolling_std_dev_shift_4', 'C_rolling_std_dev_shift_4', 'V_rolling_std_dev_shift_4', 'O_rolling_std_dev_shift_5', 'H_rolling_std_dev_shift_5', 'L_rolling_std_dev_shift_5', 'C_rolling_std_dev_shift_5', 'V_rolling_std_dev_shift_5', 'O_rolling_std_dev_shift_6', 'H_rolling_std_dev_shift_6', 'L_rolling_std_dev_shift_6', 'C_rolling_std_dev_shift_6', 'V_rolling_std_dev_shift_6', 'PCA1', 'PCA2', 'PCA3', 'PCA4', 'PCA5', 'PCA6', 'PCA7', 'PCA8', 'PCA9', 'PCA10', 'PCA11', 'PCA12']\n",
      "Merging the scaled data and the unscalable data back together with pd.concat: AUDUSD1440.csv (4951, 298)\n",
      "Finished: AUDUSD1440.csv (4951, 298)\n",
      "--------------------------------\n",
      "Processing:  GBPJPY1440.csv Number  9  of  10\n"
     ]
    },
    {
     "name": "stdout",
     "output_type": "stream",
     "text": [
      "We now have: (38771, 298) rows of data!\n",
      "Reading in Date, OHLCV, Supply/Demand\n",
      "Renaming df_ohlc column headers for clarity\n",
      "Reading in Rectangle data\n",
      "Renaming df_rects column headers for clarity\n",
      "Identifying supply/demand with supply_or_demand func: GBPJPY1440.csv (4978, 12)\n",
      "~~~\n",
      "Identifying zone ends with zone_ender func: GBPJPY1440.csv (4978, 14)\n",
      "~~~\n",
      "Your df_norm columns: Index(['O', 'H', 'L', 'C', 'V'], dtype='object')\n",
      "Your df_non_norm columns: Index(['Epoch Date', 'Supply/Demand', 'Object Name', 'Epoch Date Start',\n",
      "       'Epoch Date End', 'Proximal', 'Distal', 'supply_demand',\n",
      "       'rectangle_here', 'Proximal_match_-6_O',\n",
      "       ...\n",
      "       'Distal_match_-4_C', 'Distal_match_-3_C', 'Distal_match_-2_C',\n",
      "       'Distal_match_-1_C', 'Distal_match_0_C', 'Distal_match_1_C',\n",
      "       'Distal_match_2_C', 'Distal_match_3_C', 'Distal_match_4_C',\n",
      "       'Distal_match_5_C'],\n",
      "      dtype='object', length=105)\n",
      "Generating features:  Difference between open and close\n",
      "Shape is now: (4978, 6)\n",
      "~~~\n",
      "Generating features:  Range between high and low\n",
      "Shape is now: (4978, 7)\n",
      "~~~\n",
      "Generating features:  Range between high and low\n",
      "Shape is now: (4978, 8)\n",
      "~~~\n",
      "Generating features:  Change over time for lookforward/lookback range\n",
      "Generating features:  Range High-Close over time for lookforward/lookback range\n",
      "Generating features:  Diffs over time for lookforward/lookback range\n",
      "Generating features:  Rolling mean for yesterday, today, tomorrow range\n",
      "Generating features:  Std deviation for yesterday, today, tomorrow range\n",
      "Your df_scale_with_PCA: [0, 1, 2, 3, 4, 5, 6, 7, 8, 9, 10, 11, 12, 13, 14, 15, 16, 17, 18, 19, 20, 21, 22, 23, 24, 25, 26, 27, 28, 29, 30, 31, 32, 33, 34, 35, 36, 37, 38, 39, 40, 41, 42, 43, 44, 45, 46, 47, 48, 49, 50, 51, 52, 53, 54, 55, 56, 57, 58, 59, 60, 61, 62, 63, 64, 65, 66, 67, 68, 69, 70, 71, 72, 73, 74, 75, 76, 77, 78, 79, 80, 81, 82, 83, 84, 85, 86, 87, 88, 89, 90, 91, 92, 93, 94, 95, 96, 97, 98, 99, 100, 101, 102, 103, 104, 105, 106, 107, 108, 109, 110, 111, 112, 113, 114, 115, 116, 117, 118, 119, 120, 121, 122, 123, 124, 125, 126, 127, 128, 129, 130, 131, 132, 133, 134, 135, 136, 137, 138, 139, 140, 141, 142, 143, 144, 145, 146, 147, 148, 149, 150, 151, 152, 153, 154, 155, 156, 157, 158, 159, 160, 161, 162, 163, 164, 165, 166, 167, 168, 169, 170, 171, 172, 173, 174, 175, 176, 177, 178, 179, 180, 'PCA1', 'PCA2', 'PCA3', 'PCA4', 'PCA5', 'PCA6', 'PCA7', 'PCA8', 'PCA9', 'PCA10', 'PCA11', 'PCA12']\n",
      "Your df_scale_with_PCA columns are: ['O', 'H', 'L', 'C', 'V', 'change_open_close', 'range_high_low', 'range_high_close', 'O_std_dev', 'H_std_dev', 'L_std_dev', 'C_std_dev', 'V_std_dev', 'O_rolling_mean', 'H_rolling_mean', 'L_rolling_mean', 'C_rolling_mean', 'V_rolling_mean', 'rolling_mean_range_HL', 'change_open_close_change_-4', 'change_open_close_change_-3', 'change_open_close_change_-2', 'change_open_close_change_-1', 'change_open_close_change_0', 'change_open_close_change_1', 'change_open_close_change_2', 'change_open_close_change_3', 'change_open_close_change_4', 'change_open_close_change_5', 'change_open_close_change_6', 'range_high_close_range_-4', 'range_high_close_range_-3', 'range_high_close_range_-2', 'range_high_close_range_-1', 'range_high_close_range_0', 'range_high_close_range_1', 'range_high_close_range_2', 'range_high_close_range_3', 'range_high_close_range_4', 'range_high_close_range_5', 'range_high_close_range_6', 'O_diff_-4', 'H_diff_-4', 'L_diff_-4', 'C_diff_-4', 'V_diff_-4', 'O_diff_-3', 'H_diff_-3', 'L_diff_-3', 'C_diff_-3', 'V_diff_-3', 'O_diff_-2', 'H_diff_-2', 'L_diff_-2', 'C_diff_-2', 'V_diff_-2', 'O_diff_-1', 'H_diff_-1', 'L_diff_-1', 'C_diff_-1', 'V_diff_-1', 'O_diff_0', 'H_diff_0', 'L_diff_0', 'C_diff_0', 'V_diff_0', 'O_diff_1', 'H_diff_1', 'L_diff_1', 'C_diff_1', 'V_diff_1', 'O_diff_2', 'H_diff_2', 'L_diff_2', 'C_diff_2', 'V_diff_2', 'O_diff_3', 'H_diff_3', 'L_diff_3', 'C_diff_3', 'V_diff_3', 'O_diff_4', 'H_diff_4', 'L_diff_4', 'C_diff_4', 'V_diff_4', 'O_diff_5', 'H_diff_5', 'L_diff_5', 'C_diff_5', 'V_diff_5', 'O_diff_6', 'H_diff_6', 'L_diff_6', 'C_diff_6', 'V_diff_6', 'O_rolling_mean_diff_-3', 'H_rolling_mean_diff_-3', 'L_rolling_mean_diff_-3', 'C_rolling_mean_diff_-3', 'V_rolling_mean_diff_-3', 'O_rolling_mean_diff_-2', 'H_rolling_mean_diff_-2', 'L_rolling_mean_diff_-2', 'C_rolling_mean_diff_-2', 'V_rolling_mean_diff_-2', 'O_rolling_mean_diff_-1', 'H_rolling_mean_diff_-1', 'L_rolling_mean_diff_-1', 'C_rolling_mean_diff_-1', 'V_rolling_mean_diff_-1', 'O_rolling_mean_diff_0', 'H_rolling_mean_diff_0', 'L_rolling_mean_diff_0', 'C_rolling_mean_diff_0', 'V_rolling_mean_diff_0', 'O_rolling_mean_diff_1', 'H_rolling_mean_diff_1', 'L_rolling_mean_diff_1', 'C_rolling_mean_diff_1', 'V_rolling_mean_diff_1', 'O_rolling_mean_diff_2', 'H_rolling_mean_diff_2', 'L_rolling_mean_diff_2', 'C_rolling_mean_diff_2', 'V_rolling_mean_diff_2', 'O_rolling_std_dev_shift_-4', 'H_rolling_std_dev_shift_-4', 'L_rolling_std_dev_shift_-4', 'C_rolling_std_dev_shift_-4', 'V_rolling_std_dev_shift_-4', 'O_rolling_std_dev_shift_-3', 'H_rolling_std_dev_shift_-3', 'L_rolling_std_dev_shift_-3', 'C_rolling_std_dev_shift_-3', 'V_rolling_std_dev_shift_-3', 'O_rolling_std_dev_shift_-2', 'H_rolling_std_dev_shift_-2', 'L_rolling_std_dev_shift_-2', 'C_rolling_std_dev_shift_-2', 'V_rolling_std_dev_shift_-2', 'O_rolling_std_dev_shift_-1', 'H_rolling_std_dev_shift_-1', 'L_rolling_std_dev_shift_-1', 'C_rolling_std_dev_shift_-1', 'V_rolling_std_dev_shift_-1', 'O_rolling_std_dev_shift_0', 'H_rolling_std_dev_shift_0', 'L_rolling_std_dev_shift_0', 'C_rolling_std_dev_shift_0', 'V_rolling_std_dev_shift_0', 'O_rolling_std_dev_shift_1', 'H_rolling_std_dev_shift_1', 'L_rolling_std_dev_shift_1', 'C_rolling_std_dev_shift_1', 'V_rolling_std_dev_shift_1', 'O_rolling_std_dev_shift_2', 'H_rolling_std_dev_shift_2', 'L_rolling_std_dev_shift_2', 'C_rolling_std_dev_shift_2', 'V_rolling_std_dev_shift_2', 'O_rolling_std_dev_shift_3', 'H_rolling_std_dev_shift_3', 'L_rolling_std_dev_shift_3', 'C_rolling_std_dev_shift_3', 'V_rolling_std_dev_shift_3', 'O_rolling_std_dev_shift_4', 'H_rolling_std_dev_shift_4', 'L_rolling_std_dev_shift_4', 'C_rolling_std_dev_shift_4', 'V_rolling_std_dev_shift_4', 'O_rolling_std_dev_shift_5', 'H_rolling_std_dev_shift_5', 'L_rolling_std_dev_shift_5', 'C_rolling_std_dev_shift_5', 'V_rolling_std_dev_shift_5', 'O_rolling_std_dev_shift_6', 'H_rolling_std_dev_shift_6', 'L_rolling_std_dev_shift_6', 'C_rolling_std_dev_shift_6', 'V_rolling_std_dev_shift_6', 'PCA1', 'PCA2', 'PCA3', 'PCA4', 'PCA5', 'PCA6', 'PCA7', 'PCA8', 'PCA9', 'PCA10', 'PCA11', 'PCA12']\n",
      "Merging the scaled data and the unscalable data back together with pd.concat: GBPJPY1440.csv (4978, 298)\n",
      "Finished: GBPJPY1440.csv (4978, 298)\n",
      "--------------------------------\n",
      "Processing:  NZDUSD1440.csv Number  10  of  10\n",
      "We now have: (43749, 298) rows of data!\n",
      "Reading in Date, OHLCV, Supply/Demand\n",
      "Renaming df_ohlc column headers for clarity\n",
      "Reading in Rectangle data\n",
      "Renaming df_rects column headers for clarity\n",
      "Identifying supply/demand with supply_or_demand func: NZDUSD1440.csv (4983, 12)\n",
      "~~~\n",
      "Identifying zone ends with zone_ender func: NZDUSD1440.csv (4983, 14)\n",
      "~~~\n",
      "Your df_norm columns: Index(['O', 'H', 'L', 'C', 'V'], dtype='object')\n",
      "Your df_non_norm columns: Index(['Epoch Date', 'Supply/Demand', 'Object Name', 'Epoch Date Start',\n",
      "       'Epoch Date End', 'Proximal', 'Distal', 'supply_demand',\n",
      "       'rectangle_here', 'Proximal_match_-6_O',\n",
      "       ...\n",
      "       'Distal_match_-4_C', 'Distal_match_-3_C', 'Distal_match_-2_C',\n",
      "       'Distal_match_-1_C', 'Distal_match_0_C', 'Distal_match_1_C',\n",
      "       'Distal_match_2_C', 'Distal_match_3_C', 'Distal_match_4_C',\n",
      "       'Distal_match_5_C'],\n",
      "      dtype='object', length=105)\n",
      "Generating features:  Difference between open and close\n",
      "Shape is now: (4983, 6)\n",
      "~~~\n",
      "Generating features:  Range between high and low\n",
      "Shape is now: (4983, 7)\n",
      "~~~\n",
      "Generating features:  Range between high and low\n",
      "Shape is now: (4983, 8)\n",
      "~~~\n",
      "Generating features:  Change over time for lookforward/lookback range\n",
      "Generating features:  Range High-Close over time for lookforward/lookback range\n",
      "Generating features:  Diffs over time for lookforward/lookback range\n",
      "Generating features:  Rolling mean for yesterday, today, tomorrow range\n",
      "Generating features:  Std deviation for yesterday, today, tomorrow range\n"
     ]
    },
    {
     "name": "stdout",
     "output_type": "stream",
     "text": [
      "Your df_scale_with_PCA: [0, 1, 2, 3, 4, 5, 6, 7, 8, 9, 10, 11, 12, 13, 14, 15, 16, 17, 18, 19, 20, 21, 22, 23, 24, 25, 26, 27, 28, 29, 30, 31, 32, 33, 34, 35, 36, 37, 38, 39, 40, 41, 42, 43, 44, 45, 46, 47, 48, 49, 50, 51, 52, 53, 54, 55, 56, 57, 58, 59, 60, 61, 62, 63, 64, 65, 66, 67, 68, 69, 70, 71, 72, 73, 74, 75, 76, 77, 78, 79, 80, 81, 82, 83, 84, 85, 86, 87, 88, 89, 90, 91, 92, 93, 94, 95, 96, 97, 98, 99, 100, 101, 102, 103, 104, 105, 106, 107, 108, 109, 110, 111, 112, 113, 114, 115, 116, 117, 118, 119, 120, 121, 122, 123, 124, 125, 126, 127, 128, 129, 130, 131, 132, 133, 134, 135, 136, 137, 138, 139, 140, 141, 142, 143, 144, 145, 146, 147, 148, 149, 150, 151, 152, 153, 154, 155, 156, 157, 158, 159, 160, 161, 162, 163, 164, 165, 166, 167, 168, 169, 170, 171, 172, 173, 174, 175, 176, 177, 178, 179, 180, 'PCA1', 'PCA2', 'PCA3', 'PCA4', 'PCA5', 'PCA6', 'PCA7', 'PCA8', 'PCA9', 'PCA10', 'PCA11', 'PCA12']\n",
      "Your df_scale_with_PCA columns are: ['O', 'H', 'L', 'C', 'V', 'change_open_close', 'range_high_low', 'range_high_close', 'O_std_dev', 'H_std_dev', 'L_std_dev', 'C_std_dev', 'V_std_dev', 'O_rolling_mean', 'H_rolling_mean', 'L_rolling_mean', 'C_rolling_mean', 'V_rolling_mean', 'rolling_mean_range_HL', 'change_open_close_change_-4', 'change_open_close_change_-3', 'change_open_close_change_-2', 'change_open_close_change_-1', 'change_open_close_change_0', 'change_open_close_change_1', 'change_open_close_change_2', 'change_open_close_change_3', 'change_open_close_change_4', 'change_open_close_change_5', 'change_open_close_change_6', 'range_high_close_range_-4', 'range_high_close_range_-3', 'range_high_close_range_-2', 'range_high_close_range_-1', 'range_high_close_range_0', 'range_high_close_range_1', 'range_high_close_range_2', 'range_high_close_range_3', 'range_high_close_range_4', 'range_high_close_range_5', 'range_high_close_range_6', 'O_diff_-4', 'H_diff_-4', 'L_diff_-4', 'C_diff_-4', 'V_diff_-4', 'O_diff_-3', 'H_diff_-3', 'L_diff_-3', 'C_diff_-3', 'V_diff_-3', 'O_diff_-2', 'H_diff_-2', 'L_diff_-2', 'C_diff_-2', 'V_diff_-2', 'O_diff_-1', 'H_diff_-1', 'L_diff_-1', 'C_diff_-1', 'V_diff_-1', 'O_diff_0', 'H_diff_0', 'L_diff_0', 'C_diff_0', 'V_diff_0', 'O_diff_1', 'H_diff_1', 'L_diff_1', 'C_diff_1', 'V_diff_1', 'O_diff_2', 'H_diff_2', 'L_diff_2', 'C_diff_2', 'V_diff_2', 'O_diff_3', 'H_diff_3', 'L_diff_3', 'C_diff_3', 'V_diff_3', 'O_diff_4', 'H_diff_4', 'L_diff_4', 'C_diff_4', 'V_diff_4', 'O_diff_5', 'H_diff_5', 'L_diff_5', 'C_diff_5', 'V_diff_5', 'O_diff_6', 'H_diff_6', 'L_diff_6', 'C_diff_6', 'V_diff_6', 'O_rolling_mean_diff_-3', 'H_rolling_mean_diff_-3', 'L_rolling_mean_diff_-3', 'C_rolling_mean_diff_-3', 'V_rolling_mean_diff_-3', 'O_rolling_mean_diff_-2', 'H_rolling_mean_diff_-2', 'L_rolling_mean_diff_-2', 'C_rolling_mean_diff_-2', 'V_rolling_mean_diff_-2', 'O_rolling_mean_diff_-1', 'H_rolling_mean_diff_-1', 'L_rolling_mean_diff_-1', 'C_rolling_mean_diff_-1', 'V_rolling_mean_diff_-1', 'O_rolling_mean_diff_0', 'H_rolling_mean_diff_0', 'L_rolling_mean_diff_0', 'C_rolling_mean_diff_0', 'V_rolling_mean_diff_0', 'O_rolling_mean_diff_1', 'H_rolling_mean_diff_1', 'L_rolling_mean_diff_1', 'C_rolling_mean_diff_1', 'V_rolling_mean_diff_1', 'O_rolling_mean_diff_2', 'H_rolling_mean_diff_2', 'L_rolling_mean_diff_2', 'C_rolling_mean_diff_2', 'V_rolling_mean_diff_2', 'O_rolling_std_dev_shift_-4', 'H_rolling_std_dev_shift_-4', 'L_rolling_std_dev_shift_-4', 'C_rolling_std_dev_shift_-4', 'V_rolling_std_dev_shift_-4', 'O_rolling_std_dev_shift_-3', 'H_rolling_std_dev_shift_-3', 'L_rolling_std_dev_shift_-3', 'C_rolling_std_dev_shift_-3', 'V_rolling_std_dev_shift_-3', 'O_rolling_std_dev_shift_-2', 'H_rolling_std_dev_shift_-2', 'L_rolling_std_dev_shift_-2', 'C_rolling_std_dev_shift_-2', 'V_rolling_std_dev_shift_-2', 'O_rolling_std_dev_shift_-1', 'H_rolling_std_dev_shift_-1', 'L_rolling_std_dev_shift_-1', 'C_rolling_std_dev_shift_-1', 'V_rolling_std_dev_shift_-1', 'O_rolling_std_dev_shift_0', 'H_rolling_std_dev_shift_0', 'L_rolling_std_dev_shift_0', 'C_rolling_std_dev_shift_0', 'V_rolling_std_dev_shift_0', 'O_rolling_std_dev_shift_1', 'H_rolling_std_dev_shift_1', 'L_rolling_std_dev_shift_1', 'C_rolling_std_dev_shift_1', 'V_rolling_std_dev_shift_1', 'O_rolling_std_dev_shift_2', 'H_rolling_std_dev_shift_2', 'L_rolling_std_dev_shift_2', 'C_rolling_std_dev_shift_2', 'V_rolling_std_dev_shift_2', 'O_rolling_std_dev_shift_3', 'H_rolling_std_dev_shift_3', 'L_rolling_std_dev_shift_3', 'C_rolling_std_dev_shift_3', 'V_rolling_std_dev_shift_3', 'O_rolling_std_dev_shift_4', 'H_rolling_std_dev_shift_4', 'L_rolling_std_dev_shift_4', 'C_rolling_std_dev_shift_4', 'V_rolling_std_dev_shift_4', 'O_rolling_std_dev_shift_5', 'H_rolling_std_dev_shift_5', 'L_rolling_std_dev_shift_5', 'C_rolling_std_dev_shift_5', 'V_rolling_std_dev_shift_5', 'O_rolling_std_dev_shift_6', 'H_rolling_std_dev_shift_6', 'L_rolling_std_dev_shift_6', 'C_rolling_std_dev_shift_6', 'V_rolling_std_dev_shift_6', 'PCA1', 'PCA2', 'PCA3', 'PCA4', 'PCA5', 'PCA6', 'PCA7', 'PCA8', 'PCA9', 'PCA10', 'PCA11', 'PCA12']\n",
      "Merging the scaled data and the unscalable data back together with pd.concat: NZDUSD1440.csv (4983, 298)\n",
      "Finished: NZDUSD1440.csv (4983, 298)\n",
      "--------------------------------\n",
      "Finished loading data! You'll probably still want to remove some columns though\n"
     ]
    }
   ],
   "source": [
    "\n",
    "# allows us to easily modify how many days ahead and before we look:\n",
    "\n",
    "lookforward = 4 # how many days we look forward\n",
    "lookback = 7 # how many days we look back\n",
    "\n",
    "        \n",
    "# Choose features to be used in feature generation function\n",
    "feature_generation_channels = [\"O\", \"H\", \"L\", \"C\", \"V\"] \n",
    "\n",
    "X,y, df_ohlc_and_rectangles, groups,\\\n",
    "groups_count, scalers, groups_dict,\\\n",
    "scaled_columns, df_data_unscaled,\\\n",
    "y_rects, proximal_columns, distal_columns = data_processing.prepare_data(data, \n",
    "                                                                 lookforward, \n",
    "                                                                 lookback,\n",
    "                                                                 feature_generation_channels,\n",
    "                                                                 lag=0,\n",
    "                                                                 change_open_close=1, \n",
    "                                                                 range_high_low=1,\n",
    "                                                                 rolling_mean_range_HL=1,\n",
    "                                                                 range_high_close=1,\n",
    "                                                                 std_dev=1,\n",
    "                                                                 rolling_mean=1,\n",
    "                                                                 change_open_close_shift=1,\n",
    "                                                                 range_high_low_shift=0,\n",
    "                                                                 range_high_close_shift=1,\n",
    "                                                                 diff_shift=1,\n",
    "                                                                 rolling_mean_shift=1,\n",
    "                                                                 std_dev_shift=1,\n",
    "                                                                 center=True\n",
    "                                                                )"
   ]
  },
  {
   "cell_type": "code",
   "execution_count": 9,
   "metadata": {
    "collapsed": true
   },
   "outputs": [],
   "source": [
    "#print(\"Your X columns:\", list(X))\n",
    "#print(\"Your y columns:\", list(y))"
   ]
  },
  {
   "cell_type": "code",
   "execution_count": 10,
   "metadata": {
    "collapsed": true
   },
   "outputs": [],
   "source": [
    "#np.bincount(y.rectangle_here.values)"
   ]
  },
  {
   "cell_type": "code",
   "execution_count": 11,
   "metadata": {
    "collapsed": true
   },
   "outputs": [],
   "source": [
    "#print(X.shape, y.shape)"
   ]
  },
  {
   "cell_type": "code",
   "execution_count": 12,
   "metadata": {
    "collapsed": true
   },
   "outputs": [],
   "source": [
    "# Save data into backup X, y so we don't have to reload it \n",
    "\n",
    "X_backup = X\n",
    "y_backup = y"
   ]
  },
  {
   "cell_type": "code",
   "execution_count": 40,
   "metadata": {
    "collapsed": true
   },
   "outputs": [],
   "source": [
    "# Reset to backup df\n",
    "\n",
    "X = X_backup\n",
    "y = y_backup"
   ]
  },
  {
   "cell_type": "markdown",
   "metadata": {},
   "source": [
    "##### Prepare data for Distal specific model training"
   ]
  },
  {
   "cell_type": "code",
   "execution_count": 41,
   "metadata": {},
   "outputs": [
    {
     "data": {
      "text/plain": [
       "(48732, 300)"
      ]
     },
     "execution_count": 41,
     "metadata": {},
     "output_type": "execute_result"
    }
   ],
   "source": [
    "df_ohlc_and_rectangles.shape"
   ]
  },
  {
   "cell_type": "code",
   "execution_count": 42,
   "metadata": {},
   "outputs": [
    {
     "data": {
      "text/plain": [
       "range(7, 4)"
      ]
     },
     "execution_count": 42,
     "metadata": {},
     "output_type": "execute_result"
    }
   ],
   "source": [
    "range(lookback, lookforward)"
   ]
  },
  {
   "cell_type": "code",
   "execution_count": 43,
   "metadata": {},
   "outputs": [],
   "source": [
    "# Make list of features and label column names\n",
    "features = [col for col in list(X)]\n",
    "labels = [col for col in list(y) if col.startswith('Distal')]\n",
    "\n",
    "\n",
    "# Select only rows that contain zones\n",
    "df_zones = df_ohlc_and_rectangles.loc[df_ohlc_and_rectangles['rectangle_here'] == 1]\n",
    "\n",
    "# Split out the new df into features and labels\n",
    "df_X = df_zones[features]\n",
    "df_y = df_zones[labels]\n",
    "\n",
    "%aimport data_processing\n",
    "# Drop features from X\n",
    "\n",
    "features_to_remove = ['Epoch Date', 'Supply/Demand', 'Object Name', 'Epoch Date Start', 'L_diff_0', 'O_diff_0',\n",
    "                      'Epoch Date End', 'Proximal', 'Distal', 'change', 'V_diff_0', 'C_diff_0', 'H_diff_0',\n",
    "                      #'O', 'H', 'L', 'C', \n",
    "                      'csv_origin_tag', 'range_high_close_range_0', 'change_open_close', 'range_high_close', \n",
    "                      'rectangle_here', 'supply_demand', 'groups']\n",
    "\n",
    "\n",
    "df_X = data_processing.drop_non_features(df_X, features_to_remove, zero_columns=1)\n",
    "df_y = data_processing.drop_non_features(df_y, ['Distal'], zero_columns=1)"
   ]
  },
  {
   "cell_type": "code",
   "execution_count": 44,
   "metadata": {},
   "outputs": [
    {
     "name": "stdout",
     "output_type": "stream",
     "text": [
      "(3103, 48)\n",
      "(1901, 48)\n",
      "(1331, 48)\n"
     ]
    }
   ],
   "source": [
    "# Create train/test split\n",
    "X_train, X_test, y_train, y_test = train_test_split(df_X, df_y, test_size=0.3, random_state=0)\n",
    "# Create validation split from training\n",
    "X_train, X_valid, y_train, y_valid = train_test_split(X_train, y_train, test_size=0.3, random_state=0)\n",
    "\n",
    "y_train_distal = data_processing.distal_split(y_train)\n",
    "y_valid_distal = data_processing.distal_split(y_valid)\n",
    "y_test_distal = data_processing.distal_split(y_test)\n",
    "\n",
    "print(y_train_distal.shape)\n",
    "print(y_test_distal.shape)\n",
    "print(y_valid_distal.shape)"
   ]
  },
  {
   "cell_type": "code",
   "execution_count": 45,
   "metadata": {},
   "outputs": [
    {
     "name": "stdout",
     "output_type": "stream",
     "text": [
      "X:  (3103, 175, 1)\n",
      "X:  <class 'numpy.ndarray'>\n",
      "X:  (1331, 175, 1)\n",
      "X:  <class 'numpy.ndarray'>\n",
      "X:  (1901, 175, 1)\n",
      "X:  <class 'numpy.ndarray'>\n"
     ]
    }
   ],
   "source": [
    "# Stack to 3dim for conv net\n",
    "X_train = data_processing.X_to_Conv1D_arrays(X_train)\n",
    "X_valid = data_processing.X_to_Conv1D_arrays(X_valid)\n",
    "X_test = data_processing.X_to_Conv1D_arrays(X_test)\n",
    "\n",
    "# Create generators\n",
    "batch_size = 64\n",
    "train_gen = make_keras_generators.train_generator(X_train, y_train_distal.values, batch_size)\n",
    "valid_gen = make_keras_generators.valid_generator(X_valid, y_valid_distal.values, batch_size)"
   ]
  },
  {
   "cell_type": "markdown",
   "metadata": {},
   "source": [
    "#### Train LSTM model for Distal line"
   ]
  },
  {
   "cell_type": "code",
   "execution_count": 49,
   "metadata": {
    "collapsed": true
   },
   "outputs": [],
   "source": [
    "input_shape = X_train.shape[1:3]\n",
    "output_shape = len(list(y_train_distal))\n",
    "validation_steps = int(len(X_valid)/batch_size)+1\n",
    "\n",
    "steps_per_epoch = int(len(X_train)/batch_size)+1"
   ]
  },
  {
   "cell_type": "code",
   "execution_count": 78,
   "metadata": {},
   "outputs": [
    {
     "data": {
      "text/plain": [
       "(175, 1)"
      ]
     },
     "execution_count": 78,
     "metadata": {},
     "output_type": "execute_result"
    }
   ],
   "source": [
    "input_shape"
   ]
  },
  {
   "cell_type": "code",
   "execution_count": 79,
   "metadata": {},
   "outputs": [
    {
     "data": {
      "text/plain": [
       "48"
      ]
     },
     "execution_count": 79,
     "metadata": {},
     "output_type": "execute_result"
    }
   ],
   "source": [
    "output_shape"
   ]
  },
  {
   "cell_type": "code",
   "execution_count": 85,
   "metadata": {},
   "outputs": [
    {
     "name": "stderr",
     "output_type": "stream",
     "text": [
      "/Library/Frameworks/Python.framework/Versions/3.5/lib/python3.5/site-packages/ipykernel_launcher.py:4: UserWarning: Update your `LSTM` call to the Keras 2 API: `LSTM(16, recurrent_initializer=\"orthogonal\", input_shape=(175, 1), kernel_initializer=\"glorot_uniform\", activation=\"sigmoid\", return_sequences=False, recurrent_activation=\"hard_sigmoid\")`\n",
      "  after removing the cwd from sys.path.\n"
     ]
    }
   ],
   "source": [
    "# create and fit the LSTM network\n",
    "distal_model = Sequential()\n",
    "distal_model.add(LSTM(16,input_shape=input_shape, init='glorot_uniform', inner_init='orthogonal',\n",
    "               activation='sigmoid', inner_activation='hard_sigmoid', return_sequences=False))\n",
    "distal_model.add(Dropout(0.2))\n",
    "\n",
    "\n",
    "distal_model.add(Dense(output_shape, activation='softmax'))\n"
   ]
  },
  {
   "cell_type": "code",
   "execution_count": 86,
   "metadata": {
    "collapsed": true
   },
   "outputs": [],
   "source": [
    "epochs = 50\n",
    "\n",
    "def sigmoidal_decay(e, start=0, end=100, lr_start=1e-3, lr_end=1e-5):\n",
    "    if e < start:\n",
    "        return lr_start\n",
    "    \n",
    "    if e > end:\n",
    "        return lr_end\n",
    "    \n",
    "    middle = (start + end) / 2\n",
    "    s = lambda x: 1 / (1 + np.exp(-x))\n",
    "    \n",
    "    return s(13 * (-e + middle) / np.abs(end - start)) * np.abs(lr_start - lr_end) + lr_end\n",
    "\n",
    "lr = LearningRateScheduler(lambda e: sigmoidal_decay(e, end=epochs))\n",
    "mc = ModelCheckpoint('lstm-jun29-229pm', monitor='val_loss', save_best_only=True)\n",
    "\n",
    "\n",
    "rlop = ReduceLROnPlateau(\n",
    "                    monitor='val_loss', \n",
    "                    mode='min',\n",
    "                    factor=0.80,\n",
    "                    patience=1, \n",
    "                    min_lr=0.00001,\n",
    "                    verbose=1,\n",
    "                        )\n",
    "\n",
    "es = EarlyStopping(\n",
    "        monitor='val_loss',\n",
    "        min_delta=0.01,\n",
    "        mode='max',\n",
    "        patience=5,\n",
    "        verbose=1)\n",
    "\n",
    "\n",
    "\n",
    "callbacks = [ es, lr, rlop, mc]"
   ]
  },
  {
   "cell_type": "code",
   "execution_count": 87,
   "metadata": {},
   "outputs": [],
   "source": [
    "distal_model.compile(optimizer=AdamWithWeightnorm(lr=0.015), \n",
    "              loss='binary_crossentropy',\n",
    "                metrics = ['accuracy', \n",
    "                           custom_metrics.fbeta_score,\n",
    "                           custom_metrics.recall,\n",
    "                          custom_metrics.precision,]\n",
    "            )\n",
    "# history = distal_model.fit_generator(\n",
    "#                     train_gen,\n",
    "#                     steps_per_epoch=int(len(X_train)/batch_size)+1,\n",
    "#                     epochs=1,\n",
    "#                     verbose=1,\n",
    "#                     callbacks=callbacks,\n",
    "#                     #max_q_size=1,\n",
    "#                     #pickle_safe=False,\n",
    "#                     validation_data = valid_gen,\n",
    "#                     #class_weight = class_weight,\n",
    "#                     validation_steps = validation_steps\n",
    "#                    )"
   ]
  },
  {
   "cell_type": "code",
   "execution_count": 89,
   "metadata": {},
   "outputs": [
    {
     "name": "stdout",
     "output_type": "stream",
     "text": [
      "Epoch 1/1\n"
     ]
    },
    {
     "ename": "ResourceExhaustedError",
     "evalue": "OOM when allocating tensor with shape[32,16]\n\t [[Node: lstm_28/while/mul_4 = Mul[T=DT_FLOAT, _device=\"/job:localhost/replica:0/task:0/gpu:0\"](lstm_28/while/clip_by_value_1, lstm_28/while/Identity_3)]]\n\t [[Node: Mean_71/_107 = _Recv[client_terminated=false, recv_device=\"/job:localhost/replica:0/task:0/cpu:0\", send_device=\"/job:localhost/replica:0/task:0/gpu:0\", send_device_incarnation=1, tensor_name=\"edge_2959_Mean_71\", tensor_type=DT_FLOAT, _device=\"/job:localhost/replica:0/task:0/cpu:0\"]()]]\n\nCaused by op 'lstm_28/while/mul_4', defined at:\n  File \"/Library/Frameworks/Python.framework/Versions/3.5/lib/python3.5/runpy.py\", line 184, in _run_module_as_main\n    \"__main__\", mod_spec)\n  File \"/Library/Frameworks/Python.framework/Versions/3.5/lib/python3.5/runpy.py\", line 85, in _run_code\n    exec(code, run_globals)\n  File \"/Library/Frameworks/Python.framework/Versions/3.5/lib/python3.5/site-packages/ipykernel_launcher.py\", line 16, in <module>\n    app.launch_new_instance()\n  File \"/Library/Frameworks/Python.framework/Versions/3.5/lib/python3.5/site-packages/traitlets/config/application.py\", line 658, in launch_instance\n    app.start()\n  File \"/Library/Frameworks/Python.framework/Versions/3.5/lib/python3.5/site-packages/ipykernel/kernelapp.py\", line 477, in start\n    ioloop.IOLoop.instance().start()\n  File \"/Library/Frameworks/Python.framework/Versions/3.5/lib/python3.5/site-packages/zmq/eventloop/ioloop.py\", line 177, in start\n    super(ZMQIOLoop, self).start()\n  File \"/Library/Frameworks/Python.framework/Versions/3.5/lib/python3.5/site-packages/tornado/ioloop.py\", line 888, in start\n    handler_func(fd_obj, events)\n  File \"/Library/Frameworks/Python.framework/Versions/3.5/lib/python3.5/site-packages/tornado/stack_context.py\", line 277, in null_wrapper\n    return fn(*args, **kwargs)\n  File \"/Library/Frameworks/Python.framework/Versions/3.5/lib/python3.5/site-packages/zmq/eventloop/zmqstream.py\", line 440, in _handle_events\n    self._handle_recv()\n  File \"/Library/Frameworks/Python.framework/Versions/3.5/lib/python3.5/site-packages/zmq/eventloop/zmqstream.py\", line 472, in _handle_recv\n    self._run_callback(callback, msg)\n  File \"/Library/Frameworks/Python.framework/Versions/3.5/lib/python3.5/site-packages/zmq/eventloop/zmqstream.py\", line 414, in _run_callback\n    callback(*args, **kwargs)\n  File \"/Library/Frameworks/Python.framework/Versions/3.5/lib/python3.5/site-packages/tornado/stack_context.py\", line 277, in null_wrapper\n    return fn(*args, **kwargs)\n  File \"/Library/Frameworks/Python.framework/Versions/3.5/lib/python3.5/site-packages/ipykernel/kernelbase.py\", line 283, in dispatcher\n    return self.dispatch_shell(stream, msg)\n  File \"/Library/Frameworks/Python.framework/Versions/3.5/lib/python3.5/site-packages/ipykernel/kernelbase.py\", line 235, in dispatch_shell\n    handler(stream, idents, msg)\n  File \"/Library/Frameworks/Python.framework/Versions/3.5/lib/python3.5/site-packages/ipykernel/kernelbase.py\", line 399, in execute_request\n    user_expressions, allow_stdin)\n  File \"/Library/Frameworks/Python.framework/Versions/3.5/lib/python3.5/site-packages/ipykernel/ipkernel.py\", line 196, in do_execute\n    res = shell.run_cell(code, store_history=store_history, silent=silent)\n  File \"/Library/Frameworks/Python.framework/Versions/3.5/lib/python3.5/site-packages/ipykernel/zmqshell.py\", line 533, in run_cell\n    return super(ZMQInteractiveShell, self).run_cell(*args, **kwargs)\n  File \"/Library/Frameworks/Python.framework/Versions/3.5/lib/python3.5/site-packages/IPython/core/interactiveshell.py\", line 2698, in run_cell\n    interactivity=interactivity, compiler=compiler, result=result)\n  File \"/Library/Frameworks/Python.framework/Versions/3.5/lib/python3.5/site-packages/IPython/core/interactiveshell.py\", line 2802, in run_ast_nodes\n    if self.run_code(code, result):\n  File \"/Library/Frameworks/Python.framework/Versions/3.5/lib/python3.5/site-packages/IPython/core/interactiveshell.py\", line 2862, in run_code\n    exec(code_obj, self.user_global_ns, self.user_ns)\n  File \"<ipython-input-85-27ec73053fde>\", line 4, in <module>\n    activation='sigmoid', inner_activation='hard_sigmoid', return_sequences=False))\n  File \"/Library/Frameworks/Python.framework/Versions/3.5/lib/python3.5/site-packages/keras/models.py\", line 433, in add\n    layer(x)\n  File \"/Library/Frameworks/Python.framework/Versions/3.5/lib/python3.5/site-packages/keras/layers/recurrent.py\", line 243, in __call__\n    return super(Recurrent, self).__call__(inputs, **kwargs)\n  File \"/Library/Frameworks/Python.framework/Versions/3.5/lib/python3.5/site-packages/keras/engine/topology.py\", line 585, in __call__\n    output = self.call(inputs, **kwargs)\n  File \"/Library/Frameworks/Python.framework/Versions/3.5/lib/python3.5/site-packages/keras/layers/recurrent.py\", line 320, in call\n    input_length=input_shape[1])\n  File \"/Library/Frameworks/Python.framework/Versions/3.5/lib/python3.5/site-packages/keras/backend/tensorflow_backend.py\", line 2495, in rnn\n    swap_memory=True)\n  File \"/Library/Frameworks/Python.framework/Versions/3.5/lib/python3.5/site-packages/tensorflow/python/ops/control_flow_ops.py\", line 2605, in while_loop\n    result = context.BuildLoop(cond, body, loop_vars, shape_invariants)\n  File \"/Library/Frameworks/Python.framework/Versions/3.5/lib/python3.5/site-packages/tensorflow/python/ops/control_flow_ops.py\", line 2438, in BuildLoop\n    pred, body, original_loop_vars, loop_vars, shape_invariants)\n  File \"/Library/Frameworks/Python.framework/Versions/3.5/lib/python3.5/site-packages/tensorflow/python/ops/control_flow_ops.py\", line 2388, in _BuildLoop\n    body_result = body(*packed_vars_for_body)\n  File \"/Library/Frameworks/Python.framework/Versions/3.5/lib/python3.5/site-packages/keras/backend/tensorflow_backend.py\", line 2484, in _step\n    tuple(constants))\n  File \"/Library/Frameworks/Python.framework/Versions/3.5/lib/python3.5/site-packages/keras/layers/recurrent.py\", line 1131, in step\n    c = f * c_tm1 + i * self.activation(x_c + K.dot(h_tm1 * rec_dp_mask[2],\n  File \"/Library/Frameworks/Python.framework/Versions/3.5/lib/python3.5/site-packages/tensorflow/python/ops/math_ops.py\", line 794, in binary_op_wrapper\n    return func(x, y, name=name)\n  File \"/Library/Frameworks/Python.framework/Versions/3.5/lib/python3.5/site-packages/tensorflow/python/ops/math_ops.py\", line 1015, in _mul_dispatch\n    return gen_math_ops._mul(x, y, name=name)\n  File \"/Library/Frameworks/Python.framework/Versions/3.5/lib/python3.5/site-packages/tensorflow/python/ops/gen_math_ops.py\", line 1625, in _mul\n    result = _op_def_lib.apply_op(\"Mul\", x=x, y=y, name=name)\n  File \"/Library/Frameworks/Python.framework/Versions/3.5/lib/python3.5/site-packages/tensorflow/python/framework/op_def_library.py\", line 763, in apply_op\n    op_def=op_def)\n  File \"/Library/Frameworks/Python.framework/Versions/3.5/lib/python3.5/site-packages/tensorflow/python/framework/ops.py\", line 2327, in create_op\n    original_op=self._default_original_op, op_def=op_def)\n  File \"/Library/Frameworks/Python.framework/Versions/3.5/lib/python3.5/site-packages/tensorflow/python/framework/ops.py\", line 1226, in __init__\n    self._traceback = _extract_stack()\n\nResourceExhaustedError (see above for traceback): OOM when allocating tensor with shape[32,16]\n\t [[Node: lstm_28/while/mul_4 = Mul[T=DT_FLOAT, _device=\"/job:localhost/replica:0/task:0/gpu:0\"](lstm_28/while/clip_by_value_1, lstm_28/while/Identity_3)]]\n\t [[Node: Mean_71/_107 = _Recv[client_terminated=false, recv_device=\"/job:localhost/replica:0/task:0/cpu:0\", send_device=\"/job:localhost/replica:0/task:0/gpu:0\", send_device_incarnation=1, tensor_name=\"edge_2959_Mean_71\", tensor_type=DT_FLOAT, _device=\"/job:localhost/replica:0/task:0/cpu:0\"]()]]\n",
     "output_type": "error",
     "traceback": [
      "\u001b[0;31m---------------------------------------------------------------------------\u001b[0m",
      "\u001b[0;31mResourceExhaustedError\u001b[0m                    Traceback (most recent call last)",
      "\u001b[0;32m/Library/Frameworks/Python.framework/Versions/3.5/lib/python3.5/site-packages/tensorflow/python/client/session.py\u001b[0m in \u001b[0;36m_do_call\u001b[0;34m(self, fn, *args)\u001b[0m\n\u001b[1;32m   1021\u001b[0m     \u001b[0;32mtry\u001b[0m\u001b[0;34m:\u001b[0m\u001b[0;34m\u001b[0m\u001b[0m\n\u001b[0;32m-> 1022\u001b[0;31m       \u001b[0;32mreturn\u001b[0m \u001b[0mfn\u001b[0m\u001b[0;34m(\u001b[0m\u001b[0;34m*\u001b[0m\u001b[0margs\u001b[0m\u001b[0;34m)\u001b[0m\u001b[0;34m\u001b[0m\u001b[0m\n\u001b[0m\u001b[1;32m   1023\u001b[0m     \u001b[0;32mexcept\u001b[0m \u001b[0merrors\u001b[0m\u001b[0;34m.\u001b[0m\u001b[0mOpError\u001b[0m \u001b[0;32mas\u001b[0m \u001b[0me\u001b[0m\u001b[0;34m:\u001b[0m\u001b[0;34m\u001b[0m\u001b[0m\n",
      "\u001b[0;32m/Library/Frameworks/Python.framework/Versions/3.5/lib/python3.5/site-packages/tensorflow/python/client/session.py\u001b[0m in \u001b[0;36m_run_fn\u001b[0;34m(session, feed_dict, fetch_list, target_list, options, run_metadata)\u001b[0m\n\u001b[1;32m   1003\u001b[0m                                  \u001b[0mfeed_dict\u001b[0m\u001b[0;34m,\u001b[0m \u001b[0mfetch_list\u001b[0m\u001b[0;34m,\u001b[0m \u001b[0mtarget_list\u001b[0m\u001b[0;34m,\u001b[0m\u001b[0;34m\u001b[0m\u001b[0m\n\u001b[0;32m-> 1004\u001b[0;31m                                  status, run_metadata)\n\u001b[0m\u001b[1;32m   1005\u001b[0m \u001b[0;34m\u001b[0m\u001b[0m\n",
      "\u001b[0;32m/Library/Frameworks/Python.framework/Versions/3.5/lib/python3.5/contextlib.py\u001b[0m in \u001b[0;36m__exit__\u001b[0;34m(self, type, value, traceback)\u001b[0m\n\u001b[1;32m     65\u001b[0m             \u001b[0;32mtry\u001b[0m\u001b[0;34m:\u001b[0m\u001b[0;34m\u001b[0m\u001b[0m\n\u001b[0;32m---> 66\u001b[0;31m                 \u001b[0mnext\u001b[0m\u001b[0;34m(\u001b[0m\u001b[0mself\u001b[0m\u001b[0;34m.\u001b[0m\u001b[0mgen\u001b[0m\u001b[0;34m)\u001b[0m\u001b[0;34m\u001b[0m\u001b[0m\n\u001b[0m\u001b[1;32m     67\u001b[0m             \u001b[0;32mexcept\u001b[0m \u001b[0mStopIteration\u001b[0m\u001b[0;34m:\u001b[0m\u001b[0;34m\u001b[0m\u001b[0m\n",
      "\u001b[0;32m/Library/Frameworks/Python.framework/Versions/3.5/lib/python3.5/site-packages/tensorflow/python/framework/errors_impl.py\u001b[0m in \u001b[0;36mraise_exception_on_not_ok_status\u001b[0;34m()\u001b[0m\n\u001b[1;32m    465\u001b[0m           \u001b[0mcompat\u001b[0m\u001b[0;34m.\u001b[0m\u001b[0mas_text\u001b[0m\u001b[0;34m(\u001b[0m\u001b[0mpywrap_tensorflow\u001b[0m\u001b[0;34m.\u001b[0m\u001b[0mTF_Message\u001b[0m\u001b[0;34m(\u001b[0m\u001b[0mstatus\u001b[0m\u001b[0;34m)\u001b[0m\u001b[0;34m)\u001b[0m\u001b[0;34m,\u001b[0m\u001b[0;34m\u001b[0m\u001b[0m\n\u001b[0;32m--> 466\u001b[0;31m           pywrap_tensorflow.TF_GetCode(status))\n\u001b[0m\u001b[1;32m    467\u001b[0m   \u001b[0;32mfinally\u001b[0m\u001b[0;34m:\u001b[0m\u001b[0;34m\u001b[0m\u001b[0m\n",
      "\u001b[0;31mResourceExhaustedError\u001b[0m: OOM when allocating tensor with shape[32,16]\n\t [[Node: lstm_28/while/mul_4 = Mul[T=DT_FLOAT, _device=\"/job:localhost/replica:0/task:0/gpu:0\"](lstm_28/while/clip_by_value_1, lstm_28/while/Identity_3)]]\n\t [[Node: Mean_71/_107 = _Recv[client_terminated=false, recv_device=\"/job:localhost/replica:0/task:0/cpu:0\", send_device=\"/job:localhost/replica:0/task:0/gpu:0\", send_device_incarnation=1, tensor_name=\"edge_2959_Mean_71\", tensor_type=DT_FLOAT, _device=\"/job:localhost/replica:0/task:0/cpu:0\"]()]]",
      "\nDuring handling of the above exception, another exception occurred:\n",
      "\u001b[0;31mResourceExhaustedError\u001b[0m                    Traceback (most recent call last)",
      "\u001b[0;32m<ipython-input-89-0b55a391ce2a>\u001b[0m in \u001b[0;36m<module>\u001b[0;34m()\u001b[0m\n\u001b[1;32m      4\u001b[0m                     \u001b[0mepochs\u001b[0m\u001b[0;34m=\u001b[0m\u001b[0;36m1\u001b[0m\u001b[0;34m,\u001b[0m\u001b[0;34m\u001b[0m\u001b[0m\n\u001b[1;32m      5\u001b[0m                     \u001b[0mverbose\u001b[0m\u001b[0;34m=\u001b[0m\u001b[0;36m1\u001b[0m\u001b[0;34m,\u001b[0m\u001b[0;34m\u001b[0m\u001b[0m\n\u001b[0;32m----> 6\u001b[0;31m                     \u001b[0mcallbacks\u001b[0m\u001b[0;34m=\u001b[0m\u001b[0mcallbacks\u001b[0m\u001b[0;34m,\u001b[0m\u001b[0;34m\u001b[0m\u001b[0m\n\u001b[0m\u001b[1;32m      7\u001b[0m                     \u001b[0;31m#max_q_size=1,\u001b[0m\u001b[0;34m\u001b[0m\u001b[0;34m\u001b[0m\u001b[0m\n\u001b[1;32m      8\u001b[0m                     \u001b[0;31m#pickle_safe=False,\u001b[0m\u001b[0;34m\u001b[0m\u001b[0;34m\u001b[0m\u001b[0m\n",
      "\u001b[0;32m/Library/Frameworks/Python.framework/Versions/3.5/lib/python3.5/site-packages/keras/models.py\u001b[0m in \u001b[0;36mfit\u001b[0;34m(self, x, y, batch_size, epochs, verbose, callbacks, validation_split, validation_data, shuffle, class_weight, sample_weight, initial_epoch, **kwargs)\u001b[0m\n\u001b[1;32m    854\u001b[0m                               \u001b[0mclass_weight\u001b[0m\u001b[0;34m=\u001b[0m\u001b[0mclass_weight\u001b[0m\u001b[0;34m,\u001b[0m\u001b[0;34m\u001b[0m\u001b[0m\n\u001b[1;32m    855\u001b[0m                               \u001b[0msample_weight\u001b[0m\u001b[0;34m=\u001b[0m\u001b[0msample_weight\u001b[0m\u001b[0;34m,\u001b[0m\u001b[0;34m\u001b[0m\u001b[0m\n\u001b[0;32m--> 856\u001b[0;31m                               initial_epoch=initial_epoch)\n\u001b[0m\u001b[1;32m    857\u001b[0m \u001b[0;34m\u001b[0m\u001b[0m\n\u001b[1;32m    858\u001b[0m     def evaluate(self, x, y, batch_size=32, verbose=1,\n",
      "\u001b[0;32m/Library/Frameworks/Python.framework/Versions/3.5/lib/python3.5/site-packages/keras/engine/training.py\u001b[0m in \u001b[0;36mfit\u001b[0;34m(self, x, y, batch_size, epochs, verbose, callbacks, validation_split, validation_data, shuffle, class_weight, sample_weight, initial_epoch, **kwargs)\u001b[0m\n\u001b[1;32m   1496\u001b[0m                               \u001b[0mval_f\u001b[0m\u001b[0;34m=\u001b[0m\u001b[0mval_f\u001b[0m\u001b[0;34m,\u001b[0m \u001b[0mval_ins\u001b[0m\u001b[0;34m=\u001b[0m\u001b[0mval_ins\u001b[0m\u001b[0;34m,\u001b[0m \u001b[0mshuffle\u001b[0m\u001b[0;34m=\u001b[0m\u001b[0mshuffle\u001b[0m\u001b[0;34m,\u001b[0m\u001b[0;34m\u001b[0m\u001b[0m\n\u001b[1;32m   1497\u001b[0m                               \u001b[0mcallback_metrics\u001b[0m\u001b[0;34m=\u001b[0m\u001b[0mcallback_metrics\u001b[0m\u001b[0;34m,\u001b[0m\u001b[0;34m\u001b[0m\u001b[0m\n\u001b[0;32m-> 1498\u001b[0;31m                               initial_epoch=initial_epoch)\n\u001b[0m\u001b[1;32m   1499\u001b[0m \u001b[0;34m\u001b[0m\u001b[0m\n\u001b[1;32m   1500\u001b[0m     \u001b[0;32mdef\u001b[0m \u001b[0mevaluate\u001b[0m\u001b[0;34m(\u001b[0m\u001b[0mself\u001b[0m\u001b[0;34m,\u001b[0m \u001b[0mx\u001b[0m\u001b[0;34m,\u001b[0m \u001b[0my\u001b[0m\u001b[0;34m,\u001b[0m \u001b[0mbatch_size\u001b[0m\u001b[0;34m=\u001b[0m\u001b[0;36m32\u001b[0m\u001b[0;34m,\u001b[0m \u001b[0mverbose\u001b[0m\u001b[0;34m=\u001b[0m\u001b[0;36m1\u001b[0m\u001b[0;34m,\u001b[0m \u001b[0msample_weight\u001b[0m\u001b[0;34m=\u001b[0m\u001b[0;32mNone\u001b[0m\u001b[0;34m)\u001b[0m\u001b[0;34m:\u001b[0m\u001b[0;34m\u001b[0m\u001b[0m\n",
      "\u001b[0;32m/Library/Frameworks/Python.framework/Versions/3.5/lib/python3.5/site-packages/keras/engine/training.py\u001b[0m in \u001b[0;36m_fit_loop\u001b[0;34m(self, f, ins, out_labels, batch_size, epochs, verbose, callbacks, val_f, val_ins, shuffle, callback_metrics, initial_epoch)\u001b[0m\n\u001b[1;32m   1150\u001b[0m                 \u001b[0mbatch_logs\u001b[0m\u001b[0;34m[\u001b[0m\u001b[0;34m'size'\u001b[0m\u001b[0;34m]\u001b[0m \u001b[0;34m=\u001b[0m \u001b[0mlen\u001b[0m\u001b[0;34m(\u001b[0m\u001b[0mbatch_ids\u001b[0m\u001b[0;34m)\u001b[0m\u001b[0;34m\u001b[0m\u001b[0m\n\u001b[1;32m   1151\u001b[0m                 \u001b[0mcallbacks\u001b[0m\u001b[0;34m.\u001b[0m\u001b[0mon_batch_begin\u001b[0m\u001b[0;34m(\u001b[0m\u001b[0mbatch_index\u001b[0m\u001b[0;34m,\u001b[0m \u001b[0mbatch_logs\u001b[0m\u001b[0;34m)\u001b[0m\u001b[0;34m\u001b[0m\u001b[0m\n\u001b[0;32m-> 1152\u001b[0;31m                 \u001b[0mouts\u001b[0m \u001b[0;34m=\u001b[0m \u001b[0mf\u001b[0m\u001b[0;34m(\u001b[0m\u001b[0mins_batch\u001b[0m\u001b[0;34m)\u001b[0m\u001b[0;34m\u001b[0m\u001b[0m\n\u001b[0m\u001b[1;32m   1153\u001b[0m                 \u001b[0;32mif\u001b[0m \u001b[0;32mnot\u001b[0m \u001b[0misinstance\u001b[0m\u001b[0;34m(\u001b[0m\u001b[0mouts\u001b[0m\u001b[0;34m,\u001b[0m \u001b[0mlist\u001b[0m\u001b[0;34m)\u001b[0m\u001b[0;34m:\u001b[0m\u001b[0;34m\u001b[0m\u001b[0m\n\u001b[1;32m   1154\u001b[0m                     \u001b[0mouts\u001b[0m \u001b[0;34m=\u001b[0m \u001b[0;34m[\u001b[0m\u001b[0mouts\u001b[0m\u001b[0;34m]\u001b[0m\u001b[0;34m\u001b[0m\u001b[0m\n",
      "\u001b[0;32m/Library/Frameworks/Python.framework/Versions/3.5/lib/python3.5/site-packages/keras/backend/tensorflow_backend.py\u001b[0m in \u001b[0;36m__call__\u001b[0;34m(self, inputs)\u001b[0m\n\u001b[1;32m   2227\u001b[0m         \u001b[0msession\u001b[0m \u001b[0;34m=\u001b[0m \u001b[0mget_session\u001b[0m\u001b[0;34m(\u001b[0m\u001b[0;34m)\u001b[0m\u001b[0;34m\u001b[0m\u001b[0m\n\u001b[1;32m   2228\u001b[0m         updated = session.run(self.outputs + [self.updates_op],\n\u001b[0;32m-> 2229\u001b[0;31m                               feed_dict=feed_dict)\n\u001b[0m\u001b[1;32m   2230\u001b[0m         \u001b[0;32mreturn\u001b[0m \u001b[0mupdated\u001b[0m\u001b[0;34m[\u001b[0m\u001b[0;34m:\u001b[0m\u001b[0mlen\u001b[0m\u001b[0;34m(\u001b[0m\u001b[0mself\u001b[0m\u001b[0;34m.\u001b[0m\u001b[0moutputs\u001b[0m\u001b[0;34m)\u001b[0m\u001b[0;34m]\u001b[0m\u001b[0;34m\u001b[0m\u001b[0m\n\u001b[1;32m   2231\u001b[0m \u001b[0;34m\u001b[0m\u001b[0m\n",
      "\u001b[0;32m/Library/Frameworks/Python.framework/Versions/3.5/lib/python3.5/site-packages/tensorflow/python/client/session.py\u001b[0m in \u001b[0;36mrun\u001b[0;34m(self, fetches, feed_dict, options, run_metadata)\u001b[0m\n\u001b[1;32m    765\u001b[0m     \u001b[0;32mtry\u001b[0m\u001b[0;34m:\u001b[0m\u001b[0;34m\u001b[0m\u001b[0m\n\u001b[1;32m    766\u001b[0m       result = self._run(None, fetches, feed_dict, options_ptr,\n\u001b[0;32m--> 767\u001b[0;31m                          run_metadata_ptr)\n\u001b[0m\u001b[1;32m    768\u001b[0m       \u001b[0;32mif\u001b[0m \u001b[0mrun_metadata\u001b[0m\u001b[0;34m:\u001b[0m\u001b[0;34m\u001b[0m\u001b[0m\n\u001b[1;32m    769\u001b[0m         \u001b[0mproto_data\u001b[0m \u001b[0;34m=\u001b[0m \u001b[0mtf_session\u001b[0m\u001b[0;34m.\u001b[0m\u001b[0mTF_GetBuffer\u001b[0m\u001b[0;34m(\u001b[0m\u001b[0mrun_metadata_ptr\u001b[0m\u001b[0;34m)\u001b[0m\u001b[0;34m\u001b[0m\u001b[0m\n",
      "\u001b[0;32m/Library/Frameworks/Python.framework/Versions/3.5/lib/python3.5/site-packages/tensorflow/python/client/session.py\u001b[0m in \u001b[0;36m_run\u001b[0;34m(self, handle, fetches, feed_dict, options, run_metadata)\u001b[0m\n\u001b[1;32m    963\u001b[0m     \u001b[0;32mif\u001b[0m \u001b[0mfinal_fetches\u001b[0m \u001b[0;32mor\u001b[0m \u001b[0mfinal_targets\u001b[0m\u001b[0;34m:\u001b[0m\u001b[0;34m\u001b[0m\u001b[0m\n\u001b[1;32m    964\u001b[0m       results = self._do_run(handle, final_targets, final_fetches,\n\u001b[0;32m--> 965\u001b[0;31m                              feed_dict_string, options, run_metadata)\n\u001b[0m\u001b[1;32m    966\u001b[0m     \u001b[0;32melse\u001b[0m\u001b[0;34m:\u001b[0m\u001b[0;34m\u001b[0m\u001b[0m\n\u001b[1;32m    967\u001b[0m       \u001b[0mresults\u001b[0m \u001b[0;34m=\u001b[0m \u001b[0;34m[\u001b[0m\u001b[0;34m]\u001b[0m\u001b[0;34m\u001b[0m\u001b[0m\n",
      "\u001b[0;32m/Library/Frameworks/Python.framework/Versions/3.5/lib/python3.5/site-packages/tensorflow/python/client/session.py\u001b[0m in \u001b[0;36m_do_run\u001b[0;34m(self, handle, target_list, fetch_list, feed_dict, options, run_metadata)\u001b[0m\n\u001b[1;32m   1013\u001b[0m     \u001b[0;32mif\u001b[0m \u001b[0mhandle\u001b[0m \u001b[0;32mis\u001b[0m \u001b[0;32mNone\u001b[0m\u001b[0;34m:\u001b[0m\u001b[0;34m\u001b[0m\u001b[0m\n\u001b[1;32m   1014\u001b[0m       return self._do_call(_run_fn, self._session, feed_dict, fetch_list,\n\u001b[0;32m-> 1015\u001b[0;31m                            target_list, options, run_metadata)\n\u001b[0m\u001b[1;32m   1016\u001b[0m     \u001b[0;32melse\u001b[0m\u001b[0;34m:\u001b[0m\u001b[0;34m\u001b[0m\u001b[0m\n\u001b[1;32m   1017\u001b[0m       return self._do_call(_prun_fn, self._session, handle, feed_dict,\n",
      "\u001b[0;32m/Library/Frameworks/Python.framework/Versions/3.5/lib/python3.5/site-packages/tensorflow/python/client/session.py\u001b[0m in \u001b[0;36m_do_call\u001b[0;34m(self, fn, *args)\u001b[0m\n\u001b[1;32m   1033\u001b[0m         \u001b[0;32mexcept\u001b[0m \u001b[0mKeyError\u001b[0m\u001b[0;34m:\u001b[0m\u001b[0;34m\u001b[0m\u001b[0m\n\u001b[1;32m   1034\u001b[0m           \u001b[0;32mpass\u001b[0m\u001b[0;34m\u001b[0m\u001b[0m\n\u001b[0;32m-> 1035\u001b[0;31m       \u001b[0;32mraise\u001b[0m \u001b[0mtype\u001b[0m\u001b[0;34m(\u001b[0m\u001b[0me\u001b[0m\u001b[0;34m)\u001b[0m\u001b[0;34m(\u001b[0m\u001b[0mnode_def\u001b[0m\u001b[0;34m,\u001b[0m \u001b[0mop\u001b[0m\u001b[0;34m,\u001b[0m \u001b[0mmessage\u001b[0m\u001b[0;34m)\u001b[0m\u001b[0;34m\u001b[0m\u001b[0m\n\u001b[0m\u001b[1;32m   1036\u001b[0m \u001b[0;34m\u001b[0m\u001b[0m\n\u001b[1;32m   1037\u001b[0m   \u001b[0;32mdef\u001b[0m \u001b[0m_extend_graph\u001b[0m\u001b[0;34m(\u001b[0m\u001b[0mself\u001b[0m\u001b[0;34m)\u001b[0m\u001b[0;34m:\u001b[0m\u001b[0;34m\u001b[0m\u001b[0m\n",
      "\u001b[0;31mResourceExhaustedError\u001b[0m: OOM when allocating tensor with shape[32,16]\n\t [[Node: lstm_28/while/mul_4 = Mul[T=DT_FLOAT, _device=\"/job:localhost/replica:0/task:0/gpu:0\"](lstm_28/while/clip_by_value_1, lstm_28/while/Identity_3)]]\n\t [[Node: Mean_71/_107 = _Recv[client_terminated=false, recv_device=\"/job:localhost/replica:0/task:0/cpu:0\", send_device=\"/job:localhost/replica:0/task:0/gpu:0\", send_device_incarnation=1, tensor_name=\"edge_2959_Mean_71\", tensor_type=DT_FLOAT, _device=\"/job:localhost/replica:0/task:0/cpu:0\"]()]]\n\nCaused by op 'lstm_28/while/mul_4', defined at:\n  File \"/Library/Frameworks/Python.framework/Versions/3.5/lib/python3.5/runpy.py\", line 184, in _run_module_as_main\n    \"__main__\", mod_spec)\n  File \"/Library/Frameworks/Python.framework/Versions/3.5/lib/python3.5/runpy.py\", line 85, in _run_code\n    exec(code, run_globals)\n  File \"/Library/Frameworks/Python.framework/Versions/3.5/lib/python3.5/site-packages/ipykernel_launcher.py\", line 16, in <module>\n    app.launch_new_instance()\n  File \"/Library/Frameworks/Python.framework/Versions/3.5/lib/python3.5/site-packages/traitlets/config/application.py\", line 658, in launch_instance\n    app.start()\n  File \"/Library/Frameworks/Python.framework/Versions/3.5/lib/python3.5/site-packages/ipykernel/kernelapp.py\", line 477, in start\n    ioloop.IOLoop.instance().start()\n  File \"/Library/Frameworks/Python.framework/Versions/3.5/lib/python3.5/site-packages/zmq/eventloop/ioloop.py\", line 177, in start\n    super(ZMQIOLoop, self).start()\n  File \"/Library/Frameworks/Python.framework/Versions/3.5/lib/python3.5/site-packages/tornado/ioloop.py\", line 888, in start\n    handler_func(fd_obj, events)\n  File \"/Library/Frameworks/Python.framework/Versions/3.5/lib/python3.5/site-packages/tornado/stack_context.py\", line 277, in null_wrapper\n    return fn(*args, **kwargs)\n  File \"/Library/Frameworks/Python.framework/Versions/3.5/lib/python3.5/site-packages/zmq/eventloop/zmqstream.py\", line 440, in _handle_events\n    self._handle_recv()\n  File \"/Library/Frameworks/Python.framework/Versions/3.5/lib/python3.5/site-packages/zmq/eventloop/zmqstream.py\", line 472, in _handle_recv\n    self._run_callback(callback, msg)\n  File \"/Library/Frameworks/Python.framework/Versions/3.5/lib/python3.5/site-packages/zmq/eventloop/zmqstream.py\", line 414, in _run_callback\n    callback(*args, **kwargs)\n  File \"/Library/Frameworks/Python.framework/Versions/3.5/lib/python3.5/site-packages/tornado/stack_context.py\", line 277, in null_wrapper\n    return fn(*args, **kwargs)\n  File \"/Library/Frameworks/Python.framework/Versions/3.5/lib/python3.5/site-packages/ipykernel/kernelbase.py\", line 283, in dispatcher\n    return self.dispatch_shell(stream, msg)\n  File \"/Library/Frameworks/Python.framework/Versions/3.5/lib/python3.5/site-packages/ipykernel/kernelbase.py\", line 235, in dispatch_shell\n    handler(stream, idents, msg)\n  File \"/Library/Frameworks/Python.framework/Versions/3.5/lib/python3.5/site-packages/ipykernel/kernelbase.py\", line 399, in execute_request\n    user_expressions, allow_stdin)\n  File \"/Library/Frameworks/Python.framework/Versions/3.5/lib/python3.5/site-packages/ipykernel/ipkernel.py\", line 196, in do_execute\n    res = shell.run_cell(code, store_history=store_history, silent=silent)\n  File \"/Library/Frameworks/Python.framework/Versions/3.5/lib/python3.5/site-packages/ipykernel/zmqshell.py\", line 533, in run_cell\n    return super(ZMQInteractiveShell, self).run_cell(*args, **kwargs)\n  File \"/Library/Frameworks/Python.framework/Versions/3.5/lib/python3.5/site-packages/IPython/core/interactiveshell.py\", line 2698, in run_cell\n    interactivity=interactivity, compiler=compiler, result=result)\n  File \"/Library/Frameworks/Python.framework/Versions/3.5/lib/python3.5/site-packages/IPython/core/interactiveshell.py\", line 2802, in run_ast_nodes\n    if self.run_code(code, result):\n  File \"/Library/Frameworks/Python.framework/Versions/3.5/lib/python3.5/site-packages/IPython/core/interactiveshell.py\", line 2862, in run_code\n    exec(code_obj, self.user_global_ns, self.user_ns)\n  File \"<ipython-input-85-27ec73053fde>\", line 4, in <module>\n    activation='sigmoid', inner_activation='hard_sigmoid', return_sequences=False))\n  File \"/Library/Frameworks/Python.framework/Versions/3.5/lib/python3.5/site-packages/keras/models.py\", line 433, in add\n    layer(x)\n  File \"/Library/Frameworks/Python.framework/Versions/3.5/lib/python3.5/site-packages/keras/layers/recurrent.py\", line 243, in __call__\n    return super(Recurrent, self).__call__(inputs, **kwargs)\n  File \"/Library/Frameworks/Python.framework/Versions/3.5/lib/python3.5/site-packages/keras/engine/topology.py\", line 585, in __call__\n    output = self.call(inputs, **kwargs)\n  File \"/Library/Frameworks/Python.framework/Versions/3.5/lib/python3.5/site-packages/keras/layers/recurrent.py\", line 320, in call\n    input_length=input_shape[1])\n  File \"/Library/Frameworks/Python.framework/Versions/3.5/lib/python3.5/site-packages/keras/backend/tensorflow_backend.py\", line 2495, in rnn\n    swap_memory=True)\n  File \"/Library/Frameworks/Python.framework/Versions/3.5/lib/python3.5/site-packages/tensorflow/python/ops/control_flow_ops.py\", line 2605, in while_loop\n    result = context.BuildLoop(cond, body, loop_vars, shape_invariants)\n  File \"/Library/Frameworks/Python.framework/Versions/3.5/lib/python3.5/site-packages/tensorflow/python/ops/control_flow_ops.py\", line 2438, in BuildLoop\n    pred, body, original_loop_vars, loop_vars, shape_invariants)\n  File \"/Library/Frameworks/Python.framework/Versions/3.5/lib/python3.5/site-packages/tensorflow/python/ops/control_flow_ops.py\", line 2388, in _BuildLoop\n    body_result = body(*packed_vars_for_body)\n  File \"/Library/Frameworks/Python.framework/Versions/3.5/lib/python3.5/site-packages/keras/backend/tensorflow_backend.py\", line 2484, in _step\n    tuple(constants))\n  File \"/Library/Frameworks/Python.framework/Versions/3.5/lib/python3.5/site-packages/keras/layers/recurrent.py\", line 1131, in step\n    c = f * c_tm1 + i * self.activation(x_c + K.dot(h_tm1 * rec_dp_mask[2],\n  File \"/Library/Frameworks/Python.framework/Versions/3.5/lib/python3.5/site-packages/tensorflow/python/ops/math_ops.py\", line 794, in binary_op_wrapper\n    return func(x, y, name=name)\n  File \"/Library/Frameworks/Python.framework/Versions/3.5/lib/python3.5/site-packages/tensorflow/python/ops/math_ops.py\", line 1015, in _mul_dispatch\n    return gen_math_ops._mul(x, y, name=name)\n  File \"/Library/Frameworks/Python.framework/Versions/3.5/lib/python3.5/site-packages/tensorflow/python/ops/gen_math_ops.py\", line 1625, in _mul\n    result = _op_def_lib.apply_op(\"Mul\", x=x, y=y, name=name)\n  File \"/Library/Frameworks/Python.framework/Versions/3.5/lib/python3.5/site-packages/tensorflow/python/framework/op_def_library.py\", line 763, in apply_op\n    op_def=op_def)\n  File \"/Library/Frameworks/Python.framework/Versions/3.5/lib/python3.5/site-packages/tensorflow/python/framework/ops.py\", line 2327, in create_op\n    original_op=self._default_original_op, op_def=op_def)\n  File \"/Library/Frameworks/Python.framework/Versions/3.5/lib/python3.5/site-packages/tensorflow/python/framework/ops.py\", line 1226, in __init__\n    self._traceback = _extract_stack()\n\nResourceExhaustedError (see above for traceback): OOM when allocating tensor with shape[32,16]\n\t [[Node: lstm_28/while/mul_4 = Mul[T=DT_FLOAT, _device=\"/job:localhost/replica:0/task:0/gpu:0\"](lstm_28/while/clip_by_value_1, lstm_28/while/Identity_3)]]\n\t [[Node: Mean_71/_107 = _Recv[client_terminated=false, recv_device=\"/job:localhost/replica:0/task:0/cpu:0\", send_device=\"/job:localhost/replica:0/task:0/gpu:0\", send_device_incarnation=1, tensor_name=\"edge_2959_Mean_71\", tensor_type=DT_FLOAT, _device=\"/job:localhost/replica:0/task:0/cpu:0\"]()]]\n"
     ]
    }
   ],
   "source": [
    "for i in range(epochs):\n",
    "    history = distal_model.fit(\n",
    "                    X_train, y_train.values,\n",
    "                    epochs=1,\n",
    "                    verbose=1,\n",
    "                    callbacks=callbacks,\n",
    "                    #max_q_size=1,\n",
    "                    #pickle_safe=False,\n",
    "                    #validation_data = valid_gen,\n",
    "                    #class_weight = class_weight,\n",
    "                    #validation_steps = validation_steps\n",
    "                   )\n",
    "    preds, y_pred_proba = model_performance_evaluation.eval(distal_model, X_test, y_test_distal.values, sensitivity=0.2, batch_size=64, binary=0, keras=1)"
   ]
  },
  {
   "cell_type": "code",
   "execution_count": null,
   "metadata": {
    "scrolled": true
   },
   "outputs": [],
   "source": [
    "preds, y_pred_proba = model_performance_evaluation.eval(distal_model, X_test, y_test_distal.values, sensitivity=0.2, batch_size=64, binary=0, keras=1)"
   ]
  },
  {
   "cell_type": "code",
   "execution_count": null,
   "metadata": {},
   "outputs": [],
   "source": [
    "sns.set_context(\"paper\", font_scale=2)\n",
    "plt.figure(figsize=(12, 12))\n",
    "# list all data in history\n",
    "print(history.history.keys())\n",
    "# summarize history for accuracy\n",
    "plt.plot(history.history['loss'])\n",
    "plt.plot(history.history['val_loss'])\n",
    "plt.title('loss')\n",
    "plt.ylabel('loss')\n",
    "plt.xlabel('epoch')\n",
    "plt.legend(['train', 'val'], loc='upper left')\n",
    "plt.show()"
   ]
  },
  {
   "cell_type": "markdown",
   "metadata": {},
   "source": [
    "## Make predictions on raw data and visualize"
   ]
  },
  {
   "cell_type": "code",
   "execution_count": null,
   "metadata": {
    "collapsed": true
   },
   "outputs": [],
   "source": [
    "# allows us to easily modify how many days ahead and before we look:\n",
    "lookforward = 4 # how many days we look forward\n",
    "lookback = 7 # how many days we look back\n",
    "\n",
    "        \n",
    "# Choose features to be used in feature generation function\n",
    "feature_generation_channels = [\"O\", \"H\", \"L\", \"C\", \"V\"] \n",
    "\n",
    "X_, y_, df_ohlc_and_rectangles, groups,\\\n",
    "groups_count, scalers, groups_dict,\\\n",
    "scaled_columns, df_data_unscaled,\\\n",
    "y_rects, proximal_columns, distal_columns = data_processing.prepare_data(test_data, \n",
    "                                                                 lookforward, \n",
    "                                                                 lookback,\n",
    "                                                                 feature_generation_channels,\n",
    "                                                                 lag=0,\n",
    "                                                                 change_open_close=1, \n",
    "                                                                 range_high_low=1,\n",
    "                                                                 rolling_mean_range_HL=1,\n",
    "                                                                 range_high_close=1,\n",
    "                                                                 std_dev=1,\n",
    "                                                                 rolling_mean=1,\n",
    "                                                                 change_open_close_shift=1,\n",
    "                                                                 range_high_low_shift=0,\n",
    "                                                                 range_high_close_shift=1,\n",
    "                                                                 diff_shift=1,\n",
    "                                                                 rolling_mean_shift=1,\n",
    "                                                                 std_dev_shift=1,\n",
    "                                                                 center=True\n",
    "                                                                )"
   ]
  },
  {
   "cell_type": "code",
   "execution_count": null,
   "metadata": {
    "collapsed": true
   },
   "outputs": [],
   "source": [
    "X_ = data_processing.drop_non_features(X_, features_to_remove, zero_columns=1)"
   ]
  },
  {
   "cell_type": "code",
   "execution_count": null,
   "metadata": {
    "collapsed": true
   },
   "outputs": [],
   "source": [
    "y_ = y_['rectangle_here']"
   ]
  },
  {
   "cell_type": "code",
   "execution_count": null,
   "metadata": {
    "collapsed": true
   },
   "outputs": [],
   "source": [
    "X_array, y_array = data_processing.to_Conv2D_arrays(X_,y_)"
   ]
  },
  {
   "cell_type": "code",
   "execution_count": null,
   "metadata": {
    "collapsed": true
   },
   "outputs": [],
   "source": [
    "preds, pred_classes, y_pred_proba = model_performance_evaluation.eval(conv, X_array, y_array, binary=1, keras=1)"
   ]
  },
  {
   "cell_type": "code",
   "execution_count": null,
   "metadata": {
    "collapsed": true
   },
   "outputs": [],
   "source": [
    "test_data"
   ]
  },
  {
   "cell_type": "code",
   "execution_count": null,
   "metadata": {
    "collapsed": true
   },
   "outputs": [],
   "source": [
    "# For lining up predictions and data\n",
    "#df_predictions = pd.DataFrame(preds.astype(int))\n",
    "df_pred_OHLC = pd.concat([preds, \n",
    "                          pd.DataFrame(df_data_unscaled[['O', 'H', 'L', 'C']]).reset_index(drop=True)], \n",
    "                         axis=1, \n",
    "                         ignore_index=True)  \n",
    "df_pred_OHLC.columns=['predicted', 'O', 'H', 'L','C']  "
   ]
  },
  {
   "cell_type": "code",
   "execution_count": null,
   "metadata": {
    "collapsed": true
   },
   "outputs": [],
   "source": [
    "df_pred_OHLC"
   ]
  },
  {
   "cell_type": "markdown",
   "metadata": {},
   "source": [
    "## Visualize preds and OHLC"
   ]
  },
  {
   "cell_type": "code",
   "execution_count": null,
   "metadata": {
    "collapsed": true
   },
   "outputs": [],
   "source": [
    "df = df_data_unscaled"
   ]
  },
  {
   "cell_type": "code",
   "execution_count": null,
   "metadata": {
    "collapsed": true
   },
   "outputs": [],
   "source": [
    "# Convert Dates to datetime\n",
    "df[\"Epoch Date\"] = pd.to_datetime(df[\"Epoch Date\"], unit='s')\n",
    "df[\"Epoch Date Start\"] = pd.to_datetime(df[\"Epoch Date Start\"], unit='s')\n",
    "df[\"Epoch Date End\"] = pd.to_datetime(df[\"Epoch Date End\"], unit='s')\n",
    "\n",
    "w = 12*60*60*1000 # half day in ms\n",
    "\n",
    "TOOLS = \"pan,xwheel_zoom,wheel_zoom,box_zoom,reset,save\"\n",
    "p = figure(x_axis_type=\"datetime\", tools=TOOLS, plot_height=500, \n",
    "           plot_width=1200, title=\"🍩\", active_scroll='xwheel_zoom')\n",
    "p.xaxis.major_label_orientation = pi/4\n",
    "p.grid.grid_line_alpha=0.5\n",
    "\n",
    "p.segment(df['Epoch Date'], df.H, df['Epoch Date'], df.L, color=\"black\")\n",
    "p.vbar(df['Epoch Date'], w, df.O, df.C)\n",
    "\n",
    "# Add Rectangle data\n",
    "df_sp = df.dropna(subset=['Supply/Demand'])\n",
    "\n",
    "source_supply = ColumnDataSource(df_sp.loc[df_sp['Supply/Demand']=='SUPPLY', :])\n",
    "rect_supply = Quad(left=\"Epoch Date Start\", top=\"Proximal\", right=\"Epoch Date End\", bottom=\"Distal\", fill_color=\"firebrick\", line_alpha=0.2, fill_alpha=0.2) \n",
    "p.add_glyph(source_supply, rect_supply)\n",
    "\n",
    "source_demand = ColumnDataSource(df_sp.loc[df_sp['Supply/Demand']=='DEMAND', :])\n",
    "rect_demand = Quad(left=\"Epoch Date Start\", top=\"Proximal\", right=\"Epoch Date End\", bottom=\"Distal\", fill_color=\"steelblue\", line_alpha=0.2, fill_alpha=0.2)\n",
    "p.add_glyph(source_demand, rect_demand)\n",
    "\n",
    "\n",
    "output_file(\"candlestick.html\", title=\"candlestick data SPC test\")\n",
    "show(p)  # open a browser"
   ]
  },
  {
   "cell_type": "code",
   "execution_count": null,
   "metadata": {
    "collapsed": true
   },
   "outputs": [],
   "source": []
  }
 ],
 "metadata": {
  "kernelspec": {
   "display_name": "Python 3",
   "language": "python",
   "name": "python3"
  },
  "language_info": {
   "codemirror_mode": {
    "name": "ipython",
    "version": 3
   },
   "file_extension": ".py",
   "mimetype": "text/x-python",
   "name": "python",
   "nbconvert_exporter": "python",
   "pygments_lexer": "ipython3",
   "version": "3.5.2"
  }
 },
 "nbformat": 4,
 "nbformat_minor": 2
}
