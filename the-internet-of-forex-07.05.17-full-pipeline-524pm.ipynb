{
 "cells": [
  {
   "cell_type": "code",
   "execution_count": 1,
   "metadata": {
    "collapsed": true
   },
   "outputs": [],
   "source": [
    "import numpy as np\n",
    "import pandas as pd\n",
    "#pd.set_option('display.max_rows', 100)\n",
    "#pd.set_option('display.max_columns', 100)\n",
    "from bokeh.plotting import figure, show, output_file\n",
    "from bokeh.models import ColumnDataSource, Quad\n",
    "from datetime import datetime\n",
    "from math import pi\n",
    "from sklearn.preprocessing import Imputer\n",
    "from sklearn.preprocessing import StandardScaler\n",
    "from sklearn.preprocessing import MinMaxScaler\n",
    "from sklearn.decomposition import PCA\n",
    "from sklearn.model_selection import train_test_split\n",
    "from sklearn.metrics import roc_curve, auc, recall_score, precision_score\n",
    "import random\n",
    "import matplotlib.pyplot as plt\n",
    "import seaborn as sns\n",
    "from time import time\n",
    "t = time()"
   ]
  },
  {
   "cell_type": "code",
   "execution_count": 2,
   "metadata": {},
   "outputs": [
    {
     "name": "stderr",
     "output_type": "stream",
     "text": [
      "Using TensorFlow backend.\n"
     ]
    }
   ],
   "source": [
    "# Keras imports\n",
    "from keras.models import Sequential\n",
    "from keras.layers.core import Dense, Dropout, Activation\n",
    "from keras.layers.convolutional import Convolution2D, MaxPooling2D, Conv1D, MaxPooling1D, AveragePooling1D, UpSampling1D\n",
    "from keras.layers.recurrent import LSTM\n",
    "from keras.layers import Bidirectional, TimeDistributed\n",
    "from keras.callbacks import ReduceLROnPlateau\n",
    "from keras.callbacks import LearningRateScheduler, ModelCheckpoint\n",
    "from keras.optimizers import Adam, RMSprop\n",
    "from keras.utils import np_utils, generic_utils\n",
    "from sklearn.metrics import f1_score\n",
    "from keras.models import Model\n",
    "from keras.models import Sequential\n",
    "from keras.wrappers.scikit_learn import KerasClassifier\n",
    "from keras.constraints import maxnorm\n",
    "from keras import regularizers\n",
    "from keras.utils.np_utils import to_categorical\n",
    "from keras.layers.normalization import BatchNormalization\n",
    "from keras.callbacks import EarlyStopping, Callback, ModelCheckpoint, LearningRateScheduler, ReduceLROnPlateau\n",
    "from keras.layers.advanced_activations import LeakyReLU\n",
    "from weightnorm import data_based_init, AdamWithWeightnorm\n",
    "from keras.utils import np_utils\n",
    "import keras.backend as K\n",
    "from itertools import product\n",
    "from functools import partial\n",
    "from keras.layers.noise import GaussianNoise\n",
    "from keras.layers.advanced_activations import ELU\n",
    "from keras.constraints import maxnorm\n",
    "from numpy.random import seed\n",
    "from sklearn.preprocessing import minmax_scale\n",
    "from keras.optimizers import SGD\n",
    "from keras.models import Sequential\n",
    "from keras.layers import Dense, Flatten, Input, merge, add\n",
    "from keras.models import load_model"
   ]
  },
  {
   "cell_type": "code",
   "execution_count": 3,
   "metadata": {},
   "outputs": [
    {
     "name": "stderr",
     "output_type": "stream",
     "text": [
      "/Library/Frameworks/Python.framework/Versions/3.5/lib/python3.5/site-packages/sklearn/cross_validation.py:44: DeprecationWarning: This module was deprecated in version 0.18 in favor of the model_selection module into which all the refactored classes and functions are moved. Also note that the interface of the new CV iterators are different from that of this module. This module will be removed in 0.20.\n",
      "  \"This module will be removed in 0.20.\", DeprecationWarning)\n"
     ]
    }
   ],
   "source": [
    "from sklearn import model_selection\n",
    "from sklearn.preprocessing import Imputer\n",
    "from sklearn.model_selection import StratifiedKFold\n",
    "from sklearn.metrics import log_loss\n",
    "import matplotlib.pyplot as plt\n",
    "from sklearn.metrics import classification_report\n",
    "from sklearn.metrics import confusion_matrix\n",
    "from sklearn.metrics import f1_score\n",
    "from sklearn.metrics import roc_auc_score\n",
    "from sklearn.metrics import accuracy_score\n",
    "from sklearn.metrics import average_precision_score\n",
    "from sklearn import cross_validation\n",
    "from sklearn.model_selection import KFold\n",
    "from matplotlib import pyplot\n",
    "from sklearn.decomposition import PCA\n",
    "from sklearn.model_selection import cross_val_score\n",
    "from sklearn.model_selection import GroupKFold"
   ]
  },
  {
   "cell_type": "code",
   "execution_count": 4,
   "metadata": {},
   "outputs": [],
   "source": [
    "%matplotlib inline\n",
    "%load_ext autoreload\n",
    "%autoreload 1"
   ]
  },
  {
   "cell_type": "code",
   "execution_count": 5,
   "metadata": {
    "collapsed": true
   },
   "outputs": [],
   "source": [
    "# Import custom scripts and functions\n",
    "%aimport model_performance_evaluation\n",
    "%aimport custom_metrics\n",
    "%aimport data_processing\n",
    "%aimport make_keras_generators"
   ]
  },
  {
   "cell_type": "code",
   "execution_count": 6,
   "metadata": {
    "scrolled": true
   },
   "outputs": [
    {
     "name": "stdout",
     "output_type": "stream",
     "text": [
      "Processing:  EURJPY1440.csv Number  1  of  1\n",
      "We now have: (0, 0) rows of data!\n",
      "Reading in Date, OHLCV, Supply/Demand\n",
      "Renaming df_ohlc column headers for clarity\n",
      "Your df_norm columns: Index(['O', 'H', 'L', 'C', 'V'], dtype='object')\n",
      "Your df_non_norm columns: Index(['Epoch Date'], dtype='object')\n",
      "Generating features:  Difference between open and close\n",
      "Shape is now: (4950, 6)\n",
      "~~~\n",
      "Generating features:  Range between high and low\n",
      "Shape is now: (4950, 7)\n",
      "~~~\n",
      "Generating features:  Generic lagged data\n",
      "Generating features:  Diffs over time for lookforward/lookback range\n",
      "Generating features:  Rolling mean for yesterday, today, tomorrow range\n",
      "df_norm is: <class 'pandas.core.frame.DataFrame'> (4950, 19)\n",
      "df_norm_and_features is: <class 'pandas.core.frame.DataFrame'> (4950, 159)\n",
      "Merging the scaled data and the unscalable data back together with pd.concat: EURJPY1440.csv (4950, 172)\n",
      "df_merged is: <class 'pandas.core.frame.DataFrame'> (4950, 172)\n",
      "Finished: EURJPY1440.csv (4950, 172)\n",
      "--------------------------------\n",
      "Finished loading data! You'll probably still want to remove some columns though\n"
     ]
    }
   ],
   "source": [
    "# Create list of target csvs\n",
    "data = [\"EURJPY1440.csv\"]\n",
    "\n",
    "# allows us to easily modify how many days ahead and before we look:\n",
    "lookforward = 3 # how many days we look forward\n",
    "lookback = 7 # how many days we look back\n",
    "\n",
    "        \n",
    "# Choose features to be used in feature generation function\n",
    "feature_generation_channels = [\"O\", \"H\", \"L\", \"C\", \"V\"] \n",
    "\n",
    "df_ohlc, df_data_unscaled = data_processing.prepare_wild_data(data, \n",
    "                                                                 lookforward, \n",
    "                                                                 lookback,\n",
    "                                                                 feature_generation_channels,\n",
    "                                                                 lag_data=1,\n",
    "                                                                 change_open_close=1, \n",
    "                                                                 range_high_low=1,\n",
    "                                                                 rolling_mean_range_HL=1,\n",
    "                                                                 range_high_close=0,\n",
    "                                                                 std_dev=1,\n",
    "                                                                 rolling_mean=1,\n",
    "                                                                 change_open_close_shift=0,\n",
    "                                                                 range_high_low_shift=0,\n",
    "                                                                 range_high_close_shift=0,\n",
    "                                                                 diff_shift=1,\n",
    "                                                                 rolling_mean_shift=1,\n",
    "                                                                 std_dev_shift=0,\n",
    "                                                                 center=False\n",
    "                                                                )"
   ]
  },
  {
   "cell_type": "code",
   "execution_count": 7,
   "metadata": {},
   "outputs": [],
   "source": [
    "features_to_remove = [\n",
    "                        'Epoch Date', \n",
    "                      'Supply/Demand', 'Object Name', 'Epoch Date Start', 'L_diff_0', 'O_diff_0',\n",
    "                      'Epoch Date End', 'Proximal', 'Distal', 'change', 'V_diff_0', 'C_diff_0', 'H_diff_0',\n",
    "                      'O', 'H', 'L', 'C', \n",
    "                      'csv_origin_tag', 'range_high_close_range_0', 'change_open_close', 'range_high_close', \n",
    "                      'rectangle_here', \n",
    "                      'supply_demand', 'group']\n",
    "\n",
    "lag_cols = [col for col in list(df_ohlc) if col.startswith('lag')]\n",
    "\n",
    "data_to_save = ['Epoch Date', 'O', 'H', 'L', 'C', 'V']\n",
    "save_the_date_and_OHLCV = df_ohlc[data_to_save]\n",
    "lag_data = df_ohlc[lag_cols]\n",
    "df_ohlc = data_processing.drop_non_features(df_ohlc, features_to_remove, zero_columns=1)\n",
    "\n"
   ]
  },
  {
   "cell_type": "code",
   "execution_count": 8,
   "metadata": {
    "collapsed": true
   },
   "outputs": [],
   "source": [
    "# Resort the DF and add what we think are the more important features to the front of the columns list\n",
    "# Also, this removes all the plain 'lag' data, which we think has no meaning\n",
    "X_cols_resort = ['change_open_close_diff_-1',  'C_rolling_mean_diff_-1', 'O_rolling_mean_diff_1', 'H_diff_1', 'C_diff_1', 'change_open_close_diff_1', 'H_diff_2', 'C_diff_2', 'change_open_close_diff_2', 'H_diff_3', 'C_diff_3','V', 'range_high_low', 'O_std_dev', 'H_std_dev', 'L_std_dev', 'C_std_dev', 'O_rolling_mean', 'H_rolling_mean', 'L_rolling_mean', 'C_rolling_mean', 'change_open_close_rolling_mean', 'rolling_mean_range_HL', 'O_diff_-3', 'H_diff_-3', 'L_diff_-3', 'C_diff_-3', 'change_open_close_diff_-3', 'O_diff_-2', 'H_diff_-2', 'L_diff_-2', 'C_diff_-2', 'change_open_close_diff_-2', 'O_diff_-1', 'H_diff_-1', 'L_diff_-1', 'C_diff_-1', 'change_open_close_diff_3', 'O_diff_4', 'H_diff_4', 'L_diff_4', 'C_diff_4', 'change_open_close_diff_4', 'O_diff_5', 'H_diff_5', 'L_diff_5', 'C_diff_5', 'change_open_close_diff_5', 'O_diff_6', 'H_diff_6', 'L_diff_6', 'C_diff_6', 'change_open_close_diff_6', 'O_rolling_mean_diff_-3', 'H_rolling_mean_diff_-3', 'L_rolling_mean_diff_-3', 'C_rolling_mean_diff_-3', 'O_rolling_mean_diff_-2', 'H_rolling_mean_diff_-2', 'L_rolling_mean_diff_-2', 'C_rolling_mean_diff_-2', 'O_rolling_mean_diff_-1', 'H_rolling_mean_diff_-1', 'L_rolling_mean_diff_-1', 'H_rolling_mean_diff_1', 'L_rolling_mean_diff_1', 'C_rolling_mean_diff_1', 'O_rolling_mean_diff_2', 'H_rolling_mean_diff_2', 'L_rolling_mean_diff_2', 'C_rolling_mean_diff_2', 'O_diff_1','L_diff_1','O_diff_2','L_diff_2','O_diff_3','L_diff_3', 'PCA1', 'PCA2', 'PCA3', 'PCA4', 'PCA5', 'PCA6', 'PCA7', 'PCA8', 'PCA9', 'PCA10', 'PCA11',]\n",
    "\n",
    "X = df_ohlc[X_cols_resort]\n",
    "\n",
    "# Drop any NaN rows\n",
    "X = X.dropna(how='any') "
   ]
  },
  {
   "cell_type": "code",
   "execution_count": 9,
   "metadata": {},
   "outputs": [
    {
     "name": "stdout",
     "output_type": "stream",
     "text": [
      "88\n"
     ]
    },
    {
     "name": "stderr",
     "output_type": "stream",
     "text": [
      "/Users/production204/Github/the-internet-of-forex/data_processing.py:886: UserWarning: Update your `Model` call to the Keras 2 API: `Model(inputs=Tensor(\"in..., outputs=Tensor(\"de...)`\n",
      "  autoencoder = Model(input = input_dim, output = decoded4)\n"
     ]
    },
    {
     "name": "stdout",
     "output_type": "stream",
     "text": [
      "Train on 2227 samples, validate on 248 samples\n",
      "Epoch 1/20\n",
      "2227/2227 [==============================] - 2s - loss: 0.6929 - val_loss: 0.6925\n",
      "Epoch 2/20\n",
      "2227/2227 [==============================] - 0s - loss: 0.6923 - val_loss: 0.6919\n",
      "Epoch 3/20\n",
      "2227/2227 [==============================] - 0s - loss: 0.6918 - val_loss: 0.6914\n",
      "Epoch 4/20\n",
      "2227/2227 [==============================] - 0s - loss: 0.6913 - val_loss: 0.6908\n",
      "Epoch 5/20\n",
      "2227/2227 [==============================] - 0s - loss: 0.6907 - val_loss: 0.6903\n",
      "Epoch 6/20\n",
      "2227/2227 [==============================] - 0s - loss: 0.6901 - val_loss: 0.6897\n",
      "Epoch 7/20\n",
      "2227/2227 [==============================] - 0s - loss: 0.6896 - val_loss: 0.6891\n",
      "Epoch 8/20\n",
      "2227/2227 [==============================] - 0s - loss: 0.6889 - val_loss: 0.6884\n",
      "Epoch 9/20\n",
      "2227/2227 [==============================] - 0s - loss: 0.6883 - val_loss: 0.6877\n",
      "Epoch 10/20\n",
      "2227/2227 [==============================] - 0s - loss: 0.6876 - val_loss: 0.6870\n",
      "Epoch 11/20\n",
      "2227/2227 [==============================] - 0s - loss: 0.6868 - val_loss: 0.6862\n",
      "Epoch 12/20\n",
      "2227/2227 [==============================] - 0s - loss: 0.6860 - val_loss: 0.6853\n",
      "Epoch 13/20\n",
      "2227/2227 [==============================] - 0s - loss: 0.6851 - val_loss: 0.6843\n",
      "Epoch 14/20\n",
      "2227/2227 [==============================] - 0s - loss: 0.6841 - val_loss: 0.6832\n",
      "Epoch 15/20\n",
      "2227/2227 [==============================] - 0s - loss: 0.6830 - val_loss: 0.6820\n",
      "Epoch 16/20\n",
      "2227/2227 [==============================] - 0s - loss: 0.6818 - val_loss: 0.6806\n",
      "Epoch 17/20\n",
      "2227/2227 [==============================] - 0s - loss: 0.6804 - val_loss: 0.6791\n",
      "Epoch 18/20\n",
      "2227/2227 [==============================] - 0s - loss: 0.6788 - val_loss: 0.6773\n",
      "Epoch 19/20\n",
      "2227/2227 [==============================] - 0s - loss: 0.6770 - val_loss: 0.6754\n",
      "Epoch 20/20\n",
      "2227/2227 [==============================] - 0s - loss: 0.6750 - val_loss: 0.6731\n",
      "(4950, 3)\n",
      "Original n of features: 88\n",
      "autoencoded_features: 3\n"
     ]
    },
    {
     "name": "stderr",
     "output_type": "stream",
     "text": [
      "/Users/production204/Github/the-internet-of-forex/data_processing.py:891: UserWarning: Update your `Model` call to the Keras 2 API: `Model(inputs=Tensor(\"in..., outputs=Tensor(\"de...)`\n",
      "  encoder = Model(input = input_dim, output = encoded4)\n"
     ]
    }
   ],
   "source": [
    "# Create autoencoded features\n",
    "X_ae = data_processing.autoencode(X)"
   ]
  },
  {
   "cell_type": "code",
   "execution_count": 10,
   "metadata": {
    "collapsed": true
   },
   "outputs": [],
   "source": [
    "# Add together the main features and the autoencoder features\n",
    "X_ = pd.concat([X.reset_index(drop=True), X_ae.reset_index(drop=True)], axis=1, ignore_index=True)  \n",
    "X_.columns = list(X) + list(X_ae)"
   ]
  },
  {
   "cell_type": "code",
   "execution_count": 11,
   "metadata": {
    "collapsed": true
   },
   "outputs": [],
   "source": [
    "# Create a list to re-sort with again, putting our AE features at the front\n",
    "X__cols_resort = list(X_ae) + ['change_open_close_diff_-1',  'C_rolling_mean_diff_-1', 'O_rolling_mean_diff_1', 'H_diff_1', 'C_diff_1', 'change_open_close_diff_1', 'H_diff_2', 'C_diff_2', 'change_open_close_diff_2', 'H_diff_3', 'C_diff_3','V', 'range_high_low', 'O_std_dev', 'H_std_dev', 'L_std_dev', 'C_std_dev', 'O_rolling_mean', 'H_rolling_mean', 'L_rolling_mean', 'C_rolling_mean', 'change_open_close_rolling_mean', 'rolling_mean_range_HL', 'O_diff_-3', 'H_diff_-3', 'L_diff_-3', 'C_diff_-3', 'change_open_close_diff_-3', 'O_diff_-2', 'H_diff_-2', 'L_diff_-2', 'C_diff_-2', 'change_open_close_diff_-2', 'O_diff_-1', 'H_diff_-1', 'L_diff_-1', 'C_diff_-1', 'change_open_close_diff_3', 'O_diff_4', 'H_diff_4', 'L_diff_4', 'C_diff_4', 'change_open_close_diff_4', 'O_diff_5', 'H_diff_5', 'L_diff_5', 'C_diff_5', 'change_open_close_diff_5', 'O_diff_6', 'H_diff_6', 'L_diff_6', 'C_diff_6', 'change_open_close_diff_6', 'O_rolling_mean_diff_-3', 'H_rolling_mean_diff_-3', 'L_rolling_mean_diff_-3', 'C_rolling_mean_diff_-3', 'O_rolling_mean_diff_-2', 'H_rolling_mean_diff_-2', 'L_rolling_mean_diff_-2', 'C_rolling_mean_diff_-2', 'O_rolling_mean_diff_-1', 'H_rolling_mean_diff_-1', 'L_rolling_mean_diff_-1', 'H_rolling_mean_diff_1', 'L_rolling_mean_diff_1', 'C_rolling_mean_diff_1', 'O_rolling_mean_diff_2', 'H_rolling_mean_diff_2', 'L_rolling_mean_diff_2', 'C_rolling_mean_diff_2', 'O_diff_1','L_diff_1','O_diff_2','L_diff_2','O_diff_3','L_diff_3', 'PCA1', 'PCA2', 'PCA3', 'PCA4', 'PCA5', 'PCA6', 'PCA7', 'PCA8', 'PCA9', 'PCA10', 'PCA11',]\n",
    "X_ = X_[X__cols_resort]"
   ]
  },
  {
   "cell_type": "code",
   "execution_count": 12,
   "metadata": {},
   "outputs": [
    {
     "name": "stdout",
     "output_type": "stream",
     "text": [
      "X:  (4950, 91, 1)\n",
      "X:  <class 'numpy.ndarray'>\n"
     ]
    }
   ],
   "source": [
    "# Stack original X_train to 3dim for conv net\n",
    "X_ = data_processing.X_to_Conv1D_arrays(X_)"
   ]
  },
  {
   "cell_type": "code",
   "execution_count": 13,
   "metadata": {},
   "outputs": [
    {
     "name": "stdout",
     "output_type": "stream",
     "text": [
      "(4950, 91, 1)\n"
     ]
    }
   ],
   "source": [
    "print(X_.shape)"
   ]
  },
  {
   "cell_type": "code",
   "execution_count": 14,
   "metadata": {
    "collapsed": true
   },
   "outputs": [],
   "source": [
    "df_ohlc = df_ohlc.dropna(how='any') "
   ]
  },
  {
   "cell_type": "markdown",
   "metadata": {},
   "source": [
    "## Predict rectangle_here"
   ]
  },
  {
   "cell_type": "code",
   "execution_count": 15,
   "metadata": {
    "collapsed": true
   },
   "outputs": [],
   "source": [
    "rectangle_here_model = load_model('rectangle_here-AE-july6-301pm-Conv1D-39-0.63.h5', custom_objects={'AdamWithWeightnorm': AdamWithWeightnorm, 'fbeta_score': custom_metrics.fbeta_score, 'recall': custom_metrics.recall, 'precision': custom_metrics.precision})"
   ]
  },
  {
   "cell_type": "code",
   "execution_count": 16,
   "metadata": {},
   "outputs": [],
   "source": [
    "rectangle_preds, rectangle_y_pred_proba = model_performance_evaluation.pred(rectangle_here_model,\n",
    "                                                        X_,\n",
    "                                                        batch_size=64, \n",
    "                                                        sensitivity=0.5, \n",
    "                                                        binary=1, \n",
    "                                                        sequential=0)"
   ]
  },
  {
   "cell_type": "code",
   "execution_count": 17,
   "metadata": {
    "collapsed": true
   },
   "outputs": [],
   "source": [
    "# For lining up predictions and data\n",
    "df_rectangle_here_predictions = pd.DataFrame(rectangle_preds.astype(int))\n",
    "df_OHLC_w_rectangle_here = pd.concat([df_rectangle_here_predictions.reset_index(drop=True), \n",
    "                                      df_ohlc], \n",
    "                         axis=1)\n",
    "rect_col_label = ['rectangle_here']\n",
    "df_OHLC_w_rectangle_here.columns = list(rect_col_label) + list(df_ohlc)"
   ]
  },
  {
   "cell_type": "code",
   "execution_count": 18,
   "metadata": {},
   "outputs": [
    {
     "data": {
      "text/plain": [
       "(4950, 156)"
      ]
     },
     "execution_count": 18,
     "metadata": {},
     "output_type": "execute_result"
    }
   ],
   "source": [
    "df_OHLC_w_rectangle_here.shape\n"
   ]
  },
  {
   "cell_type": "markdown",
   "metadata": {},
   "source": [
    "## Make Proximal and Distal predictions"
   ]
  },
  {
   "cell_type": "markdown",
   "metadata": {},
   "source": [
    "#### Predict Proximal"
   ]
  },
  {
   "cell_type": "code",
   "execution_count": 19,
   "metadata": {
    "collapsed": true
   },
   "outputs": [],
   "source": [
    "# Make list of features and label column names\n",
    "reduced_proximal_match_list = ['Proximal_match_1_C', \n",
    "                      'Proximal_match_0_C', \n",
    "                      'Proximal_match_0_O', \n",
    "                      'Proximal_match_-1_O']\n",
    "\n",
    "# Select only rows that contain zones\n",
    "df_zones = df_OHLC_w_rectangle_here.loc[df_OHLC_w_rectangle_here['rectangle_here'] == 1]"
   ]
  },
  {
   "cell_type": "code",
   "execution_count": 20,
   "metadata": {},
   "outputs": [],
   "source": [
    "# Resort the DF and add what we think are the more important features to the front of the columns list\n",
    "# Also, this removes all the plain 'lag' data, which we think has no meaning\n",
    "X_cols_resort = ['change_open_close_diff_-1',  'C_rolling_mean_diff_-1', 'O_rolling_mean_diff_1', 'H_diff_1', 'C_diff_1', 'change_open_close_diff_1', 'H_diff_2', 'C_diff_2', 'change_open_close_diff_2', 'H_diff_3', 'C_diff_3','V', 'range_high_low', 'O_std_dev', 'H_std_dev', 'L_std_dev', 'C_std_dev', 'O_rolling_mean', 'H_rolling_mean', 'L_rolling_mean', 'C_rolling_mean', 'change_open_close_rolling_mean', 'rolling_mean_range_HL', 'O_diff_-3', 'H_diff_-3', 'L_diff_-3', 'C_diff_-3', 'change_open_close_diff_-3', 'O_diff_-2', 'H_diff_-2', 'L_diff_-2', 'C_diff_-2', 'change_open_close_diff_-2', 'O_diff_-1', 'H_diff_-1', 'L_diff_-1', 'C_diff_-1', 'change_open_close_diff_3', 'O_diff_4', 'H_diff_4', 'L_diff_4', 'C_diff_4', 'change_open_close_diff_4', 'O_diff_5', 'H_diff_5', 'L_diff_5', 'C_diff_5', 'change_open_close_diff_5', 'O_diff_6', 'H_diff_6', 'L_diff_6', 'C_diff_6', 'change_open_close_diff_6', 'O_rolling_mean_diff_-3', 'H_rolling_mean_diff_-3', 'L_rolling_mean_diff_-3', 'C_rolling_mean_diff_-3', 'O_rolling_mean_diff_-2', 'H_rolling_mean_diff_-2', 'L_rolling_mean_diff_-2', 'C_rolling_mean_diff_-2', 'O_rolling_mean_diff_-1', 'H_rolling_mean_diff_-1', 'L_rolling_mean_diff_-1', 'H_rolling_mean_diff_1', 'L_rolling_mean_diff_1', 'C_rolling_mean_diff_1', 'O_rolling_mean_diff_2', 'H_rolling_mean_diff_2', 'L_rolling_mean_diff_2', 'C_rolling_mean_diff_2', 'O_diff_1','L_diff_1','O_diff_2','L_diff_2','O_diff_3','L_diff_3', 'PCA1', 'PCA2', 'PCA3', 'PCA4', 'PCA5', 'PCA6', 'PCA7', 'PCA8', 'PCA9', 'PCA10', 'PCA11',]\n",
    "\n",
    "df_zones = df_zones[X_cols_resort]\n",
    "\n",
    "# Drop any NaN rows (the imputer is clearly broken)\n",
    "df_zones = df_zones.dropna(how='any') \n",
    "\n",
    "# Drop rectangle_here\n",
    "df_zones = data_processing.drop_non_features(df_zones, ['rectangle_here'])"
   ]
  },
  {
   "cell_type": "code",
   "execution_count": 21,
   "metadata": {},
   "outputs": [
    {
     "name": "stdout",
     "output_type": "stream",
     "text": [
      "88\n"
     ]
    },
    {
     "name": "stderr",
     "output_type": "stream",
     "text": [
      "/Users/production204/Github/the-internet-of-forex/data_processing.py:886: UserWarning: Update your `Model` call to the Keras 2 API: `Model(inputs=Tensor(\"in..., outputs=Tensor(\"de...)`\n",
      "  autoencoder = Model(input = input_dim, output = decoded4)\n"
     ]
    },
    {
     "name": "stdout",
     "output_type": "stream",
     "text": [
      "Train on 483 samples, validate on 54 samples\n",
      "Epoch 1/20\n",
      "483/483 [==============================] - 0s - loss: 0.6930 - val_loss: 0.6929\n",
      "Epoch 2/20\n",
      "483/483 [==============================] - 0s - loss: 0.6929 - val_loss: 0.6929\n",
      "Epoch 3/20\n",
      "483/483 [==============================] - 0s - loss: 0.6928 - val_loss: 0.6928\n",
      "Epoch 4/20\n",
      "483/483 [==============================] - 0s - loss: 0.6927 - val_loss: 0.6927\n",
      "Epoch 5/20\n",
      "483/483 [==============================] - 0s - loss: 0.6927 - val_loss: 0.6926\n",
      "Epoch 6/20\n",
      "483/483 [==============================] - 0s - loss: 0.6926 - val_loss: 0.6925\n",
      "Epoch 7/20\n",
      "483/483 [==============================] - 0s - loss: 0.6925 - val_loss: 0.6925\n",
      "Epoch 8/20\n",
      "483/483 [==============================] - 0s - loss: 0.6924 - val_loss: 0.6924\n",
      "Epoch 9/20\n",
      "483/483 [==============================] - 0s - loss: 0.6923 - val_loss: 0.6923\n",
      "Epoch 10/20\n",
      "483/483 [==============================] - 0s - loss: 0.6923 - val_loss: 0.6922\n",
      "Epoch 11/20\n",
      "483/483 [==============================] - 0s - loss: 0.6922 - val_loss: 0.6921\n",
      "Epoch 12/20\n",
      "483/483 [==============================] - 0s - loss: 0.6921 - val_loss: 0.6921\n",
      "Epoch 13/20\n",
      "483/483 [==============================] - 0s - loss: 0.6920 - val_loss: 0.6920\n",
      "Epoch 14/20\n",
      "483/483 [==============================] - 0s - loss: 0.6919 - val_loss: 0.6919\n",
      "Epoch 15/20\n",
      "483/483 [==============================] - 0s - loss: 0.6919 - val_loss: 0.6918\n",
      "Epoch 16/20\n",
      "483/483 [==============================] - 0s - loss: 0.6918 - val_loss: 0.6917\n",
      "Epoch 17/20\n",
      "483/483 [==============================] - 0s - loss: 0.6917 - val_loss: 0.6916\n",
      "Epoch 18/20\n",
      "483/483 [==============================] - 0s - loss: 0.6916 - val_loss: 0.6916\n",
      "Epoch 19/20\n",
      "483/483 [==============================] - 0s - loss: 0.6915 - val_loss: 0.6915\n",
      "Epoch 20/20\n",
      "483/483 [==============================] - 0s - loss: 0.6915 - val_loss: 0.6914\n",
      "(1075, 3)\n",
      "Original n of features: 88\n",
      "autoencoded_features: 3\n"
     ]
    },
    {
     "name": "stderr",
     "output_type": "stream",
     "text": [
      "/Users/production204/Github/the-internet-of-forex/data_processing.py:891: UserWarning: Update your `Model` call to the Keras 2 API: `Model(inputs=Tensor(\"in..., outputs=Tensor(\"de...)`\n",
      "  encoder = Model(input = input_dim, output = encoded4)\n"
     ]
    }
   ],
   "source": [
    "# Create autoencoded features\n",
    "X_ae = data_processing.autoencode(df_zones)"
   ]
  },
  {
   "cell_type": "code",
   "execution_count": 22,
   "metadata": {
    "collapsed": true
   },
   "outputs": [],
   "source": [
    "# Add together the main features and the autoencoder features\n",
    "X_ = pd.concat([df_zones.reset_index(drop=True), X_ae.reset_index(drop=True)], axis=1, ignore_index=True)  \n",
    "X_.columns = list(df_zones) + list(X_ae)"
   ]
  },
  {
   "cell_type": "code",
   "execution_count": 23,
   "metadata": {
    "collapsed": true
   },
   "outputs": [],
   "source": [
    "# Create a list to re-sort with again, putting our AE features at the front\n",
    "X__cols_resort = list(X_ae) + ['change_open_close_diff_-1',  'C_rolling_mean_diff_-1', 'O_rolling_mean_diff_1', 'H_diff_1', 'C_diff_1', 'change_open_close_diff_1', 'H_diff_2', 'C_diff_2', 'change_open_close_diff_2', 'H_diff_3', 'C_diff_3','V', 'range_high_low', 'O_std_dev', 'H_std_dev', 'L_std_dev', 'C_std_dev', 'O_rolling_mean', 'H_rolling_mean', 'L_rolling_mean', 'C_rolling_mean', 'change_open_close_rolling_mean', 'rolling_mean_range_HL', 'O_diff_-3', 'H_diff_-3', 'L_diff_-3', 'C_diff_-3', 'change_open_close_diff_-3', 'O_diff_-2', 'H_diff_-2', 'L_diff_-2', 'C_diff_-2', 'change_open_close_diff_-2', 'O_diff_-1', 'H_diff_-1', 'L_diff_-1', 'C_diff_-1', 'change_open_close_diff_3', 'O_diff_4', 'H_diff_4', 'L_diff_4', 'C_diff_4', 'change_open_close_diff_4', 'O_diff_5', 'H_diff_5', 'L_diff_5', 'C_diff_5', 'change_open_close_diff_5', 'O_diff_6', 'H_diff_6', 'L_diff_6', 'C_diff_6', 'change_open_close_diff_6', 'O_rolling_mean_diff_-3', 'H_rolling_mean_diff_-3', 'L_rolling_mean_diff_-3', 'C_rolling_mean_diff_-3', 'O_rolling_mean_diff_-2', 'H_rolling_mean_diff_-2', 'L_rolling_mean_diff_-2', 'C_rolling_mean_diff_-2', 'O_rolling_mean_diff_-1', 'H_rolling_mean_diff_-1', 'L_rolling_mean_diff_-1', 'H_rolling_mean_diff_1', 'L_rolling_mean_diff_1', 'C_rolling_mean_diff_1', 'O_rolling_mean_diff_2', 'H_rolling_mean_diff_2', 'L_rolling_mean_diff_2', 'C_rolling_mean_diff_2', 'O_diff_1','L_diff_1','O_diff_2','L_diff_2','O_diff_3','L_diff_3', 'PCA1', 'PCA2', 'PCA3', 'PCA4', 'PCA5', 'PCA6', 'PCA7', 'PCA8', 'PCA9', 'PCA10', 'PCA11',]\n",
    "X_ = X_[X__cols_resort]"
   ]
  },
  {
   "cell_type": "code",
   "execution_count": 24,
   "metadata": {},
   "outputs": [
    {
     "name": "stdout",
     "output_type": "stream",
     "text": [
      "X:  (1075, 91, 1)\n",
      "X:  <class 'numpy.ndarray'>\n"
     ]
    }
   ],
   "source": [
    "# Stack original X_train to 3dim for conv net\n",
    "X_zones = data_processing.X_to_Conv1D_arrays(X_)"
   ]
  },
  {
   "cell_type": "markdown",
   "metadata": {},
   "source": [
    "###### Proximal model"
   ]
  },
  {
   "cell_type": "code",
   "execution_count": 25,
   "metadata": {
    "collapsed": true
   },
   "outputs": [],
   "source": [
    "# Load model\n",
    "proximal_model = load_model('proximal-AE-july6-131pm-LSTM-83-0.84.h5', custom_objects={'AdamWithWeightnorm': AdamWithWeightnorm, 'fbeta_score': custom_metrics.fbeta_score, 'recall': custom_metrics.recall, 'precision': custom_metrics.precision})"
   ]
  },
  {
   "cell_type": "code",
   "execution_count": 26,
   "metadata": {},
   "outputs": [],
   "source": [
    "#proximal_model.summary()"
   ]
  },
  {
   "cell_type": "code",
   "execution_count": 27,
   "metadata": {
    "collapsed": true
   },
   "outputs": [],
   "source": [
    "proximal_preds, y_pred_proba = model_performance_evaluation.pred(proximal_model,\n",
    "                                                        X_zones,\n",
    "                                                        batch_size=64, \n",
    "                                                        #sensitivity=0.5, \n",
    "                                                        temperature=0.8,\n",
    "                                                        binary=0, \n",
    "                                                        sequential=0)"
   ]
  },
  {
   "cell_type": "code",
   "execution_count": 28,
   "metadata": {},
   "outputs": [],
   "source": [
    "proximal_col_labels = reduced_proximal_match_list\n",
    "proximal_preds.columns = list(proximal_col_labels)"
   ]
  },
  {
   "cell_type": "markdown",
   "metadata": {},
   "source": [
    "#### Predict Distal"
   ]
  },
  {
   "cell_type": "code",
   "execution_count": 29,
   "metadata": {},
   "outputs": [],
   "source": [
    "# Make list of features and label column names\n",
    "reduced_distal_match_list = ['Distal_match_-1_H', \n",
    "                              'Distal_match_0_H', \n",
    "                              'Distal_match_1_H', \n",
    "                              'Distal_match_2_H', \n",
    "                              'Distal_match_-1_L', \n",
    "                              'Distal_match_0_L',\n",
    "                              'Distal_match_1_L',\n",
    "                              'Distal_match_2_L']"
   ]
  },
  {
   "cell_type": "markdown",
   "metadata": {},
   "source": [
    "###### Distal model"
   ]
  },
  {
   "cell_type": "code",
   "execution_count": 31,
   "metadata": {
    "collapsed": true
   },
   "outputs": [],
   "source": [
    "# Load model\n",
    "distal_model = load_model('distal-AE-july6-240pm-LSTM-99-0.83.h5', custom_objects={'AdamWithWeightnorm': AdamWithWeightnorm, 'fbeta_score': custom_metrics.fbeta_score, 'recall': custom_metrics.recall, 'precision': custom_metrics.precision})"
   ]
  },
  {
   "cell_type": "code",
   "execution_count": 32,
   "metadata": {},
   "outputs": [],
   "source": [
    "#distal_model.summary()"
   ]
  },
  {
   "cell_type": "code",
   "execution_count": 33,
   "metadata": {
    "collapsed": true
   },
   "outputs": [],
   "source": [
    "distal_preds, distal_y_pred_proba = model_performance_evaluation.pred(distal_model,\n",
    "                                                        X_zones,\n",
    "                                                        batch_size=64, \n",
    "                                                        sensitivity=0.5, \n",
    "                                                        temperature=0.8,\n",
    "                                                        binary=0, \n",
    "                                                        sequential=0)"
   ]
  },
  {
   "cell_type": "code",
   "execution_count": 34,
   "metadata": {
    "collapsed": true
   },
   "outputs": [],
   "source": [
    "# For lining up predictions and data\n",
    "\n",
    "distal_col_labels = reduced_distal_match_list\n",
    "distal_preds.columns = list(distal_col_labels)"
   ]
  },
  {
   "cell_type": "markdown",
   "metadata": {},
   "source": [
    "## Convert predictions to discrete values and visualize"
   ]
  },
  {
   "cell_type": "code",
   "execution_count": 35,
   "metadata": {
    "collapsed": true
   },
   "outputs": [],
   "source": [
    "proximal_preds.index = df_zones.index"
   ]
  },
  {
   "cell_type": "code",
   "execution_count": 36,
   "metadata": {},
   "outputs": [],
   "source": [
    "distal_preds.index = df_zones.index"
   ]
  },
  {
   "cell_type": "code",
   "execution_count": 37,
   "metadata": {},
   "outputs": [],
   "source": [
    "df_ohlc_and_proximal = save_the_date_and_OHLCV.join(proximal_preds)"
   ]
  },
  {
   "cell_type": "code",
   "execution_count": 38,
   "metadata": {},
   "outputs": [],
   "source": [
    "df_ohlc_and_zone_preds = df_ohlc_and_proximal.join(distal_preds)"
   ]
  },
  {
   "cell_type": "code",
   "execution_count": 39,
   "metadata": {
    "collapsed": true
   },
   "outputs": [],
   "source": [
    "df_ohlc_and_zone_preds_w_lag = df_ohlc_and_zone_preds.join(lag_data)"
   ]
  },
  {
   "cell_type": "code",
   "execution_count": 40,
   "metadata": {},
   "outputs": [],
   "source": [
    "data_processing.proximal_distal_match_invert(df_ohlc_and_zone_preds_w_lag, df_zones.index)"
   ]
  },
  {
   "cell_type": "markdown",
   "metadata": {},
   "source": [
    "## Visualize preds and OHLC"
   ]
  },
  {
   "cell_type": "code",
   "execution_count": 41,
   "metadata": {
    "collapsed": true
   },
   "outputs": [],
   "source": [
    "import zigzag as zigzag"
   ]
  },
  {
   "cell_type": "code",
   "execution_count": 42,
   "metadata": {
    "collapsed": true
   },
   "outputs": [],
   "source": [
    "ohlc_data_col_list = ['O',\n",
    " 'H',\n",
    " 'L',\n",
    " 'C',\n",
    " 'V',\n",
    " 'Proximal_discrete_value',\n",
    " 'Distal_discrete_value']\n",
    "\n",
    "df_ohlc_and_rectangles_col_list = ['Epoch Date',\n",
    " 'Supply/Demand',\n",
    " 'Epoch Date Start',\n",
    " 'Epoch Date End',]\n",
    "\n",
    "new_ohlc_data_col_list = ['O',\n",
    " 'H',\n",
    " 'L',\n",
    " 'C',\n",
    " 'V',\n",
    " 'Proximal',\n",
    " 'Distal']"
   ]
  },
  {
   "cell_type": "code",
   "execution_count": 43,
   "metadata": {},
   "outputs": [],
   "source": [
    "labels_distal = [col for col in list(df_ohlc_and_zone_preds_w_lag) if col.startswith('Distal_m')]\n",
    "labels_proximal = [col for col in list(df_ohlc_and_zone_preds_w_lag) if col.startswith('Proximal_m')]"
   ]
  },
  {
   "cell_type": "code",
   "execution_count": 44,
   "metadata": {},
   "outputs": [],
   "source": [
    "df_ohlc_data = data_processing.drop_non_features(df_ohlc_and_zone_preds_w_lag, lag_cols + labels_distal + labels_proximal)"
   ]
  },
  {
   "cell_type": "code",
   "execution_count": 45,
   "metadata": {
    "collapsed": true
   },
   "outputs": [],
   "source": [
    "df_ohlc_data_test = df_ohlc_data"
   ]
  },
  {
   "cell_type": "code",
   "execution_count": 46,
   "metadata": {},
   "outputs": [],
   "source": [
    "df_ohlc_data_test_cols = ['Epoch Date',\n",
    " 'O',\n",
    " 'H',\n",
    " 'L',\n",
    " 'C',\n",
    " 'V',\n",
    "'Proximal', 'Distal']"
   ]
  },
  {
   "cell_type": "code",
   "execution_count": 47,
   "metadata": {},
   "outputs": [],
   "source": [
    "df_ohlc_data_test.columns = df_ohlc_data_test_cols"
   ]
  },
  {
   "cell_type": "code",
   "execution_count": 48,
   "metadata": {
    "collapsed": true
   },
   "outputs": [],
   "source": [
    "df_ohlc_data_test['Epoch Date End'] = np.nan\n",
    "df_ohlc_data_test['Supply/Demand'] = np.nan"
   ]
  },
  {
   "cell_type": "code",
   "execution_count": 49,
   "metadata": {
    "collapsed": true
   },
   "outputs": [],
   "source": [
    "data_processing.supply_or_demand(df_ohlc_data_test, df_zones.index)"
   ]
  },
  {
   "cell_type": "code",
   "execution_count": 50,
   "metadata": {},
   "outputs": [],
   "source": [
    "data_processing.zone_ender(df_ohlc_data_test, df_zones.index)"
   ]
  },
  {
   "cell_type": "code",
   "execution_count": 64,
   "metadata": {},
   "outputs": [],
   "source": [
    "# Set Epoch Date Start to the zone landing spot\n",
    "df_ohlc_data_test.ix[df_zones.index, 'Epoch Date Start'] = df_ohlc_data_test.ix[df_zones.index]['Epoch Date']"
   ]
  },
  {
   "cell_type": "code",
   "execution_count": 66,
   "metadata": {
    "collapsed": true
   },
   "outputs": [],
   "source": [
    "def viz_ohlc(df):    \n",
    "    # Convert Dates to datetime\n",
    "    df[\"Epoch Date\"] = pd.to_datetime(df[\"Epoch Date\"], unit='s')\n",
    "    df[\"Epoch Date Start\"] = pd.to_datetime(df[\"Epoch Date Start\"], unit='s')\n",
    "    df[\"Epoch Date End\"] = pd.to_datetime(df[\"Epoch Date End\"], unit='s')\n",
    "\n",
    "    w = 12*60*60*1000 # half day in ms\n",
    "\n",
    "    TOOLS = \"pan,xwheel_zoom,wheel_zoom,box_zoom,reset,save\"\n",
    "    p = figure(x_axis_type=\"datetime\", tools=TOOLS, plot_height=500, \n",
    "               plot_width=1200, title=\"🍩\", active_scroll='xwheel_zoom')\n",
    "    p.xaxis.major_label_orientation = pi/4\n",
    "    p.grid.grid_line_alpha=0.5\n",
    "\n",
    "    p.segment(df['Epoch Date'], df.H, df['Epoch Date'], df.L, color=\"black\")\n",
    "    p.vbar(df['Epoch Date'], w, df.O, df.C)\n",
    "\n",
    "    # Add Rectangle data\n",
    "    df_sp = df.dropna(subset=['Supply/Demand'])\n",
    "\n",
    "    source_supply = ColumnDataSource(df_sp.loc[df_sp['Supply/Demand']=='SUPPLY', :])\n",
    "    rect_supply = Quad(left=\"Epoch Date Start\", top=\"Proximal\", right=\"Epoch Date End\", bottom=\"Distal\", fill_color=\"firebrick\", line_alpha=0.2, fill_alpha=0.2) \n",
    "    p.add_glyph(source_supply, rect_supply)\n",
    "\n",
    "    source_demand = ColumnDataSource(df_sp.loc[df_sp['Supply/Demand']=='DEMAND', :])\n",
    "    rect_demand = Quad(left=\"Epoch Date Start\", top=\"Proximal\", right=\"Epoch Date End\", bottom=\"Distal\", fill_color=\"steelblue\", line_alpha=0.2, fill_alpha=0.2)\n",
    "    p.add_glyph(source_demand, rect_demand)\n",
    "\n",
    "\n",
    "    output_file(\"candlestick.html\", title=\"candlestick data\")\n",
    "    show(p)  # open a browser"
   ]
  },
  {
   "cell_type": "code",
   "execution_count": 67,
   "metadata": {},
   "outputs": [
    {
     "name": "stderr",
     "output_type": "stream",
     "text": [
      "/Library/Frameworks/Python.framework/Versions/3.5/lib/python3.5/site-packages/bokeh/plotting/helpers.py:371: UserWarning: WheelZoomTool are being repeated\n",
      "  warnings.warn(\"%s are being repeated\" % \",\".join(repeated_tools))\n"
     ]
    }
   ],
   "source": [
    "viz_ohlc(df_ohlc_data_test)"
   ]
  },
  {
   "cell_type": "code",
   "execution_count": null,
   "metadata": {
    "collapsed": true
   },
   "outputs": [],
   "source": []
  }
 ],
 "metadata": {
  "kernelspec": {
   "display_name": "Python 3",
   "language": "python",
   "name": "python3"
  },
  "language_info": {
   "codemirror_mode": {
    "name": "ipython",
    "version": 3
   },
   "file_extension": ".py",
   "mimetype": "text/x-python",
   "name": "python",
   "nbconvert_exporter": "python",
   "pygments_lexer": "ipython3",
   "version": "3.5.2"
  }
 },
 "nbformat": 4,
 "nbformat_minor": 2
}
