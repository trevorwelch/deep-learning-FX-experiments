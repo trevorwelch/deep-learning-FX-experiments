{
 "cells": [
  {
   "cell_type": "code",
   "execution_count": 1,
   "metadata": {
    "collapsed": true
   },
   "outputs": [],
   "source": [
    "import numpy as np\n",
    "import pandas as pd\n",
    "#pd.set_option('display.max_rows', 100)\n",
    "#pd.set_option('display.max_columns', 100)\n",
    "from bokeh.plotting import figure, show, output_file\n",
    "from bokeh.models import ColumnDataSource, Quad\n",
    "from datetime import datetime\n",
    "from math import pi\n",
    "from sklearn.preprocessing import Imputer\n",
    "from sklearn.preprocessing import StandardScaler\n",
    "from sklearn.preprocessing import MinMaxScaler\n",
    "from sklearn.decomposition import PCA\n",
    "from sklearn.model_selection import train_test_split\n",
    "from sklearn.metrics import roc_curve, auc, recall_score, precision_score\n",
    "import random\n",
    "import matplotlib.pyplot as plt\n",
    "import seaborn as sns\n",
    "from time import time\n",
    "t = time()"
   ]
  },
  {
   "cell_type": "code",
   "execution_count": 2,
   "metadata": {},
   "outputs": [
    {
     "name": "stderr",
     "output_type": "stream",
     "text": [
      "Using TensorFlow backend.\n"
     ]
    }
   ],
   "source": [
    "# Keras imports\n",
    "from keras.models import Sequential\n",
    "from keras.layers.core import Dense, Dropout, Activation\n",
    "from keras.layers.convolutional import Convolution2D, MaxPooling2D, Conv1D, MaxPooling1D\n",
    "from keras.layers.recurrent import LSTM\n",
    "from keras.callbacks import ReduceLROnPlateau\n",
    "from keras.callbacks import LearningRateScheduler, ModelCheckpoint\n",
    "from keras.optimizers import Adam, RMSprop\n",
    "from keras.utils import np_utils, generic_utils\n",
    "from sklearn.metrics import f1_score\n",
    "from keras.models import Model\n",
    "from keras.models import Sequential\n",
    "from keras.wrappers.scikit_learn import KerasClassifier\n",
    "from keras.constraints import maxnorm\n",
    "from keras import regularizers\n",
    "from keras.utils.np_utils import to_categorical\n",
    "from keras.layers.normalization import BatchNormalization\n",
    "from keras.callbacks import EarlyStopping, Callback, ModelCheckpoint, LearningRateScheduler, ReduceLROnPlateau\n",
    "from keras.layers.advanced_activations import LeakyReLU\n",
    "from weightnorm import data_based_init, AdamWithWeightnorm\n",
    "from keras.utils import np_utils\n",
    "import keras.backend as K\n",
    "from itertools import product\n",
    "from functools import partial\n",
    "from keras.layers.noise import GaussianNoise\n",
    "from keras.layers.advanced_activations import ELU\n",
    "from keras.constraints import maxnorm\n",
    "from numpy.random import seed\n",
    "from sklearn.preprocessing import minmax_scale\n",
    "from keras.optimizers import SGD\n",
    "from keras.models import Sequential\n",
    "from keras.layers import Dense, Flatten, Input, merge, add\n",
    "from keras.models import load_model"
   ]
  },
  {
   "cell_type": "code",
   "execution_count": 3,
   "metadata": {},
   "outputs": [
    {
     "name": "stderr",
     "output_type": "stream",
     "text": [
      "/Library/Frameworks/Python.framework/Versions/3.5/lib/python3.5/site-packages/sklearn/cross_validation.py:44: DeprecationWarning: This module was deprecated in version 0.18 in favor of the model_selection module into which all the refactored classes and functions are moved. Also note that the interface of the new CV iterators are different from that of this module. This module will be removed in 0.20.\n",
      "  \"This module will be removed in 0.20.\", DeprecationWarning)\n"
     ]
    }
   ],
   "source": [
    "from sklearn import model_selection\n",
    "from sklearn.preprocessing import Imputer\n",
    "from sklearn.model_selection import StratifiedKFold\n",
    "from sklearn.metrics import log_loss\n",
    "import matplotlib.pyplot as plt\n",
    "from sklearn.metrics import classification_report\n",
    "from sklearn.metrics import confusion_matrix\n",
    "from sklearn.metrics import f1_score\n",
    "from sklearn.metrics import roc_auc_score\n",
    "from sklearn.metrics import accuracy_score\n",
    "from sklearn.metrics import average_precision_score\n",
    "from sklearn import cross_validation\n",
    "from sklearn.model_selection import KFold\n",
    "from matplotlib import pyplot\n",
    "from sklearn.decomposition import PCA\n",
    "from sklearn.model_selection import cross_val_score\n",
    "from sklearn.model_selection import GroupKFold"
   ]
  },
  {
   "cell_type": "code",
   "execution_count": 4,
   "metadata": {
    "collapsed": true
   },
   "outputs": [],
   "source": [
    "%matplotlib inline\n",
    "%load_ext autoreload\n",
    "%autoreload 1"
   ]
  },
  {
   "cell_type": "code",
   "execution_count": 5,
   "metadata": {
    "collapsed": true
   },
   "outputs": [],
   "source": [
    "# Import custom scripts and functions\n",
    "%aimport model_performance_evaluation\n",
    "%aimport custom_metrics\n",
    "%aimport data_processing\n",
    "%aimport make_keras_generators"
   ]
  },
  {
   "cell_type": "code",
   "execution_count": 6,
   "metadata": {
    "collapsed": true
   },
   "outputs": [],
   "source": [
    "test_data = [\n",
    "            \"USDCHF1440.csv\",\n",
    "              #\"EURAUD14402.csv\",\n",
    "#              \"EURJPY1440.csv\", \n",
    "#              \"EURGBP1440.csv\"\n",
    "            ]\n",
    "#random.shuffle(test_data)\n",
    "#print(test_data)"
   ]
  },
  {
   "cell_type": "code",
   "execution_count": 46,
   "metadata": {
    "collapsed": true
   },
   "outputs": [],
   "source": [
    "# Create list of target csvs\n",
    "data = [\"EURJPY1440.csv\", \"EURGBP1440.csv\",\"USDCAD1440.csv\",\"GBPUSD1440.csv\",\\\n",
    "        \"EURUSD14402.csv\",\"USDCHF1440.csv\",\"EURAUD14402.csv\",\"AUDUSD1440.csv\",\\\n",
    "               \"GBPJPY1440.csv\", \"NZDUSD1440.csv\", \"EURUSD240.csv\"]\n",
    "#random.shuffle(data_no_indi)\n",
    "#print(data_no_indi)"
   ]
  },
  {
   "cell_type": "code",
   "execution_count": 47,
   "metadata": {
    "scrolled": true
   },
   "outputs": [
    {
     "name": "stdout",
     "output_type": "stream",
     "text": [
      "Processing:  EURJPY1440.csv Number  1  of  11\n",
      "We now have: (0, 0) rows of data!\n",
      "Reading in Date, OHLCV, Supply/Demand\n",
      "Renaming df_ohlc column headers for clarity\n",
      "Reading in Rectangle data\n",
      "Renaming df_rects column headers for clarity\n",
      "Identifying supply/demand with supply_or_demand func: EURJPY1440.csv (4950, 12)\n",
      "~~~\n",
      "Identifying zone ends with zone_ender func: EURJPY1440.csv (4950, 14)\n",
      "~~~\n",
      "Your df_norm columns: Index(['O', 'H', 'L', 'C', 'V'], dtype='object')\n",
      "Your df_non_norm columns: Index(['Epoch Date', 'Supply/Demand', 'Object Name', 'Epoch Date Start',\n",
      "       'Epoch Date End', 'Proximal', 'Distal', 'supply_demand',\n",
      "       'rectangle_here', 'Proximal_match_-6_O',\n",
      "       ...\n",
      "       'Distal_match_-4_C', 'Distal_match_-3_C', 'Distal_match_-2_C',\n",
      "       'Distal_match_-1_C', 'Distal_match_0_C', 'Distal_match_1_C',\n",
      "       'Distal_match_2_C', 'Distal_match_3_C', 'Distal_match_4_C',\n",
      "       'Distal_match_5_C'],\n",
      "      dtype='object', length=105)\n",
      "Generating features: "
     ]
    },
    {
     "name": "stderr",
     "output_type": "stream",
     "text": [
      "/Users/production204/Github/the-internet-of-forex/data_processing.py:45: SettingWithCopyWarning: \n",
      "A value is trying to be set on a copy of a slice from a DataFrame.\n",
      "Try using .loc[row_indexer,col_indexer] = value instead\n",
      "\n",
      "See the caveats in the documentation: http://pandas.pydata.org/pandas-docs/stable/indexing.html#indexing-view-versus-copy\n",
      "  df_data[\"change_open_close\"] = df_data[\"O\"] - df_data[\"C\"] # add change column, difference between open and close\n"
     ]
    },
    {
     "name": "stdout",
     "output_type": "stream",
     "text": [
      " Difference between open and close\n",
      "Shape is now: (4950, 6)"
     ]
    },
    {
     "name": "stderr",
     "output_type": "stream",
     "text": [
      "/Users/production204/Github/the-internet-of-forex/data_processing.py:53: SettingWithCopyWarning: \n",
      "A value is trying to be set on a copy of a slice from a DataFrame.\n",
      "Try using .loc[row_indexer,col_indexer] = value instead\n",
      "\n",
      "See the caveats in the documentation: http://pandas.pydata.org/pandas-docs/stable/indexing.html#indexing-view-versus-copy\n",
      "  df_data[\"range_high_low\"] = df_data[\"H\"] - df_data[\"L\"] # add range, difference between high and low\n",
      "/Users/production204/Github/the-internet-of-forex/data_processing.py:62: SettingWithCopyWarning: \n",
      "A value is trying to be set on a copy of a slice from a DataFrame.\n",
      "Try using .loc[row_indexer,col_indexer] = value instead\n",
      "\n",
      "See the caveats in the documentation: http://pandas.pydata.org/pandas-docs/stable/indexing.html#indexing-view-versus-copy\n",
      "  df_data[\"range_high_close\"] = df_data[\"H\"] - df_data[\"C\"] # add range, difference between high and low\n",
      "/Users/production204/Github/the-internet-of-forex/data_processing.py:69: SettingWithCopyWarning: \n",
      "A value is trying to be set on a copy of a slice from a DataFrame.\n",
      "Try using .loc[row_indexer,col_indexer] = value instead\n",
      "\n",
      "See the caveats in the documentation: http://pandas.pydata.org/pandas-docs/stable/indexing.html#indexing-view-versus-copy\n",
      "  df_data[label] =  df_data[each].rolling(window=6).std()\n",
      "/Users/production204/Github/the-internet-of-forex/data_processing.py:74: SettingWithCopyWarning: \n",
      "A value is trying to be set on a copy of a slice from a DataFrame.\n",
      "Try using .loc[row_indexer,col_indexer] = value instead\n",
      "\n",
      "See the caveats in the documentation: http://pandas.pydata.org/pandas-docs/stable/indexing.html#indexing-view-versus-copy\n",
      "  df_data[label] =  df_data[each].rolling(window=6, center=center).mean()\n",
      "/Users/production204/Github/the-internet-of-forex/data_processing.py:78: SettingWithCopyWarning: \n",
      "A value is trying to be set on a copy of a slice from a DataFrame.\n",
      "Try using .loc[row_indexer,col_indexer] = value instead\n",
      "\n",
      "See the caveats in the documentation: http://pandas.pydata.org/pandas-docs/stable/indexing.html#indexing-view-versus-copy\n",
      "  df_data['rolling_mean_range_HL'] =  df_data['range_high_low'].rolling(window=6, center=center).mean()\n"
     ]
    },
    {
     "name": "stdout",
     "output_type": "stream",
     "text": [
      "\n",
      "~~~\n",
      "Generating features:  Range between high and low\n",
      "Shape is now: (4950, 7)\n",
      "~~~\n",
      "Generating features:  Range between high and low\n",
      "Shape is now: (4950, 8)\n",
      "~~~\n",
      "Generating features:  Change over time for lookforward/lookback range\n",
      "Generating features:  Range High-Close over time for lookforward/lookback range\n",
      "Generating features:  Diffs over time for lookforward/lookback range\n",
      "Generating features:  Rolling mean for yesterday, today, tomorrow range\n",
      "Your df_scale_with_PCA: [0, 1, 2, 3, 4, 5, 6, 7, 8, 9, 10, 11, 12, 13, 14, 15, 16, 17, 18, 19, 20, 21, 22, 23, 24, 25, 26, 27, 28, 29, 30, 31, 32, 33, 34, 35, 36, 37, 38, 39, 40, 41, 42, 43, 44, 45, 46, 47, 48, 49, 50, 51, 52, 53, 54, 55, 56, 57, 58, 59, 60, 61, 62, 63, 64, 65, 66, 67, 68, 69, 70, 71, 72, 73, 74, 75, 76, 77, 78, 79, 80, 81, 82, 83, 84, 85, 86, 87, 88, 89, 90, 91, 92, 93, 94, 95, 96, 97, 98, 99, 100, 101, 102, 103, 104, 105, 106, 107, 108, 109, 110, 111, 112, 113, 114, 115, 116, 117, 118, 119, 120, 121, 122, 123, 124, 125, 126, 127, 128, 129, 130, 131, 132, 'PCA1', 'PCA2', 'PCA3', 'PCA4', 'PCA5', 'PCA6', 'PCA7', 'PCA8', 'PCA9', 'PCA10', 'PCA11', 'PCA12']\n",
      "Your df_scale_with_PCA columns are: ['O', 'H', 'L', 'C', 'V', 'change_open_close', 'range_high_low', 'range_high_close', 'O_std_dev', 'H_std_dev', 'L_std_dev', 'C_std_dev', 'V_std_dev', 'O_rolling_mean', 'H_rolling_mean', 'L_rolling_mean', 'C_rolling_mean', 'V_rolling_mean', 'rolling_mean_range_HL', 'change_open_close_change_-4', 'change_open_close_change_-3', 'change_open_close_change_-2', 'change_open_close_change_-1', 'change_open_close_change_0', 'change_open_close_change_1', 'change_open_close_change_2', 'change_open_close_change_3', 'change_open_close_change_4', 'change_open_close_change_5', 'change_open_close_change_6', 'change_open_close_change_7', 'range_high_close_range_-4', 'range_high_close_range_-3', 'range_high_close_range_-2', 'range_high_close_range_-1', 'range_high_close_range_0', 'range_high_close_range_1', 'range_high_close_range_2', 'range_high_close_range_3', 'range_high_close_range_4', 'range_high_close_range_5', 'range_high_close_range_6', 'range_high_close_range_7', 'O_diff_-4', 'H_diff_-4', 'L_diff_-4', 'C_diff_-4', 'V_diff_-4', 'O_diff_-3', 'H_diff_-3', 'L_diff_-3', 'C_diff_-3', 'V_diff_-3', 'O_diff_-2', 'H_diff_-2', 'L_diff_-2', 'C_diff_-2', 'V_diff_-2', 'O_diff_-1', 'H_diff_-1', 'L_diff_-1', 'C_diff_-1', 'V_diff_-1', 'O_diff_0', 'H_diff_0', 'L_diff_0', 'C_diff_0', 'V_diff_0', 'O_diff_1', 'H_diff_1', 'L_diff_1', 'C_diff_1', 'V_diff_1', 'O_diff_2', 'H_diff_2', 'L_diff_2', 'C_diff_2', 'V_diff_2', 'O_diff_3', 'H_diff_3', 'L_diff_3', 'C_diff_3', 'V_diff_3', 'O_diff_4', 'H_diff_4', 'L_diff_4', 'C_diff_4', 'V_diff_4', 'O_diff_5', 'H_diff_5', 'L_diff_5', 'C_diff_5', 'V_diff_5', 'O_diff_6', 'H_diff_6', 'L_diff_6', 'C_diff_6', 'V_diff_6', 'O_diff_7', 'H_diff_7', 'L_diff_7', 'C_diff_7', 'V_diff_7', 'O_rolling_mean_diff_-3', 'H_rolling_mean_diff_-3', 'L_rolling_mean_diff_-3', 'C_rolling_mean_diff_-3', 'V_rolling_mean_diff_-3', 'O_rolling_mean_diff_-2', 'H_rolling_mean_diff_-2', 'L_rolling_mean_diff_-2', 'C_rolling_mean_diff_-2', 'V_rolling_mean_diff_-2', 'O_rolling_mean_diff_-1', 'H_rolling_mean_diff_-1', 'L_rolling_mean_diff_-1', 'C_rolling_mean_diff_-1', 'V_rolling_mean_diff_-1', 'O_rolling_mean_diff_0', 'H_rolling_mean_diff_0', 'L_rolling_mean_diff_0', 'C_rolling_mean_diff_0', 'V_rolling_mean_diff_0', 'O_rolling_mean_diff_1', 'H_rolling_mean_diff_1', 'L_rolling_mean_diff_1', 'C_rolling_mean_diff_1', 'V_rolling_mean_diff_1', 'O_rolling_mean_diff_2', 'H_rolling_mean_diff_2', 'L_rolling_mean_diff_2', 'C_rolling_mean_diff_2', 'V_rolling_mean_diff_2', 'PCA1', 'PCA2', 'PCA3', 'PCA4', 'PCA5', 'PCA6', 'PCA7', 'PCA8', 'PCA9', 'PCA10', 'PCA11', 'PCA12']\n",
      "Merging the scaled data and the unscalable data back together with pd.concat: EURJPY1440.csv (4950, 250)\n",
      "Finished: EURJPY1440.csv (4950, 250)\n",
      "--------------------------------\n",
      "Processing:  EURGBP1440.csv Number  2  of  11\n",
      "We now have: (4950, 250) rows of data!\n",
      "Reading in Date, OHLCV, Supply/Demand\n",
      "Renaming df_ohlc column headers for clarity\n",
      "Reading in Rectangle data\n",
      "Renaming df_rects column headers for clarity\n",
      "Identifying supply/demand with supply_or_demand func: EURGBP1440.csv (4951, 12)\n",
      "~~~\n",
      "Identifying zone ends with zone_ender func: EURGBP1440.csv (4951, 14)\n",
      "~~~\n",
      "Your df_norm columns: Index(['O', 'H', 'L', 'C', 'V'], dtype='object')\n",
      "Your df_non_norm columns: Index(['Epoch Date', 'Supply/Demand', 'Object Name', 'Epoch Date Start',\n",
      "       'Epoch Date End', 'Proximal', 'Distal', 'supply_demand',\n",
      "       'rectangle_here', 'Proximal_match_-6_O',\n",
      "       ...\n",
      "       'Distal_match_-4_C', 'Distal_match_-3_C', 'Distal_match_-2_C',\n",
      "       'Distal_match_-1_C', 'Distal_match_0_C', 'Distal_match_1_C',\n",
      "       'Distal_match_2_C', 'Distal_match_3_C', 'Distal_match_4_C',\n",
      "       'Distal_match_5_C'],\n",
      "      dtype='object', length=105)\n",
      "Generating features:  Difference between open and close\n",
      "Shape is now: (4951, 6)\n",
      "~~~\n",
      "Generating features:  Range between high and low\n",
      "Shape is now: (4951, 7)\n",
      "~~~\n",
      "Generating features:  Range between high and low\n",
      "Shape is now: (4951, 8)\n",
      "~~~\n",
      "Generating features:  Change over time for lookforward/lookback range\n",
      "Generating features:  Range High-Close over time for lookforward/lookback range\n",
      "Generating features:  Diffs over time for lookforward/lookback range\n",
      "Generating features:  Rolling mean for yesterday, today, tomorrow range\n",
      "Your df_scale_with_PCA: [0, 1, 2, 3, 4, 5, 6, 7, 8, 9, 10, 11, 12, 13, 14, 15, 16, 17, 18, 19, 20, 21, 22, 23, 24, 25, 26, 27, 28, 29, 30, 31, 32, 33, 34, 35, 36, 37, 38, 39, 40, 41, 42, 43, 44, 45, 46, 47, 48, 49, 50, 51, 52, 53, 54, 55, 56, 57, 58, 59, 60, 61, 62, 63, 64, 65, 66, 67, 68, 69, 70, 71, 72, 73, 74, 75, 76, 77, 78, 79, 80, 81, 82, 83, 84, 85, 86, 87, 88, 89, 90, 91, 92, 93, 94, 95, 96, 97, 98, 99, 100, 101, 102, 103, 104, 105, 106, 107, 108, 109, 110, 111, 112, 113, 114, 115, 116, 117, 118, 119, 120, 121, 122, 123, 124, 125, 126, 127, 128, 129, 130, 131, 132, 'PCA1', 'PCA2', 'PCA3', 'PCA4', 'PCA5', 'PCA6', 'PCA7', 'PCA8', 'PCA9', 'PCA10', 'PCA11', 'PCA12']\n",
      "Your df_scale_with_PCA columns are: ['O', 'H', 'L', 'C', 'V', 'change_open_close', 'range_high_low', 'range_high_close', 'O_std_dev', 'H_std_dev', 'L_std_dev', 'C_std_dev', 'V_std_dev', 'O_rolling_mean', 'H_rolling_mean', 'L_rolling_mean', 'C_rolling_mean', 'V_rolling_mean', 'rolling_mean_range_HL', 'change_open_close_change_-4', 'change_open_close_change_-3', 'change_open_close_change_-2', 'change_open_close_change_-1', 'change_open_close_change_0', 'change_open_close_change_1', 'change_open_close_change_2', 'change_open_close_change_3', 'change_open_close_change_4', 'change_open_close_change_5', 'change_open_close_change_6', 'change_open_close_change_7', 'range_high_close_range_-4', 'range_high_close_range_-3', 'range_high_close_range_-2', 'range_high_close_range_-1', 'range_high_close_range_0', 'range_high_close_range_1', 'range_high_close_range_2', 'range_high_close_range_3', 'range_high_close_range_4', 'range_high_close_range_5', 'range_high_close_range_6', 'range_high_close_range_7', 'O_diff_-4', 'H_diff_-4', 'L_diff_-4', 'C_diff_-4', 'V_diff_-4', 'O_diff_-3', 'H_diff_-3', 'L_diff_-3', 'C_diff_-3', 'V_diff_-3', 'O_diff_-2', 'H_diff_-2', 'L_diff_-2', 'C_diff_-2', 'V_diff_-2', 'O_diff_-1', 'H_diff_-1', 'L_diff_-1', 'C_diff_-1', 'V_diff_-1', 'O_diff_0', 'H_diff_0', 'L_diff_0', 'C_diff_0', 'V_diff_0', 'O_diff_1', 'H_diff_1', 'L_diff_1', 'C_diff_1', 'V_diff_1', 'O_diff_2', 'H_diff_2', 'L_diff_2', 'C_diff_2', 'V_diff_2', 'O_diff_3', 'H_diff_3', 'L_diff_3', 'C_diff_3', 'V_diff_3', 'O_diff_4', 'H_diff_4', 'L_diff_4', 'C_diff_4', 'V_diff_4', 'O_diff_5', 'H_diff_5', 'L_diff_5', 'C_diff_5', 'V_diff_5', 'O_diff_6', 'H_diff_6', 'L_diff_6', 'C_diff_6', 'V_diff_6', 'O_diff_7', 'H_diff_7', 'L_diff_7', 'C_diff_7', 'V_diff_7', 'O_rolling_mean_diff_-3', 'H_rolling_mean_diff_-3', 'L_rolling_mean_diff_-3', 'C_rolling_mean_diff_-3', 'V_rolling_mean_diff_-3', 'O_rolling_mean_diff_-2', 'H_rolling_mean_diff_-2', 'L_rolling_mean_diff_-2', 'C_rolling_mean_diff_-2', 'V_rolling_mean_diff_-2', 'O_rolling_mean_diff_-1', 'H_rolling_mean_diff_-1', 'L_rolling_mean_diff_-1', 'C_rolling_mean_diff_-1', 'V_rolling_mean_diff_-1', 'O_rolling_mean_diff_0', 'H_rolling_mean_diff_0', 'L_rolling_mean_diff_0', 'C_rolling_mean_diff_0', 'V_rolling_mean_diff_0', 'O_rolling_mean_diff_1', 'H_rolling_mean_diff_1', 'L_rolling_mean_diff_1', 'C_rolling_mean_diff_1', 'V_rolling_mean_diff_1', 'O_rolling_mean_diff_2', 'H_rolling_mean_diff_2', 'L_rolling_mean_diff_2', 'C_rolling_mean_diff_2', 'V_rolling_mean_diff_2', 'PCA1', 'PCA2', 'PCA3', 'PCA4', 'PCA5', 'PCA6', 'PCA7', 'PCA8', 'PCA9', 'PCA10', 'PCA11', 'PCA12']\n"
     ]
    },
    {
     "name": "stdout",
     "output_type": "stream",
     "text": [
      "Merging the scaled data and the unscalable data back together with pd.concat: EURGBP1440.csv (4951, 250)\n",
      "Finished: EURGBP1440.csv (4951, 250)\n",
      "--------------------------------\n",
      "Processing:  USDCAD1440.csv Number  3  of  11\n",
      "We now have: (9901, 250) rows of data!\n",
      "Reading in Date, OHLCV, Supply/Demand\n",
      "Renaming df_ohlc column headers for clarity\n",
      "Reading in Rectangle data\n",
      "Renaming df_rects column headers for clarity\n",
      "Identifying supply/demand with supply_or_demand func: USDCAD1440.csv (4943, 12)\n",
      "~~~\n",
      "Identifying zone ends with zone_ender func: USDCAD1440.csv (4943, 14)\n",
      "~~~\n",
      "Your df_norm columns: Index(['O', 'H', 'L', 'C', 'V'], dtype='object')\n",
      "Your df_non_norm columns: Index(['Epoch Date', 'Supply/Demand', 'Object Name', 'Epoch Date Start',\n",
      "       'Epoch Date End', 'Proximal', 'Distal', 'supply_demand',\n",
      "       'rectangle_here', 'Proximal_match_-6_O',\n",
      "       ...\n",
      "       'Distal_match_-4_C', 'Distal_match_-3_C', 'Distal_match_-2_C',\n",
      "       'Distal_match_-1_C', 'Distal_match_0_C', 'Distal_match_1_C',\n",
      "       'Distal_match_2_C', 'Distal_match_3_C', 'Distal_match_4_C',\n",
      "       'Distal_match_5_C'],\n",
      "      dtype='object', length=105)\n",
      "Generating features:  Difference between open and close\n",
      "Shape is now: (4943, 6)\n",
      "~~~\n",
      "Generating features:  Range between high and low\n",
      "Shape is now: (4943, 7)\n",
      "~~~\n",
      "Generating features:  Range between high and low\n",
      "Shape is now: (4943, 8)\n",
      "~~~\n",
      "Generating features:  Change over time for lookforward/lookback range\n",
      "Generating features:  Range High-Close over time for lookforward/lookback range\n",
      "Generating features:  Diffs over time for lookforward/lookback range\n",
      "Generating features:  Rolling mean for yesterday, today, tomorrow range\n",
      "Your df_scale_with_PCA: [0, 1, 2, 3, 4, 5, 6, 7, 8, 9, 10, 11, 12, 13, 14, 15, 16, 17, 18, 19, 20, 21, 22, 23, 24, 25, 26, 27, 28, 29, 30, 31, 32, 33, 34, 35, 36, 37, 38, 39, 40, 41, 42, 43, 44, 45, 46, 47, 48, 49, 50, 51, 52, 53, 54, 55, 56, 57, 58, 59, 60, 61, 62, 63, 64, 65, 66, 67, 68, 69, 70, 71, 72, 73, 74, 75, 76, 77, 78, 79, 80, 81, 82, 83, 84, 85, 86, 87, 88, 89, 90, 91, 92, 93, 94, 95, 96, 97, 98, 99, 100, 101, 102, 103, 104, 105, 106, 107, 108, 109, 110, 111, 112, 113, 114, 115, 116, 117, 118, 119, 120, 121, 122, 123, 124, 125, 126, 127, 128, 129, 130, 131, 132, 'PCA1', 'PCA2', 'PCA3', 'PCA4', 'PCA5', 'PCA6', 'PCA7', 'PCA8', 'PCA9', 'PCA10', 'PCA11', 'PCA12']\n",
      "Your df_scale_with_PCA columns are: ['O', 'H', 'L', 'C', 'V', 'change_open_close', 'range_high_low', 'range_high_close', 'O_std_dev', 'H_std_dev', 'L_std_dev', 'C_std_dev', 'V_std_dev', 'O_rolling_mean', 'H_rolling_mean', 'L_rolling_mean', 'C_rolling_mean', 'V_rolling_mean', 'rolling_mean_range_HL', 'change_open_close_change_-4', 'change_open_close_change_-3', 'change_open_close_change_-2', 'change_open_close_change_-1', 'change_open_close_change_0', 'change_open_close_change_1', 'change_open_close_change_2', 'change_open_close_change_3', 'change_open_close_change_4', 'change_open_close_change_5', 'change_open_close_change_6', 'change_open_close_change_7', 'range_high_close_range_-4', 'range_high_close_range_-3', 'range_high_close_range_-2', 'range_high_close_range_-1', 'range_high_close_range_0', 'range_high_close_range_1', 'range_high_close_range_2', 'range_high_close_range_3', 'range_high_close_range_4', 'range_high_close_range_5', 'range_high_close_range_6', 'range_high_close_range_7', 'O_diff_-4', 'H_diff_-4', 'L_diff_-4', 'C_diff_-4', 'V_diff_-4', 'O_diff_-3', 'H_diff_-3', 'L_diff_-3', 'C_diff_-3', 'V_diff_-3', 'O_diff_-2', 'H_diff_-2', 'L_diff_-2', 'C_diff_-2', 'V_diff_-2', 'O_diff_-1', 'H_diff_-1', 'L_diff_-1', 'C_diff_-1', 'V_diff_-1', 'O_diff_0', 'H_diff_0', 'L_diff_0', 'C_diff_0', 'V_diff_0', 'O_diff_1', 'H_diff_1', 'L_diff_1', 'C_diff_1', 'V_diff_1', 'O_diff_2', 'H_diff_2', 'L_diff_2', 'C_diff_2', 'V_diff_2', 'O_diff_3', 'H_diff_3', 'L_diff_3', 'C_diff_3', 'V_diff_3', 'O_diff_4', 'H_diff_4', 'L_diff_4', 'C_diff_4', 'V_diff_4', 'O_diff_5', 'H_diff_5', 'L_diff_5', 'C_diff_5', 'V_diff_5', 'O_diff_6', 'H_diff_6', 'L_diff_6', 'C_diff_6', 'V_diff_6', 'O_diff_7', 'H_diff_7', 'L_diff_7', 'C_diff_7', 'V_diff_7', 'O_rolling_mean_diff_-3', 'H_rolling_mean_diff_-3', 'L_rolling_mean_diff_-3', 'C_rolling_mean_diff_-3', 'V_rolling_mean_diff_-3', 'O_rolling_mean_diff_-2', 'H_rolling_mean_diff_-2', 'L_rolling_mean_diff_-2', 'C_rolling_mean_diff_-2', 'V_rolling_mean_diff_-2', 'O_rolling_mean_diff_-1', 'H_rolling_mean_diff_-1', 'L_rolling_mean_diff_-1', 'C_rolling_mean_diff_-1', 'V_rolling_mean_diff_-1', 'O_rolling_mean_diff_0', 'H_rolling_mean_diff_0', 'L_rolling_mean_diff_0', 'C_rolling_mean_diff_0', 'V_rolling_mean_diff_0', 'O_rolling_mean_diff_1', 'H_rolling_mean_diff_1', 'L_rolling_mean_diff_1', 'C_rolling_mean_diff_1', 'V_rolling_mean_diff_1', 'O_rolling_mean_diff_2', 'H_rolling_mean_diff_2', 'L_rolling_mean_diff_2', 'C_rolling_mean_diff_2', 'V_rolling_mean_diff_2', 'PCA1', 'PCA2', 'PCA3', 'PCA4', 'PCA5', 'PCA6', 'PCA7', 'PCA8', 'PCA9', 'PCA10', 'PCA11', 'PCA12']\n",
      "Merging the scaled data and the unscalable data back together with pd.concat: USDCAD1440.csv (4943, 250)\n",
      "Finished: USDCAD1440.csv (4943, 250)\n",
      "--------------------------------\n",
      "Processing:  GBPUSD1440.csv Number  4  of  11\n",
      "We now have: (14844, 250) rows of data!\n",
      "Reading in Date, OHLCV, Supply/Demand\n",
      "Renaming df_ohlc column headers for clarity\n",
      "Reading in Rectangle data\n",
      "Renaming df_rects column headers for clarity\n",
      "Identifying supply/demand with supply_or_demand func: GBPUSD1440.csv (4516, 12)\n",
      "~~~\n",
      "Identifying zone ends with zone_ender func: GBPUSD1440.csv (4516, 14)\n",
      "~~~\n",
      "Your df_norm columns: Index(['O', 'H', 'L', 'C', 'V'], dtype='object')\n",
      "Your df_non_norm columns: Index(['Epoch Date', 'Supply/Demand', 'Object Name', 'Epoch Date Start',\n",
      "       'Epoch Date End', 'Proximal', 'Distal', 'supply_demand',\n",
      "       'rectangle_here', 'Proximal_match_-6_O',\n",
      "       ...\n",
      "       'Distal_match_-4_C', 'Distal_match_-3_C', 'Distal_match_-2_C',\n",
      "       'Distal_match_-1_C', 'Distal_match_0_C', 'Distal_match_1_C',\n",
      "       'Distal_match_2_C', 'Distal_match_3_C', 'Distal_match_4_C',\n",
      "       'Distal_match_5_C'],\n",
      "      dtype='object', length=105)\n",
      "Generating features:  Difference between open and close\n",
      "Shape is now: (4516, 6)\n",
      "~~~\n",
      "Generating features:  Range between high and low\n",
      "Shape is now: (4516, 7)\n",
      "~~~\n",
      "Generating features:  Range between high and low\n",
      "Shape is now: (4516, 8)\n",
      "~~~\n",
      "Generating features:  Change over time for lookforward/lookback range\n",
      "Generating features:  Range High-Close over time for lookforward/lookback range\n",
      "Generating features:  Diffs over time for lookforward/lookback range\n",
      "Generating features:  Rolling mean for yesterday, today, tomorrow range\n",
      "Your df_scale_with_PCA: [0, 1, 2, 3, 4, 5, 6, 7, 8, 9, 10, 11, 12, 13, 14, 15, 16, 17, 18, 19, 20, 21, 22, 23, 24, 25, 26, 27, 28, 29, 30, 31, 32, 33, 34, 35, 36, 37, 38, 39, 40, 41, 42, 43, 44, 45, 46, 47, 48, 49, 50, 51, 52, 53, 54, 55, 56, 57, 58, 59, 60, 61, 62, 63, 64, 65, 66, 67, 68, 69, 70, 71, 72, 73, 74, 75, 76, 77, 78, 79, 80, 81, 82, 83, 84, 85, 86, 87, 88, 89, 90, 91, 92, 93, 94, 95, 96, 97, 98, 99, 100, 101, 102, 103, 104, 105, 106, 107, 108, 109, 110, 111, 112, 113, 114, 115, 116, 117, 118, 119, 120, 121, 122, 123, 124, 125, 126, 127, 128, 129, 130, 131, 132, 'PCA1', 'PCA2', 'PCA3', 'PCA4', 'PCA5', 'PCA6', 'PCA7', 'PCA8', 'PCA9', 'PCA10', 'PCA11', 'PCA12']\n",
      "Your df_scale_with_PCA columns are: ['O', 'H', 'L', 'C', 'V', 'change_open_close', 'range_high_low', 'range_high_close', 'O_std_dev', 'H_std_dev', 'L_std_dev', 'C_std_dev', 'V_std_dev', 'O_rolling_mean', 'H_rolling_mean', 'L_rolling_mean', 'C_rolling_mean', 'V_rolling_mean', 'rolling_mean_range_HL', 'change_open_close_change_-4', 'change_open_close_change_-3', 'change_open_close_change_-2', 'change_open_close_change_-1', 'change_open_close_change_0', 'change_open_close_change_1', 'change_open_close_change_2', 'change_open_close_change_3', 'change_open_close_change_4', 'change_open_close_change_5', 'change_open_close_change_6', 'change_open_close_change_7', 'range_high_close_range_-4', 'range_high_close_range_-3', 'range_high_close_range_-2', 'range_high_close_range_-1', 'range_high_close_range_0', 'range_high_close_range_1', 'range_high_close_range_2', 'range_high_close_range_3', 'range_high_close_range_4', 'range_high_close_range_5', 'range_high_close_range_6', 'range_high_close_range_7', 'O_diff_-4', 'H_diff_-4', 'L_diff_-4', 'C_diff_-4', 'V_diff_-4', 'O_diff_-3', 'H_diff_-3', 'L_diff_-3', 'C_diff_-3', 'V_diff_-3', 'O_diff_-2', 'H_diff_-2', 'L_diff_-2', 'C_diff_-2', 'V_diff_-2', 'O_diff_-1', 'H_diff_-1', 'L_diff_-1', 'C_diff_-1', 'V_diff_-1', 'O_diff_0', 'H_diff_0', 'L_diff_0', 'C_diff_0', 'V_diff_0', 'O_diff_1', 'H_diff_1', 'L_diff_1', 'C_diff_1', 'V_diff_1', 'O_diff_2', 'H_diff_2', 'L_diff_2', 'C_diff_2', 'V_diff_2', 'O_diff_3', 'H_diff_3', 'L_diff_3', 'C_diff_3', 'V_diff_3', 'O_diff_4', 'H_diff_4', 'L_diff_4', 'C_diff_4', 'V_diff_4', 'O_diff_5', 'H_diff_5', 'L_diff_5', 'C_diff_5', 'V_diff_5', 'O_diff_6', 'H_diff_6', 'L_diff_6', 'C_diff_6', 'V_diff_6', 'O_diff_7', 'H_diff_7', 'L_diff_7', 'C_diff_7', 'V_diff_7', 'O_rolling_mean_diff_-3', 'H_rolling_mean_diff_-3', 'L_rolling_mean_diff_-3', 'C_rolling_mean_diff_-3', 'V_rolling_mean_diff_-3', 'O_rolling_mean_diff_-2', 'H_rolling_mean_diff_-2', 'L_rolling_mean_diff_-2', 'C_rolling_mean_diff_-2', 'V_rolling_mean_diff_-2', 'O_rolling_mean_diff_-1', 'H_rolling_mean_diff_-1', 'L_rolling_mean_diff_-1', 'C_rolling_mean_diff_-1', 'V_rolling_mean_diff_-1', 'O_rolling_mean_diff_0', 'H_rolling_mean_diff_0', 'L_rolling_mean_diff_0', 'C_rolling_mean_diff_0', 'V_rolling_mean_diff_0', 'O_rolling_mean_diff_1', 'H_rolling_mean_diff_1', 'L_rolling_mean_diff_1', 'C_rolling_mean_diff_1', 'V_rolling_mean_diff_1', 'O_rolling_mean_diff_2', 'H_rolling_mean_diff_2', 'L_rolling_mean_diff_2', 'C_rolling_mean_diff_2', 'V_rolling_mean_diff_2', 'PCA1', 'PCA2', 'PCA3', 'PCA4', 'PCA5', 'PCA6', 'PCA7', 'PCA8', 'PCA9', 'PCA10', 'PCA11', 'PCA12']\n",
      "Merging the scaled data and the unscalable data back together with pd.concat: GBPUSD1440.csv (4516, 250)\n"
     ]
    },
    {
     "name": "stdout",
     "output_type": "stream",
     "text": [
      "Finished: GBPUSD1440.csv (4516, 250)\n",
      "--------------------------------\n",
      "Processing:  EURUSD14402.csv Number  5  of  11\n",
      "We now have: (19360, 250) rows of data!\n",
      "Reading in Date, OHLCV, Supply/Demand\n",
      "Renaming df_ohlc column headers for clarity\n",
      "Reading in Rectangle data\n",
      "Renaming df_rects column headers for clarity\n",
      "Identifying supply/demand with supply_or_demand func: EURUSD14402.csv (4949, 12)\n",
      "~~~\n",
      "Identifying zone ends with zone_ender func: EURUSD14402.csv (4949, 14)\n",
      "~~~\n",
      "Your df_norm columns: Index(['O', 'H', 'L', 'C', 'V'], dtype='object')\n",
      "Your df_non_norm columns: Index(['Epoch Date', 'Supply/Demand', 'Object Name', 'Epoch Date Start',\n",
      "       'Epoch Date End', 'Proximal', 'Distal', 'supply_demand',\n",
      "       'rectangle_here', 'Proximal_match_-6_O',\n",
      "       ...\n",
      "       'Distal_match_-4_C', 'Distal_match_-3_C', 'Distal_match_-2_C',\n",
      "       'Distal_match_-1_C', 'Distal_match_0_C', 'Distal_match_1_C',\n",
      "       'Distal_match_2_C', 'Distal_match_3_C', 'Distal_match_4_C',\n",
      "       'Distal_match_5_C'],\n",
      "      dtype='object', length=105)\n",
      "Generating features:  Difference between open and close\n",
      "Shape is now: (4949, 6)\n",
      "~~~\n",
      "Generating features:  Range between high and low\n",
      "Shape is now: (4949, 7)\n",
      "~~~\n",
      "Generating features:  Range between high and low\n",
      "Shape is now: (4949, 8)\n",
      "~~~\n",
      "Generating features:  Change over time for lookforward/lookback range\n",
      "Generating features:  Range High-Close over time for lookforward/lookback range\n",
      "Generating features:  Diffs over time for lookforward/lookback range\n",
      "Generating features:  Rolling mean for yesterday, today, tomorrow range\n",
      "Your df_scale_with_PCA: [0, 1, 2, 3, 4, 5, 6, 7, 8, 9, 10, 11, 12, 13, 14, 15, 16, 17, 18, 19, 20, 21, 22, 23, 24, 25, 26, 27, 28, 29, 30, 31, 32, 33, 34, 35, 36, 37, 38, 39, 40, 41, 42, 43, 44, 45, 46, 47, 48, 49, 50, 51, 52, 53, 54, 55, 56, 57, 58, 59, 60, 61, 62, 63, 64, 65, 66, 67, 68, 69, 70, 71, 72, 73, 74, 75, 76, 77, 78, 79, 80, 81, 82, 83, 84, 85, 86, 87, 88, 89, 90, 91, 92, 93, 94, 95, 96, 97, 98, 99, 100, 101, 102, 103, 104, 105, 106, 107, 108, 109, 110, 111, 112, 113, 114, 115, 116, 117, 118, 119, 120, 121, 122, 123, 124, 125, 126, 127, 128, 129, 130, 131, 132, 'PCA1', 'PCA2', 'PCA3', 'PCA4', 'PCA5', 'PCA6', 'PCA7', 'PCA8', 'PCA9', 'PCA10', 'PCA11', 'PCA12']\n",
      "Your df_scale_with_PCA columns are: ['O', 'H', 'L', 'C', 'V', 'change_open_close', 'range_high_low', 'range_high_close', 'O_std_dev', 'H_std_dev', 'L_std_dev', 'C_std_dev', 'V_std_dev', 'O_rolling_mean', 'H_rolling_mean', 'L_rolling_mean', 'C_rolling_mean', 'V_rolling_mean', 'rolling_mean_range_HL', 'change_open_close_change_-4', 'change_open_close_change_-3', 'change_open_close_change_-2', 'change_open_close_change_-1', 'change_open_close_change_0', 'change_open_close_change_1', 'change_open_close_change_2', 'change_open_close_change_3', 'change_open_close_change_4', 'change_open_close_change_5', 'change_open_close_change_6', 'change_open_close_change_7', 'range_high_close_range_-4', 'range_high_close_range_-3', 'range_high_close_range_-2', 'range_high_close_range_-1', 'range_high_close_range_0', 'range_high_close_range_1', 'range_high_close_range_2', 'range_high_close_range_3', 'range_high_close_range_4', 'range_high_close_range_5', 'range_high_close_range_6', 'range_high_close_range_7', 'O_diff_-4', 'H_diff_-4', 'L_diff_-4', 'C_diff_-4', 'V_diff_-4', 'O_diff_-3', 'H_diff_-3', 'L_diff_-3', 'C_diff_-3', 'V_diff_-3', 'O_diff_-2', 'H_diff_-2', 'L_diff_-2', 'C_diff_-2', 'V_diff_-2', 'O_diff_-1', 'H_diff_-1', 'L_diff_-1', 'C_diff_-1', 'V_diff_-1', 'O_diff_0', 'H_diff_0', 'L_diff_0', 'C_diff_0', 'V_diff_0', 'O_diff_1', 'H_diff_1', 'L_diff_1', 'C_diff_1', 'V_diff_1', 'O_diff_2', 'H_diff_2', 'L_diff_2', 'C_diff_2', 'V_diff_2', 'O_diff_3', 'H_diff_3', 'L_diff_3', 'C_diff_3', 'V_diff_3', 'O_diff_4', 'H_diff_4', 'L_diff_4', 'C_diff_4', 'V_diff_4', 'O_diff_5', 'H_diff_5', 'L_diff_5', 'C_diff_5', 'V_diff_5', 'O_diff_6', 'H_diff_6', 'L_diff_6', 'C_diff_6', 'V_diff_6', 'O_diff_7', 'H_diff_7', 'L_diff_7', 'C_diff_7', 'V_diff_7', 'O_rolling_mean_diff_-3', 'H_rolling_mean_diff_-3', 'L_rolling_mean_diff_-3', 'C_rolling_mean_diff_-3', 'V_rolling_mean_diff_-3', 'O_rolling_mean_diff_-2', 'H_rolling_mean_diff_-2', 'L_rolling_mean_diff_-2', 'C_rolling_mean_diff_-2', 'V_rolling_mean_diff_-2', 'O_rolling_mean_diff_-1', 'H_rolling_mean_diff_-1', 'L_rolling_mean_diff_-1', 'C_rolling_mean_diff_-1', 'V_rolling_mean_diff_-1', 'O_rolling_mean_diff_0', 'H_rolling_mean_diff_0', 'L_rolling_mean_diff_0', 'C_rolling_mean_diff_0', 'V_rolling_mean_diff_0', 'O_rolling_mean_diff_1', 'H_rolling_mean_diff_1', 'L_rolling_mean_diff_1', 'C_rolling_mean_diff_1', 'V_rolling_mean_diff_1', 'O_rolling_mean_diff_2', 'H_rolling_mean_diff_2', 'L_rolling_mean_diff_2', 'C_rolling_mean_diff_2', 'V_rolling_mean_diff_2', 'PCA1', 'PCA2', 'PCA3', 'PCA4', 'PCA5', 'PCA6', 'PCA7', 'PCA8', 'PCA9', 'PCA10', 'PCA11', 'PCA12']\n",
      "Merging the scaled data and the unscalable data back together with pd.concat: EURUSD14402.csv (4949, 250)\n",
      "Finished: EURUSD14402.csv (4949, 250)\n",
      "--------------------------------\n",
      "Processing:  USDCHF1440.csv Number  6  of  11\n",
      "We now have: (24309, 250) rows of data!\n",
      "Reading in Date, OHLCV, Supply/Demand\n",
      "Renaming df_ohlc column headers for clarity\n",
      "Reading in Rectangle data\n",
      "Renaming df_rects column headers for clarity\n",
      "Identifying supply/demand with supply_or_demand func: USDCHF1440.csv (4887, 12)\n",
      "~~~\n",
      "Identifying zone ends with zone_ender func: USDCHF1440.csv (4887, 14)\n",
      "~~~\n",
      "Your df_norm columns: Index(['O', 'H', 'L', 'C', 'V'], dtype='object')\n",
      "Your df_non_norm columns: Index(['Epoch Date', 'Supply/Demand', 'Object Name', 'Epoch Date Start',\n",
      "       'Epoch Date End', 'Proximal', 'Distal', 'supply_demand',\n",
      "       'rectangle_here', 'Proximal_match_-6_O',\n",
      "       ...\n",
      "       'Distal_match_-4_C', 'Distal_match_-3_C', 'Distal_match_-2_C',\n",
      "       'Distal_match_-1_C', 'Distal_match_0_C', 'Distal_match_1_C',\n",
      "       'Distal_match_2_C', 'Distal_match_3_C', 'Distal_match_4_C',\n",
      "       'Distal_match_5_C'],\n",
      "      dtype='object', length=105)\n",
      "Generating features:  Difference between open and close\n",
      "Shape is now: (4887, 6)\n",
      "~~~\n",
      "Generating features:  Range between high and low\n",
      "Shape is now: (4887, 7)\n",
      "~~~\n",
      "Generating features:  Range between high and low\n",
      "Shape is now: (4887, 8)\n",
      "~~~\n",
      "Generating features:  Change over time for lookforward/lookback range\n",
      "Generating features:  Range High-Close over time for lookforward/lookback range\n",
      "Generating features:  Diffs over time for lookforward/lookback range\n",
      "Generating features:  Rolling mean for yesterday, today, tomorrow range\n",
      "Your df_scale_with_PCA: [0, 1, 2, 3, 4, 5, 6, 7, 8, 9, 10, 11, 12, 13, 14, 15, 16, 17, 18, 19, 20, 21, 22, 23, 24, 25, 26, 27, 28, 29, 30, 31, 32, 33, 34, 35, 36, 37, 38, 39, 40, 41, 42, 43, 44, 45, 46, 47, 48, 49, 50, 51, 52, 53, 54, 55, 56, 57, 58, 59, 60, 61, 62, 63, 64, 65, 66, 67, 68, 69, 70, 71, 72, 73, 74, 75, 76, 77, 78, 79, 80, 81, 82, 83, 84, 85, 86, 87, 88, 89, 90, 91, 92, 93, 94, 95, 96, 97, 98, 99, 100, 101, 102, 103, 104, 105, 106, 107, 108, 109, 110, 111, 112, 113, 114, 115, 116, 117, 118, 119, 120, 121, 122, 123, 124, 125, 126, 127, 128, 129, 130, 131, 132, 'PCA1', 'PCA2', 'PCA3', 'PCA4', 'PCA5', 'PCA6', 'PCA7', 'PCA8', 'PCA9', 'PCA10', 'PCA11', 'PCA12']\n",
      "Your df_scale_with_PCA columns are: ['O', 'H', 'L', 'C', 'V', 'change_open_close', 'range_high_low', 'range_high_close', 'O_std_dev', 'H_std_dev', 'L_std_dev', 'C_std_dev', 'V_std_dev', 'O_rolling_mean', 'H_rolling_mean', 'L_rolling_mean', 'C_rolling_mean', 'V_rolling_mean', 'rolling_mean_range_HL', 'change_open_close_change_-4', 'change_open_close_change_-3', 'change_open_close_change_-2', 'change_open_close_change_-1', 'change_open_close_change_0', 'change_open_close_change_1', 'change_open_close_change_2', 'change_open_close_change_3', 'change_open_close_change_4', 'change_open_close_change_5', 'change_open_close_change_6', 'change_open_close_change_7', 'range_high_close_range_-4', 'range_high_close_range_-3', 'range_high_close_range_-2', 'range_high_close_range_-1', 'range_high_close_range_0', 'range_high_close_range_1', 'range_high_close_range_2', 'range_high_close_range_3', 'range_high_close_range_4', 'range_high_close_range_5', 'range_high_close_range_6', 'range_high_close_range_7', 'O_diff_-4', 'H_diff_-4', 'L_diff_-4', 'C_diff_-4', 'V_diff_-4', 'O_diff_-3', 'H_diff_-3', 'L_diff_-3', 'C_diff_-3', 'V_diff_-3', 'O_diff_-2', 'H_diff_-2', 'L_diff_-2', 'C_diff_-2', 'V_diff_-2', 'O_diff_-1', 'H_diff_-1', 'L_diff_-1', 'C_diff_-1', 'V_diff_-1', 'O_diff_0', 'H_diff_0', 'L_diff_0', 'C_diff_0', 'V_diff_0', 'O_diff_1', 'H_diff_1', 'L_diff_1', 'C_diff_1', 'V_diff_1', 'O_diff_2', 'H_diff_2', 'L_diff_2', 'C_diff_2', 'V_diff_2', 'O_diff_3', 'H_diff_3', 'L_diff_3', 'C_diff_3', 'V_diff_3', 'O_diff_4', 'H_diff_4', 'L_diff_4', 'C_diff_4', 'V_diff_4', 'O_diff_5', 'H_diff_5', 'L_diff_5', 'C_diff_5', 'V_diff_5', 'O_diff_6', 'H_diff_6', 'L_diff_6', 'C_diff_6', 'V_diff_6', 'O_diff_7', 'H_diff_7', 'L_diff_7', 'C_diff_7', 'V_diff_7', 'O_rolling_mean_diff_-3', 'H_rolling_mean_diff_-3', 'L_rolling_mean_diff_-3', 'C_rolling_mean_diff_-3', 'V_rolling_mean_diff_-3', 'O_rolling_mean_diff_-2', 'H_rolling_mean_diff_-2', 'L_rolling_mean_diff_-2', 'C_rolling_mean_diff_-2', 'V_rolling_mean_diff_-2', 'O_rolling_mean_diff_-1', 'H_rolling_mean_diff_-1', 'L_rolling_mean_diff_-1', 'C_rolling_mean_diff_-1', 'V_rolling_mean_diff_-1', 'O_rolling_mean_diff_0', 'H_rolling_mean_diff_0', 'L_rolling_mean_diff_0', 'C_rolling_mean_diff_0', 'V_rolling_mean_diff_0', 'O_rolling_mean_diff_1', 'H_rolling_mean_diff_1', 'L_rolling_mean_diff_1', 'C_rolling_mean_diff_1', 'V_rolling_mean_diff_1', 'O_rolling_mean_diff_2', 'H_rolling_mean_diff_2', 'L_rolling_mean_diff_2', 'C_rolling_mean_diff_2', 'V_rolling_mean_diff_2', 'PCA1', 'PCA2', 'PCA3', 'PCA4', 'PCA5', 'PCA6', 'PCA7', 'PCA8', 'PCA9', 'PCA10', 'PCA11', 'PCA12']\n",
      "Merging the scaled data and the unscalable data back together with pd.concat: USDCHF1440.csv (4887, 250)\n"
     ]
    },
    {
     "name": "stdout",
     "output_type": "stream",
     "text": [
      "Finished: USDCHF1440.csv (4887, 250)\n",
      "--------------------------------\n",
      "Processing:  EURAUD14402.csv Number  7  of  11\n",
      "We now have: (29196, 250) rows of data!\n",
      "Reading in Date, OHLCV, Supply/Demand\n",
      "Renaming df_ohlc column headers for clarity\n",
      "Reading in Rectangle data\n",
      "Renaming df_rects column headers for clarity\n",
      "Identifying supply/demand with supply_or_demand func: EURAUD14402.csv (4624, 12)\n",
      "~~~\n",
      "Identifying zone ends with zone_ender func: EURAUD14402.csv (4624, 14)\n",
      "~~~\n",
      "Your df_norm columns: Index(['O', 'H', 'L', 'C', 'V'], dtype='object')\n",
      "Your df_non_norm columns: Index(['Epoch Date', 'Supply/Demand', 'Object Name', 'Epoch Date Start',\n",
      "       'Epoch Date End', 'Proximal', 'Distal', 'supply_demand',\n",
      "       'rectangle_here', 'Proximal_match_-6_O',\n",
      "       ...\n",
      "       'Distal_match_-4_C', 'Distal_match_-3_C', 'Distal_match_-2_C',\n",
      "       'Distal_match_-1_C', 'Distal_match_0_C', 'Distal_match_1_C',\n",
      "       'Distal_match_2_C', 'Distal_match_3_C', 'Distal_match_4_C',\n",
      "       'Distal_match_5_C'],\n",
      "      dtype='object', length=105)\n",
      "Generating features:  Difference between open and close\n",
      "Shape is now: (4624, 6)\n",
      "~~~\n",
      "Generating features:  Range between high and low\n",
      "Shape is now: (4624, 7)\n",
      "~~~\n",
      "Generating features:  Range between high and low\n",
      "Shape is now: (4624, 8)\n",
      "~~~\n",
      "Generating features:  Change over time for lookforward/lookback range\n",
      "Generating features:  Range High-Close over time for lookforward/lookback range\n",
      "Generating features:  Diffs over time for lookforward/lookback range\n",
      "Generating features:  Rolling mean for yesterday, today, tomorrow range\n",
      "Your df_scale_with_PCA: [0, 1, 2, 3, 4, 5, 6, 7, 8, 9, 10, 11, 12, 13, 14, 15, 16, 17, 18, 19, 20, 21, 22, 23, 24, 25, 26, 27, 28, 29, 30, 31, 32, 33, 34, 35, 36, 37, 38, 39, 40, 41, 42, 43, 44, 45, 46, 47, 48, 49, 50, 51, 52, 53, 54, 55, 56, 57, 58, 59, 60, 61, 62, 63, 64, 65, 66, 67, 68, 69, 70, 71, 72, 73, 74, 75, 76, 77, 78, 79, 80, 81, 82, 83, 84, 85, 86, 87, 88, 89, 90, 91, 92, 93, 94, 95, 96, 97, 98, 99, 100, 101, 102, 103, 104, 105, 106, 107, 108, 109, 110, 111, 112, 113, 114, 115, 116, 117, 118, 119, 120, 121, 122, 123, 124, 125, 126, 127, 128, 129, 130, 131, 132, 'PCA1', 'PCA2', 'PCA3', 'PCA4', 'PCA5', 'PCA6', 'PCA7', 'PCA8', 'PCA9', 'PCA10', 'PCA11', 'PCA12']\n",
      "Your df_scale_with_PCA columns are: ['O', 'H', 'L', 'C', 'V', 'change_open_close', 'range_high_low', 'range_high_close', 'O_std_dev', 'H_std_dev', 'L_std_dev', 'C_std_dev', 'V_std_dev', 'O_rolling_mean', 'H_rolling_mean', 'L_rolling_mean', 'C_rolling_mean', 'V_rolling_mean', 'rolling_mean_range_HL', 'change_open_close_change_-4', 'change_open_close_change_-3', 'change_open_close_change_-2', 'change_open_close_change_-1', 'change_open_close_change_0', 'change_open_close_change_1', 'change_open_close_change_2', 'change_open_close_change_3', 'change_open_close_change_4', 'change_open_close_change_5', 'change_open_close_change_6', 'change_open_close_change_7', 'range_high_close_range_-4', 'range_high_close_range_-3', 'range_high_close_range_-2', 'range_high_close_range_-1', 'range_high_close_range_0', 'range_high_close_range_1', 'range_high_close_range_2', 'range_high_close_range_3', 'range_high_close_range_4', 'range_high_close_range_5', 'range_high_close_range_6', 'range_high_close_range_7', 'O_diff_-4', 'H_diff_-4', 'L_diff_-4', 'C_diff_-4', 'V_diff_-4', 'O_diff_-3', 'H_diff_-3', 'L_diff_-3', 'C_diff_-3', 'V_diff_-3', 'O_diff_-2', 'H_diff_-2', 'L_diff_-2', 'C_diff_-2', 'V_diff_-2', 'O_diff_-1', 'H_diff_-1', 'L_diff_-1', 'C_diff_-1', 'V_diff_-1', 'O_diff_0', 'H_diff_0', 'L_diff_0', 'C_diff_0', 'V_diff_0', 'O_diff_1', 'H_diff_1', 'L_diff_1', 'C_diff_1', 'V_diff_1', 'O_diff_2', 'H_diff_2', 'L_diff_2', 'C_diff_2', 'V_diff_2', 'O_diff_3', 'H_diff_3', 'L_diff_3', 'C_diff_3', 'V_diff_3', 'O_diff_4', 'H_diff_4', 'L_diff_4', 'C_diff_4', 'V_diff_4', 'O_diff_5', 'H_diff_5', 'L_diff_5', 'C_diff_5', 'V_diff_5', 'O_diff_6', 'H_diff_6', 'L_diff_6', 'C_diff_6', 'V_diff_6', 'O_diff_7', 'H_diff_7', 'L_diff_7', 'C_diff_7', 'V_diff_7', 'O_rolling_mean_diff_-3', 'H_rolling_mean_diff_-3', 'L_rolling_mean_diff_-3', 'C_rolling_mean_diff_-3', 'V_rolling_mean_diff_-3', 'O_rolling_mean_diff_-2', 'H_rolling_mean_diff_-2', 'L_rolling_mean_diff_-2', 'C_rolling_mean_diff_-2', 'V_rolling_mean_diff_-2', 'O_rolling_mean_diff_-1', 'H_rolling_mean_diff_-1', 'L_rolling_mean_diff_-1', 'C_rolling_mean_diff_-1', 'V_rolling_mean_diff_-1', 'O_rolling_mean_diff_0', 'H_rolling_mean_diff_0', 'L_rolling_mean_diff_0', 'C_rolling_mean_diff_0', 'V_rolling_mean_diff_0', 'O_rolling_mean_diff_1', 'H_rolling_mean_diff_1', 'L_rolling_mean_diff_1', 'C_rolling_mean_diff_1', 'V_rolling_mean_diff_1', 'O_rolling_mean_diff_2', 'H_rolling_mean_diff_2', 'L_rolling_mean_diff_2', 'C_rolling_mean_diff_2', 'V_rolling_mean_diff_2', 'PCA1', 'PCA2', 'PCA3', 'PCA4', 'PCA5', 'PCA6', 'PCA7', 'PCA8', 'PCA9', 'PCA10', 'PCA11', 'PCA12']\n",
      "Merging the scaled data and the unscalable data back together with pd.concat: EURAUD14402.csv (4624, 250)\n",
      "Finished: EURAUD14402.csv (4624, 250)\n",
      "--------------------------------\n",
      "Processing:  AUDUSD1440.csv Number  8  of  11\n",
      "We now have: (33820, 250) rows of data!\n",
      "Reading in Date, OHLCV, Supply/Demand\n",
      "Renaming df_ohlc column headers for clarity\n",
      "Reading in Rectangle data\n",
      "Renaming df_rects column headers for clarity\n",
      "Identifying supply/demand with supply_or_demand func: AUDUSD1440.csv (4951, 12)\n",
      "~~~\n",
      "Identifying zone ends with zone_ender func: AUDUSD1440.csv (4951, 14)\n",
      "~~~\n",
      "Your df_norm columns: Index(['O', 'H', 'L', 'C', 'V'], dtype='object')\n",
      "Your df_non_norm columns: Index(['Epoch Date', 'Supply/Demand', 'Object Name', 'Epoch Date Start',\n",
      "       'Epoch Date End', 'Proximal', 'Distal', 'supply_demand',\n",
      "       'rectangle_here', 'Proximal_match_-6_O',\n",
      "       ...\n",
      "       'Distal_match_-4_C', 'Distal_match_-3_C', 'Distal_match_-2_C',\n",
      "       'Distal_match_-1_C', 'Distal_match_0_C', 'Distal_match_1_C',\n",
      "       'Distal_match_2_C', 'Distal_match_3_C', 'Distal_match_4_C',\n",
      "       'Distal_match_5_C'],\n",
      "      dtype='object', length=105)\n",
      "Generating features:  Difference between open and close\n",
      "Shape is now: (4951, 6)\n",
      "~~~\n",
      "Generating features:  Range between high and low\n",
      "Shape is now: (4951, 7)\n",
      "~~~\n",
      "Generating features:  Range between high and low\n",
      "Shape is now: (4951, 8)\n",
      "~~~\n",
      "Generating features:  Change over time for lookforward/lookback range\n",
      "Generating features:  Range High-Close over time for lookforward/lookback range\n",
      "Generating features:  Diffs over time for lookforward/lookback range\n",
      "Generating features:  Rolling mean for yesterday, today, tomorrow range\n",
      "Your df_scale_with_PCA: [0, 1, 2, 3, 4, 5, 6, 7, 8, 9, 10, 11, 12, 13, 14, 15, 16, 17, 18, 19, 20, 21, 22, 23, 24, 25, 26, 27, 28, 29, 30, 31, 32, 33, 34, 35, 36, 37, 38, 39, 40, 41, 42, 43, 44, 45, 46, 47, 48, 49, 50, 51, 52, 53, 54, 55, 56, 57, 58, 59, 60, 61, 62, 63, 64, 65, 66, 67, 68, 69, 70, 71, 72, 73, 74, 75, 76, 77, 78, 79, 80, 81, 82, 83, 84, 85, 86, 87, 88, 89, 90, 91, 92, 93, 94, 95, 96, 97, 98, 99, 100, 101, 102, 103, 104, 105, 106, 107, 108, 109, 110, 111, 112, 113, 114, 115, 116, 117, 118, 119, 120, 121, 122, 123, 124, 125, 126, 127, 128, 129, 130, 131, 132, 'PCA1', 'PCA2', 'PCA3', 'PCA4', 'PCA5', 'PCA6', 'PCA7', 'PCA8', 'PCA9', 'PCA10', 'PCA11', 'PCA12']\n",
      "Your df_scale_with_PCA columns are: ['O', 'H', 'L', 'C', 'V', 'change_open_close', 'range_high_low', 'range_high_close', 'O_std_dev', 'H_std_dev', 'L_std_dev', 'C_std_dev', 'V_std_dev', 'O_rolling_mean', 'H_rolling_mean', 'L_rolling_mean', 'C_rolling_mean', 'V_rolling_mean', 'rolling_mean_range_HL', 'change_open_close_change_-4', 'change_open_close_change_-3', 'change_open_close_change_-2', 'change_open_close_change_-1', 'change_open_close_change_0', 'change_open_close_change_1', 'change_open_close_change_2', 'change_open_close_change_3', 'change_open_close_change_4', 'change_open_close_change_5', 'change_open_close_change_6', 'change_open_close_change_7', 'range_high_close_range_-4', 'range_high_close_range_-3', 'range_high_close_range_-2', 'range_high_close_range_-1', 'range_high_close_range_0', 'range_high_close_range_1', 'range_high_close_range_2', 'range_high_close_range_3', 'range_high_close_range_4', 'range_high_close_range_5', 'range_high_close_range_6', 'range_high_close_range_7', 'O_diff_-4', 'H_diff_-4', 'L_diff_-4', 'C_diff_-4', 'V_diff_-4', 'O_diff_-3', 'H_diff_-3', 'L_diff_-3', 'C_diff_-3', 'V_diff_-3', 'O_diff_-2', 'H_diff_-2', 'L_diff_-2', 'C_diff_-2', 'V_diff_-2', 'O_diff_-1', 'H_diff_-1', 'L_diff_-1', 'C_diff_-1', 'V_diff_-1', 'O_diff_0', 'H_diff_0', 'L_diff_0', 'C_diff_0', 'V_diff_0', 'O_diff_1', 'H_diff_1', 'L_diff_1', 'C_diff_1', 'V_diff_1', 'O_diff_2', 'H_diff_2', 'L_diff_2', 'C_diff_2', 'V_diff_2', 'O_diff_3', 'H_diff_3', 'L_diff_3', 'C_diff_3', 'V_diff_3', 'O_diff_4', 'H_diff_4', 'L_diff_4', 'C_diff_4', 'V_diff_4', 'O_diff_5', 'H_diff_5', 'L_diff_5', 'C_diff_5', 'V_diff_5', 'O_diff_6', 'H_diff_6', 'L_diff_6', 'C_diff_6', 'V_diff_6', 'O_diff_7', 'H_diff_7', 'L_diff_7', 'C_diff_7', 'V_diff_7', 'O_rolling_mean_diff_-3', 'H_rolling_mean_diff_-3', 'L_rolling_mean_diff_-3', 'C_rolling_mean_diff_-3', 'V_rolling_mean_diff_-3', 'O_rolling_mean_diff_-2', 'H_rolling_mean_diff_-2', 'L_rolling_mean_diff_-2', 'C_rolling_mean_diff_-2', 'V_rolling_mean_diff_-2', 'O_rolling_mean_diff_-1', 'H_rolling_mean_diff_-1', 'L_rolling_mean_diff_-1', 'C_rolling_mean_diff_-1', 'V_rolling_mean_diff_-1', 'O_rolling_mean_diff_0', 'H_rolling_mean_diff_0', 'L_rolling_mean_diff_0', 'C_rolling_mean_diff_0', 'V_rolling_mean_diff_0', 'O_rolling_mean_diff_1', 'H_rolling_mean_diff_1', 'L_rolling_mean_diff_1', 'C_rolling_mean_diff_1', 'V_rolling_mean_diff_1', 'O_rolling_mean_diff_2', 'H_rolling_mean_diff_2', 'L_rolling_mean_diff_2', 'C_rolling_mean_diff_2', 'V_rolling_mean_diff_2', 'PCA1', 'PCA2', 'PCA3', 'PCA4', 'PCA5', 'PCA6', 'PCA7', 'PCA8', 'PCA9', 'PCA10', 'PCA11', 'PCA12']\n"
     ]
    },
    {
     "name": "stdout",
     "output_type": "stream",
     "text": [
      "Merging the scaled data and the unscalable data back together with pd.concat: AUDUSD1440.csv (4951, 250)\n",
      "Finished: AUDUSD1440.csv (4951, 250)\n",
      "--------------------------------\n",
      "Processing:  GBPJPY1440.csv Number  9  of  11\n",
      "We now have: (38771, 250) rows of data!\n",
      "Reading in Date, OHLCV, Supply/Demand\n",
      "Renaming df_ohlc column headers for clarity\n",
      "Reading in Rectangle data\n",
      "Renaming df_rects column headers for clarity\n",
      "Identifying supply/demand with supply_or_demand func: GBPJPY1440.csv (4978, 12)\n",
      "~~~\n",
      "Identifying zone ends with zone_ender func: GBPJPY1440.csv (4978, 14)\n",
      "~~~\n",
      "Your df_norm columns: Index(['O', 'H', 'L', 'C', 'V'], dtype='object')\n",
      "Your df_non_norm columns: Index(['Epoch Date', 'Supply/Demand', 'Object Name', 'Epoch Date Start',\n",
      "       'Epoch Date End', 'Proximal', 'Distal', 'supply_demand',\n",
      "       'rectangle_here', 'Proximal_match_-6_O',\n",
      "       ...\n",
      "       'Distal_match_-4_C', 'Distal_match_-3_C', 'Distal_match_-2_C',\n",
      "       'Distal_match_-1_C', 'Distal_match_0_C', 'Distal_match_1_C',\n",
      "       'Distal_match_2_C', 'Distal_match_3_C', 'Distal_match_4_C',\n",
      "       'Distal_match_5_C'],\n",
      "      dtype='object', length=105)\n",
      "Generating features:  Difference between open and close\n",
      "Shape is now: (4978, 6)\n",
      "~~~\n",
      "Generating features:  Range between high and low\n",
      "Shape is now: (4978, 7)\n",
      "~~~\n",
      "Generating features:  Range between high and low\n",
      "Shape is now: (4978, 8)\n",
      "~~~\n",
      "Generating features:  Change over time for lookforward/lookback range\n",
      "Generating features:  Range High-Close over time for lookforward/lookback range\n",
      "Generating features:  Diffs over time for lookforward/lookback range\n",
      "Generating features:  Rolling mean for yesterday, today, tomorrow range\n",
      "Your df_scale_with_PCA: [0, 1, 2, 3, 4, 5, 6, 7, 8, 9, 10, 11, 12, 13, 14, 15, 16, 17, 18, 19, 20, 21, 22, 23, 24, 25, 26, 27, 28, 29, 30, 31, 32, 33, 34, 35, 36, 37, 38, 39, 40, 41, 42, 43, 44, 45, 46, 47, 48, 49, 50, 51, 52, 53, 54, 55, 56, 57, 58, 59, 60, 61, 62, 63, 64, 65, 66, 67, 68, 69, 70, 71, 72, 73, 74, 75, 76, 77, 78, 79, 80, 81, 82, 83, 84, 85, 86, 87, 88, 89, 90, 91, 92, 93, 94, 95, 96, 97, 98, 99, 100, 101, 102, 103, 104, 105, 106, 107, 108, 109, 110, 111, 112, 113, 114, 115, 116, 117, 118, 119, 120, 121, 122, 123, 124, 125, 126, 127, 128, 129, 130, 131, 132, 'PCA1', 'PCA2', 'PCA3', 'PCA4', 'PCA5', 'PCA6', 'PCA7', 'PCA8', 'PCA9', 'PCA10', 'PCA11', 'PCA12']\n",
      "Your df_scale_with_PCA columns are: ['O', 'H', 'L', 'C', 'V', 'change_open_close', 'range_high_low', 'range_high_close', 'O_std_dev', 'H_std_dev', 'L_std_dev', 'C_std_dev', 'V_std_dev', 'O_rolling_mean', 'H_rolling_mean', 'L_rolling_mean', 'C_rolling_mean', 'V_rolling_mean', 'rolling_mean_range_HL', 'change_open_close_change_-4', 'change_open_close_change_-3', 'change_open_close_change_-2', 'change_open_close_change_-1', 'change_open_close_change_0', 'change_open_close_change_1', 'change_open_close_change_2', 'change_open_close_change_3', 'change_open_close_change_4', 'change_open_close_change_5', 'change_open_close_change_6', 'change_open_close_change_7', 'range_high_close_range_-4', 'range_high_close_range_-3', 'range_high_close_range_-2', 'range_high_close_range_-1', 'range_high_close_range_0', 'range_high_close_range_1', 'range_high_close_range_2', 'range_high_close_range_3', 'range_high_close_range_4', 'range_high_close_range_5', 'range_high_close_range_6', 'range_high_close_range_7', 'O_diff_-4', 'H_diff_-4', 'L_diff_-4', 'C_diff_-4', 'V_diff_-4', 'O_diff_-3', 'H_diff_-3', 'L_diff_-3', 'C_diff_-3', 'V_diff_-3', 'O_diff_-2', 'H_diff_-2', 'L_diff_-2', 'C_diff_-2', 'V_diff_-2', 'O_diff_-1', 'H_diff_-1', 'L_diff_-1', 'C_diff_-1', 'V_diff_-1', 'O_diff_0', 'H_diff_0', 'L_diff_0', 'C_diff_0', 'V_diff_0', 'O_diff_1', 'H_diff_1', 'L_diff_1', 'C_diff_1', 'V_diff_1', 'O_diff_2', 'H_diff_2', 'L_diff_2', 'C_diff_2', 'V_diff_2', 'O_diff_3', 'H_diff_3', 'L_diff_3', 'C_diff_3', 'V_diff_3', 'O_diff_4', 'H_diff_4', 'L_diff_4', 'C_diff_4', 'V_diff_4', 'O_diff_5', 'H_diff_5', 'L_diff_5', 'C_diff_5', 'V_diff_5', 'O_diff_6', 'H_diff_6', 'L_diff_6', 'C_diff_6', 'V_diff_6', 'O_diff_7', 'H_diff_7', 'L_diff_7', 'C_diff_7', 'V_diff_7', 'O_rolling_mean_diff_-3', 'H_rolling_mean_diff_-3', 'L_rolling_mean_diff_-3', 'C_rolling_mean_diff_-3', 'V_rolling_mean_diff_-3', 'O_rolling_mean_diff_-2', 'H_rolling_mean_diff_-2', 'L_rolling_mean_diff_-2', 'C_rolling_mean_diff_-2', 'V_rolling_mean_diff_-2', 'O_rolling_mean_diff_-1', 'H_rolling_mean_diff_-1', 'L_rolling_mean_diff_-1', 'C_rolling_mean_diff_-1', 'V_rolling_mean_diff_-1', 'O_rolling_mean_diff_0', 'H_rolling_mean_diff_0', 'L_rolling_mean_diff_0', 'C_rolling_mean_diff_0', 'V_rolling_mean_diff_0', 'O_rolling_mean_diff_1', 'H_rolling_mean_diff_1', 'L_rolling_mean_diff_1', 'C_rolling_mean_diff_1', 'V_rolling_mean_diff_1', 'O_rolling_mean_diff_2', 'H_rolling_mean_diff_2', 'L_rolling_mean_diff_2', 'C_rolling_mean_diff_2', 'V_rolling_mean_diff_2', 'PCA1', 'PCA2', 'PCA3', 'PCA4', 'PCA5', 'PCA6', 'PCA7', 'PCA8', 'PCA9', 'PCA10', 'PCA11', 'PCA12']\n",
      "Merging the scaled data and the unscalable data back together with pd.concat: GBPJPY1440.csv (4978, 250)\n",
      "Finished: GBPJPY1440.csv (4978, 250)\n",
      "--------------------------------\n",
      "Processing:  NZDUSD1440.csv Number  10  of  11\n",
      "We now have: (43749, 250) rows of data!\n",
      "Reading in Date, OHLCV, Supply/Demand\n",
      "Renaming df_ohlc column headers for clarity\n",
      "Reading in Rectangle data\n",
      "Renaming df_rects column headers for clarity\n",
      "Identifying supply/demand with supply_or_demand func: NZDUSD1440.csv (4983, 12)\n",
      "~~~\n",
      "Identifying zone ends with zone_ender func: NZDUSD1440.csv (4983, 14)\n",
      "~~~\n",
      "Your df_norm columns: Index(['O', 'H', 'L', 'C', 'V'], dtype='object')\n",
      "Your df_non_norm columns: Index(['Epoch Date', 'Supply/Demand', 'Object Name', 'Epoch Date Start',\n",
      "       'Epoch Date End', 'Proximal', 'Distal', 'supply_demand',\n",
      "       'rectangle_here', 'Proximal_match_-6_O',\n",
      "       ...\n",
      "       'Distal_match_-4_C', 'Distal_match_-3_C', 'Distal_match_-2_C',\n",
      "       'Distal_match_-1_C', 'Distal_match_0_C', 'Distal_match_1_C',\n",
      "       'Distal_match_2_C', 'Distal_match_3_C', 'Distal_match_4_C',\n",
      "       'Distal_match_5_C'],\n",
      "      dtype='object', length=105)\n",
      "Generating features:  Difference between open and close\n",
      "Shape is now: (4983, 6)\n",
      "~~~\n",
      "Generating features:  Range between high and low\n",
      "Shape is now: (4983, 7)\n",
      "~~~\n",
      "Generating features:  Range between high and low\n",
      "Shape is now: (4983, 8)\n",
      "~~~\n",
      "Generating features:  Change over time for lookforward/lookback range\n",
      "Generating features:  Range High-Close over time for lookforward/lookback range\n",
      "Generating features:  Diffs over time for lookforward/lookback range\n",
      "Generating features:  Rolling mean for yesterday, today, tomorrow range\n",
      "Your df_scale_with_PCA: [0, 1, 2, 3, 4, 5, 6, 7, 8, 9, 10, 11, 12, 13, 14, 15, 16, 17, 18, 19, 20, 21, 22, 23, 24, 25, 26, 27, 28, 29, 30, 31, 32, 33, 34, 35, 36, 37, 38, 39, 40, 41, 42, 43, 44, 45, 46, 47, 48, 49, 50, 51, 52, 53, 54, 55, 56, 57, 58, 59, 60, 61, 62, 63, 64, 65, 66, 67, 68, 69, 70, 71, 72, 73, 74, 75, 76, 77, 78, 79, 80, 81, 82, 83, 84, 85, 86, 87, 88, 89, 90, 91, 92, 93, 94, 95, 96, 97, 98, 99, 100, 101, 102, 103, 104, 105, 106, 107, 108, 109, 110, 111, 112, 113, 114, 115, 116, 117, 118, 119, 120, 121, 122, 123, 124, 125, 126, 127, 128, 129, 130, 131, 132, 'PCA1', 'PCA2', 'PCA3', 'PCA4', 'PCA5', 'PCA6', 'PCA7', 'PCA8', 'PCA9', 'PCA10', 'PCA11', 'PCA12']\n",
      "Your df_scale_with_PCA columns are: ['O', 'H', 'L', 'C', 'V', 'change_open_close', 'range_high_low', 'range_high_close', 'O_std_dev', 'H_std_dev', 'L_std_dev', 'C_std_dev', 'V_std_dev', 'O_rolling_mean', 'H_rolling_mean', 'L_rolling_mean', 'C_rolling_mean', 'V_rolling_mean', 'rolling_mean_range_HL', 'change_open_close_change_-4', 'change_open_close_change_-3', 'change_open_close_change_-2', 'change_open_close_change_-1', 'change_open_close_change_0', 'change_open_close_change_1', 'change_open_close_change_2', 'change_open_close_change_3', 'change_open_close_change_4', 'change_open_close_change_5', 'change_open_close_change_6', 'change_open_close_change_7', 'range_high_close_range_-4', 'range_high_close_range_-3', 'range_high_close_range_-2', 'range_high_close_range_-1', 'range_high_close_range_0', 'range_high_close_range_1', 'range_high_close_range_2', 'range_high_close_range_3', 'range_high_close_range_4', 'range_high_close_range_5', 'range_high_close_range_6', 'range_high_close_range_7', 'O_diff_-4', 'H_diff_-4', 'L_diff_-4', 'C_diff_-4', 'V_diff_-4', 'O_diff_-3', 'H_diff_-3', 'L_diff_-3', 'C_diff_-3', 'V_diff_-3', 'O_diff_-2', 'H_diff_-2', 'L_diff_-2', 'C_diff_-2', 'V_diff_-2', 'O_diff_-1', 'H_diff_-1', 'L_diff_-1', 'C_diff_-1', 'V_diff_-1', 'O_diff_0', 'H_diff_0', 'L_diff_0', 'C_diff_0', 'V_diff_0', 'O_diff_1', 'H_diff_1', 'L_diff_1', 'C_diff_1', 'V_diff_1', 'O_diff_2', 'H_diff_2', 'L_diff_2', 'C_diff_2', 'V_diff_2', 'O_diff_3', 'H_diff_3', 'L_diff_3', 'C_diff_3', 'V_diff_3', 'O_diff_4', 'H_diff_4', 'L_diff_4', 'C_diff_4', 'V_diff_4', 'O_diff_5', 'H_diff_5', 'L_diff_5', 'C_diff_5', 'V_diff_5', 'O_diff_6', 'H_diff_6', 'L_diff_6', 'C_diff_6', 'V_diff_6', 'O_diff_7', 'H_diff_7', 'L_diff_7', 'C_diff_7', 'V_diff_7', 'O_rolling_mean_diff_-3', 'H_rolling_mean_diff_-3', 'L_rolling_mean_diff_-3', 'C_rolling_mean_diff_-3', 'V_rolling_mean_diff_-3', 'O_rolling_mean_diff_-2', 'H_rolling_mean_diff_-2', 'L_rolling_mean_diff_-2', 'C_rolling_mean_diff_-2', 'V_rolling_mean_diff_-2', 'O_rolling_mean_diff_-1', 'H_rolling_mean_diff_-1', 'L_rolling_mean_diff_-1', 'C_rolling_mean_diff_-1', 'V_rolling_mean_diff_-1', 'O_rolling_mean_diff_0', 'H_rolling_mean_diff_0', 'L_rolling_mean_diff_0', 'C_rolling_mean_diff_0', 'V_rolling_mean_diff_0', 'O_rolling_mean_diff_1', 'H_rolling_mean_diff_1', 'L_rolling_mean_diff_1', 'C_rolling_mean_diff_1', 'V_rolling_mean_diff_1', 'O_rolling_mean_diff_2', 'H_rolling_mean_diff_2', 'L_rolling_mean_diff_2', 'C_rolling_mean_diff_2', 'V_rolling_mean_diff_2', 'PCA1', 'PCA2', 'PCA3', 'PCA4', 'PCA5', 'PCA6', 'PCA7', 'PCA8', 'PCA9', 'PCA10', 'PCA11', 'PCA12']\n",
      "Merging the scaled data and the unscalable data back together with pd.concat: NZDUSD1440.csv (4983, 250)\n",
      "Finished: NZDUSD1440.csv (4983, 250)\n",
      "--------------------------------\n",
      "Processing:  EURUSD240.csv Number  11  of  11\n",
      "We now have: (48732, 250) rows of data!\n",
      "Reading in Date, OHLCV, Supply/Demand\n",
      "Renaming df_ohlc column headers for clarity\n",
      "Reading in Rectangle data\n",
      "Renaming df_rects column headers for clarity\n"
     ]
    },
    {
     "name": "stdout",
     "output_type": "stream",
     "text": [
      "Identifying supply/demand with supply_or_demand func: EURUSD240.csv (8749, 12)\n",
      "~~~\n",
      "Identifying zone ends with zone_ender func: EURUSD240.csv (8749, 14)\n",
      "~~~\n",
      "Your df_norm columns: Index(['O', 'H', 'L', 'C', 'V'], dtype='object')\n",
      "Your df_non_norm columns: Index(['Epoch Date', 'Supply/Demand', 'Object Name', 'Epoch Date Start',\n",
      "       'Epoch Date End', 'Proximal', 'Distal', 'supply_demand',\n",
      "       'rectangle_here', 'Proximal_match_-6_O',\n",
      "       ...\n",
      "       'Distal_match_-4_C', 'Distal_match_-3_C', 'Distal_match_-2_C',\n",
      "       'Distal_match_-1_C', 'Distal_match_0_C', 'Distal_match_1_C',\n",
      "       'Distal_match_2_C', 'Distal_match_3_C', 'Distal_match_4_C',\n",
      "       'Distal_match_5_C'],\n",
      "      dtype='object', length=105)\n",
      "Generating features:  Difference between open and close\n",
      "Shape is now: (8749, 6)\n",
      "~~~\n",
      "Generating features:  Range between high and low\n",
      "Shape is now: (8749, 7)\n",
      "~~~\n",
      "Generating features:  Range between high and low\n",
      "Shape is now: (8749, 8)\n",
      "~~~\n",
      "Generating features:  Change over time for lookforward/lookback range\n",
      "Generating features:  Range High-Close over time for lookforward/lookback range\n",
      "Generating features:  Diffs over time for lookforward/lookback range\n",
      "Generating features:  Rolling mean for yesterday, today, tomorrow range\n",
      "Your df_scale_with_PCA: [0, 1, 2, 3, 4, 5, 6, 7, 8, 9, 10, 11, 12, 13, 14, 15, 16, 17, 18, 19, 20, 21, 22, 23, 24, 25, 26, 27, 28, 29, 30, 31, 32, 33, 34, 35, 36, 37, 38, 39, 40, 41, 42, 43, 44, 45, 46, 47, 48, 49, 50, 51, 52, 53, 54, 55, 56, 57, 58, 59, 60, 61, 62, 63, 64, 65, 66, 67, 68, 69, 70, 71, 72, 73, 74, 75, 76, 77, 78, 79, 80, 81, 82, 83, 84, 85, 86, 87, 88, 89, 90, 91, 92, 93, 94, 95, 96, 97, 98, 99, 100, 101, 102, 103, 104, 105, 106, 107, 108, 109, 110, 111, 112, 113, 114, 115, 116, 117, 118, 119, 120, 121, 122, 123, 124, 125, 126, 127, 128, 129, 130, 131, 132, 'PCA1', 'PCA2', 'PCA3', 'PCA4', 'PCA5', 'PCA6', 'PCA7', 'PCA8', 'PCA9', 'PCA10', 'PCA11', 'PCA12']\n",
      "Your df_scale_with_PCA columns are: ['O', 'H', 'L', 'C', 'V', 'change_open_close', 'range_high_low', 'range_high_close', 'O_std_dev', 'H_std_dev', 'L_std_dev', 'C_std_dev', 'V_std_dev', 'O_rolling_mean', 'H_rolling_mean', 'L_rolling_mean', 'C_rolling_mean', 'V_rolling_mean', 'rolling_mean_range_HL', 'change_open_close_change_-4', 'change_open_close_change_-3', 'change_open_close_change_-2', 'change_open_close_change_-1', 'change_open_close_change_0', 'change_open_close_change_1', 'change_open_close_change_2', 'change_open_close_change_3', 'change_open_close_change_4', 'change_open_close_change_5', 'change_open_close_change_6', 'change_open_close_change_7', 'range_high_close_range_-4', 'range_high_close_range_-3', 'range_high_close_range_-2', 'range_high_close_range_-1', 'range_high_close_range_0', 'range_high_close_range_1', 'range_high_close_range_2', 'range_high_close_range_3', 'range_high_close_range_4', 'range_high_close_range_5', 'range_high_close_range_6', 'range_high_close_range_7', 'O_diff_-4', 'H_diff_-4', 'L_diff_-4', 'C_diff_-4', 'V_diff_-4', 'O_diff_-3', 'H_diff_-3', 'L_diff_-3', 'C_diff_-3', 'V_diff_-3', 'O_diff_-2', 'H_diff_-2', 'L_diff_-2', 'C_diff_-2', 'V_diff_-2', 'O_diff_-1', 'H_diff_-1', 'L_diff_-1', 'C_diff_-1', 'V_diff_-1', 'O_diff_0', 'H_diff_0', 'L_diff_0', 'C_diff_0', 'V_diff_0', 'O_diff_1', 'H_diff_1', 'L_diff_1', 'C_diff_1', 'V_diff_1', 'O_diff_2', 'H_diff_2', 'L_diff_2', 'C_diff_2', 'V_diff_2', 'O_diff_3', 'H_diff_3', 'L_diff_3', 'C_diff_3', 'V_diff_3', 'O_diff_4', 'H_diff_4', 'L_diff_4', 'C_diff_4', 'V_diff_4', 'O_diff_5', 'H_diff_5', 'L_diff_5', 'C_diff_5', 'V_diff_5', 'O_diff_6', 'H_diff_6', 'L_diff_6', 'C_diff_6', 'V_diff_6', 'O_diff_7', 'H_diff_7', 'L_diff_7', 'C_diff_7', 'V_diff_7', 'O_rolling_mean_diff_-3', 'H_rolling_mean_diff_-3', 'L_rolling_mean_diff_-3', 'C_rolling_mean_diff_-3', 'V_rolling_mean_diff_-3', 'O_rolling_mean_diff_-2', 'H_rolling_mean_diff_-2', 'L_rolling_mean_diff_-2', 'C_rolling_mean_diff_-2', 'V_rolling_mean_diff_-2', 'O_rolling_mean_diff_-1', 'H_rolling_mean_diff_-1', 'L_rolling_mean_diff_-1', 'C_rolling_mean_diff_-1', 'V_rolling_mean_diff_-1', 'O_rolling_mean_diff_0', 'H_rolling_mean_diff_0', 'L_rolling_mean_diff_0', 'C_rolling_mean_diff_0', 'V_rolling_mean_diff_0', 'O_rolling_mean_diff_1', 'H_rolling_mean_diff_1', 'L_rolling_mean_diff_1', 'C_rolling_mean_diff_1', 'V_rolling_mean_diff_1', 'O_rolling_mean_diff_2', 'H_rolling_mean_diff_2', 'L_rolling_mean_diff_2', 'C_rolling_mean_diff_2', 'V_rolling_mean_diff_2', 'PCA1', 'PCA2', 'PCA3', 'PCA4', 'PCA5', 'PCA6', 'PCA7', 'PCA8', 'PCA9', 'PCA10', 'PCA11', 'PCA12']\n",
      "Merging the scaled data and the unscalable data back together with pd.concat: EURUSD240.csv (8749, 250)\n",
      "Finished: EURUSD240.csv (8749, 250)\n",
      "--------------------------------\n",
      "Finished loading data! You'll probably still want to remove some columns though\n"
     ]
    }
   ],
   "source": [
    "\n",
    "# allows us to easily modify how many days ahead and before we look:\n",
    "\n",
    "lookforward = 4 # how many days we look forward\n",
    "lookback = 8 # how many days we look back\n",
    "\n",
    "        \n",
    "# Choose features to be used in feature generation function\n",
    "feature_generation_channels = [\"O\", \"H\", \"L\", \"C\", \"V\"] \n",
    "\n",
    "X,y, df_ohlc_and_rectangles, groups,\\\n",
    "groups_count, scalers, groups_dict,\\\n",
    "scaled_columns, df_data_unscaled,\\\n",
    "y_rects, proximal_columns, distal_columns = data_processing.prepare_data(data, \n",
    "                                                                 lookforward, \n",
    "                                                                 lookback,\n",
    "                                                                 feature_generation_channels,\n",
    "                                                                 lag=0,\n",
    "                                                                 change_open_close=1, \n",
    "                                                                 range_high_low=1,\n",
    "                                                                 rolling_mean_range_HL=1,\n",
    "                                                                 range_high_close=1,\n",
    "                                                                 std_dev=1,\n",
    "                                                                 rolling_mean=1,\n",
    "                                                                 change_open_close_shift=1,\n",
    "                                                                 range_high_low_shift=0,\n",
    "                                                                 range_high_close_shift=1,\n",
    "                                                                 diff_shift=1,\n",
    "                                                                 rolling_mean_shift=1,\n",
    "                                                                 std_dev_shift=0,\n",
    "                                                                 center=True\n",
    "                                                                )"
   ]
  },
  {
   "cell_type": "code",
   "execution_count": 48,
   "metadata": {
    "collapsed": true
   },
   "outputs": [],
   "source": [
    "#print(\"Your X columns:\", list(X))\n",
    "#print(\"Your y columns:\", list(y))"
   ]
  },
  {
   "cell_type": "code",
   "execution_count": 49,
   "metadata": {
    "collapsed": true
   },
   "outputs": [],
   "source": [
    "#np.bincount(y.rectangle_here.values)"
   ]
  },
  {
   "cell_type": "code",
   "execution_count": 50,
   "metadata": {
    "collapsed": true
   },
   "outputs": [],
   "source": [
    "#print(X.shape, y.shape)"
   ]
  },
  {
   "cell_type": "code",
   "execution_count": 51,
   "metadata": {
    "collapsed": true
   },
   "outputs": [],
   "source": [
    "# Save data into backup X, y so we don't have to reload it \n",
    "\n",
    "X_backup = X\n",
    "y_backup = y"
   ]
  },
  {
   "cell_type": "code",
   "execution_count": 52,
   "metadata": {
    "collapsed": true
   },
   "outputs": [],
   "source": [
    "# Reset to backup df\n",
    "\n",
    "X = X_backup\n",
    "y = y_backup"
   ]
  },
  {
   "cell_type": "code",
   "execution_count": 53,
   "metadata": {
    "collapsed": true
   },
   "outputs": [],
   "source": [
    "#y_train_weights = pd.DataFrame(X_train['rectangle_here']*int(np.bincount(y.rectangle_here.values)[0:1] / np.bincount(y.rectangle_here.values)[1:])).fillna(value=1).values\n",
    "#y_valid_weights = pd.DataFrame(X_valid['rectangle_here']*int(np.bincount(y.rectangle_here.values)[0:1] / np.bincount(y.rectangle_here.values)[1:])).fillna(value=1).values\n",
    "#y_test_weights = pd.DataFrame(X_test['rectangle_here']*int(np.bincount(y.rectangle_here.values)[0:1] / np.bincount(y.rectangle_here.values)[1:])).fillna(value=1).values"
   ]
  },
  {
   "cell_type": "markdown",
   "metadata": {},
   "source": [
    "### Prepare data for LSTM and residual Conv1D testing"
   ]
  },
  {
   "cell_type": "code",
   "execution_count": 54,
   "metadata": {
    "collapsed": true
   },
   "outputs": [],
   "source": [
    "# Create train/test split\n",
    "X_train, X_test, y_train, y_test = train_test_split(X, y['rectangle_here'], test_size=0.10, random_state=0)\n",
    "\n",
    "# Create validation split from train split\n",
    "X_train, X_valid, y_train, y_valid = train_test_split(X_train, y_train, test_size=0.05, random_state=0)"
   ]
  },
  {
   "cell_type": "code",
   "execution_count": 55,
   "metadata": {
    "collapsed": true
   },
   "outputs": [],
   "source": [
    "%aimport data_processing\n",
    "# Drop features from X\n",
    "\n",
    "features_to_remove = ['Epoch Date', 'Supply/Demand', 'Object Name', 'Epoch Date Start', 'L_diff_0', 'O_diff_0',\n",
    "                      'Epoch Date End', 'Proximal', 'Distal', 'change', 'V_diff_0', 'C_diff_0', 'H_diff_0',\n",
    "                      #'O', 'H', 'L', 'C', \n",
    "                      'csv_origin_tag', 'range_high_close_range_0', 'change_open_close', 'range_high_close', \n",
    "                      'rectangle_here', 'supply_demand']\n",
    "\n",
    "\n",
    "X_train = data_processing.drop_non_features(X_train, features_to_remove, zero_columns=1)\n",
    "X_test = data_processing.drop_non_features(X_test, features_to_remove, zero_columns=1)\n",
    "X_valid = data_processing.drop_non_features(X_valid, features_to_remove, zero_columns=1)"
   ]
  },
  {
   "cell_type": "code",
   "execution_count": 56,
   "metadata": {},
   "outputs": [
    {
     "name": "stdout",
     "output_type": "stream",
     "text": [
      "X:  (49145, 132, 1)\n",
      "X:  <class 'numpy.ndarray'>\n",
      "X:  (2587, 132, 1)\n",
      "X:  <class 'numpy.ndarray'>\n",
      "X:  (5749, 132, 1)\n",
      "X:  <class 'numpy.ndarray'>\n"
     ]
    }
   ],
   "source": [
    "# Stack to 3dim for 1D conv net\n",
    "X_train = data_processing.X_to_Conv1D_arrays(X_train)\n",
    "X_valid = data_processing.X_to_Conv1D_arrays(X_valid)\n",
    "X_test = data_processing.X_to_Conv1D_arrays(X_test)"
   ]
  },
  {
   "cell_type": "markdown",
   "metadata": {},
   "source": [
    "#### LSTM"
   ]
  },
  {
   "cell_type": "code",
   "execution_count": 57,
   "metadata": {
    "collapsed": true
   },
   "outputs": [],
   "source": [
    "# Create generators and define batch_size and other hyperparams\n",
    "\n",
    "\n",
    "batch_size = 16\n",
    "\n",
    "# Create generators\n",
    "train_gen = make_keras_generators.train_generator(X_train, y_train.values, batch_size)\n",
    "valid_gen = make_keras_generators.valid_generator(X_valid, y_valid.values, batch_size)\n",
    "\n",
    "input_shape = X_train.shape[1:3]\n",
    "validation_steps = int(len(X_valid)/batch_size)+1\n",
    "steps_per_epoch = int(len(X_train)/batch_size)+1\n",
    "epochs = 50\n",
    "multiplier = 1\n",
    "\n",
    "validation_steps = int(len(X_valid)/batch_size)+1\n",
    "\n",
    "class_weight={0:1., 1:7.}"
   ]
  },
  {
   "cell_type": "code",
   "execution_count": 34,
   "metadata": {
    "collapsed": true
   },
   "outputs": [],
   "source": [
    "#lr = LearningRateScheduler(lambda e: tiny_resnet.sigmoidal_decay(e, end=epochs))\n",
    "mc = ModelCheckpoint('LSTM.hdf5', monitor='val_loss', save_best_only=True,save_weights_only=True)\n",
    "\n",
    "\n",
    "rlop = ReduceLROnPlateau(\n",
    "                    monitor='val_loss', \n",
    "                    mode='min',\n",
    "                    factor=0.95,\n",
    "                    patience=2, \n",
    "                    min_lr=0.00001,\n",
    "                    verbose=1,\n",
    "                        )\n",
    "\n",
    "es = EarlyStopping(\n",
    "        monitor='val_fbeta_score',\n",
    "        min_delta=0.01,\n",
    "        mode='max',\n",
    "        patience=10,\n",
    "        verbose=1)\n",
    "\n",
    "\n",
    "\n",
    "callbacks = [ es, rlop, mc]"
   ]
  },
  {
   "cell_type": "code",
   "execution_count": 80,
   "metadata": {},
   "outputs": [
    {
     "name": "stderr",
     "output_type": "stream",
     "text": [
      "/Library/Frameworks/Python.framework/Versions/3.5/lib/python3.5/site-packages/keras/activations.py:89: UserWarning: Do not pass a layer instance (such as ELU) as the activation argument of another layer. Instead, advanced activation layers should be used just like any other layer in a model.\n",
      "  ).format(identifier=identifier.__class__.__name__))\n"
     ]
    }
   ],
   "source": [
    "# TODO: try model.add(LSTM(128, dropout=0.2, recurrent_dropout=0.2))\n",
    "# TODO: try \n",
    "'''\n",
    "model.add(Dropout(0.2))\n",
    "model.add(Conv1D(64, 5, activation='relu'))\n",
    "model.add(MaxPooling1D(pool_size=4))\n",
    "model.add(LSTM(128))\n",
    "'''\n",
    "model = Sequential()\n",
    "model.add(Conv1D(64, 8, input_shape=(input_shape), activation=ELU()))\n",
    "model.add(MaxPooling1D(pool_size=4))\n",
    "\n",
    "model.add(LSTM(128, dropout=0.2,\n",
    "               #activation=ELU(),\n",
    "               return_sequences=True,\n",
    "              ))  \n",
    "\n",
    "model.add(Flatten())\n",
    "model.add(Dense(256))\n",
    "model.add(Dropout(0.4))\n",
    "model.add(Dense(1, activation='sigmoid'))\n",
    "\n"
   ]
  },
  {
   "cell_type": "code",
   "execution_count": 81,
   "metadata": {},
   "outputs": [
    {
     "name": "stdout",
     "output_type": "stream",
     "text": [
      "_________________________________________________________________\n",
      "Layer (type)                 Output Shape              Param #   \n",
      "=================================================================\n",
      "conv1d_7 (Conv1D)            (None, 125, 64)           576       \n",
      "_________________________________________________________________\n",
      "max_pooling1d_7 (MaxPooling1 (None, 31, 64)            0         \n",
      "_________________________________________________________________\n",
      "lstm_16 (LSTM)               (None, 31, 128)           98816     \n",
      "_________________________________________________________________\n",
      "flatten_4 (Flatten)          (None, 3968)              0         \n",
      "_________________________________________________________________\n",
      "dense_8 (Dense)              (None, 256)               1016064   \n",
      "_________________________________________________________________\n",
      "dropout_2 (Dropout)          (None, 256)               0         \n",
      "_________________________________________________________________\n",
      "dense_9 (Dense)              (None, 1)                 257       \n",
      "=================================================================\n",
      "Total params: 1,115,713\n",
      "Trainable params: 1,115,713\n",
      "Non-trainable params: 0\n",
      "_________________________________________________________________\n"
     ]
    }
   ],
   "source": [
    "model.summary()"
   ]
  },
  {
   "cell_type": "code",
   "execution_count": 82,
   "metadata": {},
   "outputs": [
    {
     "name": "stdout",
     "output_type": "stream",
     "text": [
      "Epoch 1/5\n",
      "2943/3072 [===========================>..] - ETA: 11s - loss: 1.2968 - acc: 0.5753 - fbeta_score: 0.2563 - recall: 0.5863 - precision: 0.1958"
     ]
    },
    {
     "ename": "KeyboardInterrupt",
     "evalue": "",
     "output_type": "error",
     "traceback": [
      "\u001b[0;31m---------------------------------------------------------------------------\u001b[0m",
      "\u001b[0;31mKeyboardInterrupt\u001b[0m                         Traceback (most recent call last)",
      "\u001b[0;32m<ipython-input-82-8a12c2dea669>\u001b[0m in \u001b[0;36m<module>\u001b[0;34m()\u001b[0m\n\u001b[1;32m     19\u001b[0m                     \u001b[0mvalidation_data\u001b[0m \u001b[0;34m=\u001b[0m \u001b[0mvalid_gen\u001b[0m\u001b[0;34m,\u001b[0m\u001b[0;34m\u001b[0m\u001b[0m\n\u001b[1;32m     20\u001b[0m                     \u001b[0mclass_weight\u001b[0m \u001b[0;34m=\u001b[0m \u001b[0mclass_weight\u001b[0m\u001b[0;34m,\u001b[0m\u001b[0;34m\u001b[0m\u001b[0m\n\u001b[0;32m---> 21\u001b[0;31m                     \u001b[0mvalidation_steps\u001b[0m \u001b[0;34m=\u001b[0m \u001b[0mvalidation_steps\u001b[0m\u001b[0;34m\u001b[0m\u001b[0m\n\u001b[0m\u001b[1;32m     22\u001b[0m                    )\n",
      "\u001b[0;32m/Library/Frameworks/Python.framework/Versions/3.5/lib/python3.5/site-packages/keras/legacy/interfaces.py\u001b[0m in \u001b[0;36mwrapper\u001b[0;34m(*args, **kwargs)\u001b[0m\n\u001b[1;32m     86\u001b[0m                 warnings.warn('Update your `' + object_name +\n\u001b[1;32m     87\u001b[0m                               '` call to the Keras 2 API: ' + signature, stacklevel=2)\n\u001b[0;32m---> 88\u001b[0;31m             \u001b[0;32mreturn\u001b[0m \u001b[0mfunc\u001b[0m\u001b[0;34m(\u001b[0m\u001b[0;34m*\u001b[0m\u001b[0margs\u001b[0m\u001b[0;34m,\u001b[0m \u001b[0;34m**\u001b[0m\u001b[0mkwargs\u001b[0m\u001b[0;34m)\u001b[0m\u001b[0;34m\u001b[0m\u001b[0m\n\u001b[0m\u001b[1;32m     89\u001b[0m         \u001b[0mwrapper\u001b[0m\u001b[0;34m.\u001b[0m\u001b[0m_legacy_support_signature\u001b[0m \u001b[0;34m=\u001b[0m \u001b[0minspect\u001b[0m\u001b[0;34m.\u001b[0m\u001b[0mgetargspec\u001b[0m\u001b[0;34m(\u001b[0m\u001b[0mfunc\u001b[0m\u001b[0;34m)\u001b[0m\u001b[0;34m\u001b[0m\u001b[0m\n\u001b[1;32m     90\u001b[0m         \u001b[0;32mreturn\u001b[0m \u001b[0mwrapper\u001b[0m\u001b[0;34m\u001b[0m\u001b[0m\n",
      "\u001b[0;32m/Library/Frameworks/Python.framework/Versions/3.5/lib/python3.5/site-packages/keras/models.py\u001b[0m in \u001b[0;36mfit_generator\u001b[0;34m(self, generator, steps_per_epoch, epochs, verbose, callbacks, validation_data, validation_steps, class_weight, max_q_size, workers, pickle_safe, initial_epoch)\u001b[0m\n\u001b[1;32m   1108\u001b[0m                                         \u001b[0mworkers\u001b[0m\u001b[0;34m=\u001b[0m\u001b[0mworkers\u001b[0m\u001b[0;34m,\u001b[0m\u001b[0;34m\u001b[0m\u001b[0m\n\u001b[1;32m   1109\u001b[0m                                         \u001b[0mpickle_safe\u001b[0m\u001b[0;34m=\u001b[0m\u001b[0mpickle_safe\u001b[0m\u001b[0;34m,\u001b[0m\u001b[0;34m\u001b[0m\u001b[0m\n\u001b[0;32m-> 1110\u001b[0;31m                                         initial_epoch=initial_epoch)\n\u001b[0m\u001b[1;32m   1111\u001b[0m \u001b[0;34m\u001b[0m\u001b[0m\n\u001b[1;32m   1112\u001b[0m     \u001b[0;34m@\u001b[0m\u001b[0minterfaces\u001b[0m\u001b[0;34m.\u001b[0m\u001b[0mlegacy_generator_methods_support\u001b[0m\u001b[0;34m\u001b[0m\u001b[0m\n",
      "\u001b[0;32m/Library/Frameworks/Python.framework/Versions/3.5/lib/python3.5/site-packages/keras/legacy/interfaces.py\u001b[0m in \u001b[0;36mwrapper\u001b[0;34m(*args, **kwargs)\u001b[0m\n\u001b[1;32m     86\u001b[0m                 warnings.warn('Update your `' + object_name +\n\u001b[1;32m     87\u001b[0m                               '` call to the Keras 2 API: ' + signature, stacklevel=2)\n\u001b[0;32m---> 88\u001b[0;31m             \u001b[0;32mreturn\u001b[0m \u001b[0mfunc\u001b[0m\u001b[0;34m(\u001b[0m\u001b[0;34m*\u001b[0m\u001b[0margs\u001b[0m\u001b[0;34m,\u001b[0m \u001b[0;34m**\u001b[0m\u001b[0mkwargs\u001b[0m\u001b[0;34m)\u001b[0m\u001b[0;34m\u001b[0m\u001b[0m\n\u001b[0m\u001b[1;32m     89\u001b[0m         \u001b[0mwrapper\u001b[0m\u001b[0;34m.\u001b[0m\u001b[0m_legacy_support_signature\u001b[0m \u001b[0;34m=\u001b[0m \u001b[0minspect\u001b[0m\u001b[0;34m.\u001b[0m\u001b[0mgetargspec\u001b[0m\u001b[0;34m(\u001b[0m\u001b[0mfunc\u001b[0m\u001b[0;34m)\u001b[0m\u001b[0;34m\u001b[0m\u001b[0m\n\u001b[1;32m     90\u001b[0m         \u001b[0;32mreturn\u001b[0m \u001b[0mwrapper\u001b[0m\u001b[0;34m\u001b[0m\u001b[0m\n",
      "\u001b[0;32m/Library/Frameworks/Python.framework/Versions/3.5/lib/python3.5/site-packages/keras/engine/training.py\u001b[0m in \u001b[0;36mfit_generator\u001b[0;34m(self, generator, steps_per_epoch, epochs, verbose, callbacks, validation_data, validation_steps, class_weight, max_q_size, workers, pickle_safe, initial_epoch)\u001b[0m\n\u001b[1;32m   1888\u001b[0m                     outs = self.train_on_batch(x, y,\n\u001b[1;32m   1889\u001b[0m                                                \u001b[0msample_weight\u001b[0m\u001b[0;34m=\u001b[0m\u001b[0msample_weight\u001b[0m\u001b[0;34m,\u001b[0m\u001b[0;34m\u001b[0m\u001b[0m\n\u001b[0;32m-> 1890\u001b[0;31m                                                class_weight=class_weight)\n\u001b[0m\u001b[1;32m   1891\u001b[0m \u001b[0;34m\u001b[0m\u001b[0m\n\u001b[1;32m   1892\u001b[0m                     \u001b[0;32mif\u001b[0m \u001b[0;32mnot\u001b[0m \u001b[0misinstance\u001b[0m\u001b[0;34m(\u001b[0m\u001b[0mouts\u001b[0m\u001b[0;34m,\u001b[0m \u001b[0mlist\u001b[0m\u001b[0;34m)\u001b[0m\u001b[0;34m:\u001b[0m\u001b[0;34m\u001b[0m\u001b[0m\n",
      "\u001b[0;32m/Library/Frameworks/Python.framework/Versions/3.5/lib/python3.5/site-packages/keras/engine/training.py\u001b[0m in \u001b[0;36mtrain_on_batch\u001b[0;34m(self, x, y, sample_weight, class_weight)\u001b[0m\n\u001b[1;32m   1631\u001b[0m             \u001b[0mins\u001b[0m \u001b[0;34m=\u001b[0m \u001b[0mx\u001b[0m \u001b[0;34m+\u001b[0m \u001b[0my\u001b[0m \u001b[0;34m+\u001b[0m \u001b[0msample_weights\u001b[0m\u001b[0;34m\u001b[0m\u001b[0m\n\u001b[1;32m   1632\u001b[0m         \u001b[0mself\u001b[0m\u001b[0;34m.\u001b[0m\u001b[0m_make_train_function\u001b[0m\u001b[0;34m(\u001b[0m\u001b[0;34m)\u001b[0m\u001b[0;34m\u001b[0m\u001b[0m\n\u001b[0;32m-> 1633\u001b[0;31m         \u001b[0moutputs\u001b[0m \u001b[0;34m=\u001b[0m \u001b[0mself\u001b[0m\u001b[0;34m.\u001b[0m\u001b[0mtrain_function\u001b[0m\u001b[0;34m(\u001b[0m\u001b[0mins\u001b[0m\u001b[0;34m)\u001b[0m\u001b[0;34m\u001b[0m\u001b[0m\n\u001b[0m\u001b[1;32m   1634\u001b[0m         \u001b[0;32mif\u001b[0m \u001b[0mlen\u001b[0m\u001b[0;34m(\u001b[0m\u001b[0moutputs\u001b[0m\u001b[0;34m)\u001b[0m \u001b[0;34m==\u001b[0m \u001b[0;36m1\u001b[0m\u001b[0;34m:\u001b[0m\u001b[0;34m\u001b[0m\u001b[0m\n\u001b[1;32m   1635\u001b[0m             \u001b[0;32mreturn\u001b[0m \u001b[0moutputs\u001b[0m\u001b[0;34m[\u001b[0m\u001b[0;36m0\u001b[0m\u001b[0;34m]\u001b[0m\u001b[0;34m\u001b[0m\u001b[0m\n",
      "\u001b[0;32m/Library/Frameworks/Python.framework/Versions/3.5/lib/python3.5/site-packages/keras/backend/tensorflow_backend.py\u001b[0m in \u001b[0;36m__call__\u001b[0;34m(self, inputs)\u001b[0m\n\u001b[1;32m   2227\u001b[0m         \u001b[0msession\u001b[0m \u001b[0;34m=\u001b[0m \u001b[0mget_session\u001b[0m\u001b[0;34m(\u001b[0m\u001b[0;34m)\u001b[0m\u001b[0;34m\u001b[0m\u001b[0m\n\u001b[1;32m   2228\u001b[0m         updated = session.run(self.outputs + [self.updates_op],\n\u001b[0;32m-> 2229\u001b[0;31m                               feed_dict=feed_dict)\n\u001b[0m\u001b[1;32m   2230\u001b[0m         \u001b[0;32mreturn\u001b[0m \u001b[0mupdated\u001b[0m\u001b[0;34m[\u001b[0m\u001b[0;34m:\u001b[0m\u001b[0mlen\u001b[0m\u001b[0;34m(\u001b[0m\u001b[0mself\u001b[0m\u001b[0;34m.\u001b[0m\u001b[0moutputs\u001b[0m\u001b[0;34m)\u001b[0m\u001b[0;34m]\u001b[0m\u001b[0;34m\u001b[0m\u001b[0m\n\u001b[1;32m   2231\u001b[0m \u001b[0;34m\u001b[0m\u001b[0m\n",
      "\u001b[0;32m/Library/Frameworks/Python.framework/Versions/3.5/lib/python3.5/site-packages/tensorflow/python/client/session.py\u001b[0m in \u001b[0;36mrun\u001b[0;34m(self, fetches, feed_dict, options, run_metadata)\u001b[0m\n\u001b[1;32m    765\u001b[0m     \u001b[0;32mtry\u001b[0m\u001b[0;34m:\u001b[0m\u001b[0;34m\u001b[0m\u001b[0m\n\u001b[1;32m    766\u001b[0m       result = self._run(None, fetches, feed_dict, options_ptr,\n\u001b[0;32m--> 767\u001b[0;31m                          run_metadata_ptr)\n\u001b[0m\u001b[1;32m    768\u001b[0m       \u001b[0;32mif\u001b[0m \u001b[0mrun_metadata\u001b[0m\u001b[0;34m:\u001b[0m\u001b[0;34m\u001b[0m\u001b[0m\n\u001b[1;32m    769\u001b[0m         \u001b[0mproto_data\u001b[0m \u001b[0;34m=\u001b[0m \u001b[0mtf_session\u001b[0m\u001b[0;34m.\u001b[0m\u001b[0mTF_GetBuffer\u001b[0m\u001b[0;34m(\u001b[0m\u001b[0mrun_metadata_ptr\u001b[0m\u001b[0;34m)\u001b[0m\u001b[0;34m\u001b[0m\u001b[0m\n",
      "\u001b[0;32m/Library/Frameworks/Python.framework/Versions/3.5/lib/python3.5/site-packages/tensorflow/python/client/session.py\u001b[0m in \u001b[0;36m_run\u001b[0;34m(self, handle, fetches, feed_dict, options, run_metadata)\u001b[0m\n\u001b[1;32m    963\u001b[0m     \u001b[0;32mif\u001b[0m \u001b[0mfinal_fetches\u001b[0m \u001b[0;32mor\u001b[0m \u001b[0mfinal_targets\u001b[0m\u001b[0;34m:\u001b[0m\u001b[0;34m\u001b[0m\u001b[0m\n\u001b[1;32m    964\u001b[0m       results = self._do_run(handle, final_targets, final_fetches,\n\u001b[0;32m--> 965\u001b[0;31m                              feed_dict_string, options, run_metadata)\n\u001b[0m\u001b[1;32m    966\u001b[0m     \u001b[0;32melse\u001b[0m\u001b[0;34m:\u001b[0m\u001b[0;34m\u001b[0m\u001b[0m\n\u001b[1;32m    967\u001b[0m       \u001b[0mresults\u001b[0m \u001b[0;34m=\u001b[0m \u001b[0;34m[\u001b[0m\u001b[0;34m]\u001b[0m\u001b[0;34m\u001b[0m\u001b[0m\n",
      "\u001b[0;32m/Library/Frameworks/Python.framework/Versions/3.5/lib/python3.5/site-packages/tensorflow/python/client/session.py\u001b[0m in \u001b[0;36m_do_run\u001b[0;34m(self, handle, target_list, fetch_list, feed_dict, options, run_metadata)\u001b[0m\n\u001b[1;32m   1013\u001b[0m     \u001b[0;32mif\u001b[0m \u001b[0mhandle\u001b[0m \u001b[0;32mis\u001b[0m \u001b[0;32mNone\u001b[0m\u001b[0;34m:\u001b[0m\u001b[0;34m\u001b[0m\u001b[0m\n\u001b[1;32m   1014\u001b[0m       return self._do_call(_run_fn, self._session, feed_dict, fetch_list,\n\u001b[0;32m-> 1015\u001b[0;31m                            target_list, options, run_metadata)\n\u001b[0m\u001b[1;32m   1016\u001b[0m     \u001b[0;32melse\u001b[0m\u001b[0;34m:\u001b[0m\u001b[0;34m\u001b[0m\u001b[0m\n\u001b[1;32m   1017\u001b[0m       return self._do_call(_prun_fn, self._session, handle, feed_dict,\n",
      "\u001b[0;32m/Library/Frameworks/Python.framework/Versions/3.5/lib/python3.5/site-packages/tensorflow/python/client/session.py\u001b[0m in \u001b[0;36m_do_call\u001b[0;34m(self, fn, *args)\u001b[0m\n\u001b[1;32m   1020\u001b[0m   \u001b[0;32mdef\u001b[0m \u001b[0m_do_call\u001b[0m\u001b[0;34m(\u001b[0m\u001b[0mself\u001b[0m\u001b[0;34m,\u001b[0m \u001b[0mfn\u001b[0m\u001b[0;34m,\u001b[0m \u001b[0;34m*\u001b[0m\u001b[0margs\u001b[0m\u001b[0;34m)\u001b[0m\u001b[0;34m:\u001b[0m\u001b[0;34m\u001b[0m\u001b[0m\n\u001b[1;32m   1021\u001b[0m     \u001b[0;32mtry\u001b[0m\u001b[0;34m:\u001b[0m\u001b[0;34m\u001b[0m\u001b[0m\n\u001b[0;32m-> 1022\u001b[0;31m       \u001b[0;32mreturn\u001b[0m \u001b[0mfn\u001b[0m\u001b[0;34m(\u001b[0m\u001b[0;34m*\u001b[0m\u001b[0margs\u001b[0m\u001b[0;34m)\u001b[0m\u001b[0;34m\u001b[0m\u001b[0m\n\u001b[0m\u001b[1;32m   1023\u001b[0m     \u001b[0;32mexcept\u001b[0m \u001b[0merrors\u001b[0m\u001b[0;34m.\u001b[0m\u001b[0mOpError\u001b[0m \u001b[0;32mas\u001b[0m \u001b[0me\u001b[0m\u001b[0;34m:\u001b[0m\u001b[0;34m\u001b[0m\u001b[0m\n\u001b[1;32m   1024\u001b[0m       \u001b[0mmessage\u001b[0m \u001b[0;34m=\u001b[0m \u001b[0mcompat\u001b[0m\u001b[0;34m.\u001b[0m\u001b[0mas_text\u001b[0m\u001b[0;34m(\u001b[0m\u001b[0me\u001b[0m\u001b[0;34m.\u001b[0m\u001b[0mmessage\u001b[0m\u001b[0;34m)\u001b[0m\u001b[0;34m\u001b[0m\u001b[0m\n",
      "\u001b[0;32m/Library/Frameworks/Python.framework/Versions/3.5/lib/python3.5/site-packages/tensorflow/python/client/session.py\u001b[0m in \u001b[0;36m_run_fn\u001b[0;34m(session, feed_dict, fetch_list, target_list, options, run_metadata)\u001b[0m\n\u001b[1;32m   1002\u001b[0m         return tf_session.TF_Run(session, options,\n\u001b[1;32m   1003\u001b[0m                                  \u001b[0mfeed_dict\u001b[0m\u001b[0;34m,\u001b[0m \u001b[0mfetch_list\u001b[0m\u001b[0;34m,\u001b[0m \u001b[0mtarget_list\u001b[0m\u001b[0;34m,\u001b[0m\u001b[0;34m\u001b[0m\u001b[0m\n\u001b[0;32m-> 1004\u001b[0;31m                                  status, run_metadata)\n\u001b[0m\u001b[1;32m   1005\u001b[0m \u001b[0;34m\u001b[0m\u001b[0m\n\u001b[1;32m   1006\u001b[0m     \u001b[0;32mdef\u001b[0m \u001b[0m_prun_fn\u001b[0m\u001b[0;34m(\u001b[0m\u001b[0msession\u001b[0m\u001b[0;34m,\u001b[0m \u001b[0mhandle\u001b[0m\u001b[0;34m,\u001b[0m \u001b[0mfeed_dict\u001b[0m\u001b[0;34m,\u001b[0m \u001b[0mfetch_list\u001b[0m\u001b[0;34m)\u001b[0m\u001b[0;34m:\u001b[0m\u001b[0;34m\u001b[0m\u001b[0m\n",
      "\u001b[0;31mKeyboardInterrupt\u001b[0m: "
     ]
    }
   ],
   "source": [
    "model.compile(optimizer=AdamWithWeightnorm(lr=0.125), \n",
    "              loss='binary_crossentropy',\n",
    "                metrics = ['accuracy', \n",
    "                           custom_metrics.fbeta_score,\n",
    "                           custom_metrics.recall,\n",
    "                          custom_metrics.precision,]\n",
    "            )\n",
    "\n",
    "\n",
    "history = model.fit_generator(\n",
    "                    train_gen,\n",
    "                    steps_per_epoch=int(len(X_train)/batch_size)+1,\n",
    "                    epochs=epochs,\n",
    "                    verbose=1,\n",
    "                    callbacks=callbacks,\n",
    "                    #max_q_size=1,\n",
    "                    #pickle_safe=False,\n",
    "                    validation_data = valid_gen,\n",
    "                    class_weight = class_weight,\n",
    "                    validation_steps = validation_steps\n",
    "                   )"
   ]
  },
  {
   "cell_type": "code",
   "execution_count": null,
   "metadata": {
    "collapsed": true
   },
   "outputs": [],
   "source": [
    "model.save('LSTM-136pm-june26.h5')"
   ]
  },
  {
   "cell_type": "code",
   "execution_count": 61,
   "metadata": {
    "collapsed": true
   },
   "outputs": [],
   "source": [
    "#lstm = load_model('LSTM-v1-june26.h5')\n",
    "model = load_model('floyd-ignore/func-residual-v1-june26.h5', custom_objects={\n",
    "                                                        'AdamWithWeightnorm': AdamWithWeightnorm,\n",
    "                                                        'fbeta_score': custom_metrics.fbeta_score,\n",
    "                                                        'recall': custom_metrics.recall,\n",
    "                                                        'precision': custom_metrics.precision\n",
    "                                                        })"
   ]
  },
  {
   "cell_type": "code",
   "execution_count": 60,
   "metadata": {},
   "outputs": [
    {
     "name": "stdout",
     "output_type": "stream",
     "text": [
      "(5749, 1)\n",
      "(5749,)\n",
      "Your classification report: \n",
      "             precision    recall  f1-score   support\n",
      "\n",
      "          0       0.96      0.92      0.94      5027\n",
      "          1       0.56      0.73      0.63       722\n",
      "\n",
      "avg / total       0.91      0.89      0.90      5749\n",
      "\n",
      "-----------------------------\n",
      "Log loss: 0.332503409068\n",
      "F1 weighted: 0.900050689309\n",
      "F1 macro: 0.786394533878\n",
      "F1 micro: 0.894242476953\n",
      "Accuracy score: 0.894242476953\n",
      "Hamming Loss: 0.105757523047\n",
      "Average precision score 0.662778246164\n",
      "ROC AUC SCORE: 0.932717067448\n",
      "Your confusion matrix: \n",
      "[[4613  414]\n",
      " [ 194  528]]\n",
      "-----------------------------\n"
     ]
    }
   ],
   "source": [
    "preds, y_pred_proba = model_performance_evaluation.eval(lstm, X_test, y_test.values, batch_size=16, sensitivity=0.5, binary=1, sequential=0)"
   ]
  },
  {
   "cell_type": "code",
   "execution_count": null,
   "metadata": {
    "collapsed": true
   },
   "outputs": [],
   "source": [
    "sns.set_context(\"paper\", font_scale=2)\n",
    "plt.figure(figsize=(12, 12))\n",
    "# list all data in history\n",
    "print(history.history.keys())\n",
    "# summarize history for accuracy\n",
    "plt.plot(history.history['fbeta_score'])\n",
    "plt.plot(history.history['val_fbeta_score'])\n",
    "plt.title('fbeta_score')\n",
    "plt.ylabel('fbeta_score')\n",
    "plt.xlabel('epoch')\n",
    "plt.legend(['train', 'val'], loc='upper left')\n",
    "plt.show()\n",
    "\n",
    "\n",
    "# summarize history for loss\n",
    "fig_loss = plt.figure(figsize=(10, 10))\n",
    "plt.plot(history.history['loss'])\n",
    "plt.plot(history.history['val_loss'])\n",
    "plt.title('model loss')\n",
    "plt.ylabel('loss')\n",
    "plt.xlabel('epoch')\n",
    "plt.legend(['train', 'test'], loc='upper left')\n",
    "plt.show()\n",
    "\n",
    "# show lr changing\n",
    "sns.set_context(\"paper\", font_scale=2)\n",
    "plt.figure(figsize=(12, 12))\n",
    "# list all data in history\n",
    "print(history.history.keys())\n",
    "# summarize history for accuracy\n",
    "plt.plot(history.history['lr'])\n",
    "#plt.plot(history.history['val_fbeta_score'])\n",
    "plt.title('learning rate')\n",
    "plt.ylabel('lr')\n",
    "plt.xlabel('epoch')\n",
    "plt.legend(['train', 'val'], loc='upper left')\n",
    "plt.show()"
   ]
  },
  {
   "cell_type": "code",
   "execution_count": null,
   "metadata": {
    "collapsed": true
   },
   "outputs": [],
   "source": [
    "sns.set_context(\"paper\", font_scale=2)\n",
    "plt.figure(figsize=(12, 12))\n",
    "# list all data in history\n",
    "print(history.history.keys())\n",
    "# summarize history for accuracy\n",
    "plt.plot(history.history['loss'])\n",
    "plt.plot(history.history['val_loss'])\n",
    "plt.title('loss')\n",
    "plt.ylabel('loss')\n",
    "plt.xlabel('epoch')\n",
    "plt.legend(['train', 'val'], loc='upper left')\n",
    "plt.show()"
   ]
  },
  {
   "cell_type": "code",
   "execution_count": null,
   "metadata": {
    "collapsed": true
   },
   "outputs": [],
   "source": [
    "sns.set_context(\"paper\", font_scale=2)\n",
    "plt.figure(figsize=(12, 12))\n",
    "# list all data in history\n",
    "print(history.history.keys())\n",
    "# summarize history for accuracy\n",
    "plt.plot(history.history['lr'])\n",
    "#plt.plot(history.history['val_fbeta_score'])\n",
    "plt.title('learning rate')\n",
    "plt.ylabel('lr')\n",
    "plt.xlabel('epoch')\n",
    "plt.legend(['train', 'val'], loc='upper left')\n",
    "plt.show()"
   ]
  },
  {
   "cell_type": "markdown",
   "metadata": {},
   "source": [
    "# Conv1D with residual layers"
   ]
  },
  {
   "cell_type": "code",
   "execution_count": 18,
   "metadata": {},
   "outputs": [
    {
     "name": "stderr",
     "output_type": "stream",
     "text": [
      "/Library/Frameworks/Python.framework/Versions/3.5/lib/python3.5/site-packages/ipykernel_launcher.py:28: UserWarning: Update your `Model` call to the Keras 2 API: `Model(inputs=Tensor(\"in..., outputs=Tensor(\"ac...)`\n"
     ]
    }
   ],
   "source": [
    "# TODO: Add batch norm like resnet\n",
    "# TODO: Add MaxPooling2D\n",
    "# TODO: Try SMOTE or manual oversampling\n",
    "# TODO: Plot some basic stuff about our features\n",
    "\n",
    "input_layer = Input(shape=input_shape)\n",
    "\n",
    "x = Conv1D(16*multiplier, (4*multiplier), padding='causal')(input_layer)\n",
    "x = ELU()(x)\n",
    "y = Conv1D(16*multiplier, (4*multiplier), padding='causal')(x)\n",
    "y = ELU()(y)\n",
    "z = add([x, y])\n",
    "\n",
    "a = Conv1D(32*multiplier, (4*multiplier), padding='causal')(z)\n",
    "a = ELU()(a)\n",
    "b = Conv1D(32*multiplier, (4*multiplier), padding='causal')(a)\n",
    "b = ELU()(b)\n",
    "c = add([a, b])\n",
    "\n",
    "d = Conv1D(64*multiplier, (4*multiplier), padding='causal')(c)\n",
    "d = ELU()(d)\n",
    "e = Conv1D(64*multiplier, (4*multiplier), padding='causal')(d)\n",
    "e = ELU()(e)\n",
    "f = add([d, e])\n",
    "\n",
    "g = Dropout(0.3)(f)\n",
    "g = Flatten()(g)\n",
    "g = Dense(256)(g)\n",
    "g = Dropout(0.5)(g)\n",
    "g = Dense(1)(g)\n",
    "g = Activation('sigmoid')(g)\n",
    "\n",
    "model = Model(input=input_layer, output=g)"
   ]
  },
  {
   "cell_type": "code",
   "execution_count": 19,
   "metadata": {
    "collapsed": true
   },
   "outputs": [],
   "source": [
    "#lr = LearningRateScheduler(lambda e: tiny_resnet.sigmoidal_decay(e, end=epochs))\n",
    "mc = ModelCheckpoint('weights.best.keras.hdf5', monitor='val_loss', save_best_only=True,save_weights_only=True)\n",
    "\n",
    "\n",
    "rlop = ReduceLROnPlateau(\n",
    "                    monitor='val_loss', \n",
    "                    mode='min',\n",
    "                    factor=0.95,\n",
    "                    patience=2, \n",
    "                    min_lr=0.00001,\n",
    "                    verbose=1,\n",
    "                        )\n",
    "\n",
    "es = EarlyStopping(\n",
    "        monitor='val_fbeta_score',\n",
    "        min_delta=0.01,\n",
    "        mode='max',\n",
    "        patience=10,\n",
    "        verbose=1)\n",
    "\n",
    "\n",
    "\n",
    "callbacks = [ es, rlop, mc]"
   ]
  },
  {
   "cell_type": "code",
   "execution_count": 20,
   "metadata": {},
   "outputs": [
    {
     "name": "stdout",
     "output_type": "stream",
     "text": [
      "Epoch 1/50\n",
      "3072/3072 [==============================] - 198s - loss: 0.7901 - acc: 0.7817 - fbeta_score: 0.4565 - recall: 0.7237 - precision: 0.3698 - val_loss: 0.4112 - val_acc: 0.8203 - val_fbeta_score: 0.5225 - val_recall: 0.7938 - val_precision: 0.4234\n",
      "Epoch 2/50\n",
      "3072/3072 [==============================] - 206s - loss: 0.6368 - acc: 0.8328 - fbeta_score: 0.5235 - recall: 0.7791 - precision: 0.4289 - val_loss: 0.3745 - val_acc: 0.8311 - val_fbeta_score: 0.5406 - val_recall: 0.8019 - val_precision: 0.4440\n",
      "Epoch 3/50\n",
      "3072/3072 [==============================] - 201s - loss: 0.6112 - acc: 0.8409 - fbeta_score: 0.5380 - recall: 0.7883 - precision: 0.4423 - val_loss: 0.3845 - val_acc: 0.8276 - val_fbeta_score: 0.5418 - val_recall: 0.8157 - val_precision: 0.4390\n",
      "Epoch 4/50\n",
      "3072/3072 [==============================] - 216s - loss: 0.5864 - acc: 0.8470 - fbeta_score: 0.5471 - recall: 0.7941 - precision: 0.4516 - val_loss: 0.3504 - val_acc: 0.8434 - val_fbeta_score: 0.5597 - val_recall: 0.8167 - val_precision: 0.4645\n",
      "Epoch 5/50\n",
      "3072/3072 [==============================] - 220s - loss: 0.5667 - acc: 0.8518 - fbeta_score: 0.5553 - recall: 0.7968 - precision: 0.4606 - val_loss: 0.3303 - val_acc: 0.8539 - val_fbeta_score: 0.5686 - val_recall: 0.8033 - val_precision: 0.4799\n",
      "Epoch 6/50\n",
      "3072/3072 [==============================] - 205s - loss: 0.5585 - acc: 0.8534 - fbeta_score: 0.5601 - recall: 0.8041 - precision: 0.4650 - val_loss: 0.3158 - val_acc: 0.8558 - val_fbeta_score: 0.5698 - val_recall: 0.8023 - val_precision: 0.4826\n",
      "Epoch 7/50\n",
      "3072/3072 [==============================] - 203s - loss: 0.5449 - acc: 0.8573 - fbeta_score: 0.5638 - recall: 0.8048 - precision: 0.4680 - val_loss: 0.3056 - val_acc: 0.8593 - val_fbeta_score: 0.5722 - val_recall: 0.7997 - val_precision: 0.4854\n",
      "Epoch 8/50\n",
      "3072/3072 [==============================] - 207s - loss: 0.5351 - acc: 0.8595 - fbeta_score: 0.5704 - recall: 0.8104 - precision: 0.4748 - val_loss: 0.3005 - val_acc: 0.8624 - val_fbeta_score: 0.5780 - val_recall: 0.7961 - val_precision: 0.4920\n",
      "Epoch 9/50\n",
      "3072/3072 [==============================] - 203s - loss: 0.5298 - acc: 0.8612 - fbeta_score: 0.5730 - recall: 0.8106 - precision: 0.4778 - val_loss: 0.3079 - val_acc: 0.8605 - val_fbeta_score: 0.5770 - val_recall: 0.8028 - val_precision: 0.4877\n",
      "Epoch 10/50\n",
      "3072/3072 [==============================] - 200s - loss: 0.5218 - acc: 0.8628 - fbeta_score: 0.5763 - recall: 0.8121 - precision: 0.4812 - val_loss: 0.2832 - val_acc: 0.8678 - val_fbeta_score: 0.5792 - val_recall: 0.7899 - val_precision: 0.4941\n",
      "Epoch 11/50\n",
      "3072/3072 [==============================] - 202s - loss: 0.5138 - acc: 0.8638 - fbeta_score: 0.5782 - recall: 0.8138 - precision: 0.4829 - val_loss: 0.2767 - val_acc: 0.8755 - val_fbeta_score: 0.5936 - val_recall: 0.7943 - val_precision: 0.5120\n",
      "Epoch 12/50\n",
      "3072/3072 [==============================] - 209s - loss: 0.5094 - acc: 0.8653 - fbeta_score: 0.5792 - recall: 0.8152 - precision: 0.4839 - val_loss: 0.2776 - val_acc: 0.8728 - val_fbeta_score: 0.5880 - val_recall: 0.7902 - val_precision: 0.5078\n",
      "Epoch 13/50\n",
      "3072/3072 [==============================] - 181s - loss: 0.5054 - acc: 0.8664 - fbeta_score: 0.5834 - recall: 0.8178 - precision: 0.4879 - val_loss: 0.2794 - val_acc: 0.8759 - val_fbeta_score: 0.5912 - val_recall: 0.7823 - val_precision: 0.5141\n",
      "Epoch 14/50\n",
      "3072/3072 [==============================] - 168s - loss: 0.4975 - acc: 0.8676 - fbeta_score: 0.5846 - recall: 0.8180 - precision: 0.4899 - val_loss: 0.2703 - val_acc: 0.8817 - val_fbeta_score: 0.6014 - val_recall: 0.7854 - val_precision: 0.5285\n",
      "Epoch 15/50\n",
      "3072/3072 [==============================] - 167s - loss: 0.4926 - acc: 0.8693 - fbeta_score: 0.5897 - recall: 0.8216 - precision: 0.4953 - val_loss: 0.2745 - val_acc: 0.8782 - val_fbeta_score: 0.6013 - val_recall: 0.7916 - val_precision: 0.5256\n",
      "Epoch 16/50\n",
      "3072/3072 [==============================] - 171s - loss: 0.4866 - acc: 0.8700 - fbeta_score: 0.5911 - recall: 0.8219 - precision: 0.4963 - val_loss: 0.2615 - val_acc: 0.8836 - val_fbeta_score: 0.6019 - val_recall: 0.7897 - val_precision: 0.5248\n",
      "Epoch 17/50\n",
      "3072/3072 [==============================] - 174s - loss: 0.4823 - acc: 0.8719 - fbeta_score: 0.5931 - recall: 0.8236 - precision: 0.4982 - val_loss: 0.2629 - val_acc: 0.8817 - val_fbeta_score: 0.6069 - val_recall: 0.7974 - val_precision: 0.5325\n",
      "Epoch 18/50\n",
      "3072/3072 [==============================] - 170s - loss: 0.4763 - acc: 0.8721 - fbeta_score: 0.5941 - recall: 0.8260 - precision: 0.4984 - val_loss: 0.2510 - val_acc: 0.8879 - val_fbeta_score: 0.6090 - val_recall: 0.7730 - val_precision: 0.5468\n",
      "Epoch 19/50\n",
      "3072/3072 [==============================] - 168s - loss: 0.4716 - acc: 0.8742 - fbeta_score: 0.5984 - recall: 0.8279 - precision: 0.5037 - val_loss: 0.2563 - val_acc: 0.8902 - val_fbeta_score: 0.6189 - val_recall: 0.7880 - val_precision: 0.5556\n",
      "Epoch 20/50\n",
      "3072/3072 [==============================] - 170s - loss: 0.4637 - acc: 0.8772 - fbeta_score: 0.6031 - recall: 0.8287 - precision: 0.5097 - val_loss: 0.2516 - val_acc: 0.8879 - val_fbeta_score: 0.6066 - val_recall: 0.7662 - val_precision: 0.5495\n",
      "Epoch 21/50\n",
      "3072/3072 [==============================] - 196s - loss: 0.4634 - acc: 0.8759 - fbeta_score: 0.6032 - recall: 0.8314 - precision: 0.5080 - val_loss: 0.2467 - val_acc: 0.8949 - val_fbeta_score: 0.6190 - val_recall: 0.7668 - val_precision: 0.5682\n",
      "Epoch 22/50\n",
      "3072/3072 [==============================] - 220s - loss: 0.4547 - acc: 0.8781 - fbeta_score: 0.6041 - recall: 0.8298 - precision: 0.5097 - val_loss: 0.2572 - val_acc: 0.8875 - val_fbeta_score: 0.6146 - val_recall: 0.7886 - val_precision: 0.5500\n",
      "Epoch 23/50\n",
      "3072/3072 [==============================] - 214s - loss: 0.4496 - acc: 0.8795 - fbeta_score: 0.6086 - recall: 0.8325 - precision: 0.5148 - val_loss: 0.2569 - val_acc: 0.8871 - val_fbeta_score: 0.6166 - val_recall: 0.7867 - val_precision: 0.5516\n",
      "Epoch 24/50\n",
      "3071/3072 [============================>.] - ETA: 0s - loss: 0.4449 - acc: 0.8806 - fbeta_score: 0.6098 - recall: 0.8347 - precision: 0.5159\n",
      "Epoch 00023: reducing learning rate to 0.002374999946914613.\n",
      "3072/3072 [==============================] - 205s - loss: 0.4448 - acc: 0.8806 - fbeta_score: 0.6096 - recall: 0.8345 - precision: 0.5158 - val_loss: 0.2480 - val_acc: 0.8925 - val_fbeta_score: 0.6174 - val_recall: 0.7682 - val_precision: 0.5616\n",
      "Epoch 25/50\n",
      "3072/3072 [==============================] - 205s - loss: 0.4346 - acc: 0.8846 - fbeta_score: 0.6178 - recall: 0.8364 - precision: 0.5255 - val_loss: 0.2560 - val_acc: 0.8910 - val_fbeta_score: 0.6114 - val_recall: 0.7613 - val_precision: 0.5566\n",
      "Epoch 26/50\n",
      "3071/3072 [============================>.] - ETA: 0s - loss: 0.4286 - acc: 0.8865 - fbeta_score: 0.6204 - recall: 0.8378 - precision: 0.5279\n",
      "Epoch 00025: reducing learning rate to 0.0022562499274499715.\n",
      "3072/3072 [==============================] - 198s - loss: 0.4285 - acc: 0.8865 - fbeta_score: 0.6202 - recall: 0.8375 - precision: 0.5277 - val_loss: 0.2500 - val_acc: 0.8972 - val_fbeta_score: 0.6266 - val_recall: 0.7689 - val_precision: 0.5748\n",
      "Epoch 27/50\n",
      "3072/3072 [==============================] - 189s - loss: 0.4209 - acc: 0.8874 - fbeta_score: 0.6233 - recall: 0.8390 - precision: 0.5315 - val_loss: 0.2409 - val_acc: 0.8980 - val_fbeta_score: 0.6263 - val_recall: 0.7554 - val_precision: 0.5833\n",
      "Epoch 28/50\n",
      "3072/3072 [==============================] - 186s - loss: 0.4111 - acc: 0.8897 - fbeta_score: 0.6256 - recall: 0.8383 - precision: 0.5347 - val_loss: 0.2476 - val_acc: 0.8995 - val_fbeta_score: 0.6211 - val_recall: 0.7484 - val_precision: 0.5798\n",
      "Epoch 29/50\n",
      "3072/3072 [==============================] - 189s - loss: 0.4101 - acc: 0.8906 - fbeta_score: 0.6327 - recall: 0.8450 - precision: 0.5421 - val_loss: 0.2461 - val_acc: 0.9010 - val_fbeta_score: 0.6279 - val_recall: 0.7492 - val_precision: 0.5887\n",
      "Epoch 30/50\n",
      "3071/3072 [============================>.] - ETA: 0s - loss: 0.4067 - acc: 0.8913 - fbeta_score: 0.6323 - recall: 0.8452 - precision: 0.5410\n",
      "Epoch 00029: reducing learning rate to 0.002143437508493662.\n",
      "3072/3072 [==============================] - 193s - loss: 0.4066 - acc: 0.8914 - fbeta_score: 0.6321 - recall: 0.8450 - precision: 0.5409 - val_loss: 0.2534 - val_acc: 0.8968 - val_fbeta_score: 0.6237 - val_recall: 0.7605 - val_precision: 0.5757\n",
      "Epoch 00029: early stopping\n"
     ]
    }
   ],
   "source": [
    "model.compile(optimizer=AdamWithWeightnorm(lr=0.0025), \n",
    "              loss='binary_crossentropy',\n",
    "                metrics = ['accuracy', \n",
    "                           custom_metrics.fbeta_score,\n",
    "                           custom_metrics.recall,\n",
    "                          custom_metrics.precision,]\n",
    "            )\n",
    "\n",
    "\n",
    "history = model.fit_generator(\n",
    "                    train_gen,\n",
    "                    steps_per_epoch=int(len(X_train)/batch_size)+1,\n",
    "                    epochs=epochs,\n",
    "                    verbose=1,\n",
    "                    callbacks=callbacks,\n",
    "                    #max_q_size=1,\n",
    "                    #pickle_safe=False,\n",
    "                    validation_data = valid_gen,\n",
    "                    class_weight = class_weight,\n",
    "                    validation_steps = validation_steps\n",
    "                   )\n",
    "\n",
    "\n",
    "\n"
   ]
  },
  {
   "cell_type": "code",
   "execution_count": 21,
   "metadata": {
    "collapsed": true
   },
   "outputs": [],
   "source": [
    "model.save('func-residual-v1-june26.h5')"
   ]
  },
  {
   "cell_type": "code",
   "execution_count": 41,
   "metadata": {
    "collapsed": true
   },
   "outputs": [],
   "source": [
    "#lstm = load_model('LSTM-v1-june26.h5')\n",
    "model = load_model('func-residual-v1-june26.h5', custom_objects={\n",
    "                                                        'AdamWithWeightnorm': AdamWithWeightnorm,\n",
    "                                                        'fbeta_score': custom_metrics.fbeta_score,\n",
    "                                                        'recall': custom_metrics.recall,\n",
    "                                                        'precision': custom_metrics.precision\n",
    "\n",
    "\n",
    "                                                        })"
   ]
  },
  {
   "cell_type": "code",
   "execution_count": 47,
   "metadata": {},
   "outputs": [
    {
     "name": "stdout",
     "output_type": "stream",
     "text": [
      "(5749, 1)\n",
      "(5749,)\n",
      "Your classification report: \n",
      "             precision    recall  f1-score   support\n",
      "\n",
      "          0       0.98      0.89      0.93      5027\n",
      "          1       0.53      0.85      0.65       722\n",
      "\n",
      "avg / total       0.92      0.89      0.90      5749\n",
      "\n",
      "-----------------------------\n",
      "Log loss: 0.271056417243\n",
      "F1 weighted: 0.8962572439\n",
      "F1 macro: 0.790972162054\n",
      "F1 micro: 0.885545312228\n",
      "Accuracy score: 0.885545312228\n",
      "Hamming Loss: 0.114454687772\n",
      "Average precision score 0.697182699326\n",
      "ROC AUC SCORE: 0.94494039665\n",
      "Your confusion matrix: \n",
      "[[4479  548]\n",
      " [ 110  612]]\n",
      "-----------------------------\n"
     ]
    }
   ],
   "source": [
    "preds, y_pred_proba = model_performance_evaluation.eval(model, X_test, y_test.values, batch_size=64, sensitivity=0.45, binary=1, sequential=0)"
   ]
  },
  {
   "cell_type": "code",
   "execution_count": 23,
   "metadata": {},
   "outputs": [
    {
     "name": "stdout",
     "output_type": "stream",
     "text": [
      "dict_keys(['val_recall', 'val_loss', 'lr', 'val_acc', 'precision', 'loss', 'acc', 'fbeta_score', 'val_fbeta_score', 'recall', 'val_precision'])\n"
     ]
    },
    {
     "data": {
      "image/png": "[encoded data removed]",
      "text/plain": [
       "<matplotlib.figure.Figure at 0x1402d74e0>"
      ]
     },
     "metadata": {},
     "output_type": "display_data"
    }
   ],
   "source": [
    "sns.set_context(\"paper\", font_scale=2)\n",
    "plt.figure(figsize=(12, 12))\n",
    "# list all data in history\n",
    "print(history.history.keys())\n",
    "# summarize history for accuracy\n",
    "plt.plot(history.history['fbeta_score'])\n",
    "plt.plot(history.history['val_fbeta_score'])\n",
    "plt.title('fbeta_score')\n",
    "plt.ylabel('fbeta_score')\n",
    "plt.xlabel('epoch')\n",
    "plt.legend(['train', 'val'], loc='upper left')\n",
    "plt.show()"
   ]
  },
  {
   "cell_type": "code",
   "execution_count": 24,
   "metadata": {},
   "outputs": [
    {
     "name": "stdout",
     "output_type": "stream",
     "text": [
      "dict_keys(['val_recall', 'val_loss', 'lr', 'val_acc', 'precision', 'loss', 'acc', 'fbeta_score', 'val_fbeta_score', 'recall', 'val_precision'])\n"
     ]
    },
    {
     "data": {
      "image/png": "[encoded data removed]",
      "text/plain": [
       "<matplotlib.figure.Figure at 0x1402d72e8>"
      ]
     },
     "metadata": {},
     "output_type": "display_data"
    }
   ],
   "source": [
    "sns.set_context(\"paper\", font_scale=2)\n",
    "plt.figure(figsize=(12, 12))\n",
    "# list all data in history\n",
    "print(history.history.keys())\n",
    "# summarize history for accuracy\n",
    "plt.plot(history.history['loss'])\n",
    "plt.plot(history.history['val_loss'])\n",
    "plt.title('loss')\n",
    "plt.ylabel('loss')\n",
    "plt.xlabel('epoch')\n",
    "plt.legend(['train', 'val'], loc='upper left')\n",
    "plt.show()"
   ]
  },
  {
   "cell_type": "code",
   "execution_count": 25,
   "metadata": {},
   "outputs": [
    {
     "name": "stdout",
     "output_type": "stream",
     "text": [
      "dict_keys(['val_recall', 'val_loss', 'lr', 'val_acc', 'precision', 'loss', 'acc', 'fbeta_score', 'val_fbeta_score', 'recall', 'val_precision'])\n"
     ]
    },
    {
     "data": {
      "image/png": "[encoded data removed]",
      "text/plain": [
       "<matplotlib.figure.Figure at 0x1586dee10>"
      ]
     },
     "metadata": {},
     "output_type": "display_data"
    }
   ],
   "source": [
    "sns.set_context(\"paper\", font_scale=2)\n",
    "plt.figure(figsize=(12, 12))\n",
    "# list all data in history\n",
    "print(history.history.keys())\n",
    "# summarize history for accuracy\n",
    "plt.plot(history.history['lr'])\n",
    "#plt.plot(history.history['val_fbeta_score'])\n",
    "plt.title('learning rate')\n",
    "plt.ylabel('lr')\n",
    "plt.xlabel('epoch')\n",
    "plt.legend(['train', 'val'], loc='upper left')\n",
    "plt.show()"
   ]
  },
  {
   "cell_type": "markdown",
   "metadata": {},
   "source": [
    "## Train models for Proximal and Distal matching"
   ]
  },
  {
   "cell_type": "markdown",
   "metadata": {},
   "source": [
    "### Train Conv2D model for Distal matching"
   ]
  },
  {
   "cell_type": "markdown",
   "metadata": {},
   "source": [
    "##### Prepare data for Distal specific model training"
   ]
  },
  {
   "cell_type": "code",
   "execution_count": null,
   "metadata": {
    "collapsed": true
   },
   "outputs": [],
   "source": [
    "features = scaled_columns\n",
    "\n",
    "labels = distal_columns\n",
    "\n",
    "# Select only rows that contain zones\n",
    "df_zones = df_ohlc_and_rectangles.loc[df_ohlc_and_rectangles['rectangle_here'] == 1]\n",
    "\n",
    "# Split out the new df into features and labels\n",
    "df_X = df_zones[features]\n",
    "df_y = df_zones[labels]\n",
    "\n",
    "df_X = data_processing.drop_non_features(df_X, features_to_remove, zero_columns=1)\n",
    "df_y = data_processing.drop_non_features(df_y, ['Distal'], zero_columns=1)"
   ]
  },
  {
   "cell_type": "code",
   "execution_count": null,
   "metadata": {
    "collapsed": true
   },
   "outputs": [],
   "source": [
    "# Create train/test split\n",
    "X_train, X_test, y_train, y_test = train_test_split(df_X, df_y, test_size=0.3, random_state=0)\n",
    "# Create validation split from training\n",
    "X_train, X_valid, y_train, y_valid = train_test_split(X_train, y_train, test_size=0.3, random_state=0)\n",
    "\n",
    "y_train_distal = data_processing.distal_split(y_train)\n",
    "y_valid_distal = data_processing.distal_split(y_valid)\n",
    "y_test_distal = data_processing.distal_split(y_test)\n",
    "\n",
    "print(y_train_distal.shape)\n",
    "print(y_test_distal.shape)\n",
    "print(y_valid_distal.shape)"
   ]
  },
  {
   "cell_type": "code",
   "execution_count": null,
   "metadata": {
    "collapsed": true
   },
   "outputs": [],
   "source": [
    "# Stack to 4dim for conv net\n",
    "X_train = data_processing.X_to_Conv2D_arrays(X_train)\n",
    "X_valid = data_processing.X_to_Conv2D_arrays(X_valid)\n",
    "X_test = data_processing.X_to_Conv2D_arrays(X_test)\n",
    "\n",
    "# Create generators\n",
    "train_gen = make_keras_generators.train_generator(X_train, y_train_distal.values, batch_size)\n",
    "valid_gen = make_keras_generators.valid_generator(X_valid, y_valid_distal.values, batch_size)"
   ]
  },
  {
   "cell_type": "markdown",
   "metadata": {},
   "source": [
    "#### Train Conv2D model for Distal line"
   ]
  },
  {
   "cell_type": "code",
   "execution_count": null,
   "metadata": {
    "collapsed": true
   },
   "outputs": [],
   "source": [
    "batch_size = 128\n",
    "input_shape = X_train.shape[1:4]\n",
    "validation_steps = int(len(X_valid)/batch_size)+1\n",
    "steps_per_epoch = int(len(X_train)/batch_size)+1"
   ]
  },
  {
   "cell_type": "code",
   "execution_count": null,
   "metadata": {
    "collapsed": true
   },
   "outputs": [],
   "source": [
    "model = get_resnet()"
   ]
  },
  {
   "cell_type": "code",
   "execution_count": null,
   "metadata": {
    "collapsed": true
   },
   "outputs": [],
   "source": [
    "\n",
    "\n",
    "conv = Sequential()\n",
    "\n",
    "conv.add(Conv2D(32, (1, 4), input_shape = input_shape))\n",
    "#conv.add(BatchNormalization())\n",
    "conv.add(Activation(LeakyReLU(alpha=0.2)))\n",
    "conv.add(Conv2D(32, (1, 4), input_shape = input_shape))\n",
    "#conv.add(BatchNormalization())\n",
    "conv.add(Activation(LeakyReLU(alpha=0.2)))\n",
    "conv.add(MaxPooling2D((1, 2)))\n",
    "conv.add(Dropout(0.2))\n",
    "\n",
    "conv.add(Conv2D(64, (1, 4), input_shape = input_shape))\n",
    "#conv.add(BatchNormalization())\n",
    "conv.add(Activation(LeakyReLU(alpha=0.2)))\n",
    "conv.add(Conv2D(64, (1, 4), input_shape = input_shape))\n",
    "#conv.add(BatchNormalization())\n",
    "conv.add(Activation(LeakyReLU(alpha=0.2)))\n",
    "conv.add(Dropout(0.3))\n",
    "\n",
    "conv.add(Conv2D(128, (1, 4), input_shape = input_shape))\n",
    "#conv.add(BatchNormalization())\n",
    "conv.add(Activation(LeakyReLU(alpha=0.2)))\n",
    "conv.add(Conv2D(128, (1, 4), input_shape = input_shape))\n",
    "#conv.add(BatchNormalization())\n",
    "conv.add(Activation(LeakyReLU(alpha=0.2)))\n",
    "conv.add(MaxPooling2D(pool_size=(1, 2)))\n",
    "conv.add(Dropout(0.4))\n",
    "\n",
    "conv.add(Flatten())\n",
    "conv.add(Dense(512))\n",
    "conv.add(Activation('relu'))\n",
    "conv.add(Dropout(0.5))\n",
    "\n",
    "conv.add(Dense(y_train_distal.shape[1]))\n",
    "conv.add(Activation('sigmoid'))\n",
    "\n",
    "callbacks = [\n",
    "    EarlyStopping(\n",
    "        monitor='val_fbeta_score',\n",
    "        patience=10,\n",
    "        verbose=1)\n",
    "\n",
    "]\n",
    "\n",
    "conv.compile(\n",
    "                loss = 'binary_crossentropy', \n",
    "                optimizer = AdamWithWeightnorm(lr=0.0025), \n",
    "                metrics = ['accuracy', \n",
    "                           custom_metrics.fbeta_score,\n",
    "                           custom_metrics.recall,\n",
    "                          custom_metrics.precision,]\n",
    "            )\n",
    "\n",
    "\n",
    "history = conv.fit_generator(\n",
    "                    train_gen,\n",
    "                    steps_per_epoch=steps_per_epoch,\n",
    "                    epochs=1,\n",
    "                    verbose=1,\n",
    "                    callbacks=callbacks,\n",
    "                    validation_data = valid_gen,\n",
    "                    validation_steps = validation_steps\n",
    "                   )\n",
    "\n",
    "\n",
    "\n",
    "\n",
    "\n"
   ]
  },
  {
   "cell_type": "code",
   "execution_count": null,
   "metadata": {
    "collapsed": true,
    "scrolled": true
   },
   "outputs": [],
   "source": [
    "preds, pred_classes, y_pred_proba = model_performance_evaluation.eval(conv, X_test, y_test_distal.values, binary=0, keras=1)"
   ]
  },
  {
   "cell_type": "code",
   "execution_count": null,
   "metadata": {
    "collapsed": true
   },
   "outputs": [],
   "source": [
    "sns.set_context(\"paper\", font_scale=2)\n",
    "plt.figure(figsize=(12, 12))\n",
    "# list all data in history\n",
    "print(history.history.keys())\n",
    "# summarize history for accuracy\n",
    "plt.plot(history.history['fbeta_score'])\n",
    "plt.plot(history.history['val_fbeta_score'])\n",
    "plt.title('fbeta_score')\n",
    "plt.ylabel('fbeta_score')\n",
    "plt.xlabel('epoch')\n",
    "plt.legend(['train', 'val'], loc='upper left')\n",
    "plt.show()"
   ]
  },
  {
   "cell_type": "markdown",
   "metadata": {},
   "source": [
    "### Train Conv2D model for Distal matching"
   ]
  },
  {
   "cell_type": "markdown",
   "metadata": {},
   "source": [
    "##### Prepare data for Proximal specific matching"
   ]
  },
  {
   "cell_type": "code",
   "execution_count": null,
   "metadata": {
    "collapsed": true
   },
   "outputs": [],
   "source": [
    "features = scaled_columns + distal_columns\n",
    "\n",
    "labels = proximal_columns\n",
    "\n",
    "# Select only rows that contain zones\n",
    "df_zones = df_ohlc_and_rectangles.loc[df_ohlc_and_rectangles['rectangle_here'] == 1]\n",
    "\n",
    "# Split out the new df into features and labels\n",
    "df_X = df_zones[features]\n",
    "df_y = df_zones[labels]\n",
    "\n",
    "df_X = data_processing.drop_non_features(df_X, features_to_remove, zero_columns=1)\n",
    "df_y = data_processing.drop_non_features(df_y, ['Proximal'], zero_columns=1)"
   ]
  },
  {
   "cell_type": "code",
   "execution_count": null,
   "metadata": {
    "collapsed": true
   },
   "outputs": [],
   "source": [
    "# Create train/test split\n",
    "X_train, X_test, y_train, y_test = train_test_split(df_X, df_y, test_size=0.3, random_state=0)\n",
    "# Create validation split from training\n",
    "X_train, X_valid, y_train, y_valid = train_test_split(X_train, y_train, test_size=0.3, random_state=0)"
   ]
  },
  {
   "cell_type": "code",
   "execution_count": null,
   "metadata": {
    "collapsed": true
   },
   "outputs": [],
   "source": [
    "y_train_proximal = data_processing.proximal_split(y_train)\n",
    "y_valid_proximal = data_processing.proximal_split(y_valid)\n",
    "y_test_proximal = data_processing.proximal_split(y_test)\n",
    "\n",
    "print(y_train_proximal.shape)\n",
    "print(y_test_proximal.shape)\n",
    "print(y_valid_proximal.shape)"
   ]
  },
  {
   "cell_type": "code",
   "execution_count": null,
   "metadata": {
    "collapsed": true
   },
   "outputs": [],
   "source": [
    "# Stack to 4dim for conv net\n",
    "X_train = data_processing.X_to_Conv2D_arrays(X_train)\n",
    "X_valid = data_processing.X_to_Conv2D_arrays(X_valid)\n",
    "X_test = data_processing.X_to_Conv2D_arrays(X_test)\n",
    "\n",
    "# Create generators\n",
    "train_gen = make_keras_generators.train_generator(X_train, y_train_proximal.values, batch_size)\n",
    "valid_gen = make_keras_generators.valid_generator(X_valid, y_valid_proximal.values, batch_size)"
   ]
  },
  {
   "cell_type": "markdown",
   "metadata": {},
   "source": [
    "#### Train Conv2D model for Proximal line"
   ]
  },
  {
   "cell_type": "code",
   "execution_count": null,
   "metadata": {
    "collapsed": true
   },
   "outputs": [],
   "source": [
    "batch_size = 128\n",
    "input_shape = X_train.shape[1:4]\n",
    "validation_steps = int(len(X_valid)/batch_size)+1\n",
    "steps_per_epoch = int(len(X_train)/batch_size)+1"
   ]
  },
  {
   "cell_type": "code",
   "execution_count": null,
   "metadata": {
    "collapsed": true
   },
   "outputs": [],
   "source": [
    "\n",
    "conv = Sequential()\n",
    "\n",
    "conv.add(Conv2D(32, (1, 4), input_shape = input_shape))\n",
    "#conv.add(BatchNormalization())\n",
    "conv.add(Activation(LeakyReLU(alpha=0.2)))\n",
    "conv.add(Conv2D(32, (1, 4), input_shape = input_shape))\n",
    "#conv.add(BatchNormalization())\n",
    "conv.add(Activation(LeakyReLU(alpha=0.2)))\n",
    "conv.add(MaxPooling2D((1, 2)))\n",
    "conv.add(Dropout(0.2))\n",
    "\n",
    "Conv2D(filters, kernel_size, strides=(1, 1), padding='valid', data_format=None, dilation_rate=(1, 1), activation=None, use_bias=True, kernel_initializer='glorot_uniform', bias_initializer='zeros', kernel_regularizer=None, bias_regularizer=None, activity_regularizer=None, kernel_constraint=None, bias_constraint=None)\n",
    "\n",
    "conv.add(Conv2D(64, (1, 4), input_shape = input_shape))\n",
    "#conv.add(BatchNormalization())\n",
    "conv.add(Activation(LeakyReLU(alpha=0.2)))\n",
    "conv.add(Conv2D(64, (1, 4), input_shape = input_shape))\n",
    "#conv.add(BatchNormalization())\n",
    "conv.add(Activation(LeakyReLU(alpha=0.2)))\n",
    "conv.add(Dropout(0.3))\n",
    "\n",
    "conv.add(Conv2D(128, (1, 4), input_shape = input_shape))\n",
    "#conv.add(BatchNormalization())\n",
    "conv.add(Activation(LeakyReLU(alpha=0.2)))\n",
    "conv.add(Conv2D(128, (1, 4), input_shape = input_shape))\n",
    "#conv.add(BatchNormalization())\n",
    "conv.add(Activation(LeakyReLU(alpha=0.2)))\n",
    "conv.add(MaxPooling2D(pool_size=(1, 2)))\n",
    "conv.add(Dropout(0.4))\n",
    "\n",
    "conv.add(Flatten())\n",
    "conv.add(Dense(512))\n",
    "conv.add(Activation('relu'))\n",
    "conv.add(Dropout(0.5))\n",
    "\n",
    "conv.add(Dense(y_train_proximal.shape[1]))\n",
    "conv.add(Activation('sigmoid'))\n",
    "\n",
    "callbacks = [\n",
    "    EarlyStopping(\n",
    "        monitor='val_fbeta_score',\n",
    "        patience=10,\n",
    "        verbose=1)\n",
    "\n",
    "]\n",
    "\n",
    "conv.compile(\n",
    "                loss = 'binary_crossentropy', \n",
    "                optimizer = AdamWithWeightnorm(lr=0.0025), \n",
    "                metrics = ['accuracy', \n",
    "                           custom_metrics.fbeta_score,\n",
    "                           custom_metrics.recall,\n",
    "                          custom_metrics.precision,]\n",
    "            )\n",
    "\n",
    "\n",
    "history = conv.fit_generator(\n",
    "                    train_gen,\n",
    "                    steps_per_epoch=steps_per_epoch,\n",
    "                    epochs=1,\n",
    "                    verbose=1,\n",
    "                    callbacks=callbacks,\n",
    "                    validation_data = valid_gen,\n",
    "                    validation_steps = validation_steps\n",
    "                   )\n",
    "\n",
    "\n",
    "\n",
    "\n",
    "\n"
   ]
  },
  {
   "cell_type": "code",
   "execution_count": null,
   "metadata": {
    "collapsed": true,
    "scrolled": true
   },
   "outputs": [],
   "source": [
    "preds, pred_classes, y_pred_proba = model_performance_evaluation.eval(conv, X_test, y_test_proximal.values, binary=0, keras=1)"
   ]
  },
  {
   "cell_type": "code",
   "execution_count": null,
   "metadata": {
    "collapsed": true
   },
   "outputs": [],
   "source": [
    "sns.set_context(\"paper\", font_scale=2)\n",
    "plt.figure(figsize=(12, 12))\n",
    "# list all data in history\n",
    "print(history.history.keys())\n",
    "# summarize history for accuracy\n",
    "plt.plot(history.history['fbeta_score'])\n",
    "plt.plot(history.history['val_fbeta_score'])\n",
    "plt.title('fbeta_score')\n",
    "plt.ylabel('fbeta_score')\n",
    "plt.xlabel('epoch')\n",
    "plt.legend(['train', 'val'], loc='upper left')\n",
    "plt.show()"
   ]
  },
  {
   "cell_type": "markdown",
   "metadata": {},
   "source": [
    "## Make predictions on raw data and visualize"
   ]
  },
  {
   "cell_type": "code",
   "execution_count": null,
   "metadata": {
    "collapsed": true
   },
   "outputs": [],
   "source": [
    "# allows us to easily modify how many days ahead and before we look:\n",
    "lookforward = 4 # how many days we look forward\n",
    "lookback = 7 # how many days we look back\n",
    "\n",
    "        \n",
    "# Choose features to be used in feature generation function\n",
    "feature_generation_channels = [\"O\", \"H\", \"L\", \"C\", \"V\"] \n",
    "\n",
    "X_, y_, df_ohlc_and_rectangles, groups,\\\n",
    "groups_count, scalers, groups_dict,\\\n",
    "scaled_columns, df_data_unscaled,\\\n",
    "y_rects, proximal_columns, distal_columns = data_processing.prepare_data(test_data, \n",
    "                                                                 lookforward, \n",
    "                                                                 lookback,\n",
    "                                                                 feature_generation_channels,\n",
    "                                                                 lag=0,\n",
    "                                                                 change_open_close=1, \n",
    "                                                                 range_high_low=1,\n",
    "                                                                 rolling_mean_range_HL=1,\n",
    "                                                                 range_high_close=1,\n",
    "                                                                 std_dev=1,\n",
    "                                                                 rolling_mean=1,\n",
    "                                                                 change_open_close_shift=1,\n",
    "                                                                 range_high_low_shift=0,\n",
    "                                                                 range_high_close_shift=1,\n",
    "                                                                 diff_shift=1,\n",
    "                                                                 rolling_mean_shift=1,\n",
    "                                                                 std_dev_shift=1,\n",
    "                                                                 center=True\n",
    "                                                                )"
   ]
  },
  {
   "cell_type": "code",
   "execution_count": null,
   "metadata": {
    "collapsed": true
   },
   "outputs": [],
   "source": [
    "X_ = data_processing.drop_non_features(X_, features_to_remove, zero_columns=1)"
   ]
  },
  {
   "cell_type": "code",
   "execution_count": null,
   "metadata": {
    "collapsed": true
   },
   "outputs": [],
   "source": [
    "y_ = y_['rectangle_here']"
   ]
  },
  {
   "cell_type": "code",
   "execution_count": null,
   "metadata": {
    "collapsed": true
   },
   "outputs": [],
   "source": [
    "X_array, y_array = data_processing.to_Conv2D_arrays(X_,y_)"
   ]
  },
  {
   "cell_type": "code",
   "execution_count": null,
   "metadata": {
    "collapsed": true
   },
   "outputs": [],
   "source": [
    "preds, pred_classes, y_pred_proba = model_performance_evaluation.eval(conv, X_array, y_array, binary=1, keras=1)"
   ]
  },
  {
   "cell_type": "code",
   "execution_count": null,
   "metadata": {
    "collapsed": true
   },
   "outputs": [],
   "source": [
    "test_data"
   ]
  },
  {
   "cell_type": "code",
   "execution_count": null,
   "metadata": {
    "collapsed": true
   },
   "outputs": [],
   "source": [
    "# For lining up predictions and data\n",
    "#df_predictions = pd.DataFrame(preds.astype(int))\n",
    "df_pred_OHLC = pd.concat([preds, \n",
    "                          pd.DataFrame(df_data_unscaled[['O', 'H', 'L', 'C']]).reset_index(drop=True)], \n",
    "                         axis=1, \n",
    "                         ignore_index=True)  \n",
    "df_pred_OHLC.columns=['predicted', 'O', 'H', 'L','C']  "
   ]
  },
  {
   "cell_type": "code",
   "execution_count": null,
   "metadata": {
    "collapsed": true
   },
   "outputs": [],
   "source": [
    "df_pred_OHLC"
   ]
  },
  {
   "cell_type": "markdown",
   "metadata": {},
   "source": [
    "## Visualize preds and OHLC"
   ]
  },
  {
   "cell_type": "code",
   "execution_count": null,
   "metadata": {
    "collapsed": true
   },
   "outputs": [],
   "source": [
    "df = df_data_unscaled"
   ]
  },
  {
   "cell_type": "code",
   "execution_count": null,
   "metadata": {
    "collapsed": true
   },
   "outputs": [],
   "source": [
    "# Convert Dates to datetime\n",
    "df[\"Epoch Date\"] = pd.to_datetime(df[\"Epoch Date\"], unit='s')\n",
    "df[\"Epoch Date Start\"] = pd.to_datetime(df[\"Epoch Date Start\"], unit='s')\n",
    "df[\"Epoch Date End\"] = pd.to_datetime(df[\"Epoch Date End\"], unit='s')\n",
    "\n",
    "w = 12*60*60*1000 # half day in ms\n",
    "\n",
    "TOOLS = \"pan,xwheel_zoom,wheel_zoom,box_zoom,reset,save\"\n",
    "p = figure(x_axis_type=\"datetime\", tools=TOOLS, plot_height=500, \n",
    "           plot_width=1200, title=\"🍩\", active_scroll='xwheel_zoom')\n",
    "p.xaxis.major_label_orientation = pi/4\n",
    "p.grid.grid_line_alpha=0.5\n",
    "\n",
    "p.segment(df['Epoch Date'], df.H, df['Epoch Date'], df.L, color=\"black\")\n",
    "p.vbar(df['Epoch Date'], w, df.O, df.C)\n",
    "\n",
    "# Add Rectangle data\n",
    "df_sp = df.dropna(subset=['Supply/Demand'])\n",
    "\n",
    "source_supply = ColumnDataSource(df_sp.loc[df_sp['Supply/Demand']=='SUPPLY', :])\n",
    "rect_supply = Quad(left=\"Epoch Date Start\", top=\"Proximal\", right=\"Epoch Date End\", bottom=\"Distal\", fill_color=\"firebrick\", line_alpha=0.2, fill_alpha=0.2) \n",
    "p.add_glyph(source_supply, rect_supply)\n",
    "\n",
    "source_demand = ColumnDataSource(df_sp.loc[df_sp['Supply/Demand']=='DEMAND', :])\n",
    "rect_demand = Quad(left=\"Epoch Date Start\", top=\"Proximal\", right=\"Epoch Date End\", bottom=\"Distal\", fill_color=\"steelblue\", line_alpha=0.2, fill_alpha=0.2)\n",
    "p.add_glyph(source_demand, rect_demand)\n",
    "\n",
    "\n",
    "output_file(\"candlestick.html\", title=\"candlestick data SPC test\")\n",
    "show(p)  # open a browser"
   ]
  },
  {
   "cell_type": "code",
   "execution_count": null,
   "metadata": {
    "collapsed": true
   },
   "outputs": [],
   "source": []
  }
 ],
 "metadata": {
  "kernelspec": {
   "display_name": "Python 3",
   "language": "python",
   "name": "python3"
  },
  "language_info": {
   "codemirror_mode": {
    "name": "ipython",
    "version": 3
   },
   "file_extension": ".py",
   "mimetype": "text/x-python",
   "name": "python",
   "nbconvert_exporter": "python",
   "pygments_lexer": "ipython3",
   "version": "3.5.2"
  }
 },
 "nbformat": 4,
 "nbformat_minor": 2
}
